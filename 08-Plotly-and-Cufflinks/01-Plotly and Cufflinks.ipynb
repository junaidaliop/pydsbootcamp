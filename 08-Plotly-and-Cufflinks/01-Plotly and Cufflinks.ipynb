{
 "cells": [
  {
   "cell_type": "markdown",
   "metadata": {},
   "source": [
    "___\n",
    "\n",
    "<a href='http://www.pieriandata.com'> <img src='../Pierian_Data_Logo.png' /></a>\n",
    "___\n",
    "# Plotly and Cufflinks"
   ]
  },
  {
   "cell_type": "markdown",
   "metadata": {},
   "source": [
    "Plotly is a library that allows you to create interactive plots that you can use in dashboards or websites (you can save them as html files or static images).\n",
    "\n",
    "## Installation\n",
    "\n",
    "In order for this all to work, you'll need to install plotly and cufflinks to call plots directly off of a pandas dataframe. These libraries are not currently available through **conda** but are available through **pip**. Install the libraries at your command line/terminal using:\n",
    "\n",
    "    pip install plotly\n",
    "    pip install cufflinks\n",
    "\n",
    "** NOTE: Make sure you only have one installation of Python on your computer when you do this, otherwise the installation may not work. **\n",
    "\n",
    "## Imports and Set-up"
   ]
  },
  {
   "cell_type": "code",
   "execution_count": 1,
   "metadata": {
    "collapsed": true
   },
   "outputs": [],
   "source": [
    "import pandas as pd\n",
    "import numpy as np\n",
    "%matplotlib inline"
   ]
  },
  {
   "cell_type": "code",
   "execution_count": 2,
   "metadata": {
    "collapsed": false
   },
   "outputs": [
    {
     "name": "stdout",
     "output_type": "stream",
     "text": [
      "5.9.0\n"
     ]
    }
   ],
   "source": [
    "from plotly import __version__\n",
    "from plotly.offline import download_plotlyjs, init_notebook_mode, plot, iplot\n",
    "print(__version__) # requires version >= 1.9.0"
   ]
  },
  {
   "cell_type": "code",
   "execution_count": 3,
   "metadata": {
    "collapsed": true
   },
   "outputs": [],
   "source": [
    "import cufflinks as cf"
   ]
  },
  {
   "cell_type": "code",
   "execution_count": 4,
   "metadata": {
    "collapsed": false
   },
   "outputs": [
    {
     "data": {
      "text/html": [
       "        <script type=\"text/javascript\">\n",
       "        window.PlotlyConfig = {MathJaxConfig: 'local'};\n",
       "        if (window.MathJax && window.MathJax.Hub && window.MathJax.Hub.Config) {window.MathJax.Hub.Config({SVG: {font: \"STIX-Web\"}});}\n",
       "        if (typeof require !== 'undefined') {\n",
       "        require.undef(\"plotly\");\n",
       "        requirejs.config({\n",
       "            paths: {\n",
       "                'plotly': ['https://cdn.plot.ly/plotly-2.12.1.min']\n",
       "            }\n",
       "        });\n",
       "        require(['plotly'], function(Plotly) {\n",
       "            window._Plotly = Plotly;\n",
       "        });\n",
       "        }\n",
       "        </script>\n",
       "        "
      ]
     },
     "metadata": {},
     "output_type": "display_data"
    }
   ],
   "source": [
    "# For Notebooks\n",
    "init_notebook_mode(connected=True)"
   ]
  },
  {
   "cell_type": "code",
   "execution_count": 5,
   "metadata": {
    "collapsed": false
   },
   "outputs": [
    {
     "data": {
      "text/html": [
       "        <script type=\"text/javascript\">\n",
       "        window.PlotlyConfig = {MathJaxConfig: 'local'};\n",
       "        if (window.MathJax && window.MathJax.Hub && window.MathJax.Hub.Config) {window.MathJax.Hub.Config({SVG: {font: \"STIX-Web\"}});}\n",
       "        if (typeof require !== 'undefined') {\n",
       "        require.undef(\"plotly\");\n",
       "        requirejs.config({\n",
       "            paths: {\n",
       "                'plotly': ['https://cdn.plot.ly/plotly-2.12.1.min']\n",
       "            }\n",
       "        });\n",
       "        require(['plotly'], function(Plotly) {\n",
       "            window._Plotly = Plotly;\n",
       "        });\n",
       "        }\n",
       "        </script>\n",
       "        "
      ]
     },
     "metadata": {},
     "output_type": "display_data"
    }
   ],
   "source": [
    "# For offline use\n",
    "cf.go_offline()"
   ]
  },
  {
   "cell_type": "markdown",
   "metadata": {},
   "source": [
    "### Fake Data"
   ]
  },
  {
   "cell_type": "code",
   "execution_count": 6,
   "metadata": {
    "collapsed": false
   },
   "outputs": [],
   "source": [
    "df = pd.DataFrame(np.random.randn(100,4),columns='A B C D'.split())"
   ]
  },
  {
   "cell_type": "code",
   "execution_count": 7,
   "metadata": {
    "collapsed": false
   },
   "outputs": [
    {
     "data": {
      "text/html": [
       "<div>\n",
       "<style scoped>\n",
       "    .dataframe tbody tr th:only-of-type {\n",
       "        vertical-align: middle;\n",
       "    }\n",
       "\n",
       "    .dataframe tbody tr th {\n",
       "        vertical-align: top;\n",
       "    }\n",
       "\n",
       "    .dataframe thead th {\n",
       "        text-align: right;\n",
       "    }\n",
       "</style>\n",
       "<table border=\"1\" class=\"dataframe\">\n",
       "  <thead>\n",
       "    <tr style=\"text-align: right;\">\n",
       "      <th></th>\n",
       "      <th>A</th>\n",
       "      <th>B</th>\n",
       "      <th>C</th>\n",
       "      <th>D</th>\n",
       "    </tr>\n",
       "  </thead>\n",
       "  <tbody>\n",
       "    <tr>\n",
       "      <th>0</th>\n",
       "      <td>-0.339899</td>\n",
       "      <td>1.198247</td>\n",
       "      <td>0.132076</td>\n",
       "      <td>-0.015681</td>\n",
       "    </tr>\n",
       "    <tr>\n",
       "      <th>1</th>\n",
       "      <td>-1.632022</td>\n",
       "      <td>1.635664</td>\n",
       "      <td>-0.044444</td>\n",
       "      <td>0.384679</td>\n",
       "    </tr>\n",
       "    <tr>\n",
       "      <th>2</th>\n",
       "      <td>1.083358</td>\n",
       "      <td>-0.890566</td>\n",
       "      <td>2.658568</td>\n",
       "      <td>-0.794183</td>\n",
       "    </tr>\n",
       "    <tr>\n",
       "      <th>3</th>\n",
       "      <td>-0.522144</td>\n",
       "      <td>-1.807838</td>\n",
       "      <td>0.317480</td>\n",
       "      <td>-0.109971</td>\n",
       "    </tr>\n",
       "    <tr>\n",
       "      <th>4</th>\n",
       "      <td>1.887058</td>\n",
       "      <td>0.805925</td>\n",
       "      <td>1.654359</td>\n",
       "      <td>0.337983</td>\n",
       "    </tr>\n",
       "  </tbody>\n",
       "</table>\n",
       "</div>"
      ],
      "text/plain": [
       "          A         B         C         D\n",
       "0 -0.339899  1.198247  0.132076 -0.015681\n",
       "1 -1.632022  1.635664 -0.044444  0.384679\n",
       "2  1.083358 -0.890566  2.658568 -0.794183\n",
       "3 -0.522144 -1.807838  0.317480 -0.109971\n",
       "4  1.887058  0.805925  1.654359  0.337983"
      ]
     },
     "execution_count": 7,
     "metadata": {},
     "output_type": "execute_result"
    }
   ],
   "source": [
    "df.head()"
   ]
  },
  {
   "cell_type": "code",
   "execution_count": 8,
   "metadata": {
    "collapsed": true
   },
   "outputs": [],
   "source": [
    "df2 = pd.DataFrame({'Category':['A','B','C'],'Values':[32,43,50]})"
   ]
  },
  {
   "cell_type": "code",
   "execution_count": 9,
   "metadata": {
    "collapsed": false
   },
   "outputs": [
    {
     "data": {
      "text/html": [
       "<div>\n",
       "<style scoped>\n",
       "    .dataframe tbody tr th:only-of-type {\n",
       "        vertical-align: middle;\n",
       "    }\n",
       "\n",
       "    .dataframe tbody tr th {\n",
       "        vertical-align: top;\n",
       "    }\n",
       "\n",
       "    .dataframe thead th {\n",
       "        text-align: right;\n",
       "    }\n",
       "</style>\n",
       "<table border=\"1\" class=\"dataframe\">\n",
       "  <thead>\n",
       "    <tr style=\"text-align: right;\">\n",
       "      <th></th>\n",
       "      <th>Category</th>\n",
       "      <th>Values</th>\n",
       "    </tr>\n",
       "  </thead>\n",
       "  <tbody>\n",
       "    <tr>\n",
       "      <th>0</th>\n",
       "      <td>A</td>\n",
       "      <td>32</td>\n",
       "    </tr>\n",
       "    <tr>\n",
       "      <th>1</th>\n",
       "      <td>B</td>\n",
       "      <td>43</td>\n",
       "    </tr>\n",
       "    <tr>\n",
       "      <th>2</th>\n",
       "      <td>C</td>\n",
       "      <td>50</td>\n",
       "    </tr>\n",
       "  </tbody>\n",
       "</table>\n",
       "</div>"
      ],
      "text/plain": [
       "  Category  Values\n",
       "0        A      32\n",
       "1        B      43\n",
       "2        C      50"
      ]
     },
     "execution_count": 9,
     "metadata": {},
     "output_type": "execute_result"
    }
   ],
   "source": [
    "df2.head()"
   ]
  },
  {
   "cell_type": "markdown",
   "metadata": {},
   "source": [
    "## Using Cufflinks and iplot()\n",
    "\n",
    "* scatter\n",
    "* bar\n",
    "* box\n",
    "* spread\n",
    "* ratio\n",
    "* heatmap\n",
    "* surface\n",
    "* histogram\n",
    "* bubble"
   ]
  },
  {
   "cell_type": "markdown",
   "metadata": {},
   "source": [
    "## Scatter"
   ]
  },
  {
   "cell_type": "code",
   "execution_count": 12,
   "metadata": {
    "collapsed": false
   },
   "outputs": [
    {
     "data": {
      "application/vnd.plotly.v1+json": {
       "config": {
        "linkText": "Export to plot.ly",
        "plotlyServerURL": "https://plot.ly",
        "showLink": true
       },
       "data": [
        {
         "line": {
          "color": "rgba(255, 153, 51, 1.0)",
          "dash": "solid",
          "shape": "linear",
          "width": 1.3
         },
         "marker": {
          "size": 10,
          "symbol": "circle"
         },
         "mode": "markers",
         "name": "B",
         "text": "",
         "type": "scatter",
         "x": [
          -0.3398988896464808,
          -1.6320219123904456,
          1.0833580654835377,
          -0.5221441697533774,
          1.8870577989950417,
          -0.1519022894899191,
          1.738502057334876,
          1.7056108965703825,
          -0.6441517480790271,
          1.446088337377909,
          -0.40837595317937014,
          -0.3845503118092821,
          -1.1751265443795977,
          0.3867803121745835,
          -0.7426482243780839,
          -0.43683293687948244,
          -0.5088760710426806,
          -1.8543028311017542,
          -0.6332326401681622,
          0.1462914660828161,
          0.8830579721724487,
          0.3971948472370433,
          -1.1204484108009625,
          0.40106396407362593,
          -0.4067665034368915,
          0.47737803056416306,
          -1.9370437378754735,
          0.7292434252915854,
          -0.9651293257767154,
          -0.19170860679186263,
          -1.7686489673158163,
          -0.2537637565216562,
          0.6425981649526561,
          -1.0591476195161171,
          1.0667946528907304,
          -0.39160597886280846,
          -1.4037276993584953,
          1.8542164451445762,
          -1.0897874477601286,
          -0.6166742828751661,
          1.0275457033922706,
          -0.6551011328439404,
          -1.9316441131174051,
          0.8954051917268987,
          -0.929859420870943,
          -2.6074766673535854,
          -0.3260344298623395,
          -2.0670868762703063,
          0.09550434985732024,
          -0.5773800461329046,
          0.6547371662725984,
          -0.02746341612035001,
          1.0210359693291602,
          0.7901461323588164,
          0.15550268839189296,
          0.06477080315932901,
          -0.3876351988405084,
          -0.2589635071591233,
          0.610293410412037,
          0.35704353940696576,
          0.004869934166238935,
          2.084087092727924,
          0.44549222902202584,
          -0.8300681314305705,
          0.380011831731752,
          0.033614054409343785,
          0.2676525442637065,
          0.7269584845831824,
          1.1340583727418463,
          1.2306196535659573,
          0.3989981915062393,
          -0.020588125991491804,
          -0.590085318221706,
          0.7094993217735794,
          -0.07682209611761445,
          1.132665491703427,
          0.49475019050692304,
          -0.13891134715709394,
          -1.07586707290558,
          0.4441980300520878,
          -1.4868717602776649,
          -2.5060290067500364,
          1.8586312192790821,
          2.0462249338926135,
          -2.0116341336398333,
          1.2762416640493945,
          0.463117861856559,
          -0.6091834606663771,
          -0.752894001502793,
          0.3475782028223775,
          0.17383952520650456,
          -0.794650830102094,
          -0.10028232258399258,
          -1.7467047199059293,
          0.8942392582127465,
          0.6040802134291302,
          0.2699602012812688,
          1.8279522592497466,
          -0.4637391036140166,
          1.0973521416489043
         ],
         "y": [
          1.1982473059308325,
          1.6356636244629494,
          -0.8905655629472256,
          -1.807838351873487,
          0.8059253931077515,
          0.35179663251839494,
          3.286566911427533,
          2.8856879704436356,
          -1.6302195439392437,
          -0.46559364417373905,
          0.5722312952267994,
          0.13493420680389276,
          -0.042561264746407916,
          -1.3888743215255817,
          -1.0400399241781164,
          -0.12167381490054667,
          -0.7290940015517252,
          -0.09889921265528098,
          -0.3312005457673756,
          0.5261642154537874,
          0.6682052848327581,
          0.35916570838529577,
          -0.19295278672651348,
          1.1220259215142658,
          -0.5462425995736458,
          -0.3925935589237412,
          0.169345302240433,
          -1.7922818269161258,
          1.8628476133897467,
          -0.5340917673987183,
          0.04344248660006066,
          2.277202365749576,
          -0.25663557433485684,
          -1.1153026316907826,
          -0.7784819485526674,
          -0.27000384523590626,
          0.4977305798284601,
          1.4767340668012499,
          -0.3632677807686293,
          -1.5302748335828096,
          0.7467921741550148,
          -2.2970024424818507,
          -1.4460996582475492,
          -2.106907488696165,
          1.298016626562994,
          -0.324365394283865,
          -0.1449205658054919,
          0.12792883571809066,
          -0.08380256741136723,
          0.5187857885798648,
          -0.2776577943424909,
          -2.4766660149823316,
          0.875350737970101,
          0.5505238029568075,
          0.6035147525603715,
          -0.639981438984545,
          0.5973527193033242,
          -0.4392231849559408,
          1.2362135230485218,
          2.067677929479437,
          0.6375611227756837,
          -0.29871600887110944,
          0.2134919337824578,
          -0.5394598871410751,
          -0.3347505316342336,
          0.0801216955297691,
          -0.042805121119385926,
          0.37368049305987766,
          -0.3219801945746798,
          -0.4208666241915466,
          -0.4979873718658901,
          0.005609253028819707,
          0.03608464305536002,
          -0.029992147476621468,
          0.142788839251483,
          0.10275057800983606,
          -0.7223937306717052,
          -1.31611367941755,
          0.11682713512843675,
          0.36508224033026243,
          0.016701958707791845,
          0.22698760232656448,
          1.5465654668606335,
          -0.39381887564259743,
          1.142054801169338,
          1.2133216968804088,
          -0.5278164628670937,
          1.4884792811106382,
          -0.951696847783406,
          1.7120260108326464,
          -0.1454210212980894,
          0.7729670349626565,
          -1.398599836046639,
          0.2936544015837765,
          -1.4724797978802802,
          -1.152984289788025,
          -0.4244596261425564,
          0.35510940547754,
          1.1863954719576226,
          0.7641118974979407
         ]
        }
       ],
       "layout": {
        "legend": {
         "bgcolor": "#F5F6F9",
         "font": {
          "color": "#4D5663"
         }
        },
        "paper_bgcolor": "#F5F6F9",
        "plot_bgcolor": "#F5F6F9",
        "template": {
         "data": {
          "bar": [
           {
            "error_x": {
             "color": "#2a3f5f"
            },
            "error_y": {
             "color": "#2a3f5f"
            },
            "marker": {
             "line": {
              "color": "#E5ECF6",
              "width": 0.5
             },
             "pattern": {
              "fillmode": "overlay",
              "size": 10,
              "solidity": 0.2
             }
            },
            "type": "bar"
           }
          ],
          "barpolar": [
           {
            "marker": {
             "line": {
              "color": "#E5ECF6",
              "width": 0.5
             },
             "pattern": {
              "fillmode": "overlay",
              "size": 10,
              "solidity": 0.2
             }
            },
            "type": "barpolar"
           }
          ],
          "carpet": [
           {
            "aaxis": {
             "endlinecolor": "#2a3f5f",
             "gridcolor": "white",
             "linecolor": "white",
             "minorgridcolor": "white",
             "startlinecolor": "#2a3f5f"
            },
            "baxis": {
             "endlinecolor": "#2a3f5f",
             "gridcolor": "white",
             "linecolor": "white",
             "minorgridcolor": "white",
             "startlinecolor": "#2a3f5f"
            },
            "type": "carpet"
           }
          ],
          "choropleth": [
           {
            "colorbar": {
             "outlinewidth": 0,
             "ticks": ""
            },
            "type": "choropleth"
           }
          ],
          "contour": [
           {
            "colorbar": {
             "outlinewidth": 0,
             "ticks": ""
            },
            "colorscale": [
             [
              0,
              "#0d0887"
             ],
             [
              0.1111111111111111,
              "#46039f"
             ],
             [
              0.2222222222222222,
              "#7201a8"
             ],
             [
              0.3333333333333333,
              "#9c179e"
             ],
             [
              0.4444444444444444,
              "#bd3786"
             ],
             [
              0.5555555555555556,
              "#d8576b"
             ],
             [
              0.6666666666666666,
              "#ed7953"
             ],
             [
              0.7777777777777778,
              "#fb9f3a"
             ],
             [
              0.8888888888888888,
              "#fdca26"
             ],
             [
              1,
              "#f0f921"
             ]
            ],
            "type": "contour"
           }
          ],
          "contourcarpet": [
           {
            "colorbar": {
             "outlinewidth": 0,
             "ticks": ""
            },
            "type": "contourcarpet"
           }
          ],
          "heatmap": [
           {
            "colorbar": {
             "outlinewidth": 0,
             "ticks": ""
            },
            "colorscale": [
             [
              0,
              "#0d0887"
             ],
             [
              0.1111111111111111,
              "#46039f"
             ],
             [
              0.2222222222222222,
              "#7201a8"
             ],
             [
              0.3333333333333333,
              "#9c179e"
             ],
             [
              0.4444444444444444,
              "#bd3786"
             ],
             [
              0.5555555555555556,
              "#d8576b"
             ],
             [
              0.6666666666666666,
              "#ed7953"
             ],
             [
              0.7777777777777778,
              "#fb9f3a"
             ],
             [
              0.8888888888888888,
              "#fdca26"
             ],
             [
              1,
              "#f0f921"
             ]
            ],
            "type": "heatmap"
           }
          ],
          "heatmapgl": [
           {
            "colorbar": {
             "outlinewidth": 0,
             "ticks": ""
            },
            "colorscale": [
             [
              0,
              "#0d0887"
             ],
             [
              0.1111111111111111,
              "#46039f"
             ],
             [
              0.2222222222222222,
              "#7201a8"
             ],
             [
              0.3333333333333333,
              "#9c179e"
             ],
             [
              0.4444444444444444,
              "#bd3786"
             ],
             [
              0.5555555555555556,
              "#d8576b"
             ],
             [
              0.6666666666666666,
              "#ed7953"
             ],
             [
              0.7777777777777778,
              "#fb9f3a"
             ],
             [
              0.8888888888888888,
              "#fdca26"
             ],
             [
              1,
              "#f0f921"
             ]
            ],
            "type": "heatmapgl"
           }
          ],
          "histogram": [
           {
            "marker": {
             "pattern": {
              "fillmode": "overlay",
              "size": 10,
              "solidity": 0.2
             }
            },
            "type": "histogram"
           }
          ],
          "histogram2d": [
           {
            "colorbar": {
             "outlinewidth": 0,
             "ticks": ""
            },
            "colorscale": [
             [
              0,
              "#0d0887"
             ],
             [
              0.1111111111111111,
              "#46039f"
             ],
             [
              0.2222222222222222,
              "#7201a8"
             ],
             [
              0.3333333333333333,
              "#9c179e"
             ],
             [
              0.4444444444444444,
              "#bd3786"
             ],
             [
              0.5555555555555556,
              "#d8576b"
             ],
             [
              0.6666666666666666,
              "#ed7953"
             ],
             [
              0.7777777777777778,
              "#fb9f3a"
             ],
             [
              0.8888888888888888,
              "#fdca26"
             ],
             [
              1,
              "#f0f921"
             ]
            ],
            "type": "histogram2d"
           }
          ],
          "histogram2dcontour": [
           {
            "colorbar": {
             "outlinewidth": 0,
             "ticks": ""
            },
            "colorscale": [
             [
              0,
              "#0d0887"
             ],
             [
              0.1111111111111111,
              "#46039f"
             ],
             [
              0.2222222222222222,
              "#7201a8"
             ],
             [
              0.3333333333333333,
              "#9c179e"
             ],
             [
              0.4444444444444444,
              "#bd3786"
             ],
             [
              0.5555555555555556,
              "#d8576b"
             ],
             [
              0.6666666666666666,
              "#ed7953"
             ],
             [
              0.7777777777777778,
              "#fb9f3a"
             ],
             [
              0.8888888888888888,
              "#fdca26"
             ],
             [
              1,
              "#f0f921"
             ]
            ],
            "type": "histogram2dcontour"
           }
          ],
          "mesh3d": [
           {
            "colorbar": {
             "outlinewidth": 0,
             "ticks": ""
            },
            "type": "mesh3d"
           }
          ],
          "parcoords": [
           {
            "line": {
             "colorbar": {
              "outlinewidth": 0,
              "ticks": ""
             }
            },
            "type": "parcoords"
           }
          ],
          "pie": [
           {
            "automargin": true,
            "type": "pie"
           }
          ],
          "scatter": [
           {
            "fillpattern": {
             "fillmode": "overlay",
             "size": 10,
             "solidity": 0.2
            },
            "type": "scatter"
           }
          ],
          "scatter3d": [
           {
            "line": {
             "colorbar": {
              "outlinewidth": 0,
              "ticks": ""
             }
            },
            "marker": {
             "colorbar": {
              "outlinewidth": 0,
              "ticks": ""
             }
            },
            "type": "scatter3d"
           }
          ],
          "scattercarpet": [
           {
            "marker": {
             "colorbar": {
              "outlinewidth": 0,
              "ticks": ""
             }
            },
            "type": "scattercarpet"
           }
          ],
          "scattergeo": [
           {
            "marker": {
             "colorbar": {
              "outlinewidth": 0,
              "ticks": ""
             }
            },
            "type": "scattergeo"
           }
          ],
          "scattergl": [
           {
            "marker": {
             "colorbar": {
              "outlinewidth": 0,
              "ticks": ""
             }
            },
            "type": "scattergl"
           }
          ],
          "scattermapbox": [
           {
            "marker": {
             "colorbar": {
              "outlinewidth": 0,
              "ticks": ""
             }
            },
            "type": "scattermapbox"
           }
          ],
          "scatterpolar": [
           {
            "marker": {
             "colorbar": {
              "outlinewidth": 0,
              "ticks": ""
             }
            },
            "type": "scatterpolar"
           }
          ],
          "scatterpolargl": [
           {
            "marker": {
             "colorbar": {
              "outlinewidth": 0,
              "ticks": ""
             }
            },
            "type": "scatterpolargl"
           }
          ],
          "scatterternary": [
           {
            "marker": {
             "colorbar": {
              "outlinewidth": 0,
              "ticks": ""
             }
            },
            "type": "scatterternary"
           }
          ],
          "surface": [
           {
            "colorbar": {
             "outlinewidth": 0,
             "ticks": ""
            },
            "colorscale": [
             [
              0,
              "#0d0887"
             ],
             [
              0.1111111111111111,
              "#46039f"
             ],
             [
              0.2222222222222222,
              "#7201a8"
             ],
             [
              0.3333333333333333,
              "#9c179e"
             ],
             [
              0.4444444444444444,
              "#bd3786"
             ],
             [
              0.5555555555555556,
              "#d8576b"
             ],
             [
              0.6666666666666666,
              "#ed7953"
             ],
             [
              0.7777777777777778,
              "#fb9f3a"
             ],
             [
              0.8888888888888888,
              "#fdca26"
             ],
             [
              1,
              "#f0f921"
             ]
            ],
            "type": "surface"
           }
          ],
          "table": [
           {
            "cells": {
             "fill": {
              "color": "#EBF0F8"
             },
             "line": {
              "color": "white"
             }
            },
            "header": {
             "fill": {
              "color": "#C8D4E3"
             },
             "line": {
              "color": "white"
             }
            },
            "type": "table"
           }
          ]
         },
         "layout": {
          "annotationdefaults": {
           "arrowcolor": "#2a3f5f",
           "arrowhead": 0,
           "arrowwidth": 1
          },
          "autotypenumbers": "strict",
          "coloraxis": {
           "colorbar": {
            "outlinewidth": 0,
            "ticks": ""
           }
          },
          "colorscale": {
           "diverging": [
            [
             0,
             "#8e0152"
            ],
            [
             0.1,
             "#c51b7d"
            ],
            [
             0.2,
             "#de77ae"
            ],
            [
             0.3,
             "#f1b6da"
            ],
            [
             0.4,
             "#fde0ef"
            ],
            [
             0.5,
             "#f7f7f7"
            ],
            [
             0.6,
             "#e6f5d0"
            ],
            [
             0.7,
             "#b8e186"
            ],
            [
             0.8,
             "#7fbc41"
            ],
            [
             0.9,
             "#4d9221"
            ],
            [
             1,
             "#276419"
            ]
           ],
           "sequential": [
            [
             0,
             "#0d0887"
            ],
            [
             0.1111111111111111,
             "#46039f"
            ],
            [
             0.2222222222222222,
             "#7201a8"
            ],
            [
             0.3333333333333333,
             "#9c179e"
            ],
            [
             0.4444444444444444,
             "#bd3786"
            ],
            [
             0.5555555555555556,
             "#d8576b"
            ],
            [
             0.6666666666666666,
             "#ed7953"
            ],
            [
             0.7777777777777778,
             "#fb9f3a"
            ],
            [
             0.8888888888888888,
             "#fdca26"
            ],
            [
             1,
             "#f0f921"
            ]
           ],
           "sequentialminus": [
            [
             0,
             "#0d0887"
            ],
            [
             0.1111111111111111,
             "#46039f"
            ],
            [
             0.2222222222222222,
             "#7201a8"
            ],
            [
             0.3333333333333333,
             "#9c179e"
            ],
            [
             0.4444444444444444,
             "#bd3786"
            ],
            [
             0.5555555555555556,
             "#d8576b"
            ],
            [
             0.6666666666666666,
             "#ed7953"
            ],
            [
             0.7777777777777778,
             "#fb9f3a"
            ],
            [
             0.8888888888888888,
             "#fdca26"
            ],
            [
             1,
             "#f0f921"
            ]
           ]
          },
          "colorway": [
           "#636efa",
           "#EF553B",
           "#00cc96",
           "#ab63fa",
           "#FFA15A",
           "#19d3f3",
           "#FF6692",
           "#B6E880",
           "#FF97FF",
           "#FECB52"
          ],
          "font": {
           "color": "#2a3f5f"
          },
          "geo": {
           "bgcolor": "white",
           "lakecolor": "white",
           "landcolor": "#E5ECF6",
           "showlakes": true,
           "showland": true,
           "subunitcolor": "white"
          },
          "hoverlabel": {
           "align": "left"
          },
          "hovermode": "closest",
          "mapbox": {
           "style": "light"
          },
          "paper_bgcolor": "white",
          "plot_bgcolor": "#E5ECF6",
          "polar": {
           "angularaxis": {
            "gridcolor": "white",
            "linecolor": "white",
            "ticks": ""
           },
           "bgcolor": "#E5ECF6",
           "radialaxis": {
            "gridcolor": "white",
            "linecolor": "white",
            "ticks": ""
           }
          },
          "scene": {
           "xaxis": {
            "backgroundcolor": "#E5ECF6",
            "gridcolor": "white",
            "gridwidth": 2,
            "linecolor": "white",
            "showbackground": true,
            "ticks": "",
            "zerolinecolor": "white"
           },
           "yaxis": {
            "backgroundcolor": "#E5ECF6",
            "gridcolor": "white",
            "gridwidth": 2,
            "linecolor": "white",
            "showbackground": true,
            "ticks": "",
            "zerolinecolor": "white"
           },
           "zaxis": {
            "backgroundcolor": "#E5ECF6",
            "gridcolor": "white",
            "gridwidth": 2,
            "linecolor": "white",
            "showbackground": true,
            "ticks": "",
            "zerolinecolor": "white"
           }
          },
          "shapedefaults": {
           "line": {
            "color": "#2a3f5f"
           }
          },
          "ternary": {
           "aaxis": {
            "gridcolor": "white",
            "linecolor": "white",
            "ticks": ""
           },
           "baxis": {
            "gridcolor": "white",
            "linecolor": "white",
            "ticks": ""
           },
           "bgcolor": "#E5ECF6",
           "caxis": {
            "gridcolor": "white",
            "linecolor": "white",
            "ticks": ""
           }
          },
          "title": {
           "x": 0.05
          },
          "xaxis": {
           "automargin": true,
           "gridcolor": "white",
           "linecolor": "white",
           "ticks": "",
           "title": {
            "standoff": 15
           },
           "zerolinecolor": "white",
           "zerolinewidth": 2
          },
          "yaxis": {
           "automargin": true,
           "gridcolor": "white",
           "linecolor": "white",
           "ticks": "",
           "title": {
            "standoff": 15
           },
           "zerolinecolor": "white",
           "zerolinewidth": 2
          }
         }
        },
        "title": {
         "font": {
          "color": "#4D5663"
         }
        },
        "xaxis": {
         "gridcolor": "#E1E5ED",
         "showgrid": true,
         "tickfont": {
          "color": "#4D5663"
         },
         "title": {
          "font": {
           "color": "#4D5663"
          },
          "text": ""
         },
         "zerolinecolor": "#E1E5ED"
        },
        "yaxis": {
         "gridcolor": "#E1E5ED",
         "showgrid": true,
         "tickfont": {
          "color": "#4D5663"
         },
         "title": {
          "font": {
           "color": "#4D5663"
          },
          "text": ""
         },
         "zerolinecolor": "#E1E5ED"
        }
       }
      },
      "text/html": [
       "<div>                            <div id=\"42a040d3-36ce-4cb6-80b2-320bfcc33f36\" class=\"plotly-graph-div\" style=\"height:525px; width:100%;\"></div>            <script type=\"text/javascript\">                require([\"plotly\"], function(Plotly) {                    window.PLOTLYENV=window.PLOTLYENV || {};\n",
       "                    window.PLOTLYENV.BASE_URL='https://plot.ly';                                    if (document.getElementById(\"42a040d3-36ce-4cb6-80b2-320bfcc33f36\")) {                    Plotly.newPlot(                        \"42a040d3-36ce-4cb6-80b2-320bfcc33f36\",                        [{\"line\":{\"color\":\"rgba(255, 153, 51, 1.0)\",\"dash\":\"solid\",\"shape\":\"linear\",\"width\":1.3},\"marker\":{\"size\":10,\"symbol\":\"circle\"},\"mode\":\"markers\",\"name\":\"B\",\"text\":\"\",\"x\":[-0.3398988896464808,-1.6320219123904456,1.0833580654835377,-0.5221441697533774,1.8870577989950417,-0.1519022894899191,1.738502057334876,1.7056108965703825,-0.6441517480790271,1.446088337377909,-0.40837595317937014,-0.3845503118092821,-1.1751265443795977,0.3867803121745835,-0.7426482243780839,-0.43683293687948244,-0.5088760710426806,-1.8543028311017542,-0.6332326401681622,0.1462914660828161,0.8830579721724487,0.3971948472370433,-1.1204484108009625,0.40106396407362593,-0.4067665034368915,0.47737803056416306,-1.9370437378754735,0.7292434252915854,-0.9651293257767154,-0.19170860679186263,-1.7686489673158163,-0.2537637565216562,0.6425981649526561,-1.0591476195161171,1.0667946528907304,-0.39160597886280846,-1.4037276993584953,1.8542164451445762,-1.0897874477601286,-0.6166742828751661,1.0275457033922706,-0.6551011328439404,-1.9316441131174051,0.8954051917268987,-0.929859420870943,-2.6074766673535854,-0.3260344298623395,-2.0670868762703063,0.09550434985732024,-0.5773800461329046,0.6547371662725984,-0.02746341612035001,1.0210359693291602,0.7901461323588164,0.15550268839189296,0.06477080315932901,-0.3876351988405084,-0.2589635071591233,0.610293410412037,0.35704353940696576,0.004869934166238935,2.084087092727924,0.44549222902202584,-0.8300681314305705,0.380011831731752,0.033614054409343785,0.2676525442637065,0.7269584845831824,1.1340583727418463,1.2306196535659573,0.3989981915062393,-0.020588125991491804,-0.590085318221706,0.7094993217735794,-0.07682209611761445,1.132665491703427,0.49475019050692304,-0.13891134715709394,-1.07586707290558,0.4441980300520878,-1.4868717602776649,-2.5060290067500364,1.8586312192790821,2.0462249338926135,-2.0116341336398333,1.2762416640493945,0.463117861856559,-0.6091834606663771,-0.752894001502793,0.3475782028223775,0.17383952520650456,-0.794650830102094,-0.10028232258399258,-1.7467047199059293,0.8942392582127465,0.6040802134291302,0.2699602012812688,1.8279522592497466,-0.4637391036140166,1.0973521416489043],\"y\":[1.1982473059308325,1.6356636244629494,-0.8905655629472256,-1.807838351873487,0.8059253931077515,0.35179663251839494,3.286566911427533,2.8856879704436356,-1.6302195439392437,-0.46559364417373905,0.5722312952267994,0.13493420680389276,-0.042561264746407916,-1.3888743215255817,-1.0400399241781164,-0.12167381490054667,-0.7290940015517252,-0.09889921265528098,-0.3312005457673756,0.5261642154537874,0.6682052848327581,0.35916570838529577,-0.19295278672651348,1.1220259215142658,-0.5462425995736458,-0.3925935589237412,0.169345302240433,-1.7922818269161258,1.8628476133897467,-0.5340917673987183,0.04344248660006066,2.277202365749576,-0.25663557433485684,-1.1153026316907826,-0.7784819485526674,-0.27000384523590626,0.4977305798284601,1.4767340668012499,-0.3632677807686293,-1.5302748335828096,0.7467921741550148,-2.2970024424818507,-1.4460996582475492,-2.106907488696165,1.298016626562994,-0.324365394283865,-0.1449205658054919,0.12792883571809066,-0.08380256741136723,0.5187857885798648,-0.2776577943424909,-2.4766660149823316,0.875350737970101,0.5505238029568075,0.6035147525603715,-0.639981438984545,0.5973527193033242,-0.4392231849559408,1.2362135230485218,2.067677929479437,0.6375611227756837,-0.29871600887110944,0.2134919337824578,-0.5394598871410751,-0.3347505316342336,0.0801216955297691,-0.042805121119385926,0.37368049305987766,-0.3219801945746798,-0.4208666241915466,-0.4979873718658901,0.005609253028819707,0.03608464305536002,-0.029992147476621468,0.142788839251483,0.10275057800983606,-0.7223937306717052,-1.31611367941755,0.11682713512843675,0.36508224033026243,0.016701958707791845,0.22698760232656448,1.5465654668606335,-0.39381887564259743,1.142054801169338,1.2133216968804088,-0.5278164628670937,1.4884792811106382,-0.951696847783406,1.7120260108326464,-0.1454210212980894,0.7729670349626565,-1.398599836046639,0.2936544015837765,-1.4724797978802802,-1.152984289788025,-0.4244596261425564,0.35510940547754,1.1863954719576226,0.7641118974979407],\"type\":\"scatter\"}],                        {\"legend\":{\"bgcolor\":\"#F5F6F9\",\"font\":{\"color\":\"#4D5663\"}},\"paper_bgcolor\":\"#F5F6F9\",\"plot_bgcolor\":\"#F5F6F9\",\"template\":{\"data\":{\"barpolar\":[{\"marker\":{\"line\":{\"color\":\"#E5ECF6\",\"width\":0.5},\"pattern\":{\"fillmode\":\"overlay\",\"size\":10,\"solidity\":0.2}},\"type\":\"barpolar\"}],\"bar\":[{\"error_x\":{\"color\":\"#2a3f5f\"},\"error_y\":{\"color\":\"#2a3f5f\"},\"marker\":{\"line\":{\"color\":\"#E5ECF6\",\"width\":0.5},\"pattern\":{\"fillmode\":\"overlay\",\"size\":10,\"solidity\":0.2}},\"type\":\"bar\"}],\"carpet\":[{\"aaxis\":{\"endlinecolor\":\"#2a3f5f\",\"gridcolor\":\"white\",\"linecolor\":\"white\",\"minorgridcolor\":\"white\",\"startlinecolor\":\"#2a3f5f\"},\"baxis\":{\"endlinecolor\":\"#2a3f5f\",\"gridcolor\":\"white\",\"linecolor\":\"white\",\"minorgridcolor\":\"white\",\"startlinecolor\":\"#2a3f5f\"},\"type\":\"carpet\"}],\"choropleth\":[{\"colorbar\":{\"outlinewidth\":0,\"ticks\":\"\"},\"type\":\"choropleth\"}],\"contourcarpet\":[{\"colorbar\":{\"outlinewidth\":0,\"ticks\":\"\"},\"type\":\"contourcarpet\"}],\"contour\":[{\"colorbar\":{\"outlinewidth\":0,\"ticks\":\"\"},\"colorscale\":[[0.0,\"#0d0887\"],[0.1111111111111111,\"#46039f\"],[0.2222222222222222,\"#7201a8\"],[0.3333333333333333,\"#9c179e\"],[0.4444444444444444,\"#bd3786\"],[0.5555555555555556,\"#d8576b\"],[0.6666666666666666,\"#ed7953\"],[0.7777777777777778,\"#fb9f3a\"],[0.8888888888888888,\"#fdca26\"],[1.0,\"#f0f921\"]],\"type\":\"contour\"}],\"heatmapgl\":[{\"colorbar\":{\"outlinewidth\":0,\"ticks\":\"\"},\"colorscale\":[[0.0,\"#0d0887\"],[0.1111111111111111,\"#46039f\"],[0.2222222222222222,\"#7201a8\"],[0.3333333333333333,\"#9c179e\"],[0.4444444444444444,\"#bd3786\"],[0.5555555555555556,\"#d8576b\"],[0.6666666666666666,\"#ed7953\"],[0.7777777777777778,\"#fb9f3a\"],[0.8888888888888888,\"#fdca26\"],[1.0,\"#f0f921\"]],\"type\":\"heatmapgl\"}],\"heatmap\":[{\"colorbar\":{\"outlinewidth\":0,\"ticks\":\"\"},\"colorscale\":[[0.0,\"#0d0887\"],[0.1111111111111111,\"#46039f\"],[0.2222222222222222,\"#7201a8\"],[0.3333333333333333,\"#9c179e\"],[0.4444444444444444,\"#bd3786\"],[0.5555555555555556,\"#d8576b\"],[0.6666666666666666,\"#ed7953\"],[0.7777777777777778,\"#fb9f3a\"],[0.8888888888888888,\"#fdca26\"],[1.0,\"#f0f921\"]],\"type\":\"heatmap\"}],\"histogram2dcontour\":[{\"colorbar\":{\"outlinewidth\":0,\"ticks\":\"\"},\"colorscale\":[[0.0,\"#0d0887\"],[0.1111111111111111,\"#46039f\"],[0.2222222222222222,\"#7201a8\"],[0.3333333333333333,\"#9c179e\"],[0.4444444444444444,\"#bd3786\"],[0.5555555555555556,\"#d8576b\"],[0.6666666666666666,\"#ed7953\"],[0.7777777777777778,\"#fb9f3a\"],[0.8888888888888888,\"#fdca26\"],[1.0,\"#f0f921\"]],\"type\":\"histogram2dcontour\"}],\"histogram2d\":[{\"colorbar\":{\"outlinewidth\":0,\"ticks\":\"\"},\"colorscale\":[[0.0,\"#0d0887\"],[0.1111111111111111,\"#46039f\"],[0.2222222222222222,\"#7201a8\"],[0.3333333333333333,\"#9c179e\"],[0.4444444444444444,\"#bd3786\"],[0.5555555555555556,\"#d8576b\"],[0.6666666666666666,\"#ed7953\"],[0.7777777777777778,\"#fb9f3a\"],[0.8888888888888888,\"#fdca26\"],[1.0,\"#f0f921\"]],\"type\":\"histogram2d\"}],\"histogram\":[{\"marker\":{\"pattern\":{\"fillmode\":\"overlay\",\"size\":10,\"solidity\":0.2}},\"type\":\"histogram\"}],\"mesh3d\":[{\"colorbar\":{\"outlinewidth\":0,\"ticks\":\"\"},\"type\":\"mesh3d\"}],\"parcoords\":[{\"line\":{\"colorbar\":{\"outlinewidth\":0,\"ticks\":\"\"}},\"type\":\"parcoords\"}],\"pie\":[{\"automargin\":true,\"type\":\"pie\"}],\"scatter3d\":[{\"line\":{\"colorbar\":{\"outlinewidth\":0,\"ticks\":\"\"}},\"marker\":{\"colorbar\":{\"outlinewidth\":0,\"ticks\":\"\"}},\"type\":\"scatter3d\"}],\"scattercarpet\":[{\"marker\":{\"colorbar\":{\"outlinewidth\":0,\"ticks\":\"\"}},\"type\":\"scattercarpet\"}],\"scattergeo\":[{\"marker\":{\"colorbar\":{\"outlinewidth\":0,\"ticks\":\"\"}},\"type\":\"scattergeo\"}],\"scattergl\":[{\"marker\":{\"colorbar\":{\"outlinewidth\":0,\"ticks\":\"\"}},\"type\":\"scattergl\"}],\"scattermapbox\":[{\"marker\":{\"colorbar\":{\"outlinewidth\":0,\"ticks\":\"\"}},\"type\":\"scattermapbox\"}],\"scatterpolargl\":[{\"marker\":{\"colorbar\":{\"outlinewidth\":0,\"ticks\":\"\"}},\"type\":\"scatterpolargl\"}],\"scatterpolar\":[{\"marker\":{\"colorbar\":{\"outlinewidth\":0,\"ticks\":\"\"}},\"type\":\"scatterpolar\"}],\"scatter\":[{\"fillpattern\":{\"fillmode\":\"overlay\",\"size\":10,\"solidity\":0.2},\"type\":\"scatter\"}],\"scatterternary\":[{\"marker\":{\"colorbar\":{\"outlinewidth\":0,\"ticks\":\"\"}},\"type\":\"scatterternary\"}],\"surface\":[{\"colorbar\":{\"outlinewidth\":0,\"ticks\":\"\"},\"colorscale\":[[0.0,\"#0d0887\"],[0.1111111111111111,\"#46039f\"],[0.2222222222222222,\"#7201a8\"],[0.3333333333333333,\"#9c179e\"],[0.4444444444444444,\"#bd3786\"],[0.5555555555555556,\"#d8576b\"],[0.6666666666666666,\"#ed7953\"],[0.7777777777777778,\"#fb9f3a\"],[0.8888888888888888,\"#fdca26\"],[1.0,\"#f0f921\"]],\"type\":\"surface\"}],\"table\":[{\"cells\":{\"fill\":{\"color\":\"#EBF0F8\"},\"line\":{\"color\":\"white\"}},\"header\":{\"fill\":{\"color\":\"#C8D4E3\"},\"line\":{\"color\":\"white\"}},\"type\":\"table\"}]},\"layout\":{\"annotationdefaults\":{\"arrowcolor\":\"#2a3f5f\",\"arrowhead\":0,\"arrowwidth\":1},\"autotypenumbers\":\"strict\",\"coloraxis\":{\"colorbar\":{\"outlinewidth\":0,\"ticks\":\"\"}},\"colorscale\":{\"diverging\":[[0,\"#8e0152\"],[0.1,\"#c51b7d\"],[0.2,\"#de77ae\"],[0.3,\"#f1b6da\"],[0.4,\"#fde0ef\"],[0.5,\"#f7f7f7\"],[0.6,\"#e6f5d0\"],[0.7,\"#b8e186\"],[0.8,\"#7fbc41\"],[0.9,\"#4d9221\"],[1,\"#276419\"]],\"sequential\":[[0.0,\"#0d0887\"],[0.1111111111111111,\"#46039f\"],[0.2222222222222222,\"#7201a8\"],[0.3333333333333333,\"#9c179e\"],[0.4444444444444444,\"#bd3786\"],[0.5555555555555556,\"#d8576b\"],[0.6666666666666666,\"#ed7953\"],[0.7777777777777778,\"#fb9f3a\"],[0.8888888888888888,\"#fdca26\"],[1.0,\"#f0f921\"]],\"sequentialminus\":[[0.0,\"#0d0887\"],[0.1111111111111111,\"#46039f\"],[0.2222222222222222,\"#7201a8\"],[0.3333333333333333,\"#9c179e\"],[0.4444444444444444,\"#bd3786\"],[0.5555555555555556,\"#d8576b\"],[0.6666666666666666,\"#ed7953\"],[0.7777777777777778,\"#fb9f3a\"],[0.8888888888888888,\"#fdca26\"],[1.0,\"#f0f921\"]]},\"colorway\":[\"#636efa\",\"#EF553B\",\"#00cc96\",\"#ab63fa\",\"#FFA15A\",\"#19d3f3\",\"#FF6692\",\"#B6E880\",\"#FF97FF\",\"#FECB52\"],\"font\":{\"color\":\"#2a3f5f\"},\"geo\":{\"bgcolor\":\"white\",\"lakecolor\":\"white\",\"landcolor\":\"#E5ECF6\",\"showlakes\":true,\"showland\":true,\"subunitcolor\":\"white\"},\"hoverlabel\":{\"align\":\"left\"},\"hovermode\":\"closest\",\"mapbox\":{\"style\":\"light\"},\"paper_bgcolor\":\"white\",\"plot_bgcolor\":\"#E5ECF6\",\"polar\":{\"angularaxis\":{\"gridcolor\":\"white\",\"linecolor\":\"white\",\"ticks\":\"\"},\"bgcolor\":\"#E5ECF6\",\"radialaxis\":{\"gridcolor\":\"white\",\"linecolor\":\"white\",\"ticks\":\"\"}},\"scene\":{\"xaxis\":{\"backgroundcolor\":\"#E5ECF6\",\"gridcolor\":\"white\",\"gridwidth\":2,\"linecolor\":\"white\",\"showbackground\":true,\"ticks\":\"\",\"zerolinecolor\":\"white\"},\"yaxis\":{\"backgroundcolor\":\"#E5ECF6\",\"gridcolor\":\"white\",\"gridwidth\":2,\"linecolor\":\"white\",\"showbackground\":true,\"ticks\":\"\",\"zerolinecolor\":\"white\"},\"zaxis\":{\"backgroundcolor\":\"#E5ECF6\",\"gridcolor\":\"white\",\"gridwidth\":2,\"linecolor\":\"white\",\"showbackground\":true,\"ticks\":\"\",\"zerolinecolor\":\"white\"}},\"shapedefaults\":{\"line\":{\"color\":\"#2a3f5f\"}},\"ternary\":{\"aaxis\":{\"gridcolor\":\"white\",\"linecolor\":\"white\",\"ticks\":\"\"},\"baxis\":{\"gridcolor\":\"white\",\"linecolor\":\"white\",\"ticks\":\"\"},\"bgcolor\":\"#E5ECF6\",\"caxis\":{\"gridcolor\":\"white\",\"linecolor\":\"white\",\"ticks\":\"\"}},\"title\":{\"x\":0.05},\"xaxis\":{\"automargin\":true,\"gridcolor\":\"white\",\"linecolor\":\"white\",\"ticks\":\"\",\"title\":{\"standoff\":15},\"zerolinecolor\":\"white\",\"zerolinewidth\":2},\"yaxis\":{\"automargin\":true,\"gridcolor\":\"white\",\"linecolor\":\"white\",\"ticks\":\"\",\"title\":{\"standoff\":15},\"zerolinecolor\":\"white\",\"zerolinewidth\":2}}},\"title\":{\"font\":{\"color\":\"#4D5663\"}},\"xaxis\":{\"gridcolor\":\"#E1E5ED\",\"showgrid\":true,\"tickfont\":{\"color\":\"#4D5663\"},\"title\":{\"font\":{\"color\":\"#4D5663\"},\"text\":\"\"},\"zerolinecolor\":\"#E1E5ED\"},\"yaxis\":{\"gridcolor\":\"#E1E5ED\",\"showgrid\":true,\"tickfont\":{\"color\":\"#4D5663\"},\"title\":{\"font\":{\"color\":\"#4D5663\"},\"text\":\"\"},\"zerolinecolor\":\"#E1E5ED\"}},                        {\"showLink\": true, \"linkText\": \"Export to plot.ly\", \"plotlyServerURL\": \"https://plot.ly\", \"responsive\": true}                    ).then(function(){\n",
       "                            \n",
       "var gd = document.getElementById('42a040d3-36ce-4cb6-80b2-320bfcc33f36');\n",
       "var x = new MutationObserver(function (mutations, observer) {{\n",
       "        var display = window.getComputedStyle(gd).display;\n",
       "        if (!display || display === 'none') {{\n",
       "            console.log([gd, 'removed!']);\n",
       "            Plotly.purge(gd);\n",
       "            observer.disconnect();\n",
       "        }}\n",
       "}});\n",
       "\n",
       "// Listen for the removal of the full notebook cells\n",
       "var notebookContainer = gd.closest('#notebook-container');\n",
       "if (notebookContainer) {{\n",
       "    x.observe(notebookContainer, {childList: true});\n",
       "}}\n",
       "\n",
       "// Listen for the clearing of the current output cell\n",
       "var outputEl = gd.closest('.output');\n",
       "if (outputEl) {{\n",
       "    x.observe(outputEl, {childList: true});\n",
       "}}\n",
       "\n",
       "                        })                };                });            </script>        </div>"
      ]
     },
     "metadata": {},
     "output_type": "display_data"
    }
   ],
   "source": [
    "df.iplot(kind='scatter',x='A',y='B',mode='markers',size=10)\n",
    "# from plotly.offline import iplot\n",
    "# import plotly.graph_objs as go\n",
    "\n",
    "# # Create a scatter plot figure\n",
    "# trace = go.Scatter(x=df['A'], y=df['B'], mode='markers', marker=dict(size=10))\n",
    "# layout = go.Layout(title='Scatter Plot', xaxis=dict(title='X-Axis'), yaxis=dict(title='Y-Axis'))\n",
    "# fig = go.Figure(data=[trace], layout=layout)\n",
    "\n",
    "# # Display the figure using iplot\n",
    "# iplot(fig)"
   ]
  },
  {
   "cell_type": "markdown",
   "metadata": {},
   "source": [
    "## Bar Plots"
   ]
  },
  {
   "cell_type": "code",
   "execution_count": 13,
   "metadata": {
    "collapsed": false
   },
   "outputs": [
    {
     "data": {
      "application/vnd.plotly.v1+json": {
       "config": {
        "linkText": "Export to plot.ly",
        "plotlyServerURL": "https://plot.ly",
        "showLink": true
       },
       "data": [
        {
         "marker": {
          "color": "rgba(255, 153, 51, 0.6)",
          "line": {
           "color": "rgba(255, 153, 51, 1.0)",
           "width": 1
          }
         },
         "name": "Values",
         "orientation": "v",
         "text": "",
         "type": "bar",
         "x": [
          "A",
          "B",
          "C"
         ],
         "y": [
          32,
          43,
          50
         ]
        }
       ],
       "layout": {
        "legend": {
         "bgcolor": "#F5F6F9",
         "font": {
          "color": "#4D5663"
         }
        },
        "paper_bgcolor": "#F5F6F9",
        "plot_bgcolor": "#F5F6F9",
        "template": {
         "data": {
          "bar": [
           {
            "error_x": {
             "color": "#2a3f5f"
            },
            "error_y": {
             "color": "#2a3f5f"
            },
            "marker": {
             "line": {
              "color": "#E5ECF6",
              "width": 0.5
             },
             "pattern": {
              "fillmode": "overlay",
              "size": 10,
              "solidity": 0.2
             }
            },
            "type": "bar"
           }
          ],
          "barpolar": [
           {
            "marker": {
             "line": {
              "color": "#E5ECF6",
              "width": 0.5
             },
             "pattern": {
              "fillmode": "overlay",
              "size": 10,
              "solidity": 0.2
             }
            },
            "type": "barpolar"
           }
          ],
          "carpet": [
           {
            "aaxis": {
             "endlinecolor": "#2a3f5f",
             "gridcolor": "white",
             "linecolor": "white",
             "minorgridcolor": "white",
             "startlinecolor": "#2a3f5f"
            },
            "baxis": {
             "endlinecolor": "#2a3f5f",
             "gridcolor": "white",
             "linecolor": "white",
             "minorgridcolor": "white",
             "startlinecolor": "#2a3f5f"
            },
            "type": "carpet"
           }
          ],
          "choropleth": [
           {
            "colorbar": {
             "outlinewidth": 0,
             "ticks": ""
            },
            "type": "choropleth"
           }
          ],
          "contour": [
           {
            "colorbar": {
             "outlinewidth": 0,
             "ticks": ""
            },
            "colorscale": [
             [
              0,
              "#0d0887"
             ],
             [
              0.1111111111111111,
              "#46039f"
             ],
             [
              0.2222222222222222,
              "#7201a8"
             ],
             [
              0.3333333333333333,
              "#9c179e"
             ],
             [
              0.4444444444444444,
              "#bd3786"
             ],
             [
              0.5555555555555556,
              "#d8576b"
             ],
             [
              0.6666666666666666,
              "#ed7953"
             ],
             [
              0.7777777777777778,
              "#fb9f3a"
             ],
             [
              0.8888888888888888,
              "#fdca26"
             ],
             [
              1,
              "#f0f921"
             ]
            ],
            "type": "contour"
           }
          ],
          "contourcarpet": [
           {
            "colorbar": {
             "outlinewidth": 0,
             "ticks": ""
            },
            "type": "contourcarpet"
           }
          ],
          "heatmap": [
           {
            "colorbar": {
             "outlinewidth": 0,
             "ticks": ""
            },
            "colorscale": [
             [
              0,
              "#0d0887"
             ],
             [
              0.1111111111111111,
              "#46039f"
             ],
             [
              0.2222222222222222,
              "#7201a8"
             ],
             [
              0.3333333333333333,
              "#9c179e"
             ],
             [
              0.4444444444444444,
              "#bd3786"
             ],
             [
              0.5555555555555556,
              "#d8576b"
             ],
             [
              0.6666666666666666,
              "#ed7953"
             ],
             [
              0.7777777777777778,
              "#fb9f3a"
             ],
             [
              0.8888888888888888,
              "#fdca26"
             ],
             [
              1,
              "#f0f921"
             ]
            ],
            "type": "heatmap"
           }
          ],
          "heatmapgl": [
           {
            "colorbar": {
             "outlinewidth": 0,
             "ticks": ""
            },
            "colorscale": [
             [
              0,
              "#0d0887"
             ],
             [
              0.1111111111111111,
              "#46039f"
             ],
             [
              0.2222222222222222,
              "#7201a8"
             ],
             [
              0.3333333333333333,
              "#9c179e"
             ],
             [
              0.4444444444444444,
              "#bd3786"
             ],
             [
              0.5555555555555556,
              "#d8576b"
             ],
             [
              0.6666666666666666,
              "#ed7953"
             ],
             [
              0.7777777777777778,
              "#fb9f3a"
             ],
             [
              0.8888888888888888,
              "#fdca26"
             ],
             [
              1,
              "#f0f921"
             ]
            ],
            "type": "heatmapgl"
           }
          ],
          "histogram": [
           {
            "marker": {
             "pattern": {
              "fillmode": "overlay",
              "size": 10,
              "solidity": 0.2
             }
            },
            "type": "histogram"
           }
          ],
          "histogram2d": [
           {
            "colorbar": {
             "outlinewidth": 0,
             "ticks": ""
            },
            "colorscale": [
             [
              0,
              "#0d0887"
             ],
             [
              0.1111111111111111,
              "#46039f"
             ],
             [
              0.2222222222222222,
              "#7201a8"
             ],
             [
              0.3333333333333333,
              "#9c179e"
             ],
             [
              0.4444444444444444,
              "#bd3786"
             ],
             [
              0.5555555555555556,
              "#d8576b"
             ],
             [
              0.6666666666666666,
              "#ed7953"
             ],
             [
              0.7777777777777778,
              "#fb9f3a"
             ],
             [
              0.8888888888888888,
              "#fdca26"
             ],
             [
              1,
              "#f0f921"
             ]
            ],
            "type": "histogram2d"
           }
          ],
          "histogram2dcontour": [
           {
            "colorbar": {
             "outlinewidth": 0,
             "ticks": ""
            },
            "colorscale": [
             [
              0,
              "#0d0887"
             ],
             [
              0.1111111111111111,
              "#46039f"
             ],
             [
              0.2222222222222222,
              "#7201a8"
             ],
             [
              0.3333333333333333,
              "#9c179e"
             ],
             [
              0.4444444444444444,
              "#bd3786"
             ],
             [
              0.5555555555555556,
              "#d8576b"
             ],
             [
              0.6666666666666666,
              "#ed7953"
             ],
             [
              0.7777777777777778,
              "#fb9f3a"
             ],
             [
              0.8888888888888888,
              "#fdca26"
             ],
             [
              1,
              "#f0f921"
             ]
            ],
            "type": "histogram2dcontour"
           }
          ],
          "mesh3d": [
           {
            "colorbar": {
             "outlinewidth": 0,
             "ticks": ""
            },
            "type": "mesh3d"
           }
          ],
          "parcoords": [
           {
            "line": {
             "colorbar": {
              "outlinewidth": 0,
              "ticks": ""
             }
            },
            "type": "parcoords"
           }
          ],
          "pie": [
           {
            "automargin": true,
            "type": "pie"
           }
          ],
          "scatter": [
           {
            "fillpattern": {
             "fillmode": "overlay",
             "size": 10,
             "solidity": 0.2
            },
            "type": "scatter"
           }
          ],
          "scatter3d": [
           {
            "line": {
             "colorbar": {
              "outlinewidth": 0,
              "ticks": ""
             }
            },
            "marker": {
             "colorbar": {
              "outlinewidth": 0,
              "ticks": ""
             }
            },
            "type": "scatter3d"
           }
          ],
          "scattercarpet": [
           {
            "marker": {
             "colorbar": {
              "outlinewidth": 0,
              "ticks": ""
             }
            },
            "type": "scattercarpet"
           }
          ],
          "scattergeo": [
           {
            "marker": {
             "colorbar": {
              "outlinewidth": 0,
              "ticks": ""
             }
            },
            "type": "scattergeo"
           }
          ],
          "scattergl": [
           {
            "marker": {
             "colorbar": {
              "outlinewidth": 0,
              "ticks": ""
             }
            },
            "type": "scattergl"
           }
          ],
          "scattermapbox": [
           {
            "marker": {
             "colorbar": {
              "outlinewidth": 0,
              "ticks": ""
             }
            },
            "type": "scattermapbox"
           }
          ],
          "scatterpolar": [
           {
            "marker": {
             "colorbar": {
              "outlinewidth": 0,
              "ticks": ""
             }
            },
            "type": "scatterpolar"
           }
          ],
          "scatterpolargl": [
           {
            "marker": {
             "colorbar": {
              "outlinewidth": 0,
              "ticks": ""
             }
            },
            "type": "scatterpolargl"
           }
          ],
          "scatterternary": [
           {
            "marker": {
             "colorbar": {
              "outlinewidth": 0,
              "ticks": ""
             }
            },
            "type": "scatterternary"
           }
          ],
          "surface": [
           {
            "colorbar": {
             "outlinewidth": 0,
             "ticks": ""
            },
            "colorscale": [
             [
              0,
              "#0d0887"
             ],
             [
              0.1111111111111111,
              "#46039f"
             ],
             [
              0.2222222222222222,
              "#7201a8"
             ],
             [
              0.3333333333333333,
              "#9c179e"
             ],
             [
              0.4444444444444444,
              "#bd3786"
             ],
             [
              0.5555555555555556,
              "#d8576b"
             ],
             [
              0.6666666666666666,
              "#ed7953"
             ],
             [
              0.7777777777777778,
              "#fb9f3a"
             ],
             [
              0.8888888888888888,
              "#fdca26"
             ],
             [
              1,
              "#f0f921"
             ]
            ],
            "type": "surface"
           }
          ],
          "table": [
           {
            "cells": {
             "fill": {
              "color": "#EBF0F8"
             },
             "line": {
              "color": "white"
             }
            },
            "header": {
             "fill": {
              "color": "#C8D4E3"
             },
             "line": {
              "color": "white"
             }
            },
            "type": "table"
           }
          ]
         },
         "layout": {
          "annotationdefaults": {
           "arrowcolor": "#2a3f5f",
           "arrowhead": 0,
           "arrowwidth": 1
          },
          "autotypenumbers": "strict",
          "coloraxis": {
           "colorbar": {
            "outlinewidth": 0,
            "ticks": ""
           }
          },
          "colorscale": {
           "diverging": [
            [
             0,
             "#8e0152"
            ],
            [
             0.1,
             "#c51b7d"
            ],
            [
             0.2,
             "#de77ae"
            ],
            [
             0.3,
             "#f1b6da"
            ],
            [
             0.4,
             "#fde0ef"
            ],
            [
             0.5,
             "#f7f7f7"
            ],
            [
             0.6,
             "#e6f5d0"
            ],
            [
             0.7,
             "#b8e186"
            ],
            [
             0.8,
             "#7fbc41"
            ],
            [
             0.9,
             "#4d9221"
            ],
            [
             1,
             "#276419"
            ]
           ],
           "sequential": [
            [
             0,
             "#0d0887"
            ],
            [
             0.1111111111111111,
             "#46039f"
            ],
            [
             0.2222222222222222,
             "#7201a8"
            ],
            [
             0.3333333333333333,
             "#9c179e"
            ],
            [
             0.4444444444444444,
             "#bd3786"
            ],
            [
             0.5555555555555556,
             "#d8576b"
            ],
            [
             0.6666666666666666,
             "#ed7953"
            ],
            [
             0.7777777777777778,
             "#fb9f3a"
            ],
            [
             0.8888888888888888,
             "#fdca26"
            ],
            [
             1,
             "#f0f921"
            ]
           ],
           "sequentialminus": [
            [
             0,
             "#0d0887"
            ],
            [
             0.1111111111111111,
             "#46039f"
            ],
            [
             0.2222222222222222,
             "#7201a8"
            ],
            [
             0.3333333333333333,
             "#9c179e"
            ],
            [
             0.4444444444444444,
             "#bd3786"
            ],
            [
             0.5555555555555556,
             "#d8576b"
            ],
            [
             0.6666666666666666,
             "#ed7953"
            ],
            [
             0.7777777777777778,
             "#fb9f3a"
            ],
            [
             0.8888888888888888,
             "#fdca26"
            ],
            [
             1,
             "#f0f921"
            ]
           ]
          },
          "colorway": [
           "#636efa",
           "#EF553B",
           "#00cc96",
           "#ab63fa",
           "#FFA15A",
           "#19d3f3",
           "#FF6692",
           "#B6E880",
           "#FF97FF",
           "#FECB52"
          ],
          "font": {
           "color": "#2a3f5f"
          },
          "geo": {
           "bgcolor": "white",
           "lakecolor": "white",
           "landcolor": "#E5ECF6",
           "showlakes": true,
           "showland": true,
           "subunitcolor": "white"
          },
          "hoverlabel": {
           "align": "left"
          },
          "hovermode": "closest",
          "mapbox": {
           "style": "light"
          },
          "paper_bgcolor": "white",
          "plot_bgcolor": "#E5ECF6",
          "polar": {
           "angularaxis": {
            "gridcolor": "white",
            "linecolor": "white",
            "ticks": ""
           },
           "bgcolor": "#E5ECF6",
           "radialaxis": {
            "gridcolor": "white",
            "linecolor": "white",
            "ticks": ""
           }
          },
          "scene": {
           "xaxis": {
            "backgroundcolor": "#E5ECF6",
            "gridcolor": "white",
            "gridwidth": 2,
            "linecolor": "white",
            "showbackground": true,
            "ticks": "",
            "zerolinecolor": "white"
           },
           "yaxis": {
            "backgroundcolor": "#E5ECF6",
            "gridcolor": "white",
            "gridwidth": 2,
            "linecolor": "white",
            "showbackground": true,
            "ticks": "",
            "zerolinecolor": "white"
           },
           "zaxis": {
            "backgroundcolor": "#E5ECF6",
            "gridcolor": "white",
            "gridwidth": 2,
            "linecolor": "white",
            "showbackground": true,
            "ticks": "",
            "zerolinecolor": "white"
           }
          },
          "shapedefaults": {
           "line": {
            "color": "#2a3f5f"
           }
          },
          "ternary": {
           "aaxis": {
            "gridcolor": "white",
            "linecolor": "white",
            "ticks": ""
           },
           "baxis": {
            "gridcolor": "white",
            "linecolor": "white",
            "ticks": ""
           },
           "bgcolor": "#E5ECF6",
           "caxis": {
            "gridcolor": "white",
            "linecolor": "white",
            "ticks": ""
           }
          },
          "title": {
           "x": 0.05
          },
          "xaxis": {
           "automargin": true,
           "gridcolor": "white",
           "linecolor": "white",
           "ticks": "",
           "title": {
            "standoff": 15
           },
           "zerolinecolor": "white",
           "zerolinewidth": 2
          },
          "yaxis": {
           "automargin": true,
           "gridcolor": "white",
           "linecolor": "white",
           "ticks": "",
           "title": {
            "standoff": 15
           },
           "zerolinecolor": "white",
           "zerolinewidth": 2
          }
         }
        },
        "title": {
         "font": {
          "color": "#4D5663"
         }
        },
        "xaxis": {
         "gridcolor": "#E1E5ED",
         "showgrid": true,
         "tickfont": {
          "color": "#4D5663"
         },
         "title": {
          "font": {
           "color": "#4D5663"
          },
          "text": ""
         },
         "zerolinecolor": "#E1E5ED"
        },
        "yaxis": {
         "gridcolor": "#E1E5ED",
         "showgrid": true,
         "tickfont": {
          "color": "#4D5663"
         },
         "title": {
          "font": {
           "color": "#4D5663"
          },
          "text": ""
         },
         "zerolinecolor": "#E1E5ED"
        }
       }
      },
      "text/html": [
       "<div>                            <div id=\"14a50687-0302-438a-adb1-1801f71489b1\" class=\"plotly-graph-div\" style=\"height:525px; width:100%;\"></div>            <script type=\"text/javascript\">                require([\"plotly\"], function(Plotly) {                    window.PLOTLYENV=window.PLOTLYENV || {};\n",
       "                    window.PLOTLYENV.BASE_URL='https://plot.ly';                                    if (document.getElementById(\"14a50687-0302-438a-adb1-1801f71489b1\")) {                    Plotly.newPlot(                        \"14a50687-0302-438a-adb1-1801f71489b1\",                        [{\"marker\":{\"color\":\"rgba(255, 153, 51, 0.6)\",\"line\":{\"color\":\"rgba(255, 153, 51, 1.0)\",\"width\":1}},\"name\":\"Values\",\"orientation\":\"v\",\"text\":\"\",\"x\":[\"A\",\"B\",\"C\"],\"y\":[32,43,50],\"type\":\"bar\"}],                        {\"legend\":{\"bgcolor\":\"#F5F6F9\",\"font\":{\"color\":\"#4D5663\"}},\"paper_bgcolor\":\"#F5F6F9\",\"plot_bgcolor\":\"#F5F6F9\",\"template\":{\"data\":{\"barpolar\":[{\"marker\":{\"line\":{\"color\":\"#E5ECF6\",\"width\":0.5},\"pattern\":{\"fillmode\":\"overlay\",\"size\":10,\"solidity\":0.2}},\"type\":\"barpolar\"}],\"bar\":[{\"error_x\":{\"color\":\"#2a3f5f\"},\"error_y\":{\"color\":\"#2a3f5f\"},\"marker\":{\"line\":{\"color\":\"#E5ECF6\",\"width\":0.5},\"pattern\":{\"fillmode\":\"overlay\",\"size\":10,\"solidity\":0.2}},\"type\":\"bar\"}],\"carpet\":[{\"aaxis\":{\"endlinecolor\":\"#2a3f5f\",\"gridcolor\":\"white\",\"linecolor\":\"white\",\"minorgridcolor\":\"white\",\"startlinecolor\":\"#2a3f5f\"},\"baxis\":{\"endlinecolor\":\"#2a3f5f\",\"gridcolor\":\"white\",\"linecolor\":\"white\",\"minorgridcolor\":\"white\",\"startlinecolor\":\"#2a3f5f\"},\"type\":\"carpet\"}],\"choropleth\":[{\"colorbar\":{\"outlinewidth\":0,\"ticks\":\"\"},\"type\":\"choropleth\"}],\"contourcarpet\":[{\"colorbar\":{\"outlinewidth\":0,\"ticks\":\"\"},\"type\":\"contourcarpet\"}],\"contour\":[{\"colorbar\":{\"outlinewidth\":0,\"ticks\":\"\"},\"colorscale\":[[0.0,\"#0d0887\"],[0.1111111111111111,\"#46039f\"],[0.2222222222222222,\"#7201a8\"],[0.3333333333333333,\"#9c179e\"],[0.4444444444444444,\"#bd3786\"],[0.5555555555555556,\"#d8576b\"],[0.6666666666666666,\"#ed7953\"],[0.7777777777777778,\"#fb9f3a\"],[0.8888888888888888,\"#fdca26\"],[1.0,\"#f0f921\"]],\"type\":\"contour\"}],\"heatmapgl\":[{\"colorbar\":{\"outlinewidth\":0,\"ticks\":\"\"},\"colorscale\":[[0.0,\"#0d0887\"],[0.1111111111111111,\"#46039f\"],[0.2222222222222222,\"#7201a8\"],[0.3333333333333333,\"#9c179e\"],[0.4444444444444444,\"#bd3786\"],[0.5555555555555556,\"#d8576b\"],[0.6666666666666666,\"#ed7953\"],[0.7777777777777778,\"#fb9f3a\"],[0.8888888888888888,\"#fdca26\"],[1.0,\"#f0f921\"]],\"type\":\"heatmapgl\"}],\"heatmap\":[{\"colorbar\":{\"outlinewidth\":0,\"ticks\":\"\"},\"colorscale\":[[0.0,\"#0d0887\"],[0.1111111111111111,\"#46039f\"],[0.2222222222222222,\"#7201a8\"],[0.3333333333333333,\"#9c179e\"],[0.4444444444444444,\"#bd3786\"],[0.5555555555555556,\"#d8576b\"],[0.6666666666666666,\"#ed7953\"],[0.7777777777777778,\"#fb9f3a\"],[0.8888888888888888,\"#fdca26\"],[1.0,\"#f0f921\"]],\"type\":\"heatmap\"}],\"histogram2dcontour\":[{\"colorbar\":{\"outlinewidth\":0,\"ticks\":\"\"},\"colorscale\":[[0.0,\"#0d0887\"],[0.1111111111111111,\"#46039f\"],[0.2222222222222222,\"#7201a8\"],[0.3333333333333333,\"#9c179e\"],[0.4444444444444444,\"#bd3786\"],[0.5555555555555556,\"#d8576b\"],[0.6666666666666666,\"#ed7953\"],[0.7777777777777778,\"#fb9f3a\"],[0.8888888888888888,\"#fdca26\"],[1.0,\"#f0f921\"]],\"type\":\"histogram2dcontour\"}],\"histogram2d\":[{\"colorbar\":{\"outlinewidth\":0,\"ticks\":\"\"},\"colorscale\":[[0.0,\"#0d0887\"],[0.1111111111111111,\"#46039f\"],[0.2222222222222222,\"#7201a8\"],[0.3333333333333333,\"#9c179e\"],[0.4444444444444444,\"#bd3786\"],[0.5555555555555556,\"#d8576b\"],[0.6666666666666666,\"#ed7953\"],[0.7777777777777778,\"#fb9f3a\"],[0.8888888888888888,\"#fdca26\"],[1.0,\"#f0f921\"]],\"type\":\"histogram2d\"}],\"histogram\":[{\"marker\":{\"pattern\":{\"fillmode\":\"overlay\",\"size\":10,\"solidity\":0.2}},\"type\":\"histogram\"}],\"mesh3d\":[{\"colorbar\":{\"outlinewidth\":0,\"ticks\":\"\"},\"type\":\"mesh3d\"}],\"parcoords\":[{\"line\":{\"colorbar\":{\"outlinewidth\":0,\"ticks\":\"\"}},\"type\":\"parcoords\"}],\"pie\":[{\"automargin\":true,\"type\":\"pie\"}],\"scatter3d\":[{\"line\":{\"colorbar\":{\"outlinewidth\":0,\"ticks\":\"\"}},\"marker\":{\"colorbar\":{\"outlinewidth\":0,\"ticks\":\"\"}},\"type\":\"scatter3d\"}],\"scattercarpet\":[{\"marker\":{\"colorbar\":{\"outlinewidth\":0,\"ticks\":\"\"}},\"type\":\"scattercarpet\"}],\"scattergeo\":[{\"marker\":{\"colorbar\":{\"outlinewidth\":0,\"ticks\":\"\"}},\"type\":\"scattergeo\"}],\"scattergl\":[{\"marker\":{\"colorbar\":{\"outlinewidth\":0,\"ticks\":\"\"}},\"type\":\"scattergl\"}],\"scattermapbox\":[{\"marker\":{\"colorbar\":{\"outlinewidth\":0,\"ticks\":\"\"}},\"type\":\"scattermapbox\"}],\"scatterpolargl\":[{\"marker\":{\"colorbar\":{\"outlinewidth\":0,\"ticks\":\"\"}},\"type\":\"scatterpolargl\"}],\"scatterpolar\":[{\"marker\":{\"colorbar\":{\"outlinewidth\":0,\"ticks\":\"\"}},\"type\":\"scatterpolar\"}],\"scatter\":[{\"fillpattern\":{\"fillmode\":\"overlay\",\"size\":10,\"solidity\":0.2},\"type\":\"scatter\"}],\"scatterternary\":[{\"marker\":{\"colorbar\":{\"outlinewidth\":0,\"ticks\":\"\"}},\"type\":\"scatterternary\"}],\"surface\":[{\"colorbar\":{\"outlinewidth\":0,\"ticks\":\"\"},\"colorscale\":[[0.0,\"#0d0887\"],[0.1111111111111111,\"#46039f\"],[0.2222222222222222,\"#7201a8\"],[0.3333333333333333,\"#9c179e\"],[0.4444444444444444,\"#bd3786\"],[0.5555555555555556,\"#d8576b\"],[0.6666666666666666,\"#ed7953\"],[0.7777777777777778,\"#fb9f3a\"],[0.8888888888888888,\"#fdca26\"],[1.0,\"#f0f921\"]],\"type\":\"surface\"}],\"table\":[{\"cells\":{\"fill\":{\"color\":\"#EBF0F8\"},\"line\":{\"color\":\"white\"}},\"header\":{\"fill\":{\"color\":\"#C8D4E3\"},\"line\":{\"color\":\"white\"}},\"type\":\"table\"}]},\"layout\":{\"annotationdefaults\":{\"arrowcolor\":\"#2a3f5f\",\"arrowhead\":0,\"arrowwidth\":1},\"autotypenumbers\":\"strict\",\"coloraxis\":{\"colorbar\":{\"outlinewidth\":0,\"ticks\":\"\"}},\"colorscale\":{\"diverging\":[[0,\"#8e0152\"],[0.1,\"#c51b7d\"],[0.2,\"#de77ae\"],[0.3,\"#f1b6da\"],[0.4,\"#fde0ef\"],[0.5,\"#f7f7f7\"],[0.6,\"#e6f5d0\"],[0.7,\"#b8e186\"],[0.8,\"#7fbc41\"],[0.9,\"#4d9221\"],[1,\"#276419\"]],\"sequential\":[[0.0,\"#0d0887\"],[0.1111111111111111,\"#46039f\"],[0.2222222222222222,\"#7201a8\"],[0.3333333333333333,\"#9c179e\"],[0.4444444444444444,\"#bd3786\"],[0.5555555555555556,\"#d8576b\"],[0.6666666666666666,\"#ed7953\"],[0.7777777777777778,\"#fb9f3a\"],[0.8888888888888888,\"#fdca26\"],[1.0,\"#f0f921\"]],\"sequentialminus\":[[0.0,\"#0d0887\"],[0.1111111111111111,\"#46039f\"],[0.2222222222222222,\"#7201a8\"],[0.3333333333333333,\"#9c179e\"],[0.4444444444444444,\"#bd3786\"],[0.5555555555555556,\"#d8576b\"],[0.6666666666666666,\"#ed7953\"],[0.7777777777777778,\"#fb9f3a\"],[0.8888888888888888,\"#fdca26\"],[1.0,\"#f0f921\"]]},\"colorway\":[\"#636efa\",\"#EF553B\",\"#00cc96\",\"#ab63fa\",\"#FFA15A\",\"#19d3f3\",\"#FF6692\",\"#B6E880\",\"#FF97FF\",\"#FECB52\"],\"font\":{\"color\":\"#2a3f5f\"},\"geo\":{\"bgcolor\":\"white\",\"lakecolor\":\"white\",\"landcolor\":\"#E5ECF6\",\"showlakes\":true,\"showland\":true,\"subunitcolor\":\"white\"},\"hoverlabel\":{\"align\":\"left\"},\"hovermode\":\"closest\",\"mapbox\":{\"style\":\"light\"},\"paper_bgcolor\":\"white\",\"plot_bgcolor\":\"#E5ECF6\",\"polar\":{\"angularaxis\":{\"gridcolor\":\"white\",\"linecolor\":\"white\",\"ticks\":\"\"},\"bgcolor\":\"#E5ECF6\",\"radialaxis\":{\"gridcolor\":\"white\",\"linecolor\":\"white\",\"ticks\":\"\"}},\"scene\":{\"xaxis\":{\"backgroundcolor\":\"#E5ECF6\",\"gridcolor\":\"white\",\"gridwidth\":2,\"linecolor\":\"white\",\"showbackground\":true,\"ticks\":\"\",\"zerolinecolor\":\"white\"},\"yaxis\":{\"backgroundcolor\":\"#E5ECF6\",\"gridcolor\":\"white\",\"gridwidth\":2,\"linecolor\":\"white\",\"showbackground\":true,\"ticks\":\"\",\"zerolinecolor\":\"white\"},\"zaxis\":{\"backgroundcolor\":\"#E5ECF6\",\"gridcolor\":\"white\",\"gridwidth\":2,\"linecolor\":\"white\",\"showbackground\":true,\"ticks\":\"\",\"zerolinecolor\":\"white\"}},\"shapedefaults\":{\"line\":{\"color\":\"#2a3f5f\"}},\"ternary\":{\"aaxis\":{\"gridcolor\":\"white\",\"linecolor\":\"white\",\"ticks\":\"\"},\"baxis\":{\"gridcolor\":\"white\",\"linecolor\":\"white\",\"ticks\":\"\"},\"bgcolor\":\"#E5ECF6\",\"caxis\":{\"gridcolor\":\"white\",\"linecolor\":\"white\",\"ticks\":\"\"}},\"title\":{\"x\":0.05},\"xaxis\":{\"automargin\":true,\"gridcolor\":\"white\",\"linecolor\":\"white\",\"ticks\":\"\",\"title\":{\"standoff\":15},\"zerolinecolor\":\"white\",\"zerolinewidth\":2},\"yaxis\":{\"automargin\":true,\"gridcolor\":\"white\",\"linecolor\":\"white\",\"ticks\":\"\",\"title\":{\"standoff\":15},\"zerolinecolor\":\"white\",\"zerolinewidth\":2}}},\"title\":{\"font\":{\"color\":\"#4D5663\"}},\"xaxis\":{\"gridcolor\":\"#E1E5ED\",\"showgrid\":true,\"tickfont\":{\"color\":\"#4D5663\"},\"title\":{\"font\":{\"color\":\"#4D5663\"},\"text\":\"\"},\"zerolinecolor\":\"#E1E5ED\"},\"yaxis\":{\"gridcolor\":\"#E1E5ED\",\"showgrid\":true,\"tickfont\":{\"color\":\"#4D5663\"},\"title\":{\"font\":{\"color\":\"#4D5663\"},\"text\":\"\"},\"zerolinecolor\":\"#E1E5ED\"}},                        {\"showLink\": true, \"linkText\": \"Export to plot.ly\", \"plotlyServerURL\": \"https://plot.ly\", \"responsive\": true}                    ).then(function(){\n",
       "                            \n",
       "var gd = document.getElementById('14a50687-0302-438a-adb1-1801f71489b1');\n",
       "var x = new MutationObserver(function (mutations, observer) {{\n",
       "        var display = window.getComputedStyle(gd).display;\n",
       "        if (!display || display === 'none') {{\n",
       "            console.log([gd, 'removed!']);\n",
       "            Plotly.purge(gd);\n",
       "            observer.disconnect();\n",
       "        }}\n",
       "}});\n",
       "\n",
       "// Listen for the removal of the full notebook cells\n",
       "var notebookContainer = gd.closest('#notebook-container');\n",
       "if (notebookContainer) {{\n",
       "    x.observe(notebookContainer, {childList: true});\n",
       "}}\n",
       "\n",
       "// Listen for the clearing of the current output cell\n",
       "var outputEl = gd.closest('.output');\n",
       "if (outputEl) {{\n",
       "    x.observe(outputEl, {childList: true});\n",
       "}}\n",
       "\n",
       "                        })                };                });            </script>        </div>"
      ]
     },
     "metadata": {},
     "output_type": "display_data"
    }
   ],
   "source": [
    "df2.iplot(kind='bar',x='Category',y='Values')"
   ]
  },
  {
   "cell_type": "code",
   "execution_count": 14,
   "metadata": {
    "collapsed": false
   },
   "outputs": [
    {
     "data": {
      "application/vnd.plotly.v1+json": {
       "config": {
        "linkText": "Export to plot.ly",
        "plotlyServerURL": "https://plot.ly",
        "showLink": true
       },
       "data": [
        {
         "marker": {
          "color": "rgba(255, 153, 51, 0.6)",
          "line": {
           "color": "rgba(255, 153, 51, 1.0)",
           "width": 1
          }
         },
         "name": "None",
         "orientation": "v",
         "text": "",
         "type": "bar",
         "x": [
          "A",
          "B",
          "C",
          "D"
         ],
         "y": [
          100,
          100,
          100,
          100
         ]
        }
       ],
       "layout": {
        "legend": {
         "bgcolor": "#F5F6F9",
         "font": {
          "color": "#4D5663"
         }
        },
        "paper_bgcolor": "#F5F6F9",
        "plot_bgcolor": "#F5F6F9",
        "template": {
         "data": {
          "bar": [
           {
            "error_x": {
             "color": "#2a3f5f"
            },
            "error_y": {
             "color": "#2a3f5f"
            },
            "marker": {
             "line": {
              "color": "#E5ECF6",
              "width": 0.5
             },
             "pattern": {
              "fillmode": "overlay",
              "size": 10,
              "solidity": 0.2
             }
            },
            "type": "bar"
           }
          ],
          "barpolar": [
           {
            "marker": {
             "line": {
              "color": "#E5ECF6",
              "width": 0.5
             },
             "pattern": {
              "fillmode": "overlay",
              "size": 10,
              "solidity": 0.2
             }
            },
            "type": "barpolar"
           }
          ],
          "carpet": [
           {
            "aaxis": {
             "endlinecolor": "#2a3f5f",
             "gridcolor": "white",
             "linecolor": "white",
             "minorgridcolor": "white",
             "startlinecolor": "#2a3f5f"
            },
            "baxis": {
             "endlinecolor": "#2a3f5f",
             "gridcolor": "white",
             "linecolor": "white",
             "minorgridcolor": "white",
             "startlinecolor": "#2a3f5f"
            },
            "type": "carpet"
           }
          ],
          "choropleth": [
           {
            "colorbar": {
             "outlinewidth": 0,
             "ticks": ""
            },
            "type": "choropleth"
           }
          ],
          "contour": [
           {
            "colorbar": {
             "outlinewidth": 0,
             "ticks": ""
            },
            "colorscale": [
             [
              0,
              "#0d0887"
             ],
             [
              0.1111111111111111,
              "#46039f"
             ],
             [
              0.2222222222222222,
              "#7201a8"
             ],
             [
              0.3333333333333333,
              "#9c179e"
             ],
             [
              0.4444444444444444,
              "#bd3786"
             ],
             [
              0.5555555555555556,
              "#d8576b"
             ],
             [
              0.6666666666666666,
              "#ed7953"
             ],
             [
              0.7777777777777778,
              "#fb9f3a"
             ],
             [
              0.8888888888888888,
              "#fdca26"
             ],
             [
              1,
              "#f0f921"
             ]
            ],
            "type": "contour"
           }
          ],
          "contourcarpet": [
           {
            "colorbar": {
             "outlinewidth": 0,
             "ticks": ""
            },
            "type": "contourcarpet"
           }
          ],
          "heatmap": [
           {
            "colorbar": {
             "outlinewidth": 0,
             "ticks": ""
            },
            "colorscale": [
             [
              0,
              "#0d0887"
             ],
             [
              0.1111111111111111,
              "#46039f"
             ],
             [
              0.2222222222222222,
              "#7201a8"
             ],
             [
              0.3333333333333333,
              "#9c179e"
             ],
             [
              0.4444444444444444,
              "#bd3786"
             ],
             [
              0.5555555555555556,
              "#d8576b"
             ],
             [
              0.6666666666666666,
              "#ed7953"
             ],
             [
              0.7777777777777778,
              "#fb9f3a"
             ],
             [
              0.8888888888888888,
              "#fdca26"
             ],
             [
              1,
              "#f0f921"
             ]
            ],
            "type": "heatmap"
           }
          ],
          "heatmapgl": [
           {
            "colorbar": {
             "outlinewidth": 0,
             "ticks": ""
            },
            "colorscale": [
             [
              0,
              "#0d0887"
             ],
             [
              0.1111111111111111,
              "#46039f"
             ],
             [
              0.2222222222222222,
              "#7201a8"
             ],
             [
              0.3333333333333333,
              "#9c179e"
             ],
             [
              0.4444444444444444,
              "#bd3786"
             ],
             [
              0.5555555555555556,
              "#d8576b"
             ],
             [
              0.6666666666666666,
              "#ed7953"
             ],
             [
              0.7777777777777778,
              "#fb9f3a"
             ],
             [
              0.8888888888888888,
              "#fdca26"
             ],
             [
              1,
              "#f0f921"
             ]
            ],
            "type": "heatmapgl"
           }
          ],
          "histogram": [
           {
            "marker": {
             "pattern": {
              "fillmode": "overlay",
              "size": 10,
              "solidity": 0.2
             }
            },
            "type": "histogram"
           }
          ],
          "histogram2d": [
           {
            "colorbar": {
             "outlinewidth": 0,
             "ticks": ""
            },
            "colorscale": [
             [
              0,
              "#0d0887"
             ],
             [
              0.1111111111111111,
              "#46039f"
             ],
             [
              0.2222222222222222,
              "#7201a8"
             ],
             [
              0.3333333333333333,
              "#9c179e"
             ],
             [
              0.4444444444444444,
              "#bd3786"
             ],
             [
              0.5555555555555556,
              "#d8576b"
             ],
             [
              0.6666666666666666,
              "#ed7953"
             ],
             [
              0.7777777777777778,
              "#fb9f3a"
             ],
             [
              0.8888888888888888,
              "#fdca26"
             ],
             [
              1,
              "#f0f921"
             ]
            ],
            "type": "histogram2d"
           }
          ],
          "histogram2dcontour": [
           {
            "colorbar": {
             "outlinewidth": 0,
             "ticks": ""
            },
            "colorscale": [
             [
              0,
              "#0d0887"
             ],
             [
              0.1111111111111111,
              "#46039f"
             ],
             [
              0.2222222222222222,
              "#7201a8"
             ],
             [
              0.3333333333333333,
              "#9c179e"
             ],
             [
              0.4444444444444444,
              "#bd3786"
             ],
             [
              0.5555555555555556,
              "#d8576b"
             ],
             [
              0.6666666666666666,
              "#ed7953"
             ],
             [
              0.7777777777777778,
              "#fb9f3a"
             ],
             [
              0.8888888888888888,
              "#fdca26"
             ],
             [
              1,
              "#f0f921"
             ]
            ],
            "type": "histogram2dcontour"
           }
          ],
          "mesh3d": [
           {
            "colorbar": {
             "outlinewidth": 0,
             "ticks": ""
            },
            "type": "mesh3d"
           }
          ],
          "parcoords": [
           {
            "line": {
             "colorbar": {
              "outlinewidth": 0,
              "ticks": ""
             }
            },
            "type": "parcoords"
           }
          ],
          "pie": [
           {
            "automargin": true,
            "type": "pie"
           }
          ],
          "scatter": [
           {
            "fillpattern": {
             "fillmode": "overlay",
             "size": 10,
             "solidity": 0.2
            },
            "type": "scatter"
           }
          ],
          "scatter3d": [
           {
            "line": {
             "colorbar": {
              "outlinewidth": 0,
              "ticks": ""
             }
            },
            "marker": {
             "colorbar": {
              "outlinewidth": 0,
              "ticks": ""
             }
            },
            "type": "scatter3d"
           }
          ],
          "scattercarpet": [
           {
            "marker": {
             "colorbar": {
              "outlinewidth": 0,
              "ticks": ""
             }
            },
            "type": "scattercarpet"
           }
          ],
          "scattergeo": [
           {
            "marker": {
             "colorbar": {
              "outlinewidth": 0,
              "ticks": ""
             }
            },
            "type": "scattergeo"
           }
          ],
          "scattergl": [
           {
            "marker": {
             "colorbar": {
              "outlinewidth": 0,
              "ticks": ""
             }
            },
            "type": "scattergl"
           }
          ],
          "scattermapbox": [
           {
            "marker": {
             "colorbar": {
              "outlinewidth": 0,
              "ticks": ""
             }
            },
            "type": "scattermapbox"
           }
          ],
          "scatterpolar": [
           {
            "marker": {
             "colorbar": {
              "outlinewidth": 0,
              "ticks": ""
             }
            },
            "type": "scatterpolar"
           }
          ],
          "scatterpolargl": [
           {
            "marker": {
             "colorbar": {
              "outlinewidth": 0,
              "ticks": ""
             }
            },
            "type": "scatterpolargl"
           }
          ],
          "scatterternary": [
           {
            "marker": {
             "colorbar": {
              "outlinewidth": 0,
              "ticks": ""
             }
            },
            "type": "scatterternary"
           }
          ],
          "surface": [
           {
            "colorbar": {
             "outlinewidth": 0,
             "ticks": ""
            },
            "colorscale": [
             [
              0,
              "#0d0887"
             ],
             [
              0.1111111111111111,
              "#46039f"
             ],
             [
              0.2222222222222222,
              "#7201a8"
             ],
             [
              0.3333333333333333,
              "#9c179e"
             ],
             [
              0.4444444444444444,
              "#bd3786"
             ],
             [
              0.5555555555555556,
              "#d8576b"
             ],
             [
              0.6666666666666666,
              "#ed7953"
             ],
             [
              0.7777777777777778,
              "#fb9f3a"
             ],
             [
              0.8888888888888888,
              "#fdca26"
             ],
             [
              1,
              "#f0f921"
             ]
            ],
            "type": "surface"
           }
          ],
          "table": [
           {
            "cells": {
             "fill": {
              "color": "#EBF0F8"
             },
             "line": {
              "color": "white"
             }
            },
            "header": {
             "fill": {
              "color": "#C8D4E3"
             },
             "line": {
              "color": "white"
             }
            },
            "type": "table"
           }
          ]
         },
         "layout": {
          "annotationdefaults": {
           "arrowcolor": "#2a3f5f",
           "arrowhead": 0,
           "arrowwidth": 1
          },
          "autotypenumbers": "strict",
          "coloraxis": {
           "colorbar": {
            "outlinewidth": 0,
            "ticks": ""
           }
          },
          "colorscale": {
           "diverging": [
            [
             0,
             "#8e0152"
            ],
            [
             0.1,
             "#c51b7d"
            ],
            [
             0.2,
             "#de77ae"
            ],
            [
             0.3,
             "#f1b6da"
            ],
            [
             0.4,
             "#fde0ef"
            ],
            [
             0.5,
             "#f7f7f7"
            ],
            [
             0.6,
             "#e6f5d0"
            ],
            [
             0.7,
             "#b8e186"
            ],
            [
             0.8,
             "#7fbc41"
            ],
            [
             0.9,
             "#4d9221"
            ],
            [
             1,
             "#276419"
            ]
           ],
           "sequential": [
            [
             0,
             "#0d0887"
            ],
            [
             0.1111111111111111,
             "#46039f"
            ],
            [
             0.2222222222222222,
             "#7201a8"
            ],
            [
             0.3333333333333333,
             "#9c179e"
            ],
            [
             0.4444444444444444,
             "#bd3786"
            ],
            [
             0.5555555555555556,
             "#d8576b"
            ],
            [
             0.6666666666666666,
             "#ed7953"
            ],
            [
             0.7777777777777778,
             "#fb9f3a"
            ],
            [
             0.8888888888888888,
             "#fdca26"
            ],
            [
             1,
             "#f0f921"
            ]
           ],
           "sequentialminus": [
            [
             0,
             "#0d0887"
            ],
            [
             0.1111111111111111,
             "#46039f"
            ],
            [
             0.2222222222222222,
             "#7201a8"
            ],
            [
             0.3333333333333333,
             "#9c179e"
            ],
            [
             0.4444444444444444,
             "#bd3786"
            ],
            [
             0.5555555555555556,
             "#d8576b"
            ],
            [
             0.6666666666666666,
             "#ed7953"
            ],
            [
             0.7777777777777778,
             "#fb9f3a"
            ],
            [
             0.8888888888888888,
             "#fdca26"
            ],
            [
             1,
             "#f0f921"
            ]
           ]
          },
          "colorway": [
           "#636efa",
           "#EF553B",
           "#00cc96",
           "#ab63fa",
           "#FFA15A",
           "#19d3f3",
           "#FF6692",
           "#B6E880",
           "#FF97FF",
           "#FECB52"
          ],
          "font": {
           "color": "#2a3f5f"
          },
          "geo": {
           "bgcolor": "white",
           "lakecolor": "white",
           "landcolor": "#E5ECF6",
           "showlakes": true,
           "showland": true,
           "subunitcolor": "white"
          },
          "hoverlabel": {
           "align": "left"
          },
          "hovermode": "closest",
          "mapbox": {
           "style": "light"
          },
          "paper_bgcolor": "white",
          "plot_bgcolor": "#E5ECF6",
          "polar": {
           "angularaxis": {
            "gridcolor": "white",
            "linecolor": "white",
            "ticks": ""
           },
           "bgcolor": "#E5ECF6",
           "radialaxis": {
            "gridcolor": "white",
            "linecolor": "white",
            "ticks": ""
           }
          },
          "scene": {
           "xaxis": {
            "backgroundcolor": "#E5ECF6",
            "gridcolor": "white",
            "gridwidth": 2,
            "linecolor": "white",
            "showbackground": true,
            "ticks": "",
            "zerolinecolor": "white"
           },
           "yaxis": {
            "backgroundcolor": "#E5ECF6",
            "gridcolor": "white",
            "gridwidth": 2,
            "linecolor": "white",
            "showbackground": true,
            "ticks": "",
            "zerolinecolor": "white"
           },
           "zaxis": {
            "backgroundcolor": "#E5ECF6",
            "gridcolor": "white",
            "gridwidth": 2,
            "linecolor": "white",
            "showbackground": true,
            "ticks": "",
            "zerolinecolor": "white"
           }
          },
          "shapedefaults": {
           "line": {
            "color": "#2a3f5f"
           }
          },
          "ternary": {
           "aaxis": {
            "gridcolor": "white",
            "linecolor": "white",
            "ticks": ""
           },
           "baxis": {
            "gridcolor": "white",
            "linecolor": "white",
            "ticks": ""
           },
           "bgcolor": "#E5ECF6",
           "caxis": {
            "gridcolor": "white",
            "linecolor": "white",
            "ticks": ""
           }
          },
          "title": {
           "x": 0.05
          },
          "xaxis": {
           "automargin": true,
           "gridcolor": "white",
           "linecolor": "white",
           "ticks": "",
           "title": {
            "standoff": 15
           },
           "zerolinecolor": "white",
           "zerolinewidth": 2
          },
          "yaxis": {
           "automargin": true,
           "gridcolor": "white",
           "linecolor": "white",
           "ticks": "",
           "title": {
            "standoff": 15
           },
           "zerolinecolor": "white",
           "zerolinewidth": 2
          }
         }
        },
        "title": {
         "font": {
          "color": "#4D5663"
         }
        },
        "xaxis": {
         "gridcolor": "#E1E5ED",
         "showgrid": true,
         "tickfont": {
          "color": "#4D5663"
         },
         "title": {
          "font": {
           "color": "#4D5663"
          },
          "text": ""
         },
         "zerolinecolor": "#E1E5ED"
        },
        "yaxis": {
         "gridcolor": "#E1E5ED",
         "showgrid": true,
         "tickfont": {
          "color": "#4D5663"
         },
         "title": {
          "font": {
           "color": "#4D5663"
          },
          "text": ""
         },
         "zerolinecolor": "#E1E5ED"
        }
       }
      },
      "text/html": [
       "<div>                            <div id=\"4b6265b5-1f46-4040-bc0e-7856f503e51b\" class=\"plotly-graph-div\" style=\"height:525px; width:100%;\"></div>            <script type=\"text/javascript\">                require([\"plotly\"], function(Plotly) {                    window.PLOTLYENV=window.PLOTLYENV || {};\n",
       "                    window.PLOTLYENV.BASE_URL='https://plot.ly';                                    if (document.getElementById(\"4b6265b5-1f46-4040-bc0e-7856f503e51b\")) {                    Plotly.newPlot(                        \"4b6265b5-1f46-4040-bc0e-7856f503e51b\",                        [{\"marker\":{\"color\":\"rgba(255, 153, 51, 0.6)\",\"line\":{\"color\":\"rgba(255, 153, 51, 1.0)\",\"width\":1}},\"name\":\"None\",\"orientation\":\"v\",\"text\":\"\",\"x\":[\"A\",\"B\",\"C\",\"D\"],\"y\":[100,100,100,100],\"type\":\"bar\"}],                        {\"legend\":{\"bgcolor\":\"#F5F6F9\",\"font\":{\"color\":\"#4D5663\"}},\"paper_bgcolor\":\"#F5F6F9\",\"plot_bgcolor\":\"#F5F6F9\",\"template\":{\"data\":{\"barpolar\":[{\"marker\":{\"line\":{\"color\":\"#E5ECF6\",\"width\":0.5},\"pattern\":{\"fillmode\":\"overlay\",\"size\":10,\"solidity\":0.2}},\"type\":\"barpolar\"}],\"bar\":[{\"error_x\":{\"color\":\"#2a3f5f\"},\"error_y\":{\"color\":\"#2a3f5f\"},\"marker\":{\"line\":{\"color\":\"#E5ECF6\",\"width\":0.5},\"pattern\":{\"fillmode\":\"overlay\",\"size\":10,\"solidity\":0.2}},\"type\":\"bar\"}],\"carpet\":[{\"aaxis\":{\"endlinecolor\":\"#2a3f5f\",\"gridcolor\":\"white\",\"linecolor\":\"white\",\"minorgridcolor\":\"white\",\"startlinecolor\":\"#2a3f5f\"},\"baxis\":{\"endlinecolor\":\"#2a3f5f\",\"gridcolor\":\"white\",\"linecolor\":\"white\",\"minorgridcolor\":\"white\",\"startlinecolor\":\"#2a3f5f\"},\"type\":\"carpet\"}],\"choropleth\":[{\"colorbar\":{\"outlinewidth\":0,\"ticks\":\"\"},\"type\":\"choropleth\"}],\"contourcarpet\":[{\"colorbar\":{\"outlinewidth\":0,\"ticks\":\"\"},\"type\":\"contourcarpet\"}],\"contour\":[{\"colorbar\":{\"outlinewidth\":0,\"ticks\":\"\"},\"colorscale\":[[0.0,\"#0d0887\"],[0.1111111111111111,\"#46039f\"],[0.2222222222222222,\"#7201a8\"],[0.3333333333333333,\"#9c179e\"],[0.4444444444444444,\"#bd3786\"],[0.5555555555555556,\"#d8576b\"],[0.6666666666666666,\"#ed7953\"],[0.7777777777777778,\"#fb9f3a\"],[0.8888888888888888,\"#fdca26\"],[1.0,\"#f0f921\"]],\"type\":\"contour\"}],\"heatmapgl\":[{\"colorbar\":{\"outlinewidth\":0,\"ticks\":\"\"},\"colorscale\":[[0.0,\"#0d0887\"],[0.1111111111111111,\"#46039f\"],[0.2222222222222222,\"#7201a8\"],[0.3333333333333333,\"#9c179e\"],[0.4444444444444444,\"#bd3786\"],[0.5555555555555556,\"#d8576b\"],[0.6666666666666666,\"#ed7953\"],[0.7777777777777778,\"#fb9f3a\"],[0.8888888888888888,\"#fdca26\"],[1.0,\"#f0f921\"]],\"type\":\"heatmapgl\"}],\"heatmap\":[{\"colorbar\":{\"outlinewidth\":0,\"ticks\":\"\"},\"colorscale\":[[0.0,\"#0d0887\"],[0.1111111111111111,\"#46039f\"],[0.2222222222222222,\"#7201a8\"],[0.3333333333333333,\"#9c179e\"],[0.4444444444444444,\"#bd3786\"],[0.5555555555555556,\"#d8576b\"],[0.6666666666666666,\"#ed7953\"],[0.7777777777777778,\"#fb9f3a\"],[0.8888888888888888,\"#fdca26\"],[1.0,\"#f0f921\"]],\"type\":\"heatmap\"}],\"histogram2dcontour\":[{\"colorbar\":{\"outlinewidth\":0,\"ticks\":\"\"},\"colorscale\":[[0.0,\"#0d0887\"],[0.1111111111111111,\"#46039f\"],[0.2222222222222222,\"#7201a8\"],[0.3333333333333333,\"#9c179e\"],[0.4444444444444444,\"#bd3786\"],[0.5555555555555556,\"#d8576b\"],[0.6666666666666666,\"#ed7953\"],[0.7777777777777778,\"#fb9f3a\"],[0.8888888888888888,\"#fdca26\"],[1.0,\"#f0f921\"]],\"type\":\"histogram2dcontour\"}],\"histogram2d\":[{\"colorbar\":{\"outlinewidth\":0,\"ticks\":\"\"},\"colorscale\":[[0.0,\"#0d0887\"],[0.1111111111111111,\"#46039f\"],[0.2222222222222222,\"#7201a8\"],[0.3333333333333333,\"#9c179e\"],[0.4444444444444444,\"#bd3786\"],[0.5555555555555556,\"#d8576b\"],[0.6666666666666666,\"#ed7953\"],[0.7777777777777778,\"#fb9f3a\"],[0.8888888888888888,\"#fdca26\"],[1.0,\"#f0f921\"]],\"type\":\"histogram2d\"}],\"histogram\":[{\"marker\":{\"pattern\":{\"fillmode\":\"overlay\",\"size\":10,\"solidity\":0.2}},\"type\":\"histogram\"}],\"mesh3d\":[{\"colorbar\":{\"outlinewidth\":0,\"ticks\":\"\"},\"type\":\"mesh3d\"}],\"parcoords\":[{\"line\":{\"colorbar\":{\"outlinewidth\":0,\"ticks\":\"\"}},\"type\":\"parcoords\"}],\"pie\":[{\"automargin\":true,\"type\":\"pie\"}],\"scatter3d\":[{\"line\":{\"colorbar\":{\"outlinewidth\":0,\"ticks\":\"\"}},\"marker\":{\"colorbar\":{\"outlinewidth\":0,\"ticks\":\"\"}},\"type\":\"scatter3d\"}],\"scattercarpet\":[{\"marker\":{\"colorbar\":{\"outlinewidth\":0,\"ticks\":\"\"}},\"type\":\"scattercarpet\"}],\"scattergeo\":[{\"marker\":{\"colorbar\":{\"outlinewidth\":0,\"ticks\":\"\"}},\"type\":\"scattergeo\"}],\"scattergl\":[{\"marker\":{\"colorbar\":{\"outlinewidth\":0,\"ticks\":\"\"}},\"type\":\"scattergl\"}],\"scattermapbox\":[{\"marker\":{\"colorbar\":{\"outlinewidth\":0,\"ticks\":\"\"}},\"type\":\"scattermapbox\"}],\"scatterpolargl\":[{\"marker\":{\"colorbar\":{\"outlinewidth\":0,\"ticks\":\"\"}},\"type\":\"scatterpolargl\"}],\"scatterpolar\":[{\"marker\":{\"colorbar\":{\"outlinewidth\":0,\"ticks\":\"\"}},\"type\":\"scatterpolar\"}],\"scatter\":[{\"fillpattern\":{\"fillmode\":\"overlay\",\"size\":10,\"solidity\":0.2},\"type\":\"scatter\"}],\"scatterternary\":[{\"marker\":{\"colorbar\":{\"outlinewidth\":0,\"ticks\":\"\"}},\"type\":\"scatterternary\"}],\"surface\":[{\"colorbar\":{\"outlinewidth\":0,\"ticks\":\"\"},\"colorscale\":[[0.0,\"#0d0887\"],[0.1111111111111111,\"#46039f\"],[0.2222222222222222,\"#7201a8\"],[0.3333333333333333,\"#9c179e\"],[0.4444444444444444,\"#bd3786\"],[0.5555555555555556,\"#d8576b\"],[0.6666666666666666,\"#ed7953\"],[0.7777777777777778,\"#fb9f3a\"],[0.8888888888888888,\"#fdca26\"],[1.0,\"#f0f921\"]],\"type\":\"surface\"}],\"table\":[{\"cells\":{\"fill\":{\"color\":\"#EBF0F8\"},\"line\":{\"color\":\"white\"}},\"header\":{\"fill\":{\"color\":\"#C8D4E3\"},\"line\":{\"color\":\"white\"}},\"type\":\"table\"}]},\"layout\":{\"annotationdefaults\":{\"arrowcolor\":\"#2a3f5f\",\"arrowhead\":0,\"arrowwidth\":1},\"autotypenumbers\":\"strict\",\"coloraxis\":{\"colorbar\":{\"outlinewidth\":0,\"ticks\":\"\"}},\"colorscale\":{\"diverging\":[[0,\"#8e0152\"],[0.1,\"#c51b7d\"],[0.2,\"#de77ae\"],[0.3,\"#f1b6da\"],[0.4,\"#fde0ef\"],[0.5,\"#f7f7f7\"],[0.6,\"#e6f5d0\"],[0.7,\"#b8e186\"],[0.8,\"#7fbc41\"],[0.9,\"#4d9221\"],[1,\"#276419\"]],\"sequential\":[[0.0,\"#0d0887\"],[0.1111111111111111,\"#46039f\"],[0.2222222222222222,\"#7201a8\"],[0.3333333333333333,\"#9c179e\"],[0.4444444444444444,\"#bd3786\"],[0.5555555555555556,\"#d8576b\"],[0.6666666666666666,\"#ed7953\"],[0.7777777777777778,\"#fb9f3a\"],[0.8888888888888888,\"#fdca26\"],[1.0,\"#f0f921\"]],\"sequentialminus\":[[0.0,\"#0d0887\"],[0.1111111111111111,\"#46039f\"],[0.2222222222222222,\"#7201a8\"],[0.3333333333333333,\"#9c179e\"],[0.4444444444444444,\"#bd3786\"],[0.5555555555555556,\"#d8576b\"],[0.6666666666666666,\"#ed7953\"],[0.7777777777777778,\"#fb9f3a\"],[0.8888888888888888,\"#fdca26\"],[1.0,\"#f0f921\"]]},\"colorway\":[\"#636efa\",\"#EF553B\",\"#00cc96\",\"#ab63fa\",\"#FFA15A\",\"#19d3f3\",\"#FF6692\",\"#B6E880\",\"#FF97FF\",\"#FECB52\"],\"font\":{\"color\":\"#2a3f5f\"},\"geo\":{\"bgcolor\":\"white\",\"lakecolor\":\"white\",\"landcolor\":\"#E5ECF6\",\"showlakes\":true,\"showland\":true,\"subunitcolor\":\"white\"},\"hoverlabel\":{\"align\":\"left\"},\"hovermode\":\"closest\",\"mapbox\":{\"style\":\"light\"},\"paper_bgcolor\":\"white\",\"plot_bgcolor\":\"#E5ECF6\",\"polar\":{\"angularaxis\":{\"gridcolor\":\"white\",\"linecolor\":\"white\",\"ticks\":\"\"},\"bgcolor\":\"#E5ECF6\",\"radialaxis\":{\"gridcolor\":\"white\",\"linecolor\":\"white\",\"ticks\":\"\"}},\"scene\":{\"xaxis\":{\"backgroundcolor\":\"#E5ECF6\",\"gridcolor\":\"white\",\"gridwidth\":2,\"linecolor\":\"white\",\"showbackground\":true,\"ticks\":\"\",\"zerolinecolor\":\"white\"},\"yaxis\":{\"backgroundcolor\":\"#E5ECF6\",\"gridcolor\":\"white\",\"gridwidth\":2,\"linecolor\":\"white\",\"showbackground\":true,\"ticks\":\"\",\"zerolinecolor\":\"white\"},\"zaxis\":{\"backgroundcolor\":\"#E5ECF6\",\"gridcolor\":\"white\",\"gridwidth\":2,\"linecolor\":\"white\",\"showbackground\":true,\"ticks\":\"\",\"zerolinecolor\":\"white\"}},\"shapedefaults\":{\"line\":{\"color\":\"#2a3f5f\"}},\"ternary\":{\"aaxis\":{\"gridcolor\":\"white\",\"linecolor\":\"white\",\"ticks\":\"\"},\"baxis\":{\"gridcolor\":\"white\",\"linecolor\":\"white\",\"ticks\":\"\"},\"bgcolor\":\"#E5ECF6\",\"caxis\":{\"gridcolor\":\"white\",\"linecolor\":\"white\",\"ticks\":\"\"}},\"title\":{\"x\":0.05},\"xaxis\":{\"automargin\":true,\"gridcolor\":\"white\",\"linecolor\":\"white\",\"ticks\":\"\",\"title\":{\"standoff\":15},\"zerolinecolor\":\"white\",\"zerolinewidth\":2},\"yaxis\":{\"automargin\":true,\"gridcolor\":\"white\",\"linecolor\":\"white\",\"ticks\":\"\",\"title\":{\"standoff\":15},\"zerolinecolor\":\"white\",\"zerolinewidth\":2}}},\"title\":{\"font\":{\"color\":\"#4D5663\"}},\"xaxis\":{\"gridcolor\":\"#E1E5ED\",\"showgrid\":true,\"tickfont\":{\"color\":\"#4D5663\"},\"title\":{\"font\":{\"color\":\"#4D5663\"},\"text\":\"\"},\"zerolinecolor\":\"#E1E5ED\"},\"yaxis\":{\"gridcolor\":\"#E1E5ED\",\"showgrid\":true,\"tickfont\":{\"color\":\"#4D5663\"},\"title\":{\"font\":{\"color\":\"#4D5663\"},\"text\":\"\"},\"zerolinecolor\":\"#E1E5ED\"}},                        {\"showLink\": true, \"linkText\": \"Export to plot.ly\", \"plotlyServerURL\": \"https://plot.ly\", \"responsive\": true}                    ).then(function(){\n",
       "                            \n",
       "var gd = document.getElementById('4b6265b5-1f46-4040-bc0e-7856f503e51b');\n",
       "var x = new MutationObserver(function (mutations, observer) {{\n",
       "        var display = window.getComputedStyle(gd).display;\n",
       "        if (!display || display === 'none') {{\n",
       "            console.log([gd, 'removed!']);\n",
       "            Plotly.purge(gd);\n",
       "            observer.disconnect();\n",
       "        }}\n",
       "}});\n",
       "\n",
       "// Listen for the removal of the full notebook cells\n",
       "var notebookContainer = gd.closest('#notebook-container');\n",
       "if (notebookContainer) {{\n",
       "    x.observe(notebookContainer, {childList: true});\n",
       "}}\n",
       "\n",
       "// Listen for the clearing of the current output cell\n",
       "var outputEl = gd.closest('.output');\n",
       "if (outputEl) {{\n",
       "    x.observe(outputEl, {childList: true});\n",
       "}}\n",
       "\n",
       "                        })                };                });            </script>        </div>"
      ]
     },
     "metadata": {},
     "output_type": "display_data"
    }
   ],
   "source": [
    "df.count().iplot(kind='bar')"
   ]
  },
  {
   "cell_type": "markdown",
   "metadata": {},
   "source": [
    "## Boxplots"
   ]
  },
  {
   "cell_type": "code",
   "execution_count": 15,
   "metadata": {
    "collapsed": false
   },
   "outputs": [
    {
     "data": {
      "application/vnd.plotly.v1+json": {
       "config": {
        "linkText": "Export to plot.ly",
        "plotlyServerURL": "https://plot.ly",
        "showLink": true
       },
       "data": [
        {
         "boxpoints": false,
         "line": {
          "width": 1.3
         },
         "marker": {
          "color": "rgba(255, 153, 51, 1.0)"
         },
         "name": "A",
         "orientation": "v",
         "type": "box",
         "y": [
          -0.3398988896464808,
          -1.6320219123904456,
          1.0833580654835377,
          -0.5221441697533774,
          1.8870577989950417,
          -0.1519022894899191,
          1.738502057334876,
          1.7056108965703825,
          -0.6441517480790271,
          1.446088337377909,
          -0.40837595317937014,
          -0.3845503118092821,
          -1.1751265443795977,
          0.3867803121745835,
          -0.7426482243780839,
          -0.43683293687948244,
          -0.5088760710426806,
          -1.8543028311017542,
          -0.6332326401681622,
          0.1462914660828161,
          0.8830579721724487,
          0.3971948472370433,
          -1.1204484108009625,
          0.40106396407362593,
          -0.4067665034368915,
          0.47737803056416306,
          -1.9370437378754735,
          0.7292434252915854,
          -0.9651293257767154,
          -0.19170860679186263,
          -1.7686489673158163,
          -0.2537637565216562,
          0.6425981649526561,
          -1.0591476195161171,
          1.0667946528907304,
          -0.39160597886280846,
          -1.4037276993584953,
          1.8542164451445762,
          -1.0897874477601286,
          -0.6166742828751661,
          1.0275457033922706,
          -0.6551011328439404,
          -1.9316441131174051,
          0.8954051917268987,
          -0.929859420870943,
          -2.6074766673535854,
          -0.3260344298623395,
          -2.0670868762703063,
          0.09550434985732024,
          -0.5773800461329046,
          0.6547371662725984,
          -0.02746341612035001,
          1.0210359693291602,
          0.7901461323588164,
          0.15550268839189296,
          0.06477080315932901,
          -0.3876351988405084,
          -0.2589635071591233,
          0.610293410412037,
          0.35704353940696576,
          0.004869934166238935,
          2.084087092727924,
          0.44549222902202584,
          -0.8300681314305705,
          0.380011831731752,
          0.033614054409343785,
          0.2676525442637065,
          0.7269584845831824,
          1.1340583727418463,
          1.2306196535659573,
          0.3989981915062393,
          -0.020588125991491804,
          -0.590085318221706,
          0.7094993217735794,
          -0.07682209611761445,
          1.132665491703427,
          0.49475019050692304,
          -0.13891134715709394,
          -1.07586707290558,
          0.4441980300520878,
          -1.4868717602776649,
          -2.5060290067500364,
          1.8586312192790821,
          2.0462249338926135,
          -2.0116341336398333,
          1.2762416640493945,
          0.463117861856559,
          -0.6091834606663771,
          -0.752894001502793,
          0.3475782028223775,
          0.17383952520650456,
          -0.794650830102094,
          -0.10028232258399258,
          -1.7467047199059293,
          0.8942392582127465,
          0.6040802134291302,
          0.2699602012812688,
          1.8279522592497466,
          -0.4637391036140166,
          1.0973521416489043
         ]
        },
        {
         "boxpoints": false,
         "line": {
          "width": 1.3
         },
         "marker": {
          "color": "rgba(55, 128, 191, 1.0)"
         },
         "name": "B",
         "orientation": "v",
         "type": "box",
         "y": [
          1.1982473059308325,
          1.6356636244629494,
          -0.8905655629472256,
          -1.807838351873487,
          0.8059253931077515,
          0.35179663251839494,
          3.286566911427533,
          2.8856879704436356,
          -1.6302195439392437,
          -0.46559364417373905,
          0.5722312952267994,
          0.13493420680389276,
          -0.042561264746407916,
          -1.3888743215255817,
          -1.0400399241781164,
          -0.12167381490054667,
          -0.7290940015517252,
          -0.09889921265528098,
          -0.3312005457673756,
          0.5261642154537874,
          0.6682052848327581,
          0.35916570838529577,
          -0.19295278672651348,
          1.1220259215142658,
          -0.5462425995736458,
          -0.3925935589237412,
          0.169345302240433,
          -1.7922818269161258,
          1.8628476133897467,
          -0.5340917673987183,
          0.04344248660006066,
          2.277202365749576,
          -0.25663557433485684,
          -1.1153026316907826,
          -0.7784819485526674,
          -0.27000384523590626,
          0.4977305798284601,
          1.4767340668012499,
          -0.3632677807686293,
          -1.5302748335828096,
          0.7467921741550148,
          -2.2970024424818507,
          -1.4460996582475492,
          -2.106907488696165,
          1.298016626562994,
          -0.324365394283865,
          -0.1449205658054919,
          0.12792883571809066,
          -0.08380256741136723,
          0.5187857885798648,
          -0.2776577943424909,
          -2.4766660149823316,
          0.875350737970101,
          0.5505238029568075,
          0.6035147525603715,
          -0.639981438984545,
          0.5973527193033242,
          -0.4392231849559408,
          1.2362135230485218,
          2.067677929479437,
          0.6375611227756837,
          -0.29871600887110944,
          0.2134919337824578,
          -0.5394598871410751,
          -0.3347505316342336,
          0.0801216955297691,
          -0.042805121119385926,
          0.37368049305987766,
          -0.3219801945746798,
          -0.4208666241915466,
          -0.4979873718658901,
          0.005609253028819707,
          0.03608464305536002,
          -0.029992147476621468,
          0.142788839251483,
          0.10275057800983606,
          -0.7223937306717052,
          -1.31611367941755,
          0.11682713512843675,
          0.36508224033026243,
          0.016701958707791845,
          0.22698760232656448,
          1.5465654668606335,
          -0.39381887564259743,
          1.142054801169338,
          1.2133216968804088,
          -0.5278164628670937,
          1.4884792811106382,
          -0.951696847783406,
          1.7120260108326464,
          -0.1454210212980894,
          0.7729670349626565,
          -1.398599836046639,
          0.2936544015837765,
          -1.4724797978802802,
          -1.152984289788025,
          -0.4244596261425564,
          0.35510940547754,
          1.1863954719576226,
          0.7641118974979407
         ]
        },
        {
         "boxpoints": false,
         "line": {
          "width": 1.3
         },
         "marker": {
          "color": "rgba(50, 171, 96, 1.0)"
         },
         "name": "C",
         "orientation": "v",
         "type": "box",
         "y": [
          0.1320759122455077,
          -0.04444424433177913,
          2.6585681121160922,
          0.3174800749607619,
          1.654359355438138,
          -0.6732701057926693,
          0.6361285686969663,
          -0.2451885959321246,
          -0.3314462347253053,
          0.3802969653490417,
          -1.7223806520139417,
          1.442167007934898,
          -1.177226112601706,
          -0.7321322627771829,
          -0.9548570607452044,
          -0.3635421281270355,
          -0.09628493714209976,
          0.7248668891529634,
          -0.39568706100878676,
          -0.4079615038661267,
          -0.6290513126106057,
          0.5580161889769741,
          1.068536165516149,
          1.1133527811753148,
          1.7994243459760668,
          0.29646904639819277,
          -0.6372995452114765,
          -0.26728521908326697,
          2.23028609817543,
          1.1797729334637708,
          1.275159327922166,
          -1.195901028112852,
          0.06445629351612976,
          -0.039466561765940954,
          -0.4295291479021976,
          1.0118396725120664,
          -0.9019718566983405,
          0.22083201477157846,
          0.04904930900498299,
          0.14701746599061263,
          -0.26563843558056954,
          -1.6234615369066359,
          1.859227722720208,
          -1.3893557603150164,
          0.056429355056207386,
          -1.5974864392899208,
          0.02485207450433001,
          -0.496205985444526,
          2.0668381018242794,
          0.6226740122092347,
          -2.077490400736509,
          0.4408991383440806,
          0.44774077327389555,
          0.28644799307103813,
          -1.5671574054913588,
          1.5090595853773114,
          0.6199971372861851,
          -0.28188991184088036,
          0.05236364002779333,
          -0.6050293620259407,
          -1.4416773512957197,
          0.6095514283064996,
          -1.1796228138285,
          -0.7195189127582756,
          -0.20939639161807388,
          -0.9750939526811694,
          1.380785553315133,
          0.2123680746554314,
          -0.6149438059877549,
          -2.2002459659094895,
          -0.08726555870063096,
          -0.4874056795170275,
          1.2338776919088803,
          -1.7123999692004583,
          -0.6181936541808375,
          -2.6512872632951994,
          -1.7245511569751049,
          -0.041507293303092156,
          -0.18938033770535043,
          1.0796974291745665,
          -0.025905940390241588,
          -1.1557678885732423,
          0.2579559545964371,
          0.7883523374982597,
          1.1461872632859762,
          -0.5885252765586263,
          0.11272445328866162,
          -0.22675422662729436,
          1.115206107559157,
          -1.184628080397001,
          1.4413811785525896,
          -0.1014443142888211,
          0.908934520105821,
          -0.45531622884496525,
          0.19034700444139369,
          -1.0155830932027832,
          -0.7860163518810481,
          -0.9428300144654829,
          1.8510610687884004,
          -0.29056512640351234
         ]
        },
        {
         "boxpoints": false,
         "line": {
          "width": 1.3
         },
         "marker": {
          "color": "rgba(128, 0, 128, 1.0)"
         },
         "name": "D",
         "orientation": "v",
         "type": "box",
         "y": [
          -0.015680719847409957,
          0.38467931988837933,
          -0.7941830807848673,
          -0.109970710355125,
          0.33798250759545057,
          -0.25576222851431013,
          -0.48346699503870183,
          1.0877125640222065,
          -0.9408116705146999,
          0.5214002226692266,
          -1.0803745666261861,
          2.924862676501828,
          -0.14565468527778472,
          1.8526889333322263,
          -1.6911352788307619,
          0.03010989811745035,
          -0.8692370113088596,
          -1.6018173727288723,
          -0.2620976797444577,
          0.3999118965111071,
          1.2525525190342175,
          -0.810289227115854,
          -0.37962080023713046,
          0.3396529341164264,
          2.730615185009525,
          -0.41437229514600954,
          1.1632113654556508,
          -1.1997815171985624,
          0.8846443003012396,
          -0.9825518231980817,
          0.11203824680181086,
          -0.7496420110271115,
          -1.1835084993367697,
          0.29064878159009694,
          -0.7854155992917491,
          -0.6005123981160521,
          -0.24014262751114215,
          0.007307545851978295,
          -1.758097265120564,
          0.5170864743943338,
          -0.43317476782347214,
          -0.40940548692306183,
          0.8189904200946637,
          1.2726038342993118,
          -1.7788979408664063,
          0.8882432122911695,
          -0.6215820086244249,
          2.517154028613377,
          -0.09152061230271684,
          -1.3426836467906045,
          -2.62098906420756,
          -1.465577033796658,
          2.5118562828010207,
          1.1756874953788985,
          -0.5458130973398371,
          -0.35742387455943303,
          -0.2290686431606772,
          0.1846582034162207,
          0.2735245705514366,
          -0.41508504951161235,
          -1.8156128336088706,
          -0.5876678691944328,
          -0.300777717597309,
          -0.5528700652076918,
          -0.8765669026203909,
          -0.7281615647204239,
          -0.7919977348091972,
          0.8008814948537331,
          1.5116361266794893,
          0.03653244016199828,
          0.8520736473130769,
          0.27288929365938136,
          1.1482068171202153,
          -0.009265954859607626,
          -1.2795087196452406,
          -0.3280901728788498,
          0.27415276964246943,
          2.187508388956917,
          -0.4223531370913922,
          -0.057055342593380055,
          0.011668676997639417,
          0.5414785864102529,
          -1.8817490105045827,
          1.127648853265194,
          -0.9950241376700371,
          0.3059849419662011,
          0.6109926533257333,
          1.3620652419570505,
          -1.1761795395021766,
          0.5156527179224979,
          0.0922983675784503,
          -1.343042173023882,
          -0.9452371393912993,
          -0.07351505456300246,
          -0.31322416241331846,
          1.734378468520146,
          -0.1986992925388653,
          0.4682307670670544,
          0.17665471541962913,
          0.24475489740538695
         ]
        }
       ],
       "layout": {
        "legend": {
         "bgcolor": "#F5F6F9",
         "font": {
          "color": "#4D5663"
         }
        },
        "paper_bgcolor": "#F5F6F9",
        "plot_bgcolor": "#F5F6F9",
        "template": {
         "data": {
          "bar": [
           {
            "error_x": {
             "color": "#2a3f5f"
            },
            "error_y": {
             "color": "#2a3f5f"
            },
            "marker": {
             "line": {
              "color": "#E5ECF6",
              "width": 0.5
             },
             "pattern": {
              "fillmode": "overlay",
              "size": 10,
              "solidity": 0.2
             }
            },
            "type": "bar"
           }
          ],
          "barpolar": [
           {
            "marker": {
             "line": {
              "color": "#E5ECF6",
              "width": 0.5
             },
             "pattern": {
              "fillmode": "overlay",
              "size": 10,
              "solidity": 0.2
             }
            },
            "type": "barpolar"
           }
          ],
          "carpet": [
           {
            "aaxis": {
             "endlinecolor": "#2a3f5f",
             "gridcolor": "white",
             "linecolor": "white",
             "minorgridcolor": "white",
             "startlinecolor": "#2a3f5f"
            },
            "baxis": {
             "endlinecolor": "#2a3f5f",
             "gridcolor": "white",
             "linecolor": "white",
             "minorgridcolor": "white",
             "startlinecolor": "#2a3f5f"
            },
            "type": "carpet"
           }
          ],
          "choropleth": [
           {
            "colorbar": {
             "outlinewidth": 0,
             "ticks": ""
            },
            "type": "choropleth"
           }
          ],
          "contour": [
           {
            "colorbar": {
             "outlinewidth": 0,
             "ticks": ""
            },
            "colorscale": [
             [
              0,
              "#0d0887"
             ],
             [
              0.1111111111111111,
              "#46039f"
             ],
             [
              0.2222222222222222,
              "#7201a8"
             ],
             [
              0.3333333333333333,
              "#9c179e"
             ],
             [
              0.4444444444444444,
              "#bd3786"
             ],
             [
              0.5555555555555556,
              "#d8576b"
             ],
             [
              0.6666666666666666,
              "#ed7953"
             ],
             [
              0.7777777777777778,
              "#fb9f3a"
             ],
             [
              0.8888888888888888,
              "#fdca26"
             ],
             [
              1,
              "#f0f921"
             ]
            ],
            "type": "contour"
           }
          ],
          "contourcarpet": [
           {
            "colorbar": {
             "outlinewidth": 0,
             "ticks": ""
            },
            "type": "contourcarpet"
           }
          ],
          "heatmap": [
           {
            "colorbar": {
             "outlinewidth": 0,
             "ticks": ""
            },
            "colorscale": [
             [
              0,
              "#0d0887"
             ],
             [
              0.1111111111111111,
              "#46039f"
             ],
             [
              0.2222222222222222,
              "#7201a8"
             ],
             [
              0.3333333333333333,
              "#9c179e"
             ],
             [
              0.4444444444444444,
              "#bd3786"
             ],
             [
              0.5555555555555556,
              "#d8576b"
             ],
             [
              0.6666666666666666,
              "#ed7953"
             ],
             [
              0.7777777777777778,
              "#fb9f3a"
             ],
             [
              0.8888888888888888,
              "#fdca26"
             ],
             [
              1,
              "#f0f921"
             ]
            ],
            "type": "heatmap"
           }
          ],
          "heatmapgl": [
           {
            "colorbar": {
             "outlinewidth": 0,
             "ticks": ""
            },
            "colorscale": [
             [
              0,
              "#0d0887"
             ],
             [
              0.1111111111111111,
              "#46039f"
             ],
             [
              0.2222222222222222,
              "#7201a8"
             ],
             [
              0.3333333333333333,
              "#9c179e"
             ],
             [
              0.4444444444444444,
              "#bd3786"
             ],
             [
              0.5555555555555556,
              "#d8576b"
             ],
             [
              0.6666666666666666,
              "#ed7953"
             ],
             [
              0.7777777777777778,
              "#fb9f3a"
             ],
             [
              0.8888888888888888,
              "#fdca26"
             ],
             [
              1,
              "#f0f921"
             ]
            ],
            "type": "heatmapgl"
           }
          ],
          "histogram": [
           {
            "marker": {
             "pattern": {
              "fillmode": "overlay",
              "size": 10,
              "solidity": 0.2
             }
            },
            "type": "histogram"
           }
          ],
          "histogram2d": [
           {
            "colorbar": {
             "outlinewidth": 0,
             "ticks": ""
            },
            "colorscale": [
             [
              0,
              "#0d0887"
             ],
             [
              0.1111111111111111,
              "#46039f"
             ],
             [
              0.2222222222222222,
              "#7201a8"
             ],
             [
              0.3333333333333333,
              "#9c179e"
             ],
             [
              0.4444444444444444,
              "#bd3786"
             ],
             [
              0.5555555555555556,
              "#d8576b"
             ],
             [
              0.6666666666666666,
              "#ed7953"
             ],
             [
              0.7777777777777778,
              "#fb9f3a"
             ],
             [
              0.8888888888888888,
              "#fdca26"
             ],
             [
              1,
              "#f0f921"
             ]
            ],
            "type": "histogram2d"
           }
          ],
          "histogram2dcontour": [
           {
            "colorbar": {
             "outlinewidth": 0,
             "ticks": ""
            },
            "colorscale": [
             [
              0,
              "#0d0887"
             ],
             [
              0.1111111111111111,
              "#46039f"
             ],
             [
              0.2222222222222222,
              "#7201a8"
             ],
             [
              0.3333333333333333,
              "#9c179e"
             ],
             [
              0.4444444444444444,
              "#bd3786"
             ],
             [
              0.5555555555555556,
              "#d8576b"
             ],
             [
              0.6666666666666666,
              "#ed7953"
             ],
             [
              0.7777777777777778,
              "#fb9f3a"
             ],
             [
              0.8888888888888888,
              "#fdca26"
             ],
             [
              1,
              "#f0f921"
             ]
            ],
            "type": "histogram2dcontour"
           }
          ],
          "mesh3d": [
           {
            "colorbar": {
             "outlinewidth": 0,
             "ticks": ""
            },
            "type": "mesh3d"
           }
          ],
          "parcoords": [
           {
            "line": {
             "colorbar": {
              "outlinewidth": 0,
              "ticks": ""
             }
            },
            "type": "parcoords"
           }
          ],
          "pie": [
           {
            "automargin": true,
            "type": "pie"
           }
          ],
          "scatter": [
           {
            "fillpattern": {
             "fillmode": "overlay",
             "size": 10,
             "solidity": 0.2
            },
            "type": "scatter"
           }
          ],
          "scatter3d": [
           {
            "line": {
             "colorbar": {
              "outlinewidth": 0,
              "ticks": ""
             }
            },
            "marker": {
             "colorbar": {
              "outlinewidth": 0,
              "ticks": ""
             }
            },
            "type": "scatter3d"
           }
          ],
          "scattercarpet": [
           {
            "marker": {
             "colorbar": {
              "outlinewidth": 0,
              "ticks": ""
             }
            },
            "type": "scattercarpet"
           }
          ],
          "scattergeo": [
           {
            "marker": {
             "colorbar": {
              "outlinewidth": 0,
              "ticks": ""
             }
            },
            "type": "scattergeo"
           }
          ],
          "scattergl": [
           {
            "marker": {
             "colorbar": {
              "outlinewidth": 0,
              "ticks": ""
             }
            },
            "type": "scattergl"
           }
          ],
          "scattermapbox": [
           {
            "marker": {
             "colorbar": {
              "outlinewidth": 0,
              "ticks": ""
             }
            },
            "type": "scattermapbox"
           }
          ],
          "scatterpolar": [
           {
            "marker": {
             "colorbar": {
              "outlinewidth": 0,
              "ticks": ""
             }
            },
            "type": "scatterpolar"
           }
          ],
          "scatterpolargl": [
           {
            "marker": {
             "colorbar": {
              "outlinewidth": 0,
              "ticks": ""
             }
            },
            "type": "scatterpolargl"
           }
          ],
          "scatterternary": [
           {
            "marker": {
             "colorbar": {
              "outlinewidth": 0,
              "ticks": ""
             }
            },
            "type": "scatterternary"
           }
          ],
          "surface": [
           {
            "colorbar": {
             "outlinewidth": 0,
             "ticks": ""
            },
            "colorscale": [
             [
              0,
              "#0d0887"
             ],
             [
              0.1111111111111111,
              "#46039f"
             ],
             [
              0.2222222222222222,
              "#7201a8"
             ],
             [
              0.3333333333333333,
              "#9c179e"
             ],
             [
              0.4444444444444444,
              "#bd3786"
             ],
             [
              0.5555555555555556,
              "#d8576b"
             ],
             [
              0.6666666666666666,
              "#ed7953"
             ],
             [
              0.7777777777777778,
              "#fb9f3a"
             ],
             [
              0.8888888888888888,
              "#fdca26"
             ],
             [
              1,
              "#f0f921"
             ]
            ],
            "type": "surface"
           }
          ],
          "table": [
           {
            "cells": {
             "fill": {
              "color": "#EBF0F8"
             },
             "line": {
              "color": "white"
             }
            },
            "header": {
             "fill": {
              "color": "#C8D4E3"
             },
             "line": {
              "color": "white"
             }
            },
            "type": "table"
           }
          ]
         },
         "layout": {
          "annotationdefaults": {
           "arrowcolor": "#2a3f5f",
           "arrowhead": 0,
           "arrowwidth": 1
          },
          "autotypenumbers": "strict",
          "coloraxis": {
           "colorbar": {
            "outlinewidth": 0,
            "ticks": ""
           }
          },
          "colorscale": {
           "diverging": [
            [
             0,
             "#8e0152"
            ],
            [
             0.1,
             "#c51b7d"
            ],
            [
             0.2,
             "#de77ae"
            ],
            [
             0.3,
             "#f1b6da"
            ],
            [
             0.4,
             "#fde0ef"
            ],
            [
             0.5,
             "#f7f7f7"
            ],
            [
             0.6,
             "#e6f5d0"
            ],
            [
             0.7,
             "#b8e186"
            ],
            [
             0.8,
             "#7fbc41"
            ],
            [
             0.9,
             "#4d9221"
            ],
            [
             1,
             "#276419"
            ]
           ],
           "sequential": [
            [
             0,
             "#0d0887"
            ],
            [
             0.1111111111111111,
             "#46039f"
            ],
            [
             0.2222222222222222,
             "#7201a8"
            ],
            [
             0.3333333333333333,
             "#9c179e"
            ],
            [
             0.4444444444444444,
             "#bd3786"
            ],
            [
             0.5555555555555556,
             "#d8576b"
            ],
            [
             0.6666666666666666,
             "#ed7953"
            ],
            [
             0.7777777777777778,
             "#fb9f3a"
            ],
            [
             0.8888888888888888,
             "#fdca26"
            ],
            [
             1,
             "#f0f921"
            ]
           ],
           "sequentialminus": [
            [
             0,
             "#0d0887"
            ],
            [
             0.1111111111111111,
             "#46039f"
            ],
            [
             0.2222222222222222,
             "#7201a8"
            ],
            [
             0.3333333333333333,
             "#9c179e"
            ],
            [
             0.4444444444444444,
             "#bd3786"
            ],
            [
             0.5555555555555556,
             "#d8576b"
            ],
            [
             0.6666666666666666,
             "#ed7953"
            ],
            [
             0.7777777777777778,
             "#fb9f3a"
            ],
            [
             0.8888888888888888,
             "#fdca26"
            ],
            [
             1,
             "#f0f921"
            ]
           ]
          },
          "colorway": [
           "#636efa",
           "#EF553B",
           "#00cc96",
           "#ab63fa",
           "#FFA15A",
           "#19d3f3",
           "#FF6692",
           "#B6E880",
           "#FF97FF",
           "#FECB52"
          ],
          "font": {
           "color": "#2a3f5f"
          },
          "geo": {
           "bgcolor": "white",
           "lakecolor": "white",
           "landcolor": "#E5ECF6",
           "showlakes": true,
           "showland": true,
           "subunitcolor": "white"
          },
          "hoverlabel": {
           "align": "left"
          },
          "hovermode": "closest",
          "mapbox": {
           "style": "light"
          },
          "paper_bgcolor": "white",
          "plot_bgcolor": "#E5ECF6",
          "polar": {
           "angularaxis": {
            "gridcolor": "white",
            "linecolor": "white",
            "ticks": ""
           },
           "bgcolor": "#E5ECF6",
           "radialaxis": {
            "gridcolor": "white",
            "linecolor": "white",
            "ticks": ""
           }
          },
          "scene": {
           "xaxis": {
            "backgroundcolor": "#E5ECF6",
            "gridcolor": "white",
            "gridwidth": 2,
            "linecolor": "white",
            "showbackground": true,
            "ticks": "",
            "zerolinecolor": "white"
           },
           "yaxis": {
            "backgroundcolor": "#E5ECF6",
            "gridcolor": "white",
            "gridwidth": 2,
            "linecolor": "white",
            "showbackground": true,
            "ticks": "",
            "zerolinecolor": "white"
           },
           "zaxis": {
            "backgroundcolor": "#E5ECF6",
            "gridcolor": "white",
            "gridwidth": 2,
            "linecolor": "white",
            "showbackground": true,
            "ticks": "",
            "zerolinecolor": "white"
           }
          },
          "shapedefaults": {
           "line": {
            "color": "#2a3f5f"
           }
          },
          "ternary": {
           "aaxis": {
            "gridcolor": "white",
            "linecolor": "white",
            "ticks": ""
           },
           "baxis": {
            "gridcolor": "white",
            "linecolor": "white",
            "ticks": ""
           },
           "bgcolor": "#E5ECF6",
           "caxis": {
            "gridcolor": "white",
            "linecolor": "white",
            "ticks": ""
           }
          },
          "title": {
           "x": 0.05
          },
          "xaxis": {
           "automargin": true,
           "gridcolor": "white",
           "linecolor": "white",
           "ticks": "",
           "title": {
            "standoff": 15
           },
           "zerolinecolor": "white",
           "zerolinewidth": 2
          },
          "yaxis": {
           "automargin": true,
           "gridcolor": "white",
           "linecolor": "white",
           "ticks": "",
           "title": {
            "standoff": 15
           },
           "zerolinecolor": "white",
           "zerolinewidth": 2
          }
         }
        },
        "title": {
         "font": {
          "color": "#4D5663"
         }
        },
        "xaxis": {
         "gridcolor": "#E1E5ED",
         "showgrid": true,
         "tickfont": {
          "color": "#4D5663"
         },
         "title": {
          "font": {
           "color": "#4D5663"
          },
          "text": ""
         },
         "zerolinecolor": "#E1E5ED"
        },
        "yaxis": {
         "gridcolor": "#E1E5ED",
         "showgrid": true,
         "tickfont": {
          "color": "#4D5663"
         },
         "title": {
          "font": {
           "color": "#4D5663"
          },
          "text": ""
         },
         "zerolinecolor": "#E1E5ED"
        }
       }
      },
      "text/html": [
       "<div>                            <div id=\"322a48b4-3cd9-497c-93c3-f91ffbde7f94\" class=\"plotly-graph-div\" style=\"height:525px; width:100%;\"></div>            <script type=\"text/javascript\">                require([\"plotly\"], function(Plotly) {                    window.PLOTLYENV=window.PLOTLYENV || {};\n",
       "                    window.PLOTLYENV.BASE_URL='https://plot.ly';                                    if (document.getElementById(\"322a48b4-3cd9-497c-93c3-f91ffbde7f94\")) {                    Plotly.newPlot(                        \"322a48b4-3cd9-497c-93c3-f91ffbde7f94\",                        [{\"boxpoints\":false,\"line\":{\"width\":1.3},\"marker\":{\"color\":\"rgba(255, 153, 51, 1.0)\"},\"name\":\"A\",\"orientation\":\"v\",\"y\":[-0.3398988896464808,-1.6320219123904456,1.0833580654835377,-0.5221441697533774,1.8870577989950417,-0.1519022894899191,1.738502057334876,1.7056108965703825,-0.6441517480790271,1.446088337377909,-0.40837595317937014,-0.3845503118092821,-1.1751265443795977,0.3867803121745835,-0.7426482243780839,-0.43683293687948244,-0.5088760710426806,-1.8543028311017542,-0.6332326401681622,0.1462914660828161,0.8830579721724487,0.3971948472370433,-1.1204484108009625,0.40106396407362593,-0.4067665034368915,0.47737803056416306,-1.9370437378754735,0.7292434252915854,-0.9651293257767154,-0.19170860679186263,-1.7686489673158163,-0.2537637565216562,0.6425981649526561,-1.0591476195161171,1.0667946528907304,-0.39160597886280846,-1.4037276993584953,1.8542164451445762,-1.0897874477601286,-0.6166742828751661,1.0275457033922706,-0.6551011328439404,-1.9316441131174051,0.8954051917268987,-0.929859420870943,-2.6074766673535854,-0.3260344298623395,-2.0670868762703063,0.09550434985732024,-0.5773800461329046,0.6547371662725984,-0.02746341612035001,1.0210359693291602,0.7901461323588164,0.15550268839189296,0.06477080315932901,-0.3876351988405084,-0.2589635071591233,0.610293410412037,0.35704353940696576,0.004869934166238935,2.084087092727924,0.44549222902202584,-0.8300681314305705,0.380011831731752,0.033614054409343785,0.2676525442637065,0.7269584845831824,1.1340583727418463,1.2306196535659573,0.3989981915062393,-0.020588125991491804,-0.590085318221706,0.7094993217735794,-0.07682209611761445,1.132665491703427,0.49475019050692304,-0.13891134715709394,-1.07586707290558,0.4441980300520878,-1.4868717602776649,-2.5060290067500364,1.8586312192790821,2.0462249338926135,-2.0116341336398333,1.2762416640493945,0.463117861856559,-0.6091834606663771,-0.752894001502793,0.3475782028223775,0.17383952520650456,-0.794650830102094,-0.10028232258399258,-1.7467047199059293,0.8942392582127465,0.6040802134291302,0.2699602012812688,1.8279522592497466,-0.4637391036140166,1.0973521416489043],\"type\":\"box\"},{\"boxpoints\":false,\"line\":{\"width\":1.3},\"marker\":{\"color\":\"rgba(55, 128, 191, 1.0)\"},\"name\":\"B\",\"orientation\":\"v\",\"y\":[1.1982473059308325,1.6356636244629494,-0.8905655629472256,-1.807838351873487,0.8059253931077515,0.35179663251839494,3.286566911427533,2.8856879704436356,-1.6302195439392437,-0.46559364417373905,0.5722312952267994,0.13493420680389276,-0.042561264746407916,-1.3888743215255817,-1.0400399241781164,-0.12167381490054667,-0.7290940015517252,-0.09889921265528098,-0.3312005457673756,0.5261642154537874,0.6682052848327581,0.35916570838529577,-0.19295278672651348,1.1220259215142658,-0.5462425995736458,-0.3925935589237412,0.169345302240433,-1.7922818269161258,1.8628476133897467,-0.5340917673987183,0.04344248660006066,2.277202365749576,-0.25663557433485684,-1.1153026316907826,-0.7784819485526674,-0.27000384523590626,0.4977305798284601,1.4767340668012499,-0.3632677807686293,-1.5302748335828096,0.7467921741550148,-2.2970024424818507,-1.4460996582475492,-2.106907488696165,1.298016626562994,-0.324365394283865,-0.1449205658054919,0.12792883571809066,-0.08380256741136723,0.5187857885798648,-0.2776577943424909,-2.4766660149823316,0.875350737970101,0.5505238029568075,0.6035147525603715,-0.639981438984545,0.5973527193033242,-0.4392231849559408,1.2362135230485218,2.067677929479437,0.6375611227756837,-0.29871600887110944,0.2134919337824578,-0.5394598871410751,-0.3347505316342336,0.0801216955297691,-0.042805121119385926,0.37368049305987766,-0.3219801945746798,-0.4208666241915466,-0.4979873718658901,0.005609253028819707,0.03608464305536002,-0.029992147476621468,0.142788839251483,0.10275057800983606,-0.7223937306717052,-1.31611367941755,0.11682713512843675,0.36508224033026243,0.016701958707791845,0.22698760232656448,1.5465654668606335,-0.39381887564259743,1.142054801169338,1.2133216968804088,-0.5278164628670937,1.4884792811106382,-0.951696847783406,1.7120260108326464,-0.1454210212980894,0.7729670349626565,-1.398599836046639,0.2936544015837765,-1.4724797978802802,-1.152984289788025,-0.4244596261425564,0.35510940547754,1.1863954719576226,0.7641118974979407],\"type\":\"box\"},{\"boxpoints\":false,\"line\":{\"width\":1.3},\"marker\":{\"color\":\"rgba(50, 171, 96, 1.0)\"},\"name\":\"C\",\"orientation\":\"v\",\"y\":[0.1320759122455077,-0.04444424433177913,2.6585681121160922,0.3174800749607619,1.654359355438138,-0.6732701057926693,0.6361285686969663,-0.2451885959321246,-0.3314462347253053,0.3802969653490417,-1.7223806520139417,1.442167007934898,-1.177226112601706,-0.7321322627771829,-0.9548570607452044,-0.3635421281270355,-0.09628493714209976,0.7248668891529634,-0.39568706100878676,-0.4079615038661267,-0.6290513126106057,0.5580161889769741,1.068536165516149,1.1133527811753148,1.7994243459760668,0.29646904639819277,-0.6372995452114765,-0.26728521908326697,2.23028609817543,1.1797729334637708,1.275159327922166,-1.195901028112852,0.06445629351612976,-0.039466561765940954,-0.4295291479021976,1.0118396725120664,-0.9019718566983405,0.22083201477157846,0.04904930900498299,0.14701746599061263,-0.26563843558056954,-1.6234615369066359,1.859227722720208,-1.3893557603150164,0.056429355056207386,-1.5974864392899208,0.02485207450433001,-0.496205985444526,2.0668381018242794,0.6226740122092347,-2.077490400736509,0.4408991383440806,0.44774077327389555,0.28644799307103813,-1.5671574054913588,1.5090595853773114,0.6199971372861851,-0.28188991184088036,0.05236364002779333,-0.6050293620259407,-1.4416773512957197,0.6095514283064996,-1.1796228138285,-0.7195189127582756,-0.20939639161807388,-0.9750939526811694,1.380785553315133,0.2123680746554314,-0.6149438059877549,-2.2002459659094895,-0.08726555870063096,-0.4874056795170275,1.2338776919088803,-1.7123999692004583,-0.6181936541808375,-2.6512872632951994,-1.7245511569751049,-0.041507293303092156,-0.18938033770535043,1.0796974291745665,-0.025905940390241588,-1.1557678885732423,0.2579559545964371,0.7883523374982597,1.1461872632859762,-0.5885252765586263,0.11272445328866162,-0.22675422662729436,1.115206107559157,-1.184628080397001,1.4413811785525896,-0.1014443142888211,0.908934520105821,-0.45531622884496525,0.19034700444139369,-1.0155830932027832,-0.7860163518810481,-0.9428300144654829,1.8510610687884004,-0.29056512640351234],\"type\":\"box\"},{\"boxpoints\":false,\"line\":{\"width\":1.3},\"marker\":{\"color\":\"rgba(128, 0, 128, 1.0)\"},\"name\":\"D\",\"orientation\":\"v\",\"y\":[-0.015680719847409957,0.38467931988837933,-0.7941830807848673,-0.109970710355125,0.33798250759545057,-0.25576222851431013,-0.48346699503870183,1.0877125640222065,-0.9408116705146999,0.5214002226692266,-1.0803745666261861,2.924862676501828,-0.14565468527778472,1.8526889333322263,-1.6911352788307619,0.03010989811745035,-0.8692370113088596,-1.6018173727288723,-0.2620976797444577,0.3999118965111071,1.2525525190342175,-0.810289227115854,-0.37962080023713046,0.3396529341164264,2.730615185009525,-0.41437229514600954,1.1632113654556508,-1.1997815171985624,0.8846443003012396,-0.9825518231980817,0.11203824680181086,-0.7496420110271115,-1.1835084993367697,0.29064878159009694,-0.7854155992917491,-0.6005123981160521,-0.24014262751114215,0.007307545851978295,-1.758097265120564,0.5170864743943338,-0.43317476782347214,-0.40940548692306183,0.8189904200946637,1.2726038342993118,-1.7788979408664063,0.8882432122911695,-0.6215820086244249,2.517154028613377,-0.09152061230271684,-1.3426836467906045,-2.62098906420756,-1.465577033796658,2.5118562828010207,1.1756874953788985,-0.5458130973398371,-0.35742387455943303,-0.2290686431606772,0.1846582034162207,0.2735245705514366,-0.41508504951161235,-1.8156128336088706,-0.5876678691944328,-0.300777717597309,-0.5528700652076918,-0.8765669026203909,-0.7281615647204239,-0.7919977348091972,0.8008814948537331,1.5116361266794893,0.03653244016199828,0.8520736473130769,0.27288929365938136,1.1482068171202153,-0.009265954859607626,-1.2795087196452406,-0.3280901728788498,0.27415276964246943,2.187508388956917,-0.4223531370913922,-0.057055342593380055,0.011668676997639417,0.5414785864102529,-1.8817490105045827,1.127648853265194,-0.9950241376700371,0.3059849419662011,0.6109926533257333,1.3620652419570505,-1.1761795395021766,0.5156527179224979,0.0922983675784503,-1.343042173023882,-0.9452371393912993,-0.07351505456300246,-0.31322416241331846,1.734378468520146,-0.1986992925388653,0.4682307670670544,0.17665471541962913,0.24475489740538695],\"type\":\"box\"}],                        {\"legend\":{\"bgcolor\":\"#F5F6F9\",\"font\":{\"color\":\"#4D5663\"}},\"paper_bgcolor\":\"#F5F6F9\",\"plot_bgcolor\":\"#F5F6F9\",\"template\":{\"data\":{\"barpolar\":[{\"marker\":{\"line\":{\"color\":\"#E5ECF6\",\"width\":0.5},\"pattern\":{\"fillmode\":\"overlay\",\"size\":10,\"solidity\":0.2}},\"type\":\"barpolar\"}],\"bar\":[{\"error_x\":{\"color\":\"#2a3f5f\"},\"error_y\":{\"color\":\"#2a3f5f\"},\"marker\":{\"line\":{\"color\":\"#E5ECF6\",\"width\":0.5},\"pattern\":{\"fillmode\":\"overlay\",\"size\":10,\"solidity\":0.2}},\"type\":\"bar\"}],\"carpet\":[{\"aaxis\":{\"endlinecolor\":\"#2a3f5f\",\"gridcolor\":\"white\",\"linecolor\":\"white\",\"minorgridcolor\":\"white\",\"startlinecolor\":\"#2a3f5f\"},\"baxis\":{\"endlinecolor\":\"#2a3f5f\",\"gridcolor\":\"white\",\"linecolor\":\"white\",\"minorgridcolor\":\"white\",\"startlinecolor\":\"#2a3f5f\"},\"type\":\"carpet\"}],\"choropleth\":[{\"colorbar\":{\"outlinewidth\":0,\"ticks\":\"\"},\"type\":\"choropleth\"}],\"contourcarpet\":[{\"colorbar\":{\"outlinewidth\":0,\"ticks\":\"\"},\"type\":\"contourcarpet\"}],\"contour\":[{\"colorbar\":{\"outlinewidth\":0,\"ticks\":\"\"},\"colorscale\":[[0.0,\"#0d0887\"],[0.1111111111111111,\"#46039f\"],[0.2222222222222222,\"#7201a8\"],[0.3333333333333333,\"#9c179e\"],[0.4444444444444444,\"#bd3786\"],[0.5555555555555556,\"#d8576b\"],[0.6666666666666666,\"#ed7953\"],[0.7777777777777778,\"#fb9f3a\"],[0.8888888888888888,\"#fdca26\"],[1.0,\"#f0f921\"]],\"type\":\"contour\"}],\"heatmapgl\":[{\"colorbar\":{\"outlinewidth\":0,\"ticks\":\"\"},\"colorscale\":[[0.0,\"#0d0887\"],[0.1111111111111111,\"#46039f\"],[0.2222222222222222,\"#7201a8\"],[0.3333333333333333,\"#9c179e\"],[0.4444444444444444,\"#bd3786\"],[0.5555555555555556,\"#d8576b\"],[0.6666666666666666,\"#ed7953\"],[0.7777777777777778,\"#fb9f3a\"],[0.8888888888888888,\"#fdca26\"],[1.0,\"#f0f921\"]],\"type\":\"heatmapgl\"}],\"heatmap\":[{\"colorbar\":{\"outlinewidth\":0,\"ticks\":\"\"},\"colorscale\":[[0.0,\"#0d0887\"],[0.1111111111111111,\"#46039f\"],[0.2222222222222222,\"#7201a8\"],[0.3333333333333333,\"#9c179e\"],[0.4444444444444444,\"#bd3786\"],[0.5555555555555556,\"#d8576b\"],[0.6666666666666666,\"#ed7953\"],[0.7777777777777778,\"#fb9f3a\"],[0.8888888888888888,\"#fdca26\"],[1.0,\"#f0f921\"]],\"type\":\"heatmap\"}],\"histogram2dcontour\":[{\"colorbar\":{\"outlinewidth\":0,\"ticks\":\"\"},\"colorscale\":[[0.0,\"#0d0887\"],[0.1111111111111111,\"#46039f\"],[0.2222222222222222,\"#7201a8\"],[0.3333333333333333,\"#9c179e\"],[0.4444444444444444,\"#bd3786\"],[0.5555555555555556,\"#d8576b\"],[0.6666666666666666,\"#ed7953\"],[0.7777777777777778,\"#fb9f3a\"],[0.8888888888888888,\"#fdca26\"],[1.0,\"#f0f921\"]],\"type\":\"histogram2dcontour\"}],\"histogram2d\":[{\"colorbar\":{\"outlinewidth\":0,\"ticks\":\"\"},\"colorscale\":[[0.0,\"#0d0887\"],[0.1111111111111111,\"#46039f\"],[0.2222222222222222,\"#7201a8\"],[0.3333333333333333,\"#9c179e\"],[0.4444444444444444,\"#bd3786\"],[0.5555555555555556,\"#d8576b\"],[0.6666666666666666,\"#ed7953\"],[0.7777777777777778,\"#fb9f3a\"],[0.8888888888888888,\"#fdca26\"],[1.0,\"#f0f921\"]],\"type\":\"histogram2d\"}],\"histogram\":[{\"marker\":{\"pattern\":{\"fillmode\":\"overlay\",\"size\":10,\"solidity\":0.2}},\"type\":\"histogram\"}],\"mesh3d\":[{\"colorbar\":{\"outlinewidth\":0,\"ticks\":\"\"},\"type\":\"mesh3d\"}],\"parcoords\":[{\"line\":{\"colorbar\":{\"outlinewidth\":0,\"ticks\":\"\"}},\"type\":\"parcoords\"}],\"pie\":[{\"automargin\":true,\"type\":\"pie\"}],\"scatter3d\":[{\"line\":{\"colorbar\":{\"outlinewidth\":0,\"ticks\":\"\"}},\"marker\":{\"colorbar\":{\"outlinewidth\":0,\"ticks\":\"\"}},\"type\":\"scatter3d\"}],\"scattercarpet\":[{\"marker\":{\"colorbar\":{\"outlinewidth\":0,\"ticks\":\"\"}},\"type\":\"scattercarpet\"}],\"scattergeo\":[{\"marker\":{\"colorbar\":{\"outlinewidth\":0,\"ticks\":\"\"}},\"type\":\"scattergeo\"}],\"scattergl\":[{\"marker\":{\"colorbar\":{\"outlinewidth\":0,\"ticks\":\"\"}},\"type\":\"scattergl\"}],\"scattermapbox\":[{\"marker\":{\"colorbar\":{\"outlinewidth\":0,\"ticks\":\"\"}},\"type\":\"scattermapbox\"}],\"scatterpolargl\":[{\"marker\":{\"colorbar\":{\"outlinewidth\":0,\"ticks\":\"\"}},\"type\":\"scatterpolargl\"}],\"scatterpolar\":[{\"marker\":{\"colorbar\":{\"outlinewidth\":0,\"ticks\":\"\"}},\"type\":\"scatterpolar\"}],\"scatter\":[{\"fillpattern\":{\"fillmode\":\"overlay\",\"size\":10,\"solidity\":0.2},\"type\":\"scatter\"}],\"scatterternary\":[{\"marker\":{\"colorbar\":{\"outlinewidth\":0,\"ticks\":\"\"}},\"type\":\"scatterternary\"}],\"surface\":[{\"colorbar\":{\"outlinewidth\":0,\"ticks\":\"\"},\"colorscale\":[[0.0,\"#0d0887\"],[0.1111111111111111,\"#46039f\"],[0.2222222222222222,\"#7201a8\"],[0.3333333333333333,\"#9c179e\"],[0.4444444444444444,\"#bd3786\"],[0.5555555555555556,\"#d8576b\"],[0.6666666666666666,\"#ed7953\"],[0.7777777777777778,\"#fb9f3a\"],[0.8888888888888888,\"#fdca26\"],[1.0,\"#f0f921\"]],\"type\":\"surface\"}],\"table\":[{\"cells\":{\"fill\":{\"color\":\"#EBF0F8\"},\"line\":{\"color\":\"white\"}},\"header\":{\"fill\":{\"color\":\"#C8D4E3\"},\"line\":{\"color\":\"white\"}},\"type\":\"table\"}]},\"layout\":{\"annotationdefaults\":{\"arrowcolor\":\"#2a3f5f\",\"arrowhead\":0,\"arrowwidth\":1},\"autotypenumbers\":\"strict\",\"coloraxis\":{\"colorbar\":{\"outlinewidth\":0,\"ticks\":\"\"}},\"colorscale\":{\"diverging\":[[0,\"#8e0152\"],[0.1,\"#c51b7d\"],[0.2,\"#de77ae\"],[0.3,\"#f1b6da\"],[0.4,\"#fde0ef\"],[0.5,\"#f7f7f7\"],[0.6,\"#e6f5d0\"],[0.7,\"#b8e186\"],[0.8,\"#7fbc41\"],[0.9,\"#4d9221\"],[1,\"#276419\"]],\"sequential\":[[0.0,\"#0d0887\"],[0.1111111111111111,\"#46039f\"],[0.2222222222222222,\"#7201a8\"],[0.3333333333333333,\"#9c179e\"],[0.4444444444444444,\"#bd3786\"],[0.5555555555555556,\"#d8576b\"],[0.6666666666666666,\"#ed7953\"],[0.7777777777777778,\"#fb9f3a\"],[0.8888888888888888,\"#fdca26\"],[1.0,\"#f0f921\"]],\"sequentialminus\":[[0.0,\"#0d0887\"],[0.1111111111111111,\"#46039f\"],[0.2222222222222222,\"#7201a8\"],[0.3333333333333333,\"#9c179e\"],[0.4444444444444444,\"#bd3786\"],[0.5555555555555556,\"#d8576b\"],[0.6666666666666666,\"#ed7953\"],[0.7777777777777778,\"#fb9f3a\"],[0.8888888888888888,\"#fdca26\"],[1.0,\"#f0f921\"]]},\"colorway\":[\"#636efa\",\"#EF553B\",\"#00cc96\",\"#ab63fa\",\"#FFA15A\",\"#19d3f3\",\"#FF6692\",\"#B6E880\",\"#FF97FF\",\"#FECB52\"],\"font\":{\"color\":\"#2a3f5f\"},\"geo\":{\"bgcolor\":\"white\",\"lakecolor\":\"white\",\"landcolor\":\"#E5ECF6\",\"showlakes\":true,\"showland\":true,\"subunitcolor\":\"white\"},\"hoverlabel\":{\"align\":\"left\"},\"hovermode\":\"closest\",\"mapbox\":{\"style\":\"light\"},\"paper_bgcolor\":\"white\",\"plot_bgcolor\":\"#E5ECF6\",\"polar\":{\"angularaxis\":{\"gridcolor\":\"white\",\"linecolor\":\"white\",\"ticks\":\"\"},\"bgcolor\":\"#E5ECF6\",\"radialaxis\":{\"gridcolor\":\"white\",\"linecolor\":\"white\",\"ticks\":\"\"}},\"scene\":{\"xaxis\":{\"backgroundcolor\":\"#E5ECF6\",\"gridcolor\":\"white\",\"gridwidth\":2,\"linecolor\":\"white\",\"showbackground\":true,\"ticks\":\"\",\"zerolinecolor\":\"white\"},\"yaxis\":{\"backgroundcolor\":\"#E5ECF6\",\"gridcolor\":\"white\",\"gridwidth\":2,\"linecolor\":\"white\",\"showbackground\":true,\"ticks\":\"\",\"zerolinecolor\":\"white\"},\"zaxis\":{\"backgroundcolor\":\"#E5ECF6\",\"gridcolor\":\"white\",\"gridwidth\":2,\"linecolor\":\"white\",\"showbackground\":true,\"ticks\":\"\",\"zerolinecolor\":\"white\"}},\"shapedefaults\":{\"line\":{\"color\":\"#2a3f5f\"}},\"ternary\":{\"aaxis\":{\"gridcolor\":\"white\",\"linecolor\":\"white\",\"ticks\":\"\"},\"baxis\":{\"gridcolor\":\"white\",\"linecolor\":\"white\",\"ticks\":\"\"},\"bgcolor\":\"#E5ECF6\",\"caxis\":{\"gridcolor\":\"white\",\"linecolor\":\"white\",\"ticks\":\"\"}},\"title\":{\"x\":0.05},\"xaxis\":{\"automargin\":true,\"gridcolor\":\"white\",\"linecolor\":\"white\",\"ticks\":\"\",\"title\":{\"standoff\":15},\"zerolinecolor\":\"white\",\"zerolinewidth\":2},\"yaxis\":{\"automargin\":true,\"gridcolor\":\"white\",\"linecolor\":\"white\",\"ticks\":\"\",\"title\":{\"standoff\":15},\"zerolinecolor\":\"white\",\"zerolinewidth\":2}}},\"title\":{\"font\":{\"color\":\"#4D5663\"}},\"xaxis\":{\"gridcolor\":\"#E1E5ED\",\"showgrid\":true,\"tickfont\":{\"color\":\"#4D5663\"},\"title\":{\"font\":{\"color\":\"#4D5663\"},\"text\":\"\"},\"zerolinecolor\":\"#E1E5ED\"},\"yaxis\":{\"gridcolor\":\"#E1E5ED\",\"showgrid\":true,\"tickfont\":{\"color\":\"#4D5663\"},\"title\":{\"font\":{\"color\":\"#4D5663\"},\"text\":\"\"},\"zerolinecolor\":\"#E1E5ED\"}},                        {\"showLink\": true, \"linkText\": \"Export to plot.ly\", \"plotlyServerURL\": \"https://plot.ly\", \"responsive\": true}                    ).then(function(){\n",
       "                            \n",
       "var gd = document.getElementById('322a48b4-3cd9-497c-93c3-f91ffbde7f94');\n",
       "var x = new MutationObserver(function (mutations, observer) {{\n",
       "        var display = window.getComputedStyle(gd).display;\n",
       "        if (!display || display === 'none') {{\n",
       "            console.log([gd, 'removed!']);\n",
       "            Plotly.purge(gd);\n",
       "            observer.disconnect();\n",
       "        }}\n",
       "}});\n",
       "\n",
       "// Listen for the removal of the full notebook cells\n",
       "var notebookContainer = gd.closest('#notebook-container');\n",
       "if (notebookContainer) {{\n",
       "    x.observe(notebookContainer, {childList: true});\n",
       "}}\n",
       "\n",
       "// Listen for the clearing of the current output cell\n",
       "var outputEl = gd.closest('.output');\n",
       "if (outputEl) {{\n",
       "    x.observe(outputEl, {childList: true});\n",
       "}}\n",
       "\n",
       "                        })                };                });            </script>        </div>"
      ]
     },
     "metadata": {},
     "output_type": "display_data"
    }
   ],
   "source": [
    "df.iplot(kind='box')"
   ]
  },
  {
   "cell_type": "markdown",
   "metadata": {},
   "source": [
    "## 3d Surface"
   ]
  },
  {
   "cell_type": "code",
   "execution_count": 16,
   "metadata": {
    "collapsed": false
   },
   "outputs": [
    {
     "data": {
      "application/vnd.plotly.v1+json": {
       "config": {
        "linkText": "Export to plot.ly",
        "plotlyServerURL": "https://plot.ly",
        "showLink": true
       },
       "data": [
        {
         "colorscale": [
          [
           0,
           "rgb(165,0,38)"
          ],
          [
           0.1,
           "rgb(215,48,39)"
          ],
          [
           0.2,
           "rgb(244,109,67)"
          ],
          [
           0.3,
           "rgb(253,174,97)"
          ],
          [
           0.4,
           "rgb(254,224,144)"
          ],
          [
           0.5,
           "rgb(255,255,191)"
          ],
          [
           0.6,
           "rgb(224,243,248)"
          ],
          [
           0.7,
           "rgb(171,217,233)"
          ],
          [
           0.8,
           "rgb(116,173,209)"
          ],
          [
           0.9,
           "rgb(69,117,180)"
          ],
          [
           1,
           "rgb(49,54,149)"
          ]
         ],
         "type": "surface",
         "x": [
          0,
          1,
          2,
          3,
          4
         ],
         "y": [
          "x",
          "y",
          "z"
         ],
         "z": [
          [
           1,
           2,
           3,
           4,
           5
          ],
          [
           10,
           20,
           30,
           20,
           10
          ],
          [
           5,
           4,
           3,
           2,
           1
          ]
         ]
        }
       ],
       "layout": {
        "legend": {
         "bgcolor": "#F5F6F9",
         "font": {
          "color": "#4D5663"
         }
        },
        "paper_bgcolor": "#F5F6F9",
        "plot_bgcolor": "#F5F6F9",
        "template": {
         "data": {
          "bar": [
           {
            "error_x": {
             "color": "#2a3f5f"
            },
            "error_y": {
             "color": "#2a3f5f"
            },
            "marker": {
             "line": {
              "color": "#E5ECF6",
              "width": 0.5
             },
             "pattern": {
              "fillmode": "overlay",
              "size": 10,
              "solidity": 0.2
             }
            },
            "type": "bar"
           }
          ],
          "barpolar": [
           {
            "marker": {
             "line": {
              "color": "#E5ECF6",
              "width": 0.5
             },
             "pattern": {
              "fillmode": "overlay",
              "size": 10,
              "solidity": 0.2
             }
            },
            "type": "barpolar"
           }
          ],
          "carpet": [
           {
            "aaxis": {
             "endlinecolor": "#2a3f5f",
             "gridcolor": "white",
             "linecolor": "white",
             "minorgridcolor": "white",
             "startlinecolor": "#2a3f5f"
            },
            "baxis": {
             "endlinecolor": "#2a3f5f",
             "gridcolor": "white",
             "linecolor": "white",
             "minorgridcolor": "white",
             "startlinecolor": "#2a3f5f"
            },
            "type": "carpet"
           }
          ],
          "choropleth": [
           {
            "colorbar": {
             "outlinewidth": 0,
             "ticks": ""
            },
            "type": "choropleth"
           }
          ],
          "contour": [
           {
            "colorbar": {
             "outlinewidth": 0,
             "ticks": ""
            },
            "colorscale": [
             [
              0,
              "#0d0887"
             ],
             [
              0.1111111111111111,
              "#46039f"
             ],
             [
              0.2222222222222222,
              "#7201a8"
             ],
             [
              0.3333333333333333,
              "#9c179e"
             ],
             [
              0.4444444444444444,
              "#bd3786"
             ],
             [
              0.5555555555555556,
              "#d8576b"
             ],
             [
              0.6666666666666666,
              "#ed7953"
             ],
             [
              0.7777777777777778,
              "#fb9f3a"
             ],
             [
              0.8888888888888888,
              "#fdca26"
             ],
             [
              1,
              "#f0f921"
             ]
            ],
            "type": "contour"
           }
          ],
          "contourcarpet": [
           {
            "colorbar": {
             "outlinewidth": 0,
             "ticks": ""
            },
            "type": "contourcarpet"
           }
          ],
          "heatmap": [
           {
            "colorbar": {
             "outlinewidth": 0,
             "ticks": ""
            },
            "colorscale": [
             [
              0,
              "#0d0887"
             ],
             [
              0.1111111111111111,
              "#46039f"
             ],
             [
              0.2222222222222222,
              "#7201a8"
             ],
             [
              0.3333333333333333,
              "#9c179e"
             ],
             [
              0.4444444444444444,
              "#bd3786"
             ],
             [
              0.5555555555555556,
              "#d8576b"
             ],
             [
              0.6666666666666666,
              "#ed7953"
             ],
             [
              0.7777777777777778,
              "#fb9f3a"
             ],
             [
              0.8888888888888888,
              "#fdca26"
             ],
             [
              1,
              "#f0f921"
             ]
            ],
            "type": "heatmap"
           }
          ],
          "heatmapgl": [
           {
            "colorbar": {
             "outlinewidth": 0,
             "ticks": ""
            },
            "colorscale": [
             [
              0,
              "#0d0887"
             ],
             [
              0.1111111111111111,
              "#46039f"
             ],
             [
              0.2222222222222222,
              "#7201a8"
             ],
             [
              0.3333333333333333,
              "#9c179e"
             ],
             [
              0.4444444444444444,
              "#bd3786"
             ],
             [
              0.5555555555555556,
              "#d8576b"
             ],
             [
              0.6666666666666666,
              "#ed7953"
             ],
             [
              0.7777777777777778,
              "#fb9f3a"
             ],
             [
              0.8888888888888888,
              "#fdca26"
             ],
             [
              1,
              "#f0f921"
             ]
            ],
            "type": "heatmapgl"
           }
          ],
          "histogram": [
           {
            "marker": {
             "pattern": {
              "fillmode": "overlay",
              "size": 10,
              "solidity": 0.2
             }
            },
            "type": "histogram"
           }
          ],
          "histogram2d": [
           {
            "colorbar": {
             "outlinewidth": 0,
             "ticks": ""
            },
            "colorscale": [
             [
              0,
              "#0d0887"
             ],
             [
              0.1111111111111111,
              "#46039f"
             ],
             [
              0.2222222222222222,
              "#7201a8"
             ],
             [
              0.3333333333333333,
              "#9c179e"
             ],
             [
              0.4444444444444444,
              "#bd3786"
             ],
             [
              0.5555555555555556,
              "#d8576b"
             ],
             [
              0.6666666666666666,
              "#ed7953"
             ],
             [
              0.7777777777777778,
              "#fb9f3a"
             ],
             [
              0.8888888888888888,
              "#fdca26"
             ],
             [
              1,
              "#f0f921"
             ]
            ],
            "type": "histogram2d"
           }
          ],
          "histogram2dcontour": [
           {
            "colorbar": {
             "outlinewidth": 0,
             "ticks": ""
            },
            "colorscale": [
             [
              0,
              "#0d0887"
             ],
             [
              0.1111111111111111,
              "#46039f"
             ],
             [
              0.2222222222222222,
              "#7201a8"
             ],
             [
              0.3333333333333333,
              "#9c179e"
             ],
             [
              0.4444444444444444,
              "#bd3786"
             ],
             [
              0.5555555555555556,
              "#d8576b"
             ],
             [
              0.6666666666666666,
              "#ed7953"
             ],
             [
              0.7777777777777778,
              "#fb9f3a"
             ],
             [
              0.8888888888888888,
              "#fdca26"
             ],
             [
              1,
              "#f0f921"
             ]
            ],
            "type": "histogram2dcontour"
           }
          ],
          "mesh3d": [
           {
            "colorbar": {
             "outlinewidth": 0,
             "ticks": ""
            },
            "type": "mesh3d"
           }
          ],
          "parcoords": [
           {
            "line": {
             "colorbar": {
              "outlinewidth": 0,
              "ticks": ""
             }
            },
            "type": "parcoords"
           }
          ],
          "pie": [
           {
            "automargin": true,
            "type": "pie"
           }
          ],
          "scatter": [
           {
            "fillpattern": {
             "fillmode": "overlay",
             "size": 10,
             "solidity": 0.2
            },
            "type": "scatter"
           }
          ],
          "scatter3d": [
           {
            "line": {
             "colorbar": {
              "outlinewidth": 0,
              "ticks": ""
             }
            },
            "marker": {
             "colorbar": {
              "outlinewidth": 0,
              "ticks": ""
             }
            },
            "type": "scatter3d"
           }
          ],
          "scattercarpet": [
           {
            "marker": {
             "colorbar": {
              "outlinewidth": 0,
              "ticks": ""
             }
            },
            "type": "scattercarpet"
           }
          ],
          "scattergeo": [
           {
            "marker": {
             "colorbar": {
              "outlinewidth": 0,
              "ticks": ""
             }
            },
            "type": "scattergeo"
           }
          ],
          "scattergl": [
           {
            "marker": {
             "colorbar": {
              "outlinewidth": 0,
              "ticks": ""
             }
            },
            "type": "scattergl"
           }
          ],
          "scattermapbox": [
           {
            "marker": {
             "colorbar": {
              "outlinewidth": 0,
              "ticks": ""
             }
            },
            "type": "scattermapbox"
           }
          ],
          "scatterpolar": [
           {
            "marker": {
             "colorbar": {
              "outlinewidth": 0,
              "ticks": ""
             }
            },
            "type": "scatterpolar"
           }
          ],
          "scatterpolargl": [
           {
            "marker": {
             "colorbar": {
              "outlinewidth": 0,
              "ticks": ""
             }
            },
            "type": "scatterpolargl"
           }
          ],
          "scatterternary": [
           {
            "marker": {
             "colorbar": {
              "outlinewidth": 0,
              "ticks": ""
             }
            },
            "type": "scatterternary"
           }
          ],
          "surface": [
           {
            "colorbar": {
             "outlinewidth": 0,
             "ticks": ""
            },
            "colorscale": [
             [
              0,
              "#0d0887"
             ],
             [
              0.1111111111111111,
              "#46039f"
             ],
             [
              0.2222222222222222,
              "#7201a8"
             ],
             [
              0.3333333333333333,
              "#9c179e"
             ],
             [
              0.4444444444444444,
              "#bd3786"
             ],
             [
              0.5555555555555556,
              "#d8576b"
             ],
             [
              0.6666666666666666,
              "#ed7953"
             ],
             [
              0.7777777777777778,
              "#fb9f3a"
             ],
             [
              0.8888888888888888,
              "#fdca26"
             ],
             [
              1,
              "#f0f921"
             ]
            ],
            "type": "surface"
           }
          ],
          "table": [
           {
            "cells": {
             "fill": {
              "color": "#EBF0F8"
             },
             "line": {
              "color": "white"
             }
            },
            "header": {
             "fill": {
              "color": "#C8D4E3"
             },
             "line": {
              "color": "white"
             }
            },
            "type": "table"
           }
          ]
         },
         "layout": {
          "annotationdefaults": {
           "arrowcolor": "#2a3f5f",
           "arrowhead": 0,
           "arrowwidth": 1
          },
          "autotypenumbers": "strict",
          "coloraxis": {
           "colorbar": {
            "outlinewidth": 0,
            "ticks": ""
           }
          },
          "colorscale": {
           "diverging": [
            [
             0,
             "#8e0152"
            ],
            [
             0.1,
             "#c51b7d"
            ],
            [
             0.2,
             "#de77ae"
            ],
            [
             0.3,
             "#f1b6da"
            ],
            [
             0.4,
             "#fde0ef"
            ],
            [
             0.5,
             "#f7f7f7"
            ],
            [
             0.6,
             "#e6f5d0"
            ],
            [
             0.7,
             "#b8e186"
            ],
            [
             0.8,
             "#7fbc41"
            ],
            [
             0.9,
             "#4d9221"
            ],
            [
             1,
             "#276419"
            ]
           ],
           "sequential": [
            [
             0,
             "#0d0887"
            ],
            [
             0.1111111111111111,
             "#46039f"
            ],
            [
             0.2222222222222222,
             "#7201a8"
            ],
            [
             0.3333333333333333,
             "#9c179e"
            ],
            [
             0.4444444444444444,
             "#bd3786"
            ],
            [
             0.5555555555555556,
             "#d8576b"
            ],
            [
             0.6666666666666666,
             "#ed7953"
            ],
            [
             0.7777777777777778,
             "#fb9f3a"
            ],
            [
             0.8888888888888888,
             "#fdca26"
            ],
            [
             1,
             "#f0f921"
            ]
           ],
           "sequentialminus": [
            [
             0,
             "#0d0887"
            ],
            [
             0.1111111111111111,
             "#46039f"
            ],
            [
             0.2222222222222222,
             "#7201a8"
            ],
            [
             0.3333333333333333,
             "#9c179e"
            ],
            [
             0.4444444444444444,
             "#bd3786"
            ],
            [
             0.5555555555555556,
             "#d8576b"
            ],
            [
             0.6666666666666666,
             "#ed7953"
            ],
            [
             0.7777777777777778,
             "#fb9f3a"
            ],
            [
             0.8888888888888888,
             "#fdca26"
            ],
            [
             1,
             "#f0f921"
            ]
           ]
          },
          "colorway": [
           "#636efa",
           "#EF553B",
           "#00cc96",
           "#ab63fa",
           "#FFA15A",
           "#19d3f3",
           "#FF6692",
           "#B6E880",
           "#FF97FF",
           "#FECB52"
          ],
          "font": {
           "color": "#2a3f5f"
          },
          "geo": {
           "bgcolor": "white",
           "lakecolor": "white",
           "landcolor": "#E5ECF6",
           "showlakes": true,
           "showland": true,
           "subunitcolor": "white"
          },
          "hoverlabel": {
           "align": "left"
          },
          "hovermode": "closest",
          "mapbox": {
           "style": "light"
          },
          "paper_bgcolor": "white",
          "plot_bgcolor": "#E5ECF6",
          "polar": {
           "angularaxis": {
            "gridcolor": "white",
            "linecolor": "white",
            "ticks": ""
           },
           "bgcolor": "#E5ECF6",
           "radialaxis": {
            "gridcolor": "white",
            "linecolor": "white",
            "ticks": ""
           }
          },
          "scene": {
           "xaxis": {
            "backgroundcolor": "#E5ECF6",
            "gridcolor": "white",
            "gridwidth": 2,
            "linecolor": "white",
            "showbackground": true,
            "ticks": "",
            "zerolinecolor": "white"
           },
           "yaxis": {
            "backgroundcolor": "#E5ECF6",
            "gridcolor": "white",
            "gridwidth": 2,
            "linecolor": "white",
            "showbackground": true,
            "ticks": "",
            "zerolinecolor": "white"
           },
           "zaxis": {
            "backgroundcolor": "#E5ECF6",
            "gridcolor": "white",
            "gridwidth": 2,
            "linecolor": "white",
            "showbackground": true,
            "ticks": "",
            "zerolinecolor": "white"
           }
          },
          "shapedefaults": {
           "line": {
            "color": "#2a3f5f"
           }
          },
          "ternary": {
           "aaxis": {
            "gridcolor": "white",
            "linecolor": "white",
            "ticks": ""
           },
           "baxis": {
            "gridcolor": "white",
            "linecolor": "white",
            "ticks": ""
           },
           "bgcolor": "#E5ECF6",
           "caxis": {
            "gridcolor": "white",
            "linecolor": "white",
            "ticks": ""
           }
          },
          "title": {
           "x": 0.05
          },
          "xaxis": {
           "automargin": true,
           "gridcolor": "white",
           "linecolor": "white",
           "ticks": "",
           "title": {
            "standoff": 15
           },
           "zerolinecolor": "white",
           "zerolinewidth": 2
          },
          "yaxis": {
           "automargin": true,
           "gridcolor": "white",
           "linecolor": "white",
           "ticks": "",
           "title": {
            "standoff": 15
           },
           "zerolinecolor": "white",
           "zerolinewidth": 2
          }
         }
        },
        "title": {
         "font": {
          "color": "#4D5663"
         }
        },
        "xaxis": {
         "gridcolor": "#E1E5ED",
         "showgrid": true,
         "tickfont": {
          "color": "#4D5663"
         },
         "title": {
          "font": {
           "color": "#4D5663"
          },
          "text": ""
         },
         "zerolinecolor": "#E1E5ED"
        },
        "yaxis": {
         "gridcolor": "#E1E5ED",
         "showgrid": true,
         "tickfont": {
          "color": "#4D5663"
         },
         "title": {
          "font": {
           "color": "#4D5663"
          },
          "text": ""
         },
         "zerolinecolor": "#E1E5ED"
        }
       }
      },
      "text/html": [
       "<div>                            <div id=\"c050f323-bd48-470d-9b97-7341baed3efc\" class=\"plotly-graph-div\" style=\"height:525px; width:100%;\"></div>            <script type=\"text/javascript\">                require([\"plotly\"], function(Plotly) {                    window.PLOTLYENV=window.PLOTLYENV || {};\n",
       "                    window.PLOTLYENV.BASE_URL='https://plot.ly';                                    if (document.getElementById(\"c050f323-bd48-470d-9b97-7341baed3efc\")) {                    Plotly.newPlot(                        \"c050f323-bd48-470d-9b97-7341baed3efc\",                        [{\"colorscale\":[[0.0,\"rgb(165,0,38)\"],[0.1,\"rgb(215,48,39)\"],[0.2,\"rgb(244,109,67)\"],[0.3,\"rgb(253,174,97)\"],[0.4,\"rgb(254,224,144)\"],[0.5,\"rgb(255,255,191)\"],[0.6,\"rgb(224,243,248)\"],[0.7,\"rgb(171,217,233)\"],[0.8,\"rgb(116,173,209)\"],[0.9,\"rgb(69,117,180)\"],[1.0,\"rgb(49,54,149)\"]],\"x\":[0,1,2,3,4],\"y\":[\"x\",\"y\",\"z\"],\"z\":[[1,2,3,4,5],[10,20,30,20,10],[5,4,3,2,1]],\"type\":\"surface\"}],                        {\"legend\":{\"bgcolor\":\"#F5F6F9\",\"font\":{\"color\":\"#4D5663\"}},\"paper_bgcolor\":\"#F5F6F9\",\"plot_bgcolor\":\"#F5F6F9\",\"template\":{\"data\":{\"barpolar\":[{\"marker\":{\"line\":{\"color\":\"#E5ECF6\",\"width\":0.5},\"pattern\":{\"fillmode\":\"overlay\",\"size\":10,\"solidity\":0.2}},\"type\":\"barpolar\"}],\"bar\":[{\"error_x\":{\"color\":\"#2a3f5f\"},\"error_y\":{\"color\":\"#2a3f5f\"},\"marker\":{\"line\":{\"color\":\"#E5ECF6\",\"width\":0.5},\"pattern\":{\"fillmode\":\"overlay\",\"size\":10,\"solidity\":0.2}},\"type\":\"bar\"}],\"carpet\":[{\"aaxis\":{\"endlinecolor\":\"#2a3f5f\",\"gridcolor\":\"white\",\"linecolor\":\"white\",\"minorgridcolor\":\"white\",\"startlinecolor\":\"#2a3f5f\"},\"baxis\":{\"endlinecolor\":\"#2a3f5f\",\"gridcolor\":\"white\",\"linecolor\":\"white\",\"minorgridcolor\":\"white\",\"startlinecolor\":\"#2a3f5f\"},\"type\":\"carpet\"}],\"choropleth\":[{\"colorbar\":{\"outlinewidth\":0,\"ticks\":\"\"},\"type\":\"choropleth\"}],\"contourcarpet\":[{\"colorbar\":{\"outlinewidth\":0,\"ticks\":\"\"},\"type\":\"contourcarpet\"}],\"contour\":[{\"colorbar\":{\"outlinewidth\":0,\"ticks\":\"\"},\"colorscale\":[[0.0,\"#0d0887\"],[0.1111111111111111,\"#46039f\"],[0.2222222222222222,\"#7201a8\"],[0.3333333333333333,\"#9c179e\"],[0.4444444444444444,\"#bd3786\"],[0.5555555555555556,\"#d8576b\"],[0.6666666666666666,\"#ed7953\"],[0.7777777777777778,\"#fb9f3a\"],[0.8888888888888888,\"#fdca26\"],[1.0,\"#f0f921\"]],\"type\":\"contour\"}],\"heatmapgl\":[{\"colorbar\":{\"outlinewidth\":0,\"ticks\":\"\"},\"colorscale\":[[0.0,\"#0d0887\"],[0.1111111111111111,\"#46039f\"],[0.2222222222222222,\"#7201a8\"],[0.3333333333333333,\"#9c179e\"],[0.4444444444444444,\"#bd3786\"],[0.5555555555555556,\"#d8576b\"],[0.6666666666666666,\"#ed7953\"],[0.7777777777777778,\"#fb9f3a\"],[0.8888888888888888,\"#fdca26\"],[1.0,\"#f0f921\"]],\"type\":\"heatmapgl\"}],\"heatmap\":[{\"colorbar\":{\"outlinewidth\":0,\"ticks\":\"\"},\"colorscale\":[[0.0,\"#0d0887\"],[0.1111111111111111,\"#46039f\"],[0.2222222222222222,\"#7201a8\"],[0.3333333333333333,\"#9c179e\"],[0.4444444444444444,\"#bd3786\"],[0.5555555555555556,\"#d8576b\"],[0.6666666666666666,\"#ed7953\"],[0.7777777777777778,\"#fb9f3a\"],[0.8888888888888888,\"#fdca26\"],[1.0,\"#f0f921\"]],\"type\":\"heatmap\"}],\"histogram2dcontour\":[{\"colorbar\":{\"outlinewidth\":0,\"ticks\":\"\"},\"colorscale\":[[0.0,\"#0d0887\"],[0.1111111111111111,\"#46039f\"],[0.2222222222222222,\"#7201a8\"],[0.3333333333333333,\"#9c179e\"],[0.4444444444444444,\"#bd3786\"],[0.5555555555555556,\"#d8576b\"],[0.6666666666666666,\"#ed7953\"],[0.7777777777777778,\"#fb9f3a\"],[0.8888888888888888,\"#fdca26\"],[1.0,\"#f0f921\"]],\"type\":\"histogram2dcontour\"}],\"histogram2d\":[{\"colorbar\":{\"outlinewidth\":0,\"ticks\":\"\"},\"colorscale\":[[0.0,\"#0d0887\"],[0.1111111111111111,\"#46039f\"],[0.2222222222222222,\"#7201a8\"],[0.3333333333333333,\"#9c179e\"],[0.4444444444444444,\"#bd3786\"],[0.5555555555555556,\"#d8576b\"],[0.6666666666666666,\"#ed7953\"],[0.7777777777777778,\"#fb9f3a\"],[0.8888888888888888,\"#fdca26\"],[1.0,\"#f0f921\"]],\"type\":\"histogram2d\"}],\"histogram\":[{\"marker\":{\"pattern\":{\"fillmode\":\"overlay\",\"size\":10,\"solidity\":0.2}},\"type\":\"histogram\"}],\"mesh3d\":[{\"colorbar\":{\"outlinewidth\":0,\"ticks\":\"\"},\"type\":\"mesh3d\"}],\"parcoords\":[{\"line\":{\"colorbar\":{\"outlinewidth\":0,\"ticks\":\"\"}},\"type\":\"parcoords\"}],\"pie\":[{\"automargin\":true,\"type\":\"pie\"}],\"scatter3d\":[{\"line\":{\"colorbar\":{\"outlinewidth\":0,\"ticks\":\"\"}},\"marker\":{\"colorbar\":{\"outlinewidth\":0,\"ticks\":\"\"}},\"type\":\"scatter3d\"}],\"scattercarpet\":[{\"marker\":{\"colorbar\":{\"outlinewidth\":0,\"ticks\":\"\"}},\"type\":\"scattercarpet\"}],\"scattergeo\":[{\"marker\":{\"colorbar\":{\"outlinewidth\":0,\"ticks\":\"\"}},\"type\":\"scattergeo\"}],\"scattergl\":[{\"marker\":{\"colorbar\":{\"outlinewidth\":0,\"ticks\":\"\"}},\"type\":\"scattergl\"}],\"scattermapbox\":[{\"marker\":{\"colorbar\":{\"outlinewidth\":0,\"ticks\":\"\"}},\"type\":\"scattermapbox\"}],\"scatterpolargl\":[{\"marker\":{\"colorbar\":{\"outlinewidth\":0,\"ticks\":\"\"}},\"type\":\"scatterpolargl\"}],\"scatterpolar\":[{\"marker\":{\"colorbar\":{\"outlinewidth\":0,\"ticks\":\"\"}},\"type\":\"scatterpolar\"}],\"scatter\":[{\"fillpattern\":{\"fillmode\":\"overlay\",\"size\":10,\"solidity\":0.2},\"type\":\"scatter\"}],\"scatterternary\":[{\"marker\":{\"colorbar\":{\"outlinewidth\":0,\"ticks\":\"\"}},\"type\":\"scatterternary\"}],\"surface\":[{\"colorbar\":{\"outlinewidth\":0,\"ticks\":\"\"},\"colorscale\":[[0.0,\"#0d0887\"],[0.1111111111111111,\"#46039f\"],[0.2222222222222222,\"#7201a8\"],[0.3333333333333333,\"#9c179e\"],[0.4444444444444444,\"#bd3786\"],[0.5555555555555556,\"#d8576b\"],[0.6666666666666666,\"#ed7953\"],[0.7777777777777778,\"#fb9f3a\"],[0.8888888888888888,\"#fdca26\"],[1.0,\"#f0f921\"]],\"type\":\"surface\"}],\"table\":[{\"cells\":{\"fill\":{\"color\":\"#EBF0F8\"},\"line\":{\"color\":\"white\"}},\"header\":{\"fill\":{\"color\":\"#C8D4E3\"},\"line\":{\"color\":\"white\"}},\"type\":\"table\"}]},\"layout\":{\"annotationdefaults\":{\"arrowcolor\":\"#2a3f5f\",\"arrowhead\":0,\"arrowwidth\":1},\"autotypenumbers\":\"strict\",\"coloraxis\":{\"colorbar\":{\"outlinewidth\":0,\"ticks\":\"\"}},\"colorscale\":{\"diverging\":[[0,\"#8e0152\"],[0.1,\"#c51b7d\"],[0.2,\"#de77ae\"],[0.3,\"#f1b6da\"],[0.4,\"#fde0ef\"],[0.5,\"#f7f7f7\"],[0.6,\"#e6f5d0\"],[0.7,\"#b8e186\"],[0.8,\"#7fbc41\"],[0.9,\"#4d9221\"],[1,\"#276419\"]],\"sequential\":[[0.0,\"#0d0887\"],[0.1111111111111111,\"#46039f\"],[0.2222222222222222,\"#7201a8\"],[0.3333333333333333,\"#9c179e\"],[0.4444444444444444,\"#bd3786\"],[0.5555555555555556,\"#d8576b\"],[0.6666666666666666,\"#ed7953\"],[0.7777777777777778,\"#fb9f3a\"],[0.8888888888888888,\"#fdca26\"],[1.0,\"#f0f921\"]],\"sequentialminus\":[[0.0,\"#0d0887\"],[0.1111111111111111,\"#46039f\"],[0.2222222222222222,\"#7201a8\"],[0.3333333333333333,\"#9c179e\"],[0.4444444444444444,\"#bd3786\"],[0.5555555555555556,\"#d8576b\"],[0.6666666666666666,\"#ed7953\"],[0.7777777777777778,\"#fb9f3a\"],[0.8888888888888888,\"#fdca26\"],[1.0,\"#f0f921\"]]},\"colorway\":[\"#636efa\",\"#EF553B\",\"#00cc96\",\"#ab63fa\",\"#FFA15A\",\"#19d3f3\",\"#FF6692\",\"#B6E880\",\"#FF97FF\",\"#FECB52\"],\"font\":{\"color\":\"#2a3f5f\"},\"geo\":{\"bgcolor\":\"white\",\"lakecolor\":\"white\",\"landcolor\":\"#E5ECF6\",\"showlakes\":true,\"showland\":true,\"subunitcolor\":\"white\"},\"hoverlabel\":{\"align\":\"left\"},\"hovermode\":\"closest\",\"mapbox\":{\"style\":\"light\"},\"paper_bgcolor\":\"white\",\"plot_bgcolor\":\"#E5ECF6\",\"polar\":{\"angularaxis\":{\"gridcolor\":\"white\",\"linecolor\":\"white\",\"ticks\":\"\"},\"bgcolor\":\"#E5ECF6\",\"radialaxis\":{\"gridcolor\":\"white\",\"linecolor\":\"white\",\"ticks\":\"\"}},\"scene\":{\"xaxis\":{\"backgroundcolor\":\"#E5ECF6\",\"gridcolor\":\"white\",\"gridwidth\":2,\"linecolor\":\"white\",\"showbackground\":true,\"ticks\":\"\",\"zerolinecolor\":\"white\"},\"yaxis\":{\"backgroundcolor\":\"#E5ECF6\",\"gridcolor\":\"white\",\"gridwidth\":2,\"linecolor\":\"white\",\"showbackground\":true,\"ticks\":\"\",\"zerolinecolor\":\"white\"},\"zaxis\":{\"backgroundcolor\":\"#E5ECF6\",\"gridcolor\":\"white\",\"gridwidth\":2,\"linecolor\":\"white\",\"showbackground\":true,\"ticks\":\"\",\"zerolinecolor\":\"white\"}},\"shapedefaults\":{\"line\":{\"color\":\"#2a3f5f\"}},\"ternary\":{\"aaxis\":{\"gridcolor\":\"white\",\"linecolor\":\"white\",\"ticks\":\"\"},\"baxis\":{\"gridcolor\":\"white\",\"linecolor\":\"white\",\"ticks\":\"\"},\"bgcolor\":\"#E5ECF6\",\"caxis\":{\"gridcolor\":\"white\",\"linecolor\":\"white\",\"ticks\":\"\"}},\"title\":{\"x\":0.05},\"xaxis\":{\"automargin\":true,\"gridcolor\":\"white\",\"linecolor\":\"white\",\"ticks\":\"\",\"title\":{\"standoff\":15},\"zerolinecolor\":\"white\",\"zerolinewidth\":2},\"yaxis\":{\"automargin\":true,\"gridcolor\":\"white\",\"linecolor\":\"white\",\"ticks\":\"\",\"title\":{\"standoff\":15},\"zerolinecolor\":\"white\",\"zerolinewidth\":2}}},\"title\":{\"font\":{\"color\":\"#4D5663\"}},\"xaxis\":{\"gridcolor\":\"#E1E5ED\",\"showgrid\":true,\"tickfont\":{\"color\":\"#4D5663\"},\"title\":{\"font\":{\"color\":\"#4D5663\"},\"text\":\"\"},\"zerolinecolor\":\"#E1E5ED\"},\"yaxis\":{\"gridcolor\":\"#E1E5ED\",\"showgrid\":true,\"tickfont\":{\"color\":\"#4D5663\"},\"title\":{\"font\":{\"color\":\"#4D5663\"},\"text\":\"\"},\"zerolinecolor\":\"#E1E5ED\"}},                        {\"showLink\": true, \"linkText\": \"Export to plot.ly\", \"plotlyServerURL\": \"https://plot.ly\", \"responsive\": true}                    ).then(function(){\n",
       "                            \n",
       "var gd = document.getElementById('c050f323-bd48-470d-9b97-7341baed3efc');\n",
       "var x = new MutationObserver(function (mutations, observer) {{\n",
       "        var display = window.getComputedStyle(gd).display;\n",
       "        if (!display || display === 'none') {{\n",
       "            console.log([gd, 'removed!']);\n",
       "            Plotly.purge(gd);\n",
       "            observer.disconnect();\n",
       "        }}\n",
       "}});\n",
       "\n",
       "// Listen for the removal of the full notebook cells\n",
       "var notebookContainer = gd.closest('#notebook-container');\n",
       "if (notebookContainer) {{\n",
       "    x.observe(notebookContainer, {childList: true});\n",
       "}}\n",
       "\n",
       "// Listen for the clearing of the current output cell\n",
       "var outputEl = gd.closest('.output');\n",
       "if (outputEl) {{\n",
       "    x.observe(outputEl, {childList: true});\n",
       "}}\n",
       "\n",
       "                        })                };                });            </script>        </div>"
      ]
     },
     "metadata": {},
     "output_type": "display_data"
    }
   ],
   "source": [
    "df3 = pd.DataFrame({'x':[1,2,3,4,5],'y':[10,20,30,20,10],'z':[5,4,3,2,1]})\n",
    "df3.iplot(kind='surface',colorscale='rdylbu')"
   ]
  },
  {
   "cell_type": "markdown",
   "metadata": {},
   "source": [
    "## Spread"
   ]
  },
  {
   "cell_type": "code",
   "execution_count": 22,
   "metadata": {
    "collapsed": false
   },
   "outputs": [
    {
     "ename": "AttributeError",
     "evalue": "module 'pandas' has no attribute 'np'",
     "output_type": "error",
     "traceback": [
      "\u001b[0;31m---------------------------------------------------------------------------\u001b[0m",
      "\u001b[0;31mAttributeError\u001b[0m                            Traceback (most recent call last)",
      "\u001b[1;32m/home/efreet/Ali/Udemy Courses/Refactored_Py_DS_ML_Bootcamp-master/08-Plotly-and-Cufflinks/01-Plotly and Cufflinks.ipynb Cell 24\u001b[0m line \u001b[0;36m1\n\u001b[0;32m----> <a href='vscode-notebook-cell:/home/efreet/Ali/Udemy%20Courses/Refactored_Py_DS_ML_Bootcamp-master/08-Plotly-and-Cufflinks/01-Plotly%20and%20Cufflinks.ipynb#X32sZmlsZQ%3D%3D?line=0'>1</a>\u001b[0m df[[\u001b[39m'\u001b[39;49m\u001b[39mA\u001b[39;49m\u001b[39m'\u001b[39;49m, \u001b[39m'\u001b[39;49m\u001b[39mB\u001b[39;49m\u001b[39m'\u001b[39;49m]]\u001b[39m.\u001b[39;49miplot(kind\u001b[39m=\u001b[39;49m\u001b[39m'\u001b[39;49m\u001b[39mspread\u001b[39;49m\u001b[39m'\u001b[39;49m)\n\u001b[1;32m      <a href='vscode-notebook-cell:/home/efreet/Ali/Udemy%20Courses/Refactored_Py_DS_ML_Bootcamp-master/08-Plotly-and-Cufflinks/01-Plotly%20and%20Cufflinks.ipynb#X32sZmlsZQ%3D%3D?line=1'>2</a>\u001b[0m \u001b[39m# import plotly.express as px\u001b[39;00m\n\u001b[1;32m      <a href='vscode-notebook-cell:/home/efreet/Ali/Udemy%20Courses/Refactored_Py_DS_ML_Bootcamp-master/08-Plotly-and-Cufflinks/01-Plotly%20and%20Cufflinks.ipynb#X32sZmlsZQ%3D%3D?line=2'>3</a>\u001b[0m \n\u001b[1;32m      <a href='vscode-notebook-cell:/home/efreet/Ali/Udemy%20Courses/Refactored_Py_DS_ML_Bootcamp-master/08-Plotly-and-Cufflinks/01-Plotly%20and%20Cufflinks.ipynb#X32sZmlsZQ%3D%3D?line=3'>4</a>\u001b[0m \u001b[39m# px.line(df, x=df.index, y=df['A'] - df['B'], title='Spread Plot').show()\u001b[39;00m\n",
      "File \u001b[0;32m~/anaconda3/envs/Udemy/lib/python3.11/site-packages/cufflinks/plotlytools.py:849\u001b[0m, in \u001b[0;36m_iplot\u001b[0;34m(self, kind, data, layout, filename, sharing, title, xTitle, yTitle, zTitle, theme, colors, colorscale, fill, width, dash, mode, interpolation, symbol, size, barmode, sortbars, bargap, bargroupgap, bins, histnorm, histfunc, orientation, boxpoints, annotations, keys, bestfit, bestfit_colors, mean, mean_colors, categories, x, y, z, text, gridcolor, zerolinecolor, margin, labels, values, secondary_y, secondary_y_title, subplots, shape, error_x, error_y, error_type, locations, lon, lat, asFrame, asDates, asFigure, asImage, dimensions, asPlot, asUrl, online, **kwargs)\u001b[0m\n\u001b[1;32m    847\u001b[0m \u001b[39mif\u001b[39;00m kind\u001b[39m==\u001b[39m\u001b[39m'\u001b[39m\u001b[39mspread\u001b[39m\u001b[39m'\u001b[39m:\n\u001b[1;32m    848\u001b[0m \ttrace\u001b[39m=\u001b[39m\u001b[39mself\u001b[39m\u001b[39m.\u001b[39mapply(\u001b[39mlambda\u001b[39;00m x:x[\u001b[39m0\u001b[39m]\u001b[39m-\u001b[39mx[\u001b[39m1\u001b[39m],axis\u001b[39m=\u001b[39m\u001b[39m1\u001b[39m)\n\u001b[0;32m--> 849\u001b[0m \tpositive\u001b[39m=\u001b[39mtrace\u001b[39m.\u001b[39;49mapply(\u001b[39mlambda\u001b[39;49;00m x:x \u001b[39mif\u001b[39;49;00m x\u001b[39m>\u001b[39;49m\u001b[39m=\u001b[39;49m\u001b[39m0\u001b[39;49m \u001b[39melse\u001b[39;49;00m pd\u001b[39m.\u001b[39;49mnp\u001b[39m.\u001b[39;49mnan)\n\u001b[1;32m    850\u001b[0m \tnegative\u001b[39m=\u001b[39mtrace\u001b[39m.\u001b[39mapply(\u001b[39mlambda\u001b[39;00m x:x \u001b[39mif\u001b[39;00m x\u001b[39m<\u001b[39m\u001b[39m0\u001b[39m \u001b[39melse\u001b[39;00m pd\u001b[39m.\u001b[39mnp\u001b[39m.\u001b[39mnan)\n\u001b[1;32m    851\u001b[0m \ttrace\u001b[39m=\u001b[39mpd\u001b[39m.\u001b[39mDataFrame({\u001b[39m'\u001b[39m\u001b[39mpositive\u001b[39m\u001b[39m'\u001b[39m:positive,\u001b[39m'\u001b[39m\u001b[39mnegative\u001b[39m\u001b[39m'\u001b[39m:negative})\n",
      "File \u001b[0;32m~/anaconda3/envs/Udemy/lib/python3.11/site-packages/pandas/core/series.py:4630\u001b[0m, in \u001b[0;36mSeries.apply\u001b[0;34m(self, func, convert_dtype, args, **kwargs)\u001b[0m\n\u001b[1;32m   4520\u001b[0m \u001b[39mdef\u001b[39;00m \u001b[39mapply\u001b[39m(\n\u001b[1;32m   4521\u001b[0m     \u001b[39mself\u001b[39m,\n\u001b[1;32m   4522\u001b[0m     func: AggFuncType,\n\u001b[0;32m   (...)\u001b[0m\n\u001b[1;32m   4525\u001b[0m     \u001b[39m*\u001b[39m\u001b[39m*\u001b[39mkwargs,\n\u001b[1;32m   4526\u001b[0m ) \u001b[39m-\u001b[39m\u001b[39m>\u001b[39m DataFrame \u001b[39m|\u001b[39m Series:\n\u001b[1;32m   4527\u001b[0m \u001b[39m    \u001b[39m\u001b[39m\"\"\"\u001b[39;00m\n\u001b[1;32m   4528\u001b[0m \u001b[39m    Invoke function on values of Series.\u001b[39;00m\n\u001b[1;32m   4529\u001b[0m \n\u001b[0;32m   (...)\u001b[0m\n\u001b[1;32m   4628\u001b[0m \u001b[39m    dtype: float64\u001b[39;00m\n\u001b[1;32m   4629\u001b[0m \u001b[39m    \"\"\"\u001b[39;00m\n\u001b[0;32m-> 4630\u001b[0m     \u001b[39mreturn\u001b[39;00m SeriesApply(\u001b[39mself\u001b[39;49m, func, convert_dtype, args, kwargs)\u001b[39m.\u001b[39;49mapply()\n",
      "File \u001b[0;32m~/anaconda3/envs/Udemy/lib/python3.11/site-packages/pandas/core/apply.py:1025\u001b[0m, in \u001b[0;36mSeriesApply.apply\u001b[0;34m(self)\u001b[0m\n\u001b[1;32m   1022\u001b[0m     \u001b[39mreturn\u001b[39;00m \u001b[39mself\u001b[39m\u001b[39m.\u001b[39mapply_str()\n\u001b[1;32m   1024\u001b[0m \u001b[39m# self.f is Callable\u001b[39;00m\n\u001b[0;32m-> 1025\u001b[0m \u001b[39mreturn\u001b[39;00m \u001b[39mself\u001b[39;49m\u001b[39m.\u001b[39;49mapply_standard()\n",
      "File \u001b[0;32m~/anaconda3/envs/Udemy/lib/python3.11/site-packages/pandas/core/apply.py:1076\u001b[0m, in \u001b[0;36mSeriesApply.apply_standard\u001b[0;34m(self)\u001b[0m\n\u001b[1;32m   1074\u001b[0m     \u001b[39melse\u001b[39;00m:\n\u001b[1;32m   1075\u001b[0m         values \u001b[39m=\u001b[39m obj\u001b[39m.\u001b[39mastype(\u001b[39mobject\u001b[39m)\u001b[39m.\u001b[39m_values\n\u001b[0;32m-> 1076\u001b[0m         mapped \u001b[39m=\u001b[39m lib\u001b[39m.\u001b[39;49mmap_infer(\n\u001b[1;32m   1077\u001b[0m             values,\n\u001b[1;32m   1078\u001b[0m             f,\n\u001b[1;32m   1079\u001b[0m             convert\u001b[39m=\u001b[39;49m\u001b[39mself\u001b[39;49m\u001b[39m.\u001b[39;49mconvert_dtype,\n\u001b[1;32m   1080\u001b[0m         )\n\u001b[1;32m   1082\u001b[0m \u001b[39mif\u001b[39;00m \u001b[39mlen\u001b[39m(mapped) \u001b[39mand\u001b[39;00m \u001b[39misinstance\u001b[39m(mapped[\u001b[39m0\u001b[39m], ABCSeries):\n\u001b[1;32m   1083\u001b[0m     \u001b[39m# GH#43986 Need to do list(mapped) in order to get treated as nested\u001b[39;00m\n\u001b[1;32m   1084\u001b[0m     \u001b[39m#  See also GH#25959 regarding EA support\u001b[39;00m\n\u001b[1;32m   1085\u001b[0m     \u001b[39mreturn\u001b[39;00m obj\u001b[39m.\u001b[39m_constructor_expanddim(\u001b[39mlist\u001b[39m(mapped), index\u001b[39m=\u001b[39mobj\u001b[39m.\u001b[39mindex)\n",
      "File \u001b[0;32m~/anaconda3/envs/Udemy/lib/python3.11/site-packages/pandas/_libs/lib.pyx:2834\u001b[0m, in \u001b[0;36mpandas._libs.lib.map_infer\u001b[0;34m()\u001b[0m\n",
      "File \u001b[0;32m~/anaconda3/envs/Udemy/lib/python3.11/site-packages/cufflinks/plotlytools.py:849\u001b[0m, in \u001b[0;36m_iplot.<locals>.<lambda>\u001b[0;34m(x)\u001b[0m\n\u001b[1;32m    847\u001b[0m \u001b[39mif\u001b[39;00m kind\u001b[39m==\u001b[39m\u001b[39m'\u001b[39m\u001b[39mspread\u001b[39m\u001b[39m'\u001b[39m:\n\u001b[1;32m    848\u001b[0m \ttrace\u001b[39m=\u001b[39m\u001b[39mself\u001b[39m\u001b[39m.\u001b[39mapply(\u001b[39mlambda\u001b[39;00m x:x[\u001b[39m0\u001b[39m]\u001b[39m-\u001b[39mx[\u001b[39m1\u001b[39m],axis\u001b[39m=\u001b[39m\u001b[39m1\u001b[39m)\n\u001b[0;32m--> 849\u001b[0m \tpositive\u001b[39m=\u001b[39mtrace\u001b[39m.\u001b[39mapply(\u001b[39mlambda\u001b[39;00m x:x \u001b[39mif\u001b[39;00m x\u001b[39m>\u001b[39m\u001b[39m=\u001b[39m\u001b[39m0\u001b[39m \u001b[39melse\u001b[39;00m pd\u001b[39m.\u001b[39;49mnp\u001b[39m.\u001b[39mnan)\n\u001b[1;32m    850\u001b[0m \tnegative\u001b[39m=\u001b[39mtrace\u001b[39m.\u001b[39mapply(\u001b[39mlambda\u001b[39;00m x:x \u001b[39mif\u001b[39;00m x\u001b[39m<\u001b[39m\u001b[39m0\u001b[39m \u001b[39melse\u001b[39;00m pd\u001b[39m.\u001b[39mnp\u001b[39m.\u001b[39mnan)\n\u001b[1;32m    851\u001b[0m \ttrace\u001b[39m=\u001b[39mpd\u001b[39m.\u001b[39mDataFrame({\u001b[39m'\u001b[39m\u001b[39mpositive\u001b[39m\u001b[39m'\u001b[39m:positive,\u001b[39m'\u001b[39m\u001b[39mnegative\u001b[39m\u001b[39m'\u001b[39m:negative})\n",
      "\u001b[0;31mAttributeError\u001b[0m: module 'pandas' has no attribute 'np'"
     ]
    }
   ],
   "source": [
    "\n",
    "df[['A', 'B']].iplot(kind='spread')\n",
    "# import plotly.express as px\n",
    "\n",
    "# px.line(df, x=df.index, y=df['A'] - df['B'], title='Spread Plot').show()\n"
   ]
  },
  {
   "cell_type": "markdown",
   "metadata": {},
   "source": [
    "## histogram"
   ]
  },
  {
   "cell_type": "code",
   "execution_count": 20,
   "metadata": {
    "collapsed": false
   },
   "outputs": [
    {
     "ename": "ValueError",
     "evalue": "Mime type rendering requires nbformat>=4.2.0 but it is not installed",
     "output_type": "error",
     "traceback": [
      "\u001b[0;31m---------------------------------------------------------------------------\u001b[0m",
      "\u001b[0;31mValueError\u001b[0m                                Traceback (most recent call last)",
      "\u001b[1;32m/home/efreet/Ali/Udemy Courses/Refactored_Py_DS_ML_Bootcamp-master/08-Plotly-and-Cufflinks/01-Plotly and Cufflinks.ipynb Cell 26\u001b[0m line \u001b[0;36m1\n\u001b[0;32m----> <a href='vscode-notebook-cell:/home/efreet/Ali/Udemy%20Courses/Refactored_Py_DS_ML_Bootcamp-master/08-Plotly-and-Cufflinks/01-Plotly%20and%20Cufflinks.ipynb#X34sZmlsZQ%3D%3D?line=0'>1</a>\u001b[0m df[\u001b[39m'\u001b[39;49m\u001b[39mA\u001b[39;49m\u001b[39m'\u001b[39;49m]\u001b[39m.\u001b[39;49miplot(kind\u001b[39m=\u001b[39;49m\u001b[39m'\u001b[39;49m\u001b[39mhist\u001b[39;49m\u001b[39m'\u001b[39;49m,bins\u001b[39m=\u001b[39;49m\u001b[39m25\u001b[39;49m)\n",
      "File \u001b[0;32m~/anaconda3/envs/Udemy/lib/python3.11/site-packages/cufflinks/plotlytools.py:1216\u001b[0m, in \u001b[0;36m_iplot\u001b[0;34m(self, kind, data, layout, filename, sharing, title, xTitle, yTitle, zTitle, theme, colors, colorscale, fill, width, dash, mode, interpolation, symbol, size, barmode, sortbars, bargap, bargroupgap, bins, histnorm, histfunc, orientation, boxpoints, annotations, keys, bestfit, bestfit_colors, mean, mean_colors, categories, x, y, z, text, gridcolor, zerolinecolor, margin, labels, values, secondary_y, secondary_y_title, subplots, shape, error_x, error_y, error_type, locations, lon, lat, asFrame, asDates, asFigure, asImage, dimensions, asPlot, asUrl, online, **kwargs)\u001b[0m\n\u001b[1;32m   1214\u001b[0m \t\u001b[39mreturn\u001b[39;00m Figure(figure)\n\u001b[1;32m   1215\u001b[0m \u001b[39melse\u001b[39;00m:\n\u001b[0;32m-> 1216\u001b[0m \t\u001b[39mreturn\u001b[39;00m iplot(figure,validate\u001b[39m=\u001b[39;49mvalidate,sharing\u001b[39m=\u001b[39;49msharing,filename\u001b[39m=\u001b[39;49mfilename,\n\u001b[1;32m   1217\u001b[0m \t\t online\u001b[39m=\u001b[39;49monline,asImage\u001b[39m=\u001b[39;49masImage,asUrl\u001b[39m=\u001b[39;49masUrl,asPlot\u001b[39m=\u001b[39;49masPlot,\n\u001b[1;32m   1218\u001b[0m \t\t dimensions\u001b[39m=\u001b[39;49mdimensions,display_image\u001b[39m=\u001b[39;49mkwargs\u001b[39m.\u001b[39;49mget(\u001b[39m'\u001b[39;49m\u001b[39mdisplay_image\u001b[39;49m\u001b[39m'\u001b[39;49m,\u001b[39mTrue\u001b[39;49;00m))\n",
      "File \u001b[0;32m~/anaconda3/envs/Udemy/lib/python3.11/site-packages/cufflinks/plotlytools.py:1468\u001b[0m, in \u001b[0;36miplot\u001b[0;34m(figure, validate, sharing, filename, online, asImage, asUrl, asPlot, dimensions, display_image, **kwargs)\u001b[0m\n\u001b[1;32m   1466\u001b[0m \u001b[39m## iplot\u001b[39;00m\n\u001b[1;32m   1467\u001b[0m \u001b[39mif\u001b[39;00m offline\u001b[39m.\u001b[39mis_offline() \u001b[39mand\u001b[39;00m \u001b[39mnot\u001b[39;00m online:\t\n\u001b[0;32m-> 1468\u001b[0m \t\u001b[39mreturn\u001b[39;00m offline\u001b[39m.\u001b[39;49mpy_offline\u001b[39m.\u001b[39;49miplot(figure, validate\u001b[39m=\u001b[39;49mvalidate, filename\u001b[39m=\u001b[39;49mfilename, show_link\u001b[39m=\u001b[39;49mshow_link, link_text\u001b[39m=\u001b[39;49mlink_text, config\u001b[39m=\u001b[39;49mconfig)\n\u001b[1;32m   1469\u001b[0m \u001b[39melse\u001b[39;00m:\t\t\n\u001b[1;32m   1470\u001b[0m \t\u001b[39mreturn\u001b[39;00m py\u001b[39m.\u001b[39miplot(figure,validate\u001b[39m=\u001b[39mvalidate,sharing\u001b[39m=\u001b[39msharing,\n\u001b[1;32m   1471\u001b[0m \t\t\t\t\tfilename\u001b[39m=\u001b[39mfilename)\n",
      "File \u001b[0;32m~/anaconda3/envs/Udemy/lib/python3.11/site-packages/plotly/offline/offline.py:392\u001b[0m, in \u001b[0;36miplot\u001b[0;34m(figure_or_data, show_link, link_text, validate, image, filename, image_width, image_height, config, auto_play, animation_opts)\u001b[0m\n\u001b[1;32m    387\u001b[0m post_script \u001b[39m=\u001b[39m build_save_image_post_script(\n\u001b[1;32m    388\u001b[0m     image, filename, image_height, image_width, \u001b[39m\"\u001b[39m\u001b[39miplot\u001b[39m\u001b[39m\"\u001b[39m\n\u001b[1;32m    389\u001b[0m )\n\u001b[1;32m    391\u001b[0m \u001b[39m# Show figure\u001b[39;00m\n\u001b[0;32m--> 392\u001b[0m pio\u001b[39m.\u001b[39;49mshow(\n\u001b[1;32m    393\u001b[0m     figure,\n\u001b[1;32m    394\u001b[0m     validate\u001b[39m=\u001b[39;49mvalidate,\n\u001b[1;32m    395\u001b[0m     config\u001b[39m=\u001b[39;49mconfig,\n\u001b[1;32m    396\u001b[0m     auto_play\u001b[39m=\u001b[39;49mauto_play,\n\u001b[1;32m    397\u001b[0m     post_script\u001b[39m=\u001b[39;49mpost_script,\n\u001b[1;32m    398\u001b[0m     animation_opts\u001b[39m=\u001b[39;49manimation_opts,\n\u001b[1;32m    399\u001b[0m )\n",
      "File \u001b[0;32m~/anaconda3/envs/Udemy/lib/python3.11/site-packages/plotly/io/_renderers.py:396\u001b[0m, in \u001b[0;36mshow\u001b[0;34m(fig, renderer, validate, **kwargs)\u001b[0m\n\u001b[1;32m    391\u001b[0m         \u001b[39mraise\u001b[39;00m \u001b[39mValueError\u001b[39;00m(\n\u001b[1;32m    392\u001b[0m             \u001b[39m\"\u001b[39m\u001b[39mMime type rendering requires ipython but it is not installed\u001b[39m\u001b[39m\"\u001b[39m\n\u001b[1;32m    393\u001b[0m         )\n\u001b[1;32m    395\u001b[0m     \u001b[39mif\u001b[39;00m \u001b[39mnot\u001b[39;00m nbformat \u001b[39mor\u001b[39;00m LooseVersion(nbformat\u001b[39m.\u001b[39m__version__) \u001b[39m<\u001b[39m LooseVersion(\u001b[39m\"\u001b[39m\u001b[39m4.2.0\u001b[39m\u001b[39m\"\u001b[39m):\n\u001b[0;32m--> 396\u001b[0m         \u001b[39mraise\u001b[39;00m \u001b[39mValueError\u001b[39;00m(\n\u001b[1;32m    397\u001b[0m             \u001b[39m\"\u001b[39m\u001b[39mMime type rendering requires nbformat>=4.2.0 but it is not installed\u001b[39m\u001b[39m\"\u001b[39m\n\u001b[1;32m    398\u001b[0m         )\n\u001b[1;32m    400\u001b[0m     ipython_display\u001b[39m.\u001b[39mdisplay(bundle, raw\u001b[39m=\u001b[39m\u001b[39mTrue\u001b[39;00m)\n\u001b[1;32m    402\u001b[0m \u001b[39m# external renderers\u001b[39;00m\n",
      "\u001b[0;31mValueError\u001b[0m: Mime type rendering requires nbformat>=4.2.0 but it is not installed"
     ]
    }
   ],
   "source": [
    "df['A'].iplot(kind='hist',bins=25)"
   ]
  },
  {
   "cell_type": "code",
   "execution_count": 23,
   "metadata": {
    "collapsed": false
   },
   "outputs": [
    {
     "data": {
      "application/vnd.plotly.v1+json": {
       "config": {
        "linkText": "Export to plot.ly",
        "plotlyServerURL": "https://plot.ly",
        "showLink": true
       },
       "data": [
        {
         "marker": {
          "color": [
           "rgb(255, 153, 51)",
           "rgb(55, 128, 191)",
           "rgb(50, 171, 96)",
           "rgb(128, 0, 128)",
           "rgb(219, 64, 82)",
           "rgb(0, 128, 128)",
           "rgb(255, 255, 51)",
           "rgb(128, 128, 0)",
           "rgb(251, 128, 114)",
           "rgb(128, 177, 211)"
          ],
          "line": {
           "width": 1.3
          },
          "size": [
           64,
           61,
           112,
           67,
           93,
           49,
           73,
           57,
           55,
           69,
           29,
           89,
           39,
           48,
           43,
           55,
           60,
           75,
           54,
           54,
           50,
           72,
           82,
           82,
           95,
           67,
           49,
           56,
           103,
           84,
           85,
           39,
           63,
           61,
           53,
           80,
           44,
           66,
           62,
           64,
           56,
           31,
           96,
           35,
           62,
           31,
           62,
           52,
           100,
           73,
           22,
           70,
           70,
           67,
           32,
           90,
           73,
           56,
           62,
           50,
           34,
           73,
           39,
           48,
           57,
           43,
           87,
           65,
           50,
           20,
           60,
           52,
           85,
           29,
           50,
           12,
           29,
           61,
           58,
           82,
           61,
           40,
           66,
           76,
           83,
           50,
           64,
           57,
           82,
           39,
           89,
           60,
           79,
           53,
           65,
           42,
           47,
           44,
           96,
           56
          ],
          "symbol": "circle"
         },
         "mode": "markers",
         "text": "",
         "type": "scatter",
         "x": [
          -0.3398988896464808,
          -1.6320219123904456,
          1.0833580654835377,
          -0.5221441697533774,
          1.8870577989950417,
          -0.1519022894899191,
          1.738502057334876,
          1.7056108965703825,
          -0.6441517480790271,
          1.446088337377909,
          -0.40837595317937014,
          -0.3845503118092821,
          -1.1751265443795977,
          0.3867803121745835,
          -0.7426482243780839,
          -0.43683293687948244,
          -0.5088760710426806,
          -1.8543028311017542,
          -0.6332326401681622,
          0.1462914660828161,
          0.8830579721724487,
          0.3971948472370433,
          -1.1204484108009625,
          0.40106396407362593,
          -0.4067665034368915,
          0.47737803056416306,
          -1.9370437378754735,
          0.7292434252915854,
          -0.9651293257767154,
          -0.19170860679186263,
          -1.7686489673158163,
          -0.2537637565216562,
          0.6425981649526561,
          -1.0591476195161171,
          1.0667946528907304,
          -0.39160597886280846,
          -1.4037276993584953,
          1.8542164451445762,
          -1.0897874477601286,
          -0.6166742828751661,
          1.0275457033922706,
          -0.6551011328439404,
          -1.9316441131174051,
          0.8954051917268987,
          -0.929859420870943,
          -2.6074766673535854,
          -0.3260344298623395,
          -2.0670868762703063,
          0.09550434985732024,
          -0.5773800461329046,
          0.6547371662725984,
          -0.02746341612035001,
          1.0210359693291602,
          0.7901461323588164,
          0.15550268839189296,
          0.06477080315932901,
          -0.3876351988405084,
          -0.2589635071591233,
          0.610293410412037,
          0.35704353940696576,
          0.004869934166238935,
          2.084087092727924,
          0.44549222902202584,
          -0.8300681314305705,
          0.380011831731752,
          0.033614054409343785,
          0.2676525442637065,
          0.7269584845831824,
          1.1340583727418463,
          1.2306196535659573,
          0.3989981915062393,
          -0.020588125991491804,
          -0.590085318221706,
          0.7094993217735794,
          -0.07682209611761445,
          1.132665491703427,
          0.49475019050692304,
          -0.13891134715709394,
          -1.07586707290558,
          0.4441980300520878,
          -1.4868717602776649,
          -2.5060290067500364,
          1.8586312192790821,
          2.0462249338926135,
          -2.0116341336398333,
          1.2762416640493945,
          0.463117861856559,
          -0.6091834606663771,
          -0.752894001502793,
          0.3475782028223775,
          0.17383952520650456,
          -0.794650830102094,
          -0.10028232258399258,
          -1.7467047199059293,
          0.8942392582127465,
          0.6040802134291302,
          0.2699602012812688,
          1.8279522592497466,
          -0.4637391036140166,
          1.0973521416489043
         ],
         "y": [
          1.1982473059308325,
          1.6356636244629494,
          -0.8905655629472256,
          -1.807838351873487,
          0.8059253931077515,
          0.35179663251839494,
          3.286566911427533,
          2.8856879704436356,
          -1.6302195439392437,
          -0.46559364417373905,
          0.5722312952267994,
          0.13493420680389276,
          -0.042561264746407916,
          -1.3888743215255817,
          -1.0400399241781164,
          -0.12167381490054667,
          -0.7290940015517252,
          -0.09889921265528098,
          -0.3312005457673756,
          0.5261642154537874,
          0.6682052848327581,
          0.35916570838529577,
          -0.19295278672651348,
          1.1220259215142658,
          -0.5462425995736458,
          -0.3925935589237412,
          0.169345302240433,
          -1.7922818269161258,
          1.8628476133897467,
          -0.5340917673987183,
          0.04344248660006066,
          2.277202365749576,
          -0.25663557433485684,
          -1.1153026316907826,
          -0.7784819485526674,
          -0.27000384523590626,
          0.4977305798284601,
          1.4767340668012499,
          -0.3632677807686293,
          -1.5302748335828096,
          0.7467921741550148,
          -2.2970024424818507,
          -1.4460996582475492,
          -2.106907488696165,
          1.298016626562994,
          -0.324365394283865,
          -0.1449205658054919,
          0.12792883571809066,
          -0.08380256741136723,
          0.5187857885798648,
          -0.2776577943424909,
          -2.4766660149823316,
          0.875350737970101,
          0.5505238029568075,
          0.6035147525603715,
          -0.639981438984545,
          0.5973527193033242,
          -0.4392231849559408,
          1.2362135230485218,
          2.067677929479437,
          0.6375611227756837,
          -0.29871600887110944,
          0.2134919337824578,
          -0.5394598871410751,
          -0.3347505316342336,
          0.0801216955297691,
          -0.042805121119385926,
          0.37368049305987766,
          -0.3219801945746798,
          -0.4208666241915466,
          -0.4979873718658901,
          0.005609253028819707,
          0.03608464305536002,
          -0.029992147476621468,
          0.142788839251483,
          0.10275057800983606,
          -0.7223937306717052,
          -1.31611367941755,
          0.11682713512843675,
          0.36508224033026243,
          0.016701958707791845,
          0.22698760232656448,
          1.5465654668606335,
          -0.39381887564259743,
          1.142054801169338,
          1.2133216968804088,
          -0.5278164628670937,
          1.4884792811106382,
          -0.951696847783406,
          1.7120260108326464,
          -0.1454210212980894,
          0.7729670349626565,
          -1.398599836046639,
          0.2936544015837765,
          -1.4724797978802802,
          -1.152984289788025,
          -0.4244596261425564,
          0.35510940547754,
          1.1863954719576226,
          0.7641118974979407
         ]
        }
       ],
       "layout": {
        "legend": {
         "bgcolor": "#F5F6F9",
         "font": {
          "color": "#4D5663"
         }
        },
        "paper_bgcolor": "#F5F6F9",
        "plot_bgcolor": "#F5F6F9",
        "template": {
         "data": {
          "bar": [
           {
            "error_x": {
             "color": "#2a3f5f"
            },
            "error_y": {
             "color": "#2a3f5f"
            },
            "marker": {
             "line": {
              "color": "#E5ECF6",
              "width": 0.5
             },
             "pattern": {
              "fillmode": "overlay",
              "size": 10,
              "solidity": 0.2
             }
            },
            "type": "bar"
           }
          ],
          "barpolar": [
           {
            "marker": {
             "line": {
              "color": "#E5ECF6",
              "width": 0.5
             },
             "pattern": {
              "fillmode": "overlay",
              "size": 10,
              "solidity": 0.2
             }
            },
            "type": "barpolar"
           }
          ],
          "carpet": [
           {
            "aaxis": {
             "endlinecolor": "#2a3f5f",
             "gridcolor": "white",
             "linecolor": "white",
             "minorgridcolor": "white",
             "startlinecolor": "#2a3f5f"
            },
            "baxis": {
             "endlinecolor": "#2a3f5f",
             "gridcolor": "white",
             "linecolor": "white",
             "minorgridcolor": "white",
             "startlinecolor": "#2a3f5f"
            },
            "type": "carpet"
           }
          ],
          "choropleth": [
           {
            "colorbar": {
             "outlinewidth": 0,
             "ticks": ""
            },
            "type": "choropleth"
           }
          ],
          "contour": [
           {
            "colorbar": {
             "outlinewidth": 0,
             "ticks": ""
            },
            "colorscale": [
             [
              0,
              "#0d0887"
             ],
             [
              0.1111111111111111,
              "#46039f"
             ],
             [
              0.2222222222222222,
              "#7201a8"
             ],
             [
              0.3333333333333333,
              "#9c179e"
             ],
             [
              0.4444444444444444,
              "#bd3786"
             ],
             [
              0.5555555555555556,
              "#d8576b"
             ],
             [
              0.6666666666666666,
              "#ed7953"
             ],
             [
              0.7777777777777778,
              "#fb9f3a"
             ],
             [
              0.8888888888888888,
              "#fdca26"
             ],
             [
              1,
              "#f0f921"
             ]
            ],
            "type": "contour"
           }
          ],
          "contourcarpet": [
           {
            "colorbar": {
             "outlinewidth": 0,
             "ticks": ""
            },
            "type": "contourcarpet"
           }
          ],
          "heatmap": [
           {
            "colorbar": {
             "outlinewidth": 0,
             "ticks": ""
            },
            "colorscale": [
             [
              0,
              "#0d0887"
             ],
             [
              0.1111111111111111,
              "#46039f"
             ],
             [
              0.2222222222222222,
              "#7201a8"
             ],
             [
              0.3333333333333333,
              "#9c179e"
             ],
             [
              0.4444444444444444,
              "#bd3786"
             ],
             [
              0.5555555555555556,
              "#d8576b"
             ],
             [
              0.6666666666666666,
              "#ed7953"
             ],
             [
              0.7777777777777778,
              "#fb9f3a"
             ],
             [
              0.8888888888888888,
              "#fdca26"
             ],
             [
              1,
              "#f0f921"
             ]
            ],
            "type": "heatmap"
           }
          ],
          "heatmapgl": [
           {
            "colorbar": {
             "outlinewidth": 0,
             "ticks": ""
            },
            "colorscale": [
             [
              0,
              "#0d0887"
             ],
             [
              0.1111111111111111,
              "#46039f"
             ],
             [
              0.2222222222222222,
              "#7201a8"
             ],
             [
              0.3333333333333333,
              "#9c179e"
             ],
             [
              0.4444444444444444,
              "#bd3786"
             ],
             [
              0.5555555555555556,
              "#d8576b"
             ],
             [
              0.6666666666666666,
              "#ed7953"
             ],
             [
              0.7777777777777778,
              "#fb9f3a"
             ],
             [
              0.8888888888888888,
              "#fdca26"
             ],
             [
              1,
              "#f0f921"
             ]
            ],
            "type": "heatmapgl"
           }
          ],
          "histogram": [
           {
            "marker": {
             "pattern": {
              "fillmode": "overlay",
              "size": 10,
              "solidity": 0.2
             }
            },
            "type": "histogram"
           }
          ],
          "histogram2d": [
           {
            "colorbar": {
             "outlinewidth": 0,
             "ticks": ""
            },
            "colorscale": [
             [
              0,
              "#0d0887"
             ],
             [
              0.1111111111111111,
              "#46039f"
             ],
             [
              0.2222222222222222,
              "#7201a8"
             ],
             [
              0.3333333333333333,
              "#9c179e"
             ],
             [
              0.4444444444444444,
              "#bd3786"
             ],
             [
              0.5555555555555556,
              "#d8576b"
             ],
             [
              0.6666666666666666,
              "#ed7953"
             ],
             [
              0.7777777777777778,
              "#fb9f3a"
             ],
             [
              0.8888888888888888,
              "#fdca26"
             ],
             [
              1,
              "#f0f921"
             ]
            ],
            "type": "histogram2d"
           }
          ],
          "histogram2dcontour": [
           {
            "colorbar": {
             "outlinewidth": 0,
             "ticks": ""
            },
            "colorscale": [
             [
              0,
              "#0d0887"
             ],
             [
              0.1111111111111111,
              "#46039f"
             ],
             [
              0.2222222222222222,
              "#7201a8"
             ],
             [
              0.3333333333333333,
              "#9c179e"
             ],
             [
              0.4444444444444444,
              "#bd3786"
             ],
             [
              0.5555555555555556,
              "#d8576b"
             ],
             [
              0.6666666666666666,
              "#ed7953"
             ],
             [
              0.7777777777777778,
              "#fb9f3a"
             ],
             [
              0.8888888888888888,
              "#fdca26"
             ],
             [
              1,
              "#f0f921"
             ]
            ],
            "type": "histogram2dcontour"
           }
          ],
          "mesh3d": [
           {
            "colorbar": {
             "outlinewidth": 0,
             "ticks": ""
            },
            "type": "mesh3d"
           }
          ],
          "parcoords": [
           {
            "line": {
             "colorbar": {
              "outlinewidth": 0,
              "ticks": ""
             }
            },
            "type": "parcoords"
           }
          ],
          "pie": [
           {
            "automargin": true,
            "type": "pie"
           }
          ],
          "scatter": [
           {
            "fillpattern": {
             "fillmode": "overlay",
             "size": 10,
             "solidity": 0.2
            },
            "type": "scatter"
           }
          ],
          "scatter3d": [
           {
            "line": {
             "colorbar": {
              "outlinewidth": 0,
              "ticks": ""
             }
            },
            "marker": {
             "colorbar": {
              "outlinewidth": 0,
              "ticks": ""
             }
            },
            "type": "scatter3d"
           }
          ],
          "scattercarpet": [
           {
            "marker": {
             "colorbar": {
              "outlinewidth": 0,
              "ticks": ""
             }
            },
            "type": "scattercarpet"
           }
          ],
          "scattergeo": [
           {
            "marker": {
             "colorbar": {
              "outlinewidth": 0,
              "ticks": ""
             }
            },
            "type": "scattergeo"
           }
          ],
          "scattergl": [
           {
            "marker": {
             "colorbar": {
              "outlinewidth": 0,
              "ticks": ""
             }
            },
            "type": "scattergl"
           }
          ],
          "scattermapbox": [
           {
            "marker": {
             "colorbar": {
              "outlinewidth": 0,
              "ticks": ""
             }
            },
            "type": "scattermapbox"
           }
          ],
          "scatterpolar": [
           {
            "marker": {
             "colorbar": {
              "outlinewidth": 0,
              "ticks": ""
             }
            },
            "type": "scatterpolar"
           }
          ],
          "scatterpolargl": [
           {
            "marker": {
             "colorbar": {
              "outlinewidth": 0,
              "ticks": ""
             }
            },
            "type": "scatterpolargl"
           }
          ],
          "scatterternary": [
           {
            "marker": {
             "colorbar": {
              "outlinewidth": 0,
              "ticks": ""
             }
            },
            "type": "scatterternary"
           }
          ],
          "surface": [
           {
            "colorbar": {
             "outlinewidth": 0,
             "ticks": ""
            },
            "colorscale": [
             [
              0,
              "#0d0887"
             ],
             [
              0.1111111111111111,
              "#46039f"
             ],
             [
              0.2222222222222222,
              "#7201a8"
             ],
             [
              0.3333333333333333,
              "#9c179e"
             ],
             [
              0.4444444444444444,
              "#bd3786"
             ],
             [
              0.5555555555555556,
              "#d8576b"
             ],
             [
              0.6666666666666666,
              "#ed7953"
             ],
             [
              0.7777777777777778,
              "#fb9f3a"
             ],
             [
              0.8888888888888888,
              "#fdca26"
             ],
             [
              1,
              "#f0f921"
             ]
            ],
            "type": "surface"
           }
          ],
          "table": [
           {
            "cells": {
             "fill": {
              "color": "#EBF0F8"
             },
             "line": {
              "color": "white"
             }
            },
            "header": {
             "fill": {
              "color": "#C8D4E3"
             },
             "line": {
              "color": "white"
             }
            },
            "type": "table"
           }
          ]
         },
         "layout": {
          "annotationdefaults": {
           "arrowcolor": "#2a3f5f",
           "arrowhead": 0,
           "arrowwidth": 1
          },
          "autotypenumbers": "strict",
          "coloraxis": {
           "colorbar": {
            "outlinewidth": 0,
            "ticks": ""
           }
          },
          "colorscale": {
           "diverging": [
            [
             0,
             "#8e0152"
            ],
            [
             0.1,
             "#c51b7d"
            ],
            [
             0.2,
             "#de77ae"
            ],
            [
             0.3,
             "#f1b6da"
            ],
            [
             0.4,
             "#fde0ef"
            ],
            [
             0.5,
             "#f7f7f7"
            ],
            [
             0.6,
             "#e6f5d0"
            ],
            [
             0.7,
             "#b8e186"
            ],
            [
             0.8,
             "#7fbc41"
            ],
            [
             0.9,
             "#4d9221"
            ],
            [
             1,
             "#276419"
            ]
           ],
           "sequential": [
            [
             0,
             "#0d0887"
            ],
            [
             0.1111111111111111,
             "#46039f"
            ],
            [
             0.2222222222222222,
             "#7201a8"
            ],
            [
             0.3333333333333333,
             "#9c179e"
            ],
            [
             0.4444444444444444,
             "#bd3786"
            ],
            [
             0.5555555555555556,
             "#d8576b"
            ],
            [
             0.6666666666666666,
             "#ed7953"
            ],
            [
             0.7777777777777778,
             "#fb9f3a"
            ],
            [
             0.8888888888888888,
             "#fdca26"
            ],
            [
             1,
             "#f0f921"
            ]
           ],
           "sequentialminus": [
            [
             0,
             "#0d0887"
            ],
            [
             0.1111111111111111,
             "#46039f"
            ],
            [
             0.2222222222222222,
             "#7201a8"
            ],
            [
             0.3333333333333333,
             "#9c179e"
            ],
            [
             0.4444444444444444,
             "#bd3786"
            ],
            [
             0.5555555555555556,
             "#d8576b"
            ],
            [
             0.6666666666666666,
             "#ed7953"
            ],
            [
             0.7777777777777778,
             "#fb9f3a"
            ],
            [
             0.8888888888888888,
             "#fdca26"
            ],
            [
             1,
             "#f0f921"
            ]
           ]
          },
          "colorway": [
           "#636efa",
           "#EF553B",
           "#00cc96",
           "#ab63fa",
           "#FFA15A",
           "#19d3f3",
           "#FF6692",
           "#B6E880",
           "#FF97FF",
           "#FECB52"
          ],
          "font": {
           "color": "#2a3f5f"
          },
          "geo": {
           "bgcolor": "white",
           "lakecolor": "white",
           "landcolor": "#E5ECF6",
           "showlakes": true,
           "showland": true,
           "subunitcolor": "white"
          },
          "hoverlabel": {
           "align": "left"
          },
          "hovermode": "closest",
          "mapbox": {
           "style": "light"
          },
          "paper_bgcolor": "white",
          "plot_bgcolor": "#E5ECF6",
          "polar": {
           "angularaxis": {
            "gridcolor": "white",
            "linecolor": "white",
            "ticks": ""
           },
           "bgcolor": "#E5ECF6",
           "radialaxis": {
            "gridcolor": "white",
            "linecolor": "white",
            "ticks": ""
           }
          },
          "scene": {
           "xaxis": {
            "backgroundcolor": "#E5ECF6",
            "gridcolor": "white",
            "gridwidth": 2,
            "linecolor": "white",
            "showbackground": true,
            "ticks": "",
            "zerolinecolor": "white"
           },
           "yaxis": {
            "backgroundcolor": "#E5ECF6",
            "gridcolor": "white",
            "gridwidth": 2,
            "linecolor": "white",
            "showbackground": true,
            "ticks": "",
            "zerolinecolor": "white"
           },
           "zaxis": {
            "backgroundcolor": "#E5ECF6",
            "gridcolor": "white",
            "gridwidth": 2,
            "linecolor": "white",
            "showbackground": true,
            "ticks": "",
            "zerolinecolor": "white"
           }
          },
          "shapedefaults": {
           "line": {
            "color": "#2a3f5f"
           }
          },
          "ternary": {
           "aaxis": {
            "gridcolor": "white",
            "linecolor": "white",
            "ticks": ""
           },
           "baxis": {
            "gridcolor": "white",
            "linecolor": "white",
            "ticks": ""
           },
           "bgcolor": "#E5ECF6",
           "caxis": {
            "gridcolor": "white",
            "linecolor": "white",
            "ticks": ""
           }
          },
          "title": {
           "x": 0.05
          },
          "xaxis": {
           "automargin": true,
           "gridcolor": "white",
           "linecolor": "white",
           "ticks": "",
           "title": {
            "standoff": 15
           },
           "zerolinecolor": "white",
           "zerolinewidth": 2
          },
          "yaxis": {
           "automargin": true,
           "gridcolor": "white",
           "linecolor": "white",
           "ticks": "",
           "title": {
            "standoff": 15
           },
           "zerolinecolor": "white",
           "zerolinewidth": 2
          }
         }
        },
        "title": {
         "font": {
          "color": "#4D5663"
         }
        },
        "xaxis": {
         "gridcolor": "#E1E5ED",
         "showgrid": true,
         "tickfont": {
          "color": "#4D5663"
         },
         "title": {
          "font": {
           "color": "#4D5663"
          },
          "text": ""
         },
         "zerolinecolor": "#E1E5ED"
        },
        "yaxis": {
         "gridcolor": "#E1E5ED",
         "showgrid": true,
         "tickfont": {
          "color": "#4D5663"
         },
         "title": {
          "font": {
           "color": "#4D5663"
          },
          "text": ""
         },
         "zerolinecolor": "#E1E5ED"
        }
       }
      },
      "text/html": [
       "<div>                            <div id=\"a07b109e-6ccf-49cc-81eb-a407b3eaa390\" class=\"plotly-graph-div\" style=\"height:525px; width:100%;\"></div>            <script type=\"text/javascript\">                require([\"plotly\"], function(Plotly) {                    window.PLOTLYENV=window.PLOTLYENV || {};\n",
       "                    window.PLOTLYENV.BASE_URL='https://plot.ly';                                    if (document.getElementById(\"a07b109e-6ccf-49cc-81eb-a407b3eaa390\")) {                    Plotly.newPlot(                        \"a07b109e-6ccf-49cc-81eb-a407b3eaa390\",                        [{\"marker\":{\"color\":[\"rgb(255, 153, 51)\",\"rgb(55, 128, 191)\",\"rgb(50, 171, 96)\",\"rgb(128, 0, 128)\",\"rgb(219, 64, 82)\",\"rgb(0, 128, 128)\",\"rgb(255, 255, 51)\",\"rgb(128, 128, 0)\",\"rgb(251, 128, 114)\",\"rgb(128, 177, 211)\"],\"line\":{\"width\":1.3},\"size\":[64,61,112,67,93,49,73,57,55,69,29,89,39,48,43,55,60,75,54,54,50,72,82,82,95,67,49,56,103,84,85,39,63,61,53,80,44,66,62,64,56,31,96,35,62,31,62,52,100,73,22,70,70,67,32,90,73,56,62,50,34,73,39,48,57,43,87,65,50,20,60,52,85,29,50,12,29,61,58,82,61,40,66,76,83,50,64,57,82,39,89,60,79,53,65,42,47,44,96,56],\"symbol\":\"circle\"},\"mode\":\"markers\",\"text\":\"\",\"x\":[-0.3398988896464808,-1.6320219123904456,1.0833580654835377,-0.5221441697533774,1.8870577989950417,-0.1519022894899191,1.738502057334876,1.7056108965703825,-0.6441517480790271,1.446088337377909,-0.40837595317937014,-0.3845503118092821,-1.1751265443795977,0.3867803121745835,-0.7426482243780839,-0.43683293687948244,-0.5088760710426806,-1.8543028311017542,-0.6332326401681622,0.1462914660828161,0.8830579721724487,0.3971948472370433,-1.1204484108009625,0.40106396407362593,-0.4067665034368915,0.47737803056416306,-1.9370437378754735,0.7292434252915854,-0.9651293257767154,-0.19170860679186263,-1.7686489673158163,-0.2537637565216562,0.6425981649526561,-1.0591476195161171,1.0667946528907304,-0.39160597886280846,-1.4037276993584953,1.8542164451445762,-1.0897874477601286,-0.6166742828751661,1.0275457033922706,-0.6551011328439404,-1.9316441131174051,0.8954051917268987,-0.929859420870943,-2.6074766673535854,-0.3260344298623395,-2.0670868762703063,0.09550434985732024,-0.5773800461329046,0.6547371662725984,-0.02746341612035001,1.0210359693291602,0.7901461323588164,0.15550268839189296,0.06477080315932901,-0.3876351988405084,-0.2589635071591233,0.610293410412037,0.35704353940696576,0.004869934166238935,2.084087092727924,0.44549222902202584,-0.8300681314305705,0.380011831731752,0.033614054409343785,0.2676525442637065,0.7269584845831824,1.1340583727418463,1.2306196535659573,0.3989981915062393,-0.020588125991491804,-0.590085318221706,0.7094993217735794,-0.07682209611761445,1.132665491703427,0.49475019050692304,-0.13891134715709394,-1.07586707290558,0.4441980300520878,-1.4868717602776649,-2.5060290067500364,1.8586312192790821,2.0462249338926135,-2.0116341336398333,1.2762416640493945,0.463117861856559,-0.6091834606663771,-0.752894001502793,0.3475782028223775,0.17383952520650456,-0.794650830102094,-0.10028232258399258,-1.7467047199059293,0.8942392582127465,0.6040802134291302,0.2699602012812688,1.8279522592497466,-0.4637391036140166,1.0973521416489043],\"y\":[1.1982473059308325,1.6356636244629494,-0.8905655629472256,-1.807838351873487,0.8059253931077515,0.35179663251839494,3.286566911427533,2.8856879704436356,-1.6302195439392437,-0.46559364417373905,0.5722312952267994,0.13493420680389276,-0.042561264746407916,-1.3888743215255817,-1.0400399241781164,-0.12167381490054667,-0.7290940015517252,-0.09889921265528098,-0.3312005457673756,0.5261642154537874,0.6682052848327581,0.35916570838529577,-0.19295278672651348,1.1220259215142658,-0.5462425995736458,-0.3925935589237412,0.169345302240433,-1.7922818269161258,1.8628476133897467,-0.5340917673987183,0.04344248660006066,2.277202365749576,-0.25663557433485684,-1.1153026316907826,-0.7784819485526674,-0.27000384523590626,0.4977305798284601,1.4767340668012499,-0.3632677807686293,-1.5302748335828096,0.7467921741550148,-2.2970024424818507,-1.4460996582475492,-2.106907488696165,1.298016626562994,-0.324365394283865,-0.1449205658054919,0.12792883571809066,-0.08380256741136723,0.5187857885798648,-0.2776577943424909,-2.4766660149823316,0.875350737970101,0.5505238029568075,0.6035147525603715,-0.639981438984545,0.5973527193033242,-0.4392231849559408,1.2362135230485218,2.067677929479437,0.6375611227756837,-0.29871600887110944,0.2134919337824578,-0.5394598871410751,-0.3347505316342336,0.0801216955297691,-0.042805121119385926,0.37368049305987766,-0.3219801945746798,-0.4208666241915466,-0.4979873718658901,0.005609253028819707,0.03608464305536002,-0.029992147476621468,0.142788839251483,0.10275057800983606,-0.7223937306717052,-1.31611367941755,0.11682713512843675,0.36508224033026243,0.016701958707791845,0.22698760232656448,1.5465654668606335,-0.39381887564259743,1.142054801169338,1.2133216968804088,-0.5278164628670937,1.4884792811106382,-0.951696847783406,1.7120260108326464,-0.1454210212980894,0.7729670349626565,-1.398599836046639,0.2936544015837765,-1.4724797978802802,-1.152984289788025,-0.4244596261425564,0.35510940547754,1.1863954719576226,0.7641118974979407],\"type\":\"scatter\"}],                        {\"legend\":{\"bgcolor\":\"#F5F6F9\",\"font\":{\"color\":\"#4D5663\"}},\"paper_bgcolor\":\"#F5F6F9\",\"plot_bgcolor\":\"#F5F6F9\",\"template\":{\"data\":{\"barpolar\":[{\"marker\":{\"line\":{\"color\":\"#E5ECF6\",\"width\":0.5},\"pattern\":{\"fillmode\":\"overlay\",\"size\":10,\"solidity\":0.2}},\"type\":\"barpolar\"}],\"bar\":[{\"error_x\":{\"color\":\"#2a3f5f\"},\"error_y\":{\"color\":\"#2a3f5f\"},\"marker\":{\"line\":{\"color\":\"#E5ECF6\",\"width\":0.5},\"pattern\":{\"fillmode\":\"overlay\",\"size\":10,\"solidity\":0.2}},\"type\":\"bar\"}],\"carpet\":[{\"aaxis\":{\"endlinecolor\":\"#2a3f5f\",\"gridcolor\":\"white\",\"linecolor\":\"white\",\"minorgridcolor\":\"white\",\"startlinecolor\":\"#2a3f5f\"},\"baxis\":{\"endlinecolor\":\"#2a3f5f\",\"gridcolor\":\"white\",\"linecolor\":\"white\",\"minorgridcolor\":\"white\",\"startlinecolor\":\"#2a3f5f\"},\"type\":\"carpet\"}],\"choropleth\":[{\"colorbar\":{\"outlinewidth\":0,\"ticks\":\"\"},\"type\":\"choropleth\"}],\"contourcarpet\":[{\"colorbar\":{\"outlinewidth\":0,\"ticks\":\"\"},\"type\":\"contourcarpet\"}],\"contour\":[{\"colorbar\":{\"outlinewidth\":0,\"ticks\":\"\"},\"colorscale\":[[0.0,\"#0d0887\"],[0.1111111111111111,\"#46039f\"],[0.2222222222222222,\"#7201a8\"],[0.3333333333333333,\"#9c179e\"],[0.4444444444444444,\"#bd3786\"],[0.5555555555555556,\"#d8576b\"],[0.6666666666666666,\"#ed7953\"],[0.7777777777777778,\"#fb9f3a\"],[0.8888888888888888,\"#fdca26\"],[1.0,\"#f0f921\"]],\"type\":\"contour\"}],\"heatmapgl\":[{\"colorbar\":{\"outlinewidth\":0,\"ticks\":\"\"},\"colorscale\":[[0.0,\"#0d0887\"],[0.1111111111111111,\"#46039f\"],[0.2222222222222222,\"#7201a8\"],[0.3333333333333333,\"#9c179e\"],[0.4444444444444444,\"#bd3786\"],[0.5555555555555556,\"#d8576b\"],[0.6666666666666666,\"#ed7953\"],[0.7777777777777778,\"#fb9f3a\"],[0.8888888888888888,\"#fdca26\"],[1.0,\"#f0f921\"]],\"type\":\"heatmapgl\"}],\"heatmap\":[{\"colorbar\":{\"outlinewidth\":0,\"ticks\":\"\"},\"colorscale\":[[0.0,\"#0d0887\"],[0.1111111111111111,\"#46039f\"],[0.2222222222222222,\"#7201a8\"],[0.3333333333333333,\"#9c179e\"],[0.4444444444444444,\"#bd3786\"],[0.5555555555555556,\"#d8576b\"],[0.6666666666666666,\"#ed7953\"],[0.7777777777777778,\"#fb9f3a\"],[0.8888888888888888,\"#fdca26\"],[1.0,\"#f0f921\"]],\"type\":\"heatmap\"}],\"histogram2dcontour\":[{\"colorbar\":{\"outlinewidth\":0,\"ticks\":\"\"},\"colorscale\":[[0.0,\"#0d0887\"],[0.1111111111111111,\"#46039f\"],[0.2222222222222222,\"#7201a8\"],[0.3333333333333333,\"#9c179e\"],[0.4444444444444444,\"#bd3786\"],[0.5555555555555556,\"#d8576b\"],[0.6666666666666666,\"#ed7953\"],[0.7777777777777778,\"#fb9f3a\"],[0.8888888888888888,\"#fdca26\"],[1.0,\"#f0f921\"]],\"type\":\"histogram2dcontour\"}],\"histogram2d\":[{\"colorbar\":{\"outlinewidth\":0,\"ticks\":\"\"},\"colorscale\":[[0.0,\"#0d0887\"],[0.1111111111111111,\"#46039f\"],[0.2222222222222222,\"#7201a8\"],[0.3333333333333333,\"#9c179e\"],[0.4444444444444444,\"#bd3786\"],[0.5555555555555556,\"#d8576b\"],[0.6666666666666666,\"#ed7953\"],[0.7777777777777778,\"#fb9f3a\"],[0.8888888888888888,\"#fdca26\"],[1.0,\"#f0f921\"]],\"type\":\"histogram2d\"}],\"histogram\":[{\"marker\":{\"pattern\":{\"fillmode\":\"overlay\",\"size\":10,\"solidity\":0.2}},\"type\":\"histogram\"}],\"mesh3d\":[{\"colorbar\":{\"outlinewidth\":0,\"ticks\":\"\"},\"type\":\"mesh3d\"}],\"parcoords\":[{\"line\":{\"colorbar\":{\"outlinewidth\":0,\"ticks\":\"\"}},\"type\":\"parcoords\"}],\"pie\":[{\"automargin\":true,\"type\":\"pie\"}],\"scatter3d\":[{\"line\":{\"colorbar\":{\"outlinewidth\":0,\"ticks\":\"\"}},\"marker\":{\"colorbar\":{\"outlinewidth\":0,\"ticks\":\"\"}},\"type\":\"scatter3d\"}],\"scattercarpet\":[{\"marker\":{\"colorbar\":{\"outlinewidth\":0,\"ticks\":\"\"}},\"type\":\"scattercarpet\"}],\"scattergeo\":[{\"marker\":{\"colorbar\":{\"outlinewidth\":0,\"ticks\":\"\"}},\"type\":\"scattergeo\"}],\"scattergl\":[{\"marker\":{\"colorbar\":{\"outlinewidth\":0,\"ticks\":\"\"}},\"type\":\"scattergl\"}],\"scattermapbox\":[{\"marker\":{\"colorbar\":{\"outlinewidth\":0,\"ticks\":\"\"}},\"type\":\"scattermapbox\"}],\"scatterpolargl\":[{\"marker\":{\"colorbar\":{\"outlinewidth\":0,\"ticks\":\"\"}},\"type\":\"scatterpolargl\"}],\"scatterpolar\":[{\"marker\":{\"colorbar\":{\"outlinewidth\":0,\"ticks\":\"\"}},\"type\":\"scatterpolar\"}],\"scatter\":[{\"fillpattern\":{\"fillmode\":\"overlay\",\"size\":10,\"solidity\":0.2},\"type\":\"scatter\"}],\"scatterternary\":[{\"marker\":{\"colorbar\":{\"outlinewidth\":0,\"ticks\":\"\"}},\"type\":\"scatterternary\"}],\"surface\":[{\"colorbar\":{\"outlinewidth\":0,\"ticks\":\"\"},\"colorscale\":[[0.0,\"#0d0887\"],[0.1111111111111111,\"#46039f\"],[0.2222222222222222,\"#7201a8\"],[0.3333333333333333,\"#9c179e\"],[0.4444444444444444,\"#bd3786\"],[0.5555555555555556,\"#d8576b\"],[0.6666666666666666,\"#ed7953\"],[0.7777777777777778,\"#fb9f3a\"],[0.8888888888888888,\"#fdca26\"],[1.0,\"#f0f921\"]],\"type\":\"surface\"}],\"table\":[{\"cells\":{\"fill\":{\"color\":\"#EBF0F8\"},\"line\":{\"color\":\"white\"}},\"header\":{\"fill\":{\"color\":\"#C8D4E3\"},\"line\":{\"color\":\"white\"}},\"type\":\"table\"}]},\"layout\":{\"annotationdefaults\":{\"arrowcolor\":\"#2a3f5f\",\"arrowhead\":0,\"arrowwidth\":1},\"autotypenumbers\":\"strict\",\"coloraxis\":{\"colorbar\":{\"outlinewidth\":0,\"ticks\":\"\"}},\"colorscale\":{\"diverging\":[[0,\"#8e0152\"],[0.1,\"#c51b7d\"],[0.2,\"#de77ae\"],[0.3,\"#f1b6da\"],[0.4,\"#fde0ef\"],[0.5,\"#f7f7f7\"],[0.6,\"#e6f5d0\"],[0.7,\"#b8e186\"],[0.8,\"#7fbc41\"],[0.9,\"#4d9221\"],[1,\"#276419\"]],\"sequential\":[[0.0,\"#0d0887\"],[0.1111111111111111,\"#46039f\"],[0.2222222222222222,\"#7201a8\"],[0.3333333333333333,\"#9c179e\"],[0.4444444444444444,\"#bd3786\"],[0.5555555555555556,\"#d8576b\"],[0.6666666666666666,\"#ed7953\"],[0.7777777777777778,\"#fb9f3a\"],[0.8888888888888888,\"#fdca26\"],[1.0,\"#f0f921\"]],\"sequentialminus\":[[0.0,\"#0d0887\"],[0.1111111111111111,\"#46039f\"],[0.2222222222222222,\"#7201a8\"],[0.3333333333333333,\"#9c179e\"],[0.4444444444444444,\"#bd3786\"],[0.5555555555555556,\"#d8576b\"],[0.6666666666666666,\"#ed7953\"],[0.7777777777777778,\"#fb9f3a\"],[0.8888888888888888,\"#fdca26\"],[1.0,\"#f0f921\"]]},\"colorway\":[\"#636efa\",\"#EF553B\",\"#00cc96\",\"#ab63fa\",\"#FFA15A\",\"#19d3f3\",\"#FF6692\",\"#B6E880\",\"#FF97FF\",\"#FECB52\"],\"font\":{\"color\":\"#2a3f5f\"},\"geo\":{\"bgcolor\":\"white\",\"lakecolor\":\"white\",\"landcolor\":\"#E5ECF6\",\"showlakes\":true,\"showland\":true,\"subunitcolor\":\"white\"},\"hoverlabel\":{\"align\":\"left\"},\"hovermode\":\"closest\",\"mapbox\":{\"style\":\"light\"},\"paper_bgcolor\":\"white\",\"plot_bgcolor\":\"#E5ECF6\",\"polar\":{\"angularaxis\":{\"gridcolor\":\"white\",\"linecolor\":\"white\",\"ticks\":\"\"},\"bgcolor\":\"#E5ECF6\",\"radialaxis\":{\"gridcolor\":\"white\",\"linecolor\":\"white\",\"ticks\":\"\"}},\"scene\":{\"xaxis\":{\"backgroundcolor\":\"#E5ECF6\",\"gridcolor\":\"white\",\"gridwidth\":2,\"linecolor\":\"white\",\"showbackground\":true,\"ticks\":\"\",\"zerolinecolor\":\"white\"},\"yaxis\":{\"backgroundcolor\":\"#E5ECF6\",\"gridcolor\":\"white\",\"gridwidth\":2,\"linecolor\":\"white\",\"showbackground\":true,\"ticks\":\"\",\"zerolinecolor\":\"white\"},\"zaxis\":{\"backgroundcolor\":\"#E5ECF6\",\"gridcolor\":\"white\",\"gridwidth\":2,\"linecolor\":\"white\",\"showbackground\":true,\"ticks\":\"\",\"zerolinecolor\":\"white\"}},\"shapedefaults\":{\"line\":{\"color\":\"#2a3f5f\"}},\"ternary\":{\"aaxis\":{\"gridcolor\":\"white\",\"linecolor\":\"white\",\"ticks\":\"\"},\"baxis\":{\"gridcolor\":\"white\",\"linecolor\":\"white\",\"ticks\":\"\"},\"bgcolor\":\"#E5ECF6\",\"caxis\":{\"gridcolor\":\"white\",\"linecolor\":\"white\",\"ticks\":\"\"}},\"title\":{\"x\":0.05},\"xaxis\":{\"automargin\":true,\"gridcolor\":\"white\",\"linecolor\":\"white\",\"ticks\":\"\",\"title\":{\"standoff\":15},\"zerolinecolor\":\"white\",\"zerolinewidth\":2},\"yaxis\":{\"automargin\":true,\"gridcolor\":\"white\",\"linecolor\":\"white\",\"ticks\":\"\",\"title\":{\"standoff\":15},\"zerolinecolor\":\"white\",\"zerolinewidth\":2}}},\"title\":{\"font\":{\"color\":\"#4D5663\"}},\"xaxis\":{\"gridcolor\":\"#E1E5ED\",\"showgrid\":true,\"tickfont\":{\"color\":\"#4D5663\"},\"title\":{\"font\":{\"color\":\"#4D5663\"},\"text\":\"\"},\"zerolinecolor\":\"#E1E5ED\"},\"yaxis\":{\"gridcolor\":\"#E1E5ED\",\"showgrid\":true,\"tickfont\":{\"color\":\"#4D5663\"},\"title\":{\"font\":{\"color\":\"#4D5663\"},\"text\":\"\"},\"zerolinecolor\":\"#E1E5ED\"}},                        {\"showLink\": true, \"linkText\": \"Export to plot.ly\", \"plotlyServerURL\": \"https://plot.ly\", \"responsive\": true}                    ).then(function(){\n",
       "                            \n",
       "var gd = document.getElementById('a07b109e-6ccf-49cc-81eb-a407b3eaa390');\n",
       "var x = new MutationObserver(function (mutations, observer) {{\n",
       "        var display = window.getComputedStyle(gd).display;\n",
       "        if (!display || display === 'none') {{\n",
       "            console.log([gd, 'removed!']);\n",
       "            Plotly.purge(gd);\n",
       "            observer.disconnect();\n",
       "        }}\n",
       "}});\n",
       "\n",
       "// Listen for the removal of the full notebook cells\n",
       "var notebookContainer = gd.closest('#notebook-container');\n",
       "if (notebookContainer) {{\n",
       "    x.observe(notebookContainer, {childList: true});\n",
       "}}\n",
       "\n",
       "// Listen for the clearing of the current output cell\n",
       "var outputEl = gd.closest('.output');\n",
       "if (outputEl) {{\n",
       "    x.observe(outputEl, {childList: true});\n",
       "}}\n",
       "\n",
       "                        })                };                });            </script>        </div>"
      ]
     },
     "metadata": {},
     "output_type": "display_data"
    }
   ],
   "source": [
    "df.iplot(kind='bubble',x='A',y='B',size='C')"
   ]
  },
  {
   "cell_type": "markdown",
   "metadata": {},
   "source": [
    "## scatter_matrix()\n",
    "\n",
    "Similar to sns.pairplot()"
   ]
  },
  {
   "cell_type": "code",
   "execution_count": 24,
   "metadata": {
    "collapsed": false
   },
   "outputs": [
    {
     "data": {
      "application/vnd.plotly.v1+json": {
       "config": {
        "linkText": "Export to plot.ly",
        "plotlyServerURL": "https://plot.ly",
        "showLink": true
       },
       "data": [
        {
         "histfunc": "count",
         "histnorm": "",
         "marker": {
          "color": "rgba(255, 153, 51, 1.0)",
          "line": {
           "color": "#4D5663",
           "width": 1.3
          }
         },
         "name": "A",
         "nbinsx": 10,
         "opacity": 0.8,
         "orientation": "v",
         "type": "histogram",
         "x": [
          -0.3398988896464808,
          -1.6320219123904456,
          1.0833580654835377,
          -0.5221441697533774,
          1.8870577989950417,
          -0.1519022894899191,
          1.738502057334876,
          1.7056108965703825,
          -0.6441517480790271,
          1.446088337377909,
          -0.40837595317937014,
          -0.3845503118092821,
          -1.1751265443795977,
          0.3867803121745835,
          -0.7426482243780839,
          -0.43683293687948244,
          -0.5088760710426806,
          -1.8543028311017542,
          -0.6332326401681622,
          0.1462914660828161,
          0.8830579721724487,
          0.3971948472370433,
          -1.1204484108009625,
          0.40106396407362593,
          -0.4067665034368915,
          0.47737803056416306,
          -1.9370437378754735,
          0.7292434252915854,
          -0.9651293257767154,
          -0.19170860679186263,
          -1.7686489673158163,
          -0.2537637565216562,
          0.6425981649526561,
          -1.0591476195161171,
          1.0667946528907304,
          -0.39160597886280846,
          -1.4037276993584953,
          1.8542164451445762,
          -1.0897874477601286,
          -0.6166742828751661,
          1.0275457033922706,
          -0.6551011328439404,
          -1.9316441131174051,
          0.8954051917268987,
          -0.929859420870943,
          -2.6074766673535854,
          -0.3260344298623395,
          -2.0670868762703063,
          0.09550434985732024,
          -0.5773800461329046,
          0.6547371662725984,
          -0.02746341612035001,
          1.0210359693291602,
          0.7901461323588164,
          0.15550268839189296,
          0.06477080315932901,
          -0.3876351988405084,
          -0.2589635071591233,
          0.610293410412037,
          0.35704353940696576,
          0.004869934166238935,
          2.084087092727924,
          0.44549222902202584,
          -0.8300681314305705,
          0.380011831731752,
          0.033614054409343785,
          0.2676525442637065,
          0.7269584845831824,
          1.1340583727418463,
          1.2306196535659573,
          0.3989981915062393,
          -0.020588125991491804,
          -0.590085318221706,
          0.7094993217735794,
          -0.07682209611761445,
          1.132665491703427,
          0.49475019050692304,
          -0.13891134715709394,
          -1.07586707290558,
          0.4441980300520878,
          -1.4868717602776649,
          -2.5060290067500364,
          1.8586312192790821,
          2.0462249338926135,
          -2.0116341336398333,
          1.2762416640493945,
          0.463117861856559,
          -0.6091834606663771,
          -0.752894001502793,
          0.3475782028223775,
          0.17383952520650456,
          -0.794650830102094,
          -0.10028232258399258,
          -1.7467047199059293,
          0.8942392582127465,
          0.6040802134291302,
          0.2699602012812688,
          1.8279522592497466,
          -0.4637391036140166,
          1.0973521416489043
         ],
         "xaxis": "x",
         "yaxis": "y"
        },
        {
         "line": {
          "color": "rgba(128, 128, 128, 1.0)",
          "dash": "solid",
          "shape": "linear",
          "width": 1.3
         },
         "marker": {
          "size": 2,
          "symbol": "circle"
         },
         "mode": "markers",
         "name": "A",
         "text": "",
         "type": "scatter",
         "x": [
          1.1982473059308325,
          1.6356636244629494,
          -0.8905655629472256,
          -1.807838351873487,
          0.8059253931077515,
          0.35179663251839494,
          3.286566911427533,
          2.8856879704436356,
          -1.6302195439392437,
          -0.46559364417373905,
          0.5722312952267994,
          0.13493420680389276,
          -0.042561264746407916,
          -1.3888743215255817,
          -1.0400399241781164,
          -0.12167381490054667,
          -0.7290940015517252,
          -0.09889921265528098,
          -0.3312005457673756,
          0.5261642154537874,
          0.6682052848327581,
          0.35916570838529577,
          -0.19295278672651348,
          1.1220259215142658,
          -0.5462425995736458,
          -0.3925935589237412,
          0.169345302240433,
          -1.7922818269161258,
          1.8628476133897467,
          -0.5340917673987183,
          0.04344248660006066,
          2.277202365749576,
          -0.25663557433485684,
          -1.1153026316907826,
          -0.7784819485526674,
          -0.27000384523590626,
          0.4977305798284601,
          1.4767340668012499,
          -0.3632677807686293,
          -1.5302748335828096,
          0.7467921741550148,
          -2.2970024424818507,
          -1.4460996582475492,
          -2.106907488696165,
          1.298016626562994,
          -0.324365394283865,
          -0.1449205658054919,
          0.12792883571809066,
          -0.08380256741136723,
          0.5187857885798648,
          -0.2776577943424909,
          -2.4766660149823316,
          0.875350737970101,
          0.5505238029568075,
          0.6035147525603715,
          -0.639981438984545,
          0.5973527193033242,
          -0.4392231849559408,
          1.2362135230485218,
          2.067677929479437,
          0.6375611227756837,
          -0.29871600887110944,
          0.2134919337824578,
          -0.5394598871410751,
          -0.3347505316342336,
          0.0801216955297691,
          -0.042805121119385926,
          0.37368049305987766,
          -0.3219801945746798,
          -0.4208666241915466,
          -0.4979873718658901,
          0.005609253028819707,
          0.03608464305536002,
          -0.029992147476621468,
          0.142788839251483,
          0.10275057800983606,
          -0.7223937306717052,
          -1.31611367941755,
          0.11682713512843675,
          0.36508224033026243,
          0.016701958707791845,
          0.22698760232656448,
          1.5465654668606335,
          -0.39381887564259743,
          1.142054801169338,
          1.2133216968804088,
          -0.5278164628670937,
          1.4884792811106382,
          -0.951696847783406,
          1.7120260108326464,
          -0.1454210212980894,
          0.7729670349626565,
          -1.398599836046639,
          0.2936544015837765,
          -1.4724797978802802,
          -1.152984289788025,
          -0.4244596261425564,
          0.35510940547754,
          1.1863954719576226,
          0.7641118974979407
         ],
         "xaxis": "x2",
         "y": [
          -0.3398988896464808,
          -1.6320219123904456,
          1.0833580654835377,
          -0.5221441697533774,
          1.8870577989950417,
          -0.1519022894899191,
          1.738502057334876,
          1.7056108965703825,
          -0.6441517480790271,
          1.446088337377909,
          -0.40837595317937014,
          -0.3845503118092821,
          -1.1751265443795977,
          0.3867803121745835,
          -0.7426482243780839,
          -0.43683293687948244,
          -0.5088760710426806,
          -1.8543028311017542,
          -0.6332326401681622,
          0.1462914660828161,
          0.8830579721724487,
          0.3971948472370433,
          -1.1204484108009625,
          0.40106396407362593,
          -0.4067665034368915,
          0.47737803056416306,
          -1.9370437378754735,
          0.7292434252915854,
          -0.9651293257767154,
          -0.19170860679186263,
          -1.7686489673158163,
          -0.2537637565216562,
          0.6425981649526561,
          -1.0591476195161171,
          1.0667946528907304,
          -0.39160597886280846,
          -1.4037276993584953,
          1.8542164451445762,
          -1.0897874477601286,
          -0.6166742828751661,
          1.0275457033922706,
          -0.6551011328439404,
          -1.9316441131174051,
          0.8954051917268987,
          -0.929859420870943,
          -2.6074766673535854,
          -0.3260344298623395,
          -2.0670868762703063,
          0.09550434985732024,
          -0.5773800461329046,
          0.6547371662725984,
          -0.02746341612035001,
          1.0210359693291602,
          0.7901461323588164,
          0.15550268839189296,
          0.06477080315932901,
          -0.3876351988405084,
          -0.2589635071591233,
          0.610293410412037,
          0.35704353940696576,
          0.004869934166238935,
          2.084087092727924,
          0.44549222902202584,
          -0.8300681314305705,
          0.380011831731752,
          0.033614054409343785,
          0.2676525442637065,
          0.7269584845831824,
          1.1340583727418463,
          1.2306196535659573,
          0.3989981915062393,
          -0.020588125991491804,
          -0.590085318221706,
          0.7094993217735794,
          -0.07682209611761445,
          1.132665491703427,
          0.49475019050692304,
          -0.13891134715709394,
          -1.07586707290558,
          0.4441980300520878,
          -1.4868717602776649,
          -2.5060290067500364,
          1.8586312192790821,
          2.0462249338926135,
          -2.0116341336398333,
          1.2762416640493945,
          0.463117861856559,
          -0.6091834606663771,
          -0.752894001502793,
          0.3475782028223775,
          0.17383952520650456,
          -0.794650830102094,
          -0.10028232258399258,
          -1.7467047199059293,
          0.8942392582127465,
          0.6040802134291302,
          0.2699602012812688,
          1.8279522592497466,
          -0.4637391036140166,
          1.0973521416489043
         ],
         "yaxis": "y2"
        },
        {
         "line": {
          "color": "rgba(128, 128, 128, 1.0)",
          "dash": "solid",
          "shape": "linear",
          "width": 1.3
         },
         "marker": {
          "size": 2,
          "symbol": "circle"
         },
         "mode": "markers",
         "name": "A",
         "text": "",
         "type": "scatter",
         "x": [
          0.1320759122455077,
          -0.04444424433177913,
          2.6585681121160922,
          0.3174800749607619,
          1.654359355438138,
          -0.6732701057926693,
          0.6361285686969663,
          -0.2451885959321246,
          -0.3314462347253053,
          0.3802969653490417,
          -1.7223806520139417,
          1.442167007934898,
          -1.177226112601706,
          -0.7321322627771829,
          -0.9548570607452044,
          -0.3635421281270355,
          -0.09628493714209976,
          0.7248668891529634,
          -0.39568706100878676,
          -0.4079615038661267,
          -0.6290513126106057,
          0.5580161889769741,
          1.068536165516149,
          1.1133527811753148,
          1.7994243459760668,
          0.29646904639819277,
          -0.6372995452114765,
          -0.26728521908326697,
          2.23028609817543,
          1.1797729334637708,
          1.275159327922166,
          -1.195901028112852,
          0.06445629351612976,
          -0.039466561765940954,
          -0.4295291479021976,
          1.0118396725120664,
          -0.9019718566983405,
          0.22083201477157846,
          0.04904930900498299,
          0.14701746599061263,
          -0.26563843558056954,
          -1.6234615369066359,
          1.859227722720208,
          -1.3893557603150164,
          0.056429355056207386,
          -1.5974864392899208,
          0.02485207450433001,
          -0.496205985444526,
          2.0668381018242794,
          0.6226740122092347,
          -2.077490400736509,
          0.4408991383440806,
          0.44774077327389555,
          0.28644799307103813,
          -1.5671574054913588,
          1.5090595853773114,
          0.6199971372861851,
          -0.28188991184088036,
          0.05236364002779333,
          -0.6050293620259407,
          -1.4416773512957197,
          0.6095514283064996,
          -1.1796228138285,
          -0.7195189127582756,
          -0.20939639161807388,
          -0.9750939526811694,
          1.380785553315133,
          0.2123680746554314,
          -0.6149438059877549,
          -2.2002459659094895,
          -0.08726555870063096,
          -0.4874056795170275,
          1.2338776919088803,
          -1.7123999692004583,
          -0.6181936541808375,
          -2.6512872632951994,
          -1.7245511569751049,
          -0.041507293303092156,
          -0.18938033770535043,
          1.0796974291745665,
          -0.025905940390241588,
          -1.1557678885732423,
          0.2579559545964371,
          0.7883523374982597,
          1.1461872632859762,
          -0.5885252765586263,
          0.11272445328866162,
          -0.22675422662729436,
          1.115206107559157,
          -1.184628080397001,
          1.4413811785525896,
          -0.1014443142888211,
          0.908934520105821,
          -0.45531622884496525,
          0.19034700444139369,
          -1.0155830932027832,
          -0.7860163518810481,
          -0.9428300144654829,
          1.8510610687884004,
          -0.29056512640351234
         ],
         "xaxis": "x3",
         "y": [
          -0.3398988896464808,
          -1.6320219123904456,
          1.0833580654835377,
          -0.5221441697533774,
          1.8870577989950417,
          -0.1519022894899191,
          1.738502057334876,
          1.7056108965703825,
          -0.6441517480790271,
          1.446088337377909,
          -0.40837595317937014,
          -0.3845503118092821,
          -1.1751265443795977,
          0.3867803121745835,
          -0.7426482243780839,
          -0.43683293687948244,
          -0.5088760710426806,
          -1.8543028311017542,
          -0.6332326401681622,
          0.1462914660828161,
          0.8830579721724487,
          0.3971948472370433,
          -1.1204484108009625,
          0.40106396407362593,
          -0.4067665034368915,
          0.47737803056416306,
          -1.9370437378754735,
          0.7292434252915854,
          -0.9651293257767154,
          -0.19170860679186263,
          -1.7686489673158163,
          -0.2537637565216562,
          0.6425981649526561,
          -1.0591476195161171,
          1.0667946528907304,
          -0.39160597886280846,
          -1.4037276993584953,
          1.8542164451445762,
          -1.0897874477601286,
          -0.6166742828751661,
          1.0275457033922706,
          -0.6551011328439404,
          -1.9316441131174051,
          0.8954051917268987,
          -0.929859420870943,
          -2.6074766673535854,
          -0.3260344298623395,
          -2.0670868762703063,
          0.09550434985732024,
          -0.5773800461329046,
          0.6547371662725984,
          -0.02746341612035001,
          1.0210359693291602,
          0.7901461323588164,
          0.15550268839189296,
          0.06477080315932901,
          -0.3876351988405084,
          -0.2589635071591233,
          0.610293410412037,
          0.35704353940696576,
          0.004869934166238935,
          2.084087092727924,
          0.44549222902202584,
          -0.8300681314305705,
          0.380011831731752,
          0.033614054409343785,
          0.2676525442637065,
          0.7269584845831824,
          1.1340583727418463,
          1.2306196535659573,
          0.3989981915062393,
          -0.020588125991491804,
          -0.590085318221706,
          0.7094993217735794,
          -0.07682209611761445,
          1.132665491703427,
          0.49475019050692304,
          -0.13891134715709394,
          -1.07586707290558,
          0.4441980300520878,
          -1.4868717602776649,
          -2.5060290067500364,
          1.8586312192790821,
          2.0462249338926135,
          -2.0116341336398333,
          1.2762416640493945,
          0.463117861856559,
          -0.6091834606663771,
          -0.752894001502793,
          0.3475782028223775,
          0.17383952520650456,
          -0.794650830102094,
          -0.10028232258399258,
          -1.7467047199059293,
          0.8942392582127465,
          0.6040802134291302,
          0.2699602012812688,
          1.8279522592497466,
          -0.4637391036140166,
          1.0973521416489043
         ],
         "yaxis": "y3"
        },
        {
         "line": {
          "color": "rgba(128, 128, 128, 1.0)",
          "dash": "solid",
          "shape": "linear",
          "width": 1.3
         },
         "marker": {
          "size": 2,
          "symbol": "circle"
         },
         "mode": "markers",
         "name": "A",
         "text": "",
         "type": "scatter",
         "x": [
          -0.015680719847409957,
          0.38467931988837933,
          -0.7941830807848673,
          -0.109970710355125,
          0.33798250759545057,
          -0.25576222851431013,
          -0.48346699503870183,
          1.0877125640222065,
          -0.9408116705146999,
          0.5214002226692266,
          -1.0803745666261861,
          2.924862676501828,
          -0.14565468527778472,
          1.8526889333322263,
          -1.6911352788307619,
          0.03010989811745035,
          -0.8692370113088596,
          -1.6018173727288723,
          -0.2620976797444577,
          0.3999118965111071,
          1.2525525190342175,
          -0.810289227115854,
          -0.37962080023713046,
          0.3396529341164264,
          2.730615185009525,
          -0.41437229514600954,
          1.1632113654556508,
          -1.1997815171985624,
          0.8846443003012396,
          -0.9825518231980817,
          0.11203824680181086,
          -0.7496420110271115,
          -1.1835084993367697,
          0.29064878159009694,
          -0.7854155992917491,
          -0.6005123981160521,
          -0.24014262751114215,
          0.007307545851978295,
          -1.758097265120564,
          0.5170864743943338,
          -0.43317476782347214,
          -0.40940548692306183,
          0.8189904200946637,
          1.2726038342993118,
          -1.7788979408664063,
          0.8882432122911695,
          -0.6215820086244249,
          2.517154028613377,
          -0.09152061230271684,
          -1.3426836467906045,
          -2.62098906420756,
          -1.465577033796658,
          2.5118562828010207,
          1.1756874953788985,
          -0.5458130973398371,
          -0.35742387455943303,
          -0.2290686431606772,
          0.1846582034162207,
          0.2735245705514366,
          -0.41508504951161235,
          -1.8156128336088706,
          -0.5876678691944328,
          -0.300777717597309,
          -0.5528700652076918,
          -0.8765669026203909,
          -0.7281615647204239,
          -0.7919977348091972,
          0.8008814948537331,
          1.5116361266794893,
          0.03653244016199828,
          0.8520736473130769,
          0.27288929365938136,
          1.1482068171202153,
          -0.009265954859607626,
          -1.2795087196452406,
          -0.3280901728788498,
          0.27415276964246943,
          2.187508388956917,
          -0.4223531370913922,
          -0.057055342593380055,
          0.011668676997639417,
          0.5414785864102529,
          -1.8817490105045827,
          1.127648853265194,
          -0.9950241376700371,
          0.3059849419662011,
          0.6109926533257333,
          1.3620652419570505,
          -1.1761795395021766,
          0.5156527179224979,
          0.0922983675784503,
          -1.343042173023882,
          -0.9452371393912993,
          -0.07351505456300246,
          -0.31322416241331846,
          1.734378468520146,
          -0.1986992925388653,
          0.4682307670670544,
          0.17665471541962913,
          0.24475489740538695
         ],
         "xaxis": "x4",
         "y": [
          -0.3398988896464808,
          -1.6320219123904456,
          1.0833580654835377,
          -0.5221441697533774,
          1.8870577989950417,
          -0.1519022894899191,
          1.738502057334876,
          1.7056108965703825,
          -0.6441517480790271,
          1.446088337377909,
          -0.40837595317937014,
          -0.3845503118092821,
          -1.1751265443795977,
          0.3867803121745835,
          -0.7426482243780839,
          -0.43683293687948244,
          -0.5088760710426806,
          -1.8543028311017542,
          -0.6332326401681622,
          0.1462914660828161,
          0.8830579721724487,
          0.3971948472370433,
          -1.1204484108009625,
          0.40106396407362593,
          -0.4067665034368915,
          0.47737803056416306,
          -1.9370437378754735,
          0.7292434252915854,
          -0.9651293257767154,
          -0.19170860679186263,
          -1.7686489673158163,
          -0.2537637565216562,
          0.6425981649526561,
          -1.0591476195161171,
          1.0667946528907304,
          -0.39160597886280846,
          -1.4037276993584953,
          1.8542164451445762,
          -1.0897874477601286,
          -0.6166742828751661,
          1.0275457033922706,
          -0.6551011328439404,
          -1.9316441131174051,
          0.8954051917268987,
          -0.929859420870943,
          -2.6074766673535854,
          -0.3260344298623395,
          -2.0670868762703063,
          0.09550434985732024,
          -0.5773800461329046,
          0.6547371662725984,
          -0.02746341612035001,
          1.0210359693291602,
          0.7901461323588164,
          0.15550268839189296,
          0.06477080315932901,
          -0.3876351988405084,
          -0.2589635071591233,
          0.610293410412037,
          0.35704353940696576,
          0.004869934166238935,
          2.084087092727924,
          0.44549222902202584,
          -0.8300681314305705,
          0.380011831731752,
          0.033614054409343785,
          0.2676525442637065,
          0.7269584845831824,
          1.1340583727418463,
          1.2306196535659573,
          0.3989981915062393,
          -0.020588125991491804,
          -0.590085318221706,
          0.7094993217735794,
          -0.07682209611761445,
          1.132665491703427,
          0.49475019050692304,
          -0.13891134715709394,
          -1.07586707290558,
          0.4441980300520878,
          -1.4868717602776649,
          -2.5060290067500364,
          1.8586312192790821,
          2.0462249338926135,
          -2.0116341336398333,
          1.2762416640493945,
          0.463117861856559,
          -0.6091834606663771,
          -0.752894001502793,
          0.3475782028223775,
          0.17383952520650456,
          -0.794650830102094,
          -0.10028232258399258,
          -1.7467047199059293,
          0.8942392582127465,
          0.6040802134291302,
          0.2699602012812688,
          1.8279522592497466,
          -0.4637391036140166,
          1.0973521416489043
         ],
         "yaxis": "y4"
        },
        {
         "line": {
          "color": "rgba(128, 128, 128, 1.0)",
          "dash": "solid",
          "shape": "linear",
          "width": 1.3
         },
         "marker": {
          "size": 2,
          "symbol": "circle"
         },
         "mode": "markers",
         "name": "B",
         "text": "",
         "type": "scatter",
         "x": [
          -0.3398988896464808,
          -1.6320219123904456,
          1.0833580654835377,
          -0.5221441697533774,
          1.8870577989950417,
          -0.1519022894899191,
          1.738502057334876,
          1.7056108965703825,
          -0.6441517480790271,
          1.446088337377909,
          -0.40837595317937014,
          -0.3845503118092821,
          -1.1751265443795977,
          0.3867803121745835,
          -0.7426482243780839,
          -0.43683293687948244,
          -0.5088760710426806,
          -1.8543028311017542,
          -0.6332326401681622,
          0.1462914660828161,
          0.8830579721724487,
          0.3971948472370433,
          -1.1204484108009625,
          0.40106396407362593,
          -0.4067665034368915,
          0.47737803056416306,
          -1.9370437378754735,
          0.7292434252915854,
          -0.9651293257767154,
          -0.19170860679186263,
          -1.7686489673158163,
          -0.2537637565216562,
          0.6425981649526561,
          -1.0591476195161171,
          1.0667946528907304,
          -0.39160597886280846,
          -1.4037276993584953,
          1.8542164451445762,
          -1.0897874477601286,
          -0.6166742828751661,
          1.0275457033922706,
          -0.6551011328439404,
          -1.9316441131174051,
          0.8954051917268987,
          -0.929859420870943,
          -2.6074766673535854,
          -0.3260344298623395,
          -2.0670868762703063,
          0.09550434985732024,
          -0.5773800461329046,
          0.6547371662725984,
          -0.02746341612035001,
          1.0210359693291602,
          0.7901461323588164,
          0.15550268839189296,
          0.06477080315932901,
          -0.3876351988405084,
          -0.2589635071591233,
          0.610293410412037,
          0.35704353940696576,
          0.004869934166238935,
          2.084087092727924,
          0.44549222902202584,
          -0.8300681314305705,
          0.380011831731752,
          0.033614054409343785,
          0.2676525442637065,
          0.7269584845831824,
          1.1340583727418463,
          1.2306196535659573,
          0.3989981915062393,
          -0.020588125991491804,
          -0.590085318221706,
          0.7094993217735794,
          -0.07682209611761445,
          1.132665491703427,
          0.49475019050692304,
          -0.13891134715709394,
          -1.07586707290558,
          0.4441980300520878,
          -1.4868717602776649,
          -2.5060290067500364,
          1.8586312192790821,
          2.0462249338926135,
          -2.0116341336398333,
          1.2762416640493945,
          0.463117861856559,
          -0.6091834606663771,
          -0.752894001502793,
          0.3475782028223775,
          0.17383952520650456,
          -0.794650830102094,
          -0.10028232258399258,
          -1.7467047199059293,
          0.8942392582127465,
          0.6040802134291302,
          0.2699602012812688,
          1.8279522592497466,
          -0.4637391036140166,
          1.0973521416489043
         ],
         "xaxis": "x5",
         "y": [
          1.1982473059308325,
          1.6356636244629494,
          -0.8905655629472256,
          -1.807838351873487,
          0.8059253931077515,
          0.35179663251839494,
          3.286566911427533,
          2.8856879704436356,
          -1.6302195439392437,
          -0.46559364417373905,
          0.5722312952267994,
          0.13493420680389276,
          -0.042561264746407916,
          -1.3888743215255817,
          -1.0400399241781164,
          -0.12167381490054667,
          -0.7290940015517252,
          -0.09889921265528098,
          -0.3312005457673756,
          0.5261642154537874,
          0.6682052848327581,
          0.35916570838529577,
          -0.19295278672651348,
          1.1220259215142658,
          -0.5462425995736458,
          -0.3925935589237412,
          0.169345302240433,
          -1.7922818269161258,
          1.8628476133897467,
          -0.5340917673987183,
          0.04344248660006066,
          2.277202365749576,
          -0.25663557433485684,
          -1.1153026316907826,
          -0.7784819485526674,
          -0.27000384523590626,
          0.4977305798284601,
          1.4767340668012499,
          -0.3632677807686293,
          -1.5302748335828096,
          0.7467921741550148,
          -2.2970024424818507,
          -1.4460996582475492,
          -2.106907488696165,
          1.298016626562994,
          -0.324365394283865,
          -0.1449205658054919,
          0.12792883571809066,
          -0.08380256741136723,
          0.5187857885798648,
          -0.2776577943424909,
          -2.4766660149823316,
          0.875350737970101,
          0.5505238029568075,
          0.6035147525603715,
          -0.639981438984545,
          0.5973527193033242,
          -0.4392231849559408,
          1.2362135230485218,
          2.067677929479437,
          0.6375611227756837,
          -0.29871600887110944,
          0.2134919337824578,
          -0.5394598871410751,
          -0.3347505316342336,
          0.0801216955297691,
          -0.042805121119385926,
          0.37368049305987766,
          -0.3219801945746798,
          -0.4208666241915466,
          -0.4979873718658901,
          0.005609253028819707,
          0.03608464305536002,
          -0.029992147476621468,
          0.142788839251483,
          0.10275057800983606,
          -0.7223937306717052,
          -1.31611367941755,
          0.11682713512843675,
          0.36508224033026243,
          0.016701958707791845,
          0.22698760232656448,
          1.5465654668606335,
          -0.39381887564259743,
          1.142054801169338,
          1.2133216968804088,
          -0.5278164628670937,
          1.4884792811106382,
          -0.951696847783406,
          1.7120260108326464,
          -0.1454210212980894,
          0.7729670349626565,
          -1.398599836046639,
          0.2936544015837765,
          -1.4724797978802802,
          -1.152984289788025,
          -0.4244596261425564,
          0.35510940547754,
          1.1863954719576226,
          0.7641118974979407
         ],
         "yaxis": "y5"
        },
        {
         "histfunc": "count",
         "histnorm": "",
         "marker": {
          "color": "rgba(55, 128, 191, 1.0)",
          "line": {
           "color": "#4D5663",
           "width": 1.3
          }
         },
         "name": "B",
         "nbinsx": 10,
         "opacity": 0.8,
         "orientation": "v",
         "type": "histogram",
         "x": [
          1.1982473059308325,
          1.6356636244629494,
          -0.8905655629472256,
          -1.807838351873487,
          0.8059253931077515,
          0.35179663251839494,
          3.286566911427533,
          2.8856879704436356,
          -1.6302195439392437,
          -0.46559364417373905,
          0.5722312952267994,
          0.13493420680389276,
          -0.042561264746407916,
          -1.3888743215255817,
          -1.0400399241781164,
          -0.12167381490054667,
          -0.7290940015517252,
          -0.09889921265528098,
          -0.3312005457673756,
          0.5261642154537874,
          0.6682052848327581,
          0.35916570838529577,
          -0.19295278672651348,
          1.1220259215142658,
          -0.5462425995736458,
          -0.3925935589237412,
          0.169345302240433,
          -1.7922818269161258,
          1.8628476133897467,
          -0.5340917673987183,
          0.04344248660006066,
          2.277202365749576,
          -0.25663557433485684,
          -1.1153026316907826,
          -0.7784819485526674,
          -0.27000384523590626,
          0.4977305798284601,
          1.4767340668012499,
          -0.3632677807686293,
          -1.5302748335828096,
          0.7467921741550148,
          -2.2970024424818507,
          -1.4460996582475492,
          -2.106907488696165,
          1.298016626562994,
          -0.324365394283865,
          -0.1449205658054919,
          0.12792883571809066,
          -0.08380256741136723,
          0.5187857885798648,
          -0.2776577943424909,
          -2.4766660149823316,
          0.875350737970101,
          0.5505238029568075,
          0.6035147525603715,
          -0.639981438984545,
          0.5973527193033242,
          -0.4392231849559408,
          1.2362135230485218,
          2.067677929479437,
          0.6375611227756837,
          -0.29871600887110944,
          0.2134919337824578,
          -0.5394598871410751,
          -0.3347505316342336,
          0.0801216955297691,
          -0.042805121119385926,
          0.37368049305987766,
          -0.3219801945746798,
          -0.4208666241915466,
          -0.4979873718658901,
          0.005609253028819707,
          0.03608464305536002,
          -0.029992147476621468,
          0.142788839251483,
          0.10275057800983606,
          -0.7223937306717052,
          -1.31611367941755,
          0.11682713512843675,
          0.36508224033026243,
          0.016701958707791845,
          0.22698760232656448,
          1.5465654668606335,
          -0.39381887564259743,
          1.142054801169338,
          1.2133216968804088,
          -0.5278164628670937,
          1.4884792811106382,
          -0.951696847783406,
          1.7120260108326464,
          -0.1454210212980894,
          0.7729670349626565,
          -1.398599836046639,
          0.2936544015837765,
          -1.4724797978802802,
          -1.152984289788025,
          -0.4244596261425564,
          0.35510940547754,
          1.1863954719576226,
          0.7641118974979407
         ],
         "xaxis": "x6",
         "yaxis": "y6"
        },
        {
         "line": {
          "color": "rgba(128, 128, 128, 1.0)",
          "dash": "solid",
          "shape": "linear",
          "width": 1.3
         },
         "marker": {
          "size": 2,
          "symbol": "circle"
         },
         "mode": "markers",
         "name": "B",
         "text": "",
         "type": "scatter",
         "x": [
          0.1320759122455077,
          -0.04444424433177913,
          2.6585681121160922,
          0.3174800749607619,
          1.654359355438138,
          -0.6732701057926693,
          0.6361285686969663,
          -0.2451885959321246,
          -0.3314462347253053,
          0.3802969653490417,
          -1.7223806520139417,
          1.442167007934898,
          -1.177226112601706,
          -0.7321322627771829,
          -0.9548570607452044,
          -0.3635421281270355,
          -0.09628493714209976,
          0.7248668891529634,
          -0.39568706100878676,
          -0.4079615038661267,
          -0.6290513126106057,
          0.5580161889769741,
          1.068536165516149,
          1.1133527811753148,
          1.7994243459760668,
          0.29646904639819277,
          -0.6372995452114765,
          -0.26728521908326697,
          2.23028609817543,
          1.1797729334637708,
          1.275159327922166,
          -1.195901028112852,
          0.06445629351612976,
          -0.039466561765940954,
          -0.4295291479021976,
          1.0118396725120664,
          -0.9019718566983405,
          0.22083201477157846,
          0.04904930900498299,
          0.14701746599061263,
          -0.26563843558056954,
          -1.6234615369066359,
          1.859227722720208,
          -1.3893557603150164,
          0.056429355056207386,
          -1.5974864392899208,
          0.02485207450433001,
          -0.496205985444526,
          2.0668381018242794,
          0.6226740122092347,
          -2.077490400736509,
          0.4408991383440806,
          0.44774077327389555,
          0.28644799307103813,
          -1.5671574054913588,
          1.5090595853773114,
          0.6199971372861851,
          -0.28188991184088036,
          0.05236364002779333,
          -0.6050293620259407,
          -1.4416773512957197,
          0.6095514283064996,
          -1.1796228138285,
          -0.7195189127582756,
          -0.20939639161807388,
          -0.9750939526811694,
          1.380785553315133,
          0.2123680746554314,
          -0.6149438059877549,
          -2.2002459659094895,
          -0.08726555870063096,
          -0.4874056795170275,
          1.2338776919088803,
          -1.7123999692004583,
          -0.6181936541808375,
          -2.6512872632951994,
          -1.7245511569751049,
          -0.041507293303092156,
          -0.18938033770535043,
          1.0796974291745665,
          -0.025905940390241588,
          -1.1557678885732423,
          0.2579559545964371,
          0.7883523374982597,
          1.1461872632859762,
          -0.5885252765586263,
          0.11272445328866162,
          -0.22675422662729436,
          1.115206107559157,
          -1.184628080397001,
          1.4413811785525896,
          -0.1014443142888211,
          0.908934520105821,
          -0.45531622884496525,
          0.19034700444139369,
          -1.0155830932027832,
          -0.7860163518810481,
          -0.9428300144654829,
          1.8510610687884004,
          -0.29056512640351234
         ],
         "xaxis": "x7",
         "y": [
          1.1982473059308325,
          1.6356636244629494,
          -0.8905655629472256,
          -1.807838351873487,
          0.8059253931077515,
          0.35179663251839494,
          3.286566911427533,
          2.8856879704436356,
          -1.6302195439392437,
          -0.46559364417373905,
          0.5722312952267994,
          0.13493420680389276,
          -0.042561264746407916,
          -1.3888743215255817,
          -1.0400399241781164,
          -0.12167381490054667,
          -0.7290940015517252,
          -0.09889921265528098,
          -0.3312005457673756,
          0.5261642154537874,
          0.6682052848327581,
          0.35916570838529577,
          -0.19295278672651348,
          1.1220259215142658,
          -0.5462425995736458,
          -0.3925935589237412,
          0.169345302240433,
          -1.7922818269161258,
          1.8628476133897467,
          -0.5340917673987183,
          0.04344248660006066,
          2.277202365749576,
          -0.25663557433485684,
          -1.1153026316907826,
          -0.7784819485526674,
          -0.27000384523590626,
          0.4977305798284601,
          1.4767340668012499,
          -0.3632677807686293,
          -1.5302748335828096,
          0.7467921741550148,
          -2.2970024424818507,
          -1.4460996582475492,
          -2.106907488696165,
          1.298016626562994,
          -0.324365394283865,
          -0.1449205658054919,
          0.12792883571809066,
          -0.08380256741136723,
          0.5187857885798648,
          -0.2776577943424909,
          -2.4766660149823316,
          0.875350737970101,
          0.5505238029568075,
          0.6035147525603715,
          -0.639981438984545,
          0.5973527193033242,
          -0.4392231849559408,
          1.2362135230485218,
          2.067677929479437,
          0.6375611227756837,
          -0.29871600887110944,
          0.2134919337824578,
          -0.5394598871410751,
          -0.3347505316342336,
          0.0801216955297691,
          -0.042805121119385926,
          0.37368049305987766,
          -0.3219801945746798,
          -0.4208666241915466,
          -0.4979873718658901,
          0.005609253028819707,
          0.03608464305536002,
          -0.029992147476621468,
          0.142788839251483,
          0.10275057800983606,
          -0.7223937306717052,
          -1.31611367941755,
          0.11682713512843675,
          0.36508224033026243,
          0.016701958707791845,
          0.22698760232656448,
          1.5465654668606335,
          -0.39381887564259743,
          1.142054801169338,
          1.2133216968804088,
          -0.5278164628670937,
          1.4884792811106382,
          -0.951696847783406,
          1.7120260108326464,
          -0.1454210212980894,
          0.7729670349626565,
          -1.398599836046639,
          0.2936544015837765,
          -1.4724797978802802,
          -1.152984289788025,
          -0.4244596261425564,
          0.35510940547754,
          1.1863954719576226,
          0.7641118974979407
         ],
         "yaxis": "y7"
        },
        {
         "line": {
          "color": "rgba(128, 128, 128, 1.0)",
          "dash": "solid",
          "shape": "linear",
          "width": 1.3
         },
         "marker": {
          "size": 2,
          "symbol": "circle"
         },
         "mode": "markers",
         "name": "B",
         "text": "",
         "type": "scatter",
         "x": [
          -0.015680719847409957,
          0.38467931988837933,
          -0.7941830807848673,
          -0.109970710355125,
          0.33798250759545057,
          -0.25576222851431013,
          -0.48346699503870183,
          1.0877125640222065,
          -0.9408116705146999,
          0.5214002226692266,
          -1.0803745666261861,
          2.924862676501828,
          -0.14565468527778472,
          1.8526889333322263,
          -1.6911352788307619,
          0.03010989811745035,
          -0.8692370113088596,
          -1.6018173727288723,
          -0.2620976797444577,
          0.3999118965111071,
          1.2525525190342175,
          -0.810289227115854,
          -0.37962080023713046,
          0.3396529341164264,
          2.730615185009525,
          -0.41437229514600954,
          1.1632113654556508,
          -1.1997815171985624,
          0.8846443003012396,
          -0.9825518231980817,
          0.11203824680181086,
          -0.7496420110271115,
          -1.1835084993367697,
          0.29064878159009694,
          -0.7854155992917491,
          -0.6005123981160521,
          -0.24014262751114215,
          0.007307545851978295,
          -1.758097265120564,
          0.5170864743943338,
          -0.43317476782347214,
          -0.40940548692306183,
          0.8189904200946637,
          1.2726038342993118,
          -1.7788979408664063,
          0.8882432122911695,
          -0.6215820086244249,
          2.517154028613377,
          -0.09152061230271684,
          -1.3426836467906045,
          -2.62098906420756,
          -1.465577033796658,
          2.5118562828010207,
          1.1756874953788985,
          -0.5458130973398371,
          -0.35742387455943303,
          -0.2290686431606772,
          0.1846582034162207,
          0.2735245705514366,
          -0.41508504951161235,
          -1.8156128336088706,
          -0.5876678691944328,
          -0.300777717597309,
          -0.5528700652076918,
          -0.8765669026203909,
          -0.7281615647204239,
          -0.7919977348091972,
          0.8008814948537331,
          1.5116361266794893,
          0.03653244016199828,
          0.8520736473130769,
          0.27288929365938136,
          1.1482068171202153,
          -0.009265954859607626,
          -1.2795087196452406,
          -0.3280901728788498,
          0.27415276964246943,
          2.187508388956917,
          -0.4223531370913922,
          -0.057055342593380055,
          0.011668676997639417,
          0.5414785864102529,
          -1.8817490105045827,
          1.127648853265194,
          -0.9950241376700371,
          0.3059849419662011,
          0.6109926533257333,
          1.3620652419570505,
          -1.1761795395021766,
          0.5156527179224979,
          0.0922983675784503,
          -1.343042173023882,
          -0.9452371393912993,
          -0.07351505456300246,
          -0.31322416241331846,
          1.734378468520146,
          -0.1986992925388653,
          0.4682307670670544,
          0.17665471541962913,
          0.24475489740538695
         ],
         "xaxis": "x8",
         "y": [
          1.1982473059308325,
          1.6356636244629494,
          -0.8905655629472256,
          -1.807838351873487,
          0.8059253931077515,
          0.35179663251839494,
          3.286566911427533,
          2.8856879704436356,
          -1.6302195439392437,
          -0.46559364417373905,
          0.5722312952267994,
          0.13493420680389276,
          -0.042561264746407916,
          -1.3888743215255817,
          -1.0400399241781164,
          -0.12167381490054667,
          -0.7290940015517252,
          -0.09889921265528098,
          -0.3312005457673756,
          0.5261642154537874,
          0.6682052848327581,
          0.35916570838529577,
          -0.19295278672651348,
          1.1220259215142658,
          -0.5462425995736458,
          -0.3925935589237412,
          0.169345302240433,
          -1.7922818269161258,
          1.8628476133897467,
          -0.5340917673987183,
          0.04344248660006066,
          2.277202365749576,
          -0.25663557433485684,
          -1.1153026316907826,
          -0.7784819485526674,
          -0.27000384523590626,
          0.4977305798284601,
          1.4767340668012499,
          -0.3632677807686293,
          -1.5302748335828096,
          0.7467921741550148,
          -2.2970024424818507,
          -1.4460996582475492,
          -2.106907488696165,
          1.298016626562994,
          -0.324365394283865,
          -0.1449205658054919,
          0.12792883571809066,
          -0.08380256741136723,
          0.5187857885798648,
          -0.2776577943424909,
          -2.4766660149823316,
          0.875350737970101,
          0.5505238029568075,
          0.6035147525603715,
          -0.639981438984545,
          0.5973527193033242,
          -0.4392231849559408,
          1.2362135230485218,
          2.067677929479437,
          0.6375611227756837,
          -0.29871600887110944,
          0.2134919337824578,
          -0.5394598871410751,
          -0.3347505316342336,
          0.0801216955297691,
          -0.042805121119385926,
          0.37368049305987766,
          -0.3219801945746798,
          -0.4208666241915466,
          -0.4979873718658901,
          0.005609253028819707,
          0.03608464305536002,
          -0.029992147476621468,
          0.142788839251483,
          0.10275057800983606,
          -0.7223937306717052,
          -1.31611367941755,
          0.11682713512843675,
          0.36508224033026243,
          0.016701958707791845,
          0.22698760232656448,
          1.5465654668606335,
          -0.39381887564259743,
          1.142054801169338,
          1.2133216968804088,
          -0.5278164628670937,
          1.4884792811106382,
          -0.951696847783406,
          1.7120260108326464,
          -0.1454210212980894,
          0.7729670349626565,
          -1.398599836046639,
          0.2936544015837765,
          -1.4724797978802802,
          -1.152984289788025,
          -0.4244596261425564,
          0.35510940547754,
          1.1863954719576226,
          0.7641118974979407
         ],
         "yaxis": "y8"
        },
        {
         "line": {
          "color": "rgba(128, 128, 128, 1.0)",
          "dash": "solid",
          "shape": "linear",
          "width": 1.3
         },
         "marker": {
          "size": 2,
          "symbol": "circle"
         },
         "mode": "markers",
         "name": "C",
         "text": "",
         "type": "scatter",
         "x": [
          -0.3398988896464808,
          -1.6320219123904456,
          1.0833580654835377,
          -0.5221441697533774,
          1.8870577989950417,
          -0.1519022894899191,
          1.738502057334876,
          1.7056108965703825,
          -0.6441517480790271,
          1.446088337377909,
          -0.40837595317937014,
          -0.3845503118092821,
          -1.1751265443795977,
          0.3867803121745835,
          -0.7426482243780839,
          -0.43683293687948244,
          -0.5088760710426806,
          -1.8543028311017542,
          -0.6332326401681622,
          0.1462914660828161,
          0.8830579721724487,
          0.3971948472370433,
          -1.1204484108009625,
          0.40106396407362593,
          -0.4067665034368915,
          0.47737803056416306,
          -1.9370437378754735,
          0.7292434252915854,
          -0.9651293257767154,
          -0.19170860679186263,
          -1.7686489673158163,
          -0.2537637565216562,
          0.6425981649526561,
          -1.0591476195161171,
          1.0667946528907304,
          -0.39160597886280846,
          -1.4037276993584953,
          1.8542164451445762,
          -1.0897874477601286,
          -0.6166742828751661,
          1.0275457033922706,
          -0.6551011328439404,
          -1.9316441131174051,
          0.8954051917268987,
          -0.929859420870943,
          -2.6074766673535854,
          -0.3260344298623395,
          -2.0670868762703063,
          0.09550434985732024,
          -0.5773800461329046,
          0.6547371662725984,
          -0.02746341612035001,
          1.0210359693291602,
          0.7901461323588164,
          0.15550268839189296,
          0.06477080315932901,
          -0.3876351988405084,
          -0.2589635071591233,
          0.610293410412037,
          0.35704353940696576,
          0.004869934166238935,
          2.084087092727924,
          0.44549222902202584,
          -0.8300681314305705,
          0.380011831731752,
          0.033614054409343785,
          0.2676525442637065,
          0.7269584845831824,
          1.1340583727418463,
          1.2306196535659573,
          0.3989981915062393,
          -0.020588125991491804,
          -0.590085318221706,
          0.7094993217735794,
          -0.07682209611761445,
          1.132665491703427,
          0.49475019050692304,
          -0.13891134715709394,
          -1.07586707290558,
          0.4441980300520878,
          -1.4868717602776649,
          -2.5060290067500364,
          1.8586312192790821,
          2.0462249338926135,
          -2.0116341336398333,
          1.2762416640493945,
          0.463117861856559,
          -0.6091834606663771,
          -0.752894001502793,
          0.3475782028223775,
          0.17383952520650456,
          -0.794650830102094,
          -0.10028232258399258,
          -1.7467047199059293,
          0.8942392582127465,
          0.6040802134291302,
          0.2699602012812688,
          1.8279522592497466,
          -0.4637391036140166,
          1.0973521416489043
         ],
         "xaxis": "x9",
         "y": [
          0.1320759122455077,
          -0.04444424433177913,
          2.6585681121160922,
          0.3174800749607619,
          1.654359355438138,
          -0.6732701057926693,
          0.6361285686969663,
          -0.2451885959321246,
          -0.3314462347253053,
          0.3802969653490417,
          -1.7223806520139417,
          1.442167007934898,
          -1.177226112601706,
          -0.7321322627771829,
          -0.9548570607452044,
          -0.3635421281270355,
          -0.09628493714209976,
          0.7248668891529634,
          -0.39568706100878676,
          -0.4079615038661267,
          -0.6290513126106057,
          0.5580161889769741,
          1.068536165516149,
          1.1133527811753148,
          1.7994243459760668,
          0.29646904639819277,
          -0.6372995452114765,
          -0.26728521908326697,
          2.23028609817543,
          1.1797729334637708,
          1.275159327922166,
          -1.195901028112852,
          0.06445629351612976,
          -0.039466561765940954,
          -0.4295291479021976,
          1.0118396725120664,
          -0.9019718566983405,
          0.22083201477157846,
          0.04904930900498299,
          0.14701746599061263,
          -0.26563843558056954,
          -1.6234615369066359,
          1.859227722720208,
          -1.3893557603150164,
          0.056429355056207386,
          -1.5974864392899208,
          0.02485207450433001,
          -0.496205985444526,
          2.0668381018242794,
          0.6226740122092347,
          -2.077490400736509,
          0.4408991383440806,
          0.44774077327389555,
          0.28644799307103813,
          -1.5671574054913588,
          1.5090595853773114,
          0.6199971372861851,
          -0.28188991184088036,
          0.05236364002779333,
          -0.6050293620259407,
          -1.4416773512957197,
          0.6095514283064996,
          -1.1796228138285,
          -0.7195189127582756,
          -0.20939639161807388,
          -0.9750939526811694,
          1.380785553315133,
          0.2123680746554314,
          -0.6149438059877549,
          -2.2002459659094895,
          -0.08726555870063096,
          -0.4874056795170275,
          1.2338776919088803,
          -1.7123999692004583,
          -0.6181936541808375,
          -2.6512872632951994,
          -1.7245511569751049,
          -0.041507293303092156,
          -0.18938033770535043,
          1.0796974291745665,
          -0.025905940390241588,
          -1.1557678885732423,
          0.2579559545964371,
          0.7883523374982597,
          1.1461872632859762,
          -0.5885252765586263,
          0.11272445328866162,
          -0.22675422662729436,
          1.115206107559157,
          -1.184628080397001,
          1.4413811785525896,
          -0.1014443142888211,
          0.908934520105821,
          -0.45531622884496525,
          0.19034700444139369,
          -1.0155830932027832,
          -0.7860163518810481,
          -0.9428300144654829,
          1.8510610687884004,
          -0.29056512640351234
         ],
         "yaxis": "y9"
        },
        {
         "line": {
          "color": "rgba(128, 128, 128, 1.0)",
          "dash": "solid",
          "shape": "linear",
          "width": 1.3
         },
         "marker": {
          "size": 2,
          "symbol": "circle"
         },
         "mode": "markers",
         "name": "C",
         "text": "",
         "type": "scatter",
         "x": [
          1.1982473059308325,
          1.6356636244629494,
          -0.8905655629472256,
          -1.807838351873487,
          0.8059253931077515,
          0.35179663251839494,
          3.286566911427533,
          2.8856879704436356,
          -1.6302195439392437,
          -0.46559364417373905,
          0.5722312952267994,
          0.13493420680389276,
          -0.042561264746407916,
          -1.3888743215255817,
          -1.0400399241781164,
          -0.12167381490054667,
          -0.7290940015517252,
          -0.09889921265528098,
          -0.3312005457673756,
          0.5261642154537874,
          0.6682052848327581,
          0.35916570838529577,
          -0.19295278672651348,
          1.1220259215142658,
          -0.5462425995736458,
          -0.3925935589237412,
          0.169345302240433,
          -1.7922818269161258,
          1.8628476133897467,
          -0.5340917673987183,
          0.04344248660006066,
          2.277202365749576,
          -0.25663557433485684,
          -1.1153026316907826,
          -0.7784819485526674,
          -0.27000384523590626,
          0.4977305798284601,
          1.4767340668012499,
          -0.3632677807686293,
          -1.5302748335828096,
          0.7467921741550148,
          -2.2970024424818507,
          -1.4460996582475492,
          -2.106907488696165,
          1.298016626562994,
          -0.324365394283865,
          -0.1449205658054919,
          0.12792883571809066,
          -0.08380256741136723,
          0.5187857885798648,
          -0.2776577943424909,
          -2.4766660149823316,
          0.875350737970101,
          0.5505238029568075,
          0.6035147525603715,
          -0.639981438984545,
          0.5973527193033242,
          -0.4392231849559408,
          1.2362135230485218,
          2.067677929479437,
          0.6375611227756837,
          -0.29871600887110944,
          0.2134919337824578,
          -0.5394598871410751,
          -0.3347505316342336,
          0.0801216955297691,
          -0.042805121119385926,
          0.37368049305987766,
          -0.3219801945746798,
          -0.4208666241915466,
          -0.4979873718658901,
          0.005609253028819707,
          0.03608464305536002,
          -0.029992147476621468,
          0.142788839251483,
          0.10275057800983606,
          -0.7223937306717052,
          -1.31611367941755,
          0.11682713512843675,
          0.36508224033026243,
          0.016701958707791845,
          0.22698760232656448,
          1.5465654668606335,
          -0.39381887564259743,
          1.142054801169338,
          1.2133216968804088,
          -0.5278164628670937,
          1.4884792811106382,
          -0.951696847783406,
          1.7120260108326464,
          -0.1454210212980894,
          0.7729670349626565,
          -1.398599836046639,
          0.2936544015837765,
          -1.4724797978802802,
          -1.152984289788025,
          -0.4244596261425564,
          0.35510940547754,
          1.1863954719576226,
          0.7641118974979407
         ],
         "xaxis": "x10",
         "y": [
          0.1320759122455077,
          -0.04444424433177913,
          2.6585681121160922,
          0.3174800749607619,
          1.654359355438138,
          -0.6732701057926693,
          0.6361285686969663,
          -0.2451885959321246,
          -0.3314462347253053,
          0.3802969653490417,
          -1.7223806520139417,
          1.442167007934898,
          -1.177226112601706,
          -0.7321322627771829,
          -0.9548570607452044,
          -0.3635421281270355,
          -0.09628493714209976,
          0.7248668891529634,
          -0.39568706100878676,
          -0.4079615038661267,
          -0.6290513126106057,
          0.5580161889769741,
          1.068536165516149,
          1.1133527811753148,
          1.7994243459760668,
          0.29646904639819277,
          -0.6372995452114765,
          -0.26728521908326697,
          2.23028609817543,
          1.1797729334637708,
          1.275159327922166,
          -1.195901028112852,
          0.06445629351612976,
          -0.039466561765940954,
          -0.4295291479021976,
          1.0118396725120664,
          -0.9019718566983405,
          0.22083201477157846,
          0.04904930900498299,
          0.14701746599061263,
          -0.26563843558056954,
          -1.6234615369066359,
          1.859227722720208,
          -1.3893557603150164,
          0.056429355056207386,
          -1.5974864392899208,
          0.02485207450433001,
          -0.496205985444526,
          2.0668381018242794,
          0.6226740122092347,
          -2.077490400736509,
          0.4408991383440806,
          0.44774077327389555,
          0.28644799307103813,
          -1.5671574054913588,
          1.5090595853773114,
          0.6199971372861851,
          -0.28188991184088036,
          0.05236364002779333,
          -0.6050293620259407,
          -1.4416773512957197,
          0.6095514283064996,
          -1.1796228138285,
          -0.7195189127582756,
          -0.20939639161807388,
          -0.9750939526811694,
          1.380785553315133,
          0.2123680746554314,
          -0.6149438059877549,
          -2.2002459659094895,
          -0.08726555870063096,
          -0.4874056795170275,
          1.2338776919088803,
          -1.7123999692004583,
          -0.6181936541808375,
          -2.6512872632951994,
          -1.7245511569751049,
          -0.041507293303092156,
          -0.18938033770535043,
          1.0796974291745665,
          -0.025905940390241588,
          -1.1557678885732423,
          0.2579559545964371,
          0.7883523374982597,
          1.1461872632859762,
          -0.5885252765586263,
          0.11272445328866162,
          -0.22675422662729436,
          1.115206107559157,
          -1.184628080397001,
          1.4413811785525896,
          -0.1014443142888211,
          0.908934520105821,
          -0.45531622884496525,
          0.19034700444139369,
          -1.0155830932027832,
          -0.7860163518810481,
          -0.9428300144654829,
          1.8510610687884004,
          -0.29056512640351234
         ],
         "yaxis": "y10"
        },
        {
         "histfunc": "count",
         "histnorm": "",
         "marker": {
          "color": "rgba(50, 171, 96, 1.0)",
          "line": {
           "color": "#4D5663",
           "width": 1.3
          }
         },
         "name": "C",
         "nbinsx": 10,
         "opacity": 0.8,
         "orientation": "v",
         "type": "histogram",
         "x": [
          0.1320759122455077,
          -0.04444424433177913,
          2.6585681121160922,
          0.3174800749607619,
          1.654359355438138,
          -0.6732701057926693,
          0.6361285686969663,
          -0.2451885959321246,
          -0.3314462347253053,
          0.3802969653490417,
          -1.7223806520139417,
          1.442167007934898,
          -1.177226112601706,
          -0.7321322627771829,
          -0.9548570607452044,
          -0.3635421281270355,
          -0.09628493714209976,
          0.7248668891529634,
          -0.39568706100878676,
          -0.4079615038661267,
          -0.6290513126106057,
          0.5580161889769741,
          1.068536165516149,
          1.1133527811753148,
          1.7994243459760668,
          0.29646904639819277,
          -0.6372995452114765,
          -0.26728521908326697,
          2.23028609817543,
          1.1797729334637708,
          1.275159327922166,
          -1.195901028112852,
          0.06445629351612976,
          -0.039466561765940954,
          -0.4295291479021976,
          1.0118396725120664,
          -0.9019718566983405,
          0.22083201477157846,
          0.04904930900498299,
          0.14701746599061263,
          -0.26563843558056954,
          -1.6234615369066359,
          1.859227722720208,
          -1.3893557603150164,
          0.056429355056207386,
          -1.5974864392899208,
          0.02485207450433001,
          -0.496205985444526,
          2.0668381018242794,
          0.6226740122092347,
          -2.077490400736509,
          0.4408991383440806,
          0.44774077327389555,
          0.28644799307103813,
          -1.5671574054913588,
          1.5090595853773114,
          0.6199971372861851,
          -0.28188991184088036,
          0.05236364002779333,
          -0.6050293620259407,
          -1.4416773512957197,
          0.6095514283064996,
          -1.1796228138285,
          -0.7195189127582756,
          -0.20939639161807388,
          -0.9750939526811694,
          1.380785553315133,
          0.2123680746554314,
          -0.6149438059877549,
          -2.2002459659094895,
          -0.08726555870063096,
          -0.4874056795170275,
          1.2338776919088803,
          -1.7123999692004583,
          -0.6181936541808375,
          -2.6512872632951994,
          -1.7245511569751049,
          -0.041507293303092156,
          -0.18938033770535043,
          1.0796974291745665,
          -0.025905940390241588,
          -1.1557678885732423,
          0.2579559545964371,
          0.7883523374982597,
          1.1461872632859762,
          -0.5885252765586263,
          0.11272445328866162,
          -0.22675422662729436,
          1.115206107559157,
          -1.184628080397001,
          1.4413811785525896,
          -0.1014443142888211,
          0.908934520105821,
          -0.45531622884496525,
          0.19034700444139369,
          -1.0155830932027832,
          -0.7860163518810481,
          -0.9428300144654829,
          1.8510610687884004,
          -0.29056512640351234
         ],
         "xaxis": "x11",
         "yaxis": "y11"
        },
        {
         "line": {
          "color": "rgba(128, 128, 128, 1.0)",
          "dash": "solid",
          "shape": "linear",
          "width": 1.3
         },
         "marker": {
          "size": 2,
          "symbol": "circle"
         },
         "mode": "markers",
         "name": "C",
         "text": "",
         "type": "scatter",
         "x": [
          -0.015680719847409957,
          0.38467931988837933,
          -0.7941830807848673,
          -0.109970710355125,
          0.33798250759545057,
          -0.25576222851431013,
          -0.48346699503870183,
          1.0877125640222065,
          -0.9408116705146999,
          0.5214002226692266,
          -1.0803745666261861,
          2.924862676501828,
          -0.14565468527778472,
          1.8526889333322263,
          -1.6911352788307619,
          0.03010989811745035,
          -0.8692370113088596,
          -1.6018173727288723,
          -0.2620976797444577,
          0.3999118965111071,
          1.2525525190342175,
          -0.810289227115854,
          -0.37962080023713046,
          0.3396529341164264,
          2.730615185009525,
          -0.41437229514600954,
          1.1632113654556508,
          -1.1997815171985624,
          0.8846443003012396,
          -0.9825518231980817,
          0.11203824680181086,
          -0.7496420110271115,
          -1.1835084993367697,
          0.29064878159009694,
          -0.7854155992917491,
          -0.6005123981160521,
          -0.24014262751114215,
          0.007307545851978295,
          -1.758097265120564,
          0.5170864743943338,
          -0.43317476782347214,
          -0.40940548692306183,
          0.8189904200946637,
          1.2726038342993118,
          -1.7788979408664063,
          0.8882432122911695,
          -0.6215820086244249,
          2.517154028613377,
          -0.09152061230271684,
          -1.3426836467906045,
          -2.62098906420756,
          -1.465577033796658,
          2.5118562828010207,
          1.1756874953788985,
          -0.5458130973398371,
          -0.35742387455943303,
          -0.2290686431606772,
          0.1846582034162207,
          0.2735245705514366,
          -0.41508504951161235,
          -1.8156128336088706,
          -0.5876678691944328,
          -0.300777717597309,
          -0.5528700652076918,
          -0.8765669026203909,
          -0.7281615647204239,
          -0.7919977348091972,
          0.8008814948537331,
          1.5116361266794893,
          0.03653244016199828,
          0.8520736473130769,
          0.27288929365938136,
          1.1482068171202153,
          -0.009265954859607626,
          -1.2795087196452406,
          -0.3280901728788498,
          0.27415276964246943,
          2.187508388956917,
          -0.4223531370913922,
          -0.057055342593380055,
          0.011668676997639417,
          0.5414785864102529,
          -1.8817490105045827,
          1.127648853265194,
          -0.9950241376700371,
          0.3059849419662011,
          0.6109926533257333,
          1.3620652419570505,
          -1.1761795395021766,
          0.5156527179224979,
          0.0922983675784503,
          -1.343042173023882,
          -0.9452371393912993,
          -0.07351505456300246,
          -0.31322416241331846,
          1.734378468520146,
          -0.1986992925388653,
          0.4682307670670544,
          0.17665471541962913,
          0.24475489740538695
         ],
         "xaxis": "x12",
         "y": [
          0.1320759122455077,
          -0.04444424433177913,
          2.6585681121160922,
          0.3174800749607619,
          1.654359355438138,
          -0.6732701057926693,
          0.6361285686969663,
          -0.2451885959321246,
          -0.3314462347253053,
          0.3802969653490417,
          -1.7223806520139417,
          1.442167007934898,
          -1.177226112601706,
          -0.7321322627771829,
          -0.9548570607452044,
          -0.3635421281270355,
          -0.09628493714209976,
          0.7248668891529634,
          -0.39568706100878676,
          -0.4079615038661267,
          -0.6290513126106057,
          0.5580161889769741,
          1.068536165516149,
          1.1133527811753148,
          1.7994243459760668,
          0.29646904639819277,
          -0.6372995452114765,
          -0.26728521908326697,
          2.23028609817543,
          1.1797729334637708,
          1.275159327922166,
          -1.195901028112852,
          0.06445629351612976,
          -0.039466561765940954,
          -0.4295291479021976,
          1.0118396725120664,
          -0.9019718566983405,
          0.22083201477157846,
          0.04904930900498299,
          0.14701746599061263,
          -0.26563843558056954,
          -1.6234615369066359,
          1.859227722720208,
          -1.3893557603150164,
          0.056429355056207386,
          -1.5974864392899208,
          0.02485207450433001,
          -0.496205985444526,
          2.0668381018242794,
          0.6226740122092347,
          -2.077490400736509,
          0.4408991383440806,
          0.44774077327389555,
          0.28644799307103813,
          -1.5671574054913588,
          1.5090595853773114,
          0.6199971372861851,
          -0.28188991184088036,
          0.05236364002779333,
          -0.6050293620259407,
          -1.4416773512957197,
          0.6095514283064996,
          -1.1796228138285,
          -0.7195189127582756,
          -0.20939639161807388,
          -0.9750939526811694,
          1.380785553315133,
          0.2123680746554314,
          -0.6149438059877549,
          -2.2002459659094895,
          -0.08726555870063096,
          -0.4874056795170275,
          1.2338776919088803,
          -1.7123999692004583,
          -0.6181936541808375,
          -2.6512872632951994,
          -1.7245511569751049,
          -0.041507293303092156,
          -0.18938033770535043,
          1.0796974291745665,
          -0.025905940390241588,
          -1.1557678885732423,
          0.2579559545964371,
          0.7883523374982597,
          1.1461872632859762,
          -0.5885252765586263,
          0.11272445328866162,
          -0.22675422662729436,
          1.115206107559157,
          -1.184628080397001,
          1.4413811785525896,
          -0.1014443142888211,
          0.908934520105821,
          -0.45531622884496525,
          0.19034700444139369,
          -1.0155830932027832,
          -0.7860163518810481,
          -0.9428300144654829,
          1.8510610687884004,
          -0.29056512640351234
         ],
         "yaxis": "y12"
        },
        {
         "line": {
          "color": "rgba(128, 128, 128, 1.0)",
          "dash": "solid",
          "shape": "linear",
          "width": 1.3
         },
         "marker": {
          "size": 2,
          "symbol": "circle"
         },
         "mode": "markers",
         "name": "D",
         "text": "",
         "type": "scatter",
         "x": [
          -0.3398988896464808,
          -1.6320219123904456,
          1.0833580654835377,
          -0.5221441697533774,
          1.8870577989950417,
          -0.1519022894899191,
          1.738502057334876,
          1.7056108965703825,
          -0.6441517480790271,
          1.446088337377909,
          -0.40837595317937014,
          -0.3845503118092821,
          -1.1751265443795977,
          0.3867803121745835,
          -0.7426482243780839,
          -0.43683293687948244,
          -0.5088760710426806,
          -1.8543028311017542,
          -0.6332326401681622,
          0.1462914660828161,
          0.8830579721724487,
          0.3971948472370433,
          -1.1204484108009625,
          0.40106396407362593,
          -0.4067665034368915,
          0.47737803056416306,
          -1.9370437378754735,
          0.7292434252915854,
          -0.9651293257767154,
          -0.19170860679186263,
          -1.7686489673158163,
          -0.2537637565216562,
          0.6425981649526561,
          -1.0591476195161171,
          1.0667946528907304,
          -0.39160597886280846,
          -1.4037276993584953,
          1.8542164451445762,
          -1.0897874477601286,
          -0.6166742828751661,
          1.0275457033922706,
          -0.6551011328439404,
          -1.9316441131174051,
          0.8954051917268987,
          -0.929859420870943,
          -2.6074766673535854,
          -0.3260344298623395,
          -2.0670868762703063,
          0.09550434985732024,
          -0.5773800461329046,
          0.6547371662725984,
          -0.02746341612035001,
          1.0210359693291602,
          0.7901461323588164,
          0.15550268839189296,
          0.06477080315932901,
          -0.3876351988405084,
          -0.2589635071591233,
          0.610293410412037,
          0.35704353940696576,
          0.004869934166238935,
          2.084087092727924,
          0.44549222902202584,
          -0.8300681314305705,
          0.380011831731752,
          0.033614054409343785,
          0.2676525442637065,
          0.7269584845831824,
          1.1340583727418463,
          1.2306196535659573,
          0.3989981915062393,
          -0.020588125991491804,
          -0.590085318221706,
          0.7094993217735794,
          -0.07682209611761445,
          1.132665491703427,
          0.49475019050692304,
          -0.13891134715709394,
          -1.07586707290558,
          0.4441980300520878,
          -1.4868717602776649,
          -2.5060290067500364,
          1.8586312192790821,
          2.0462249338926135,
          -2.0116341336398333,
          1.2762416640493945,
          0.463117861856559,
          -0.6091834606663771,
          -0.752894001502793,
          0.3475782028223775,
          0.17383952520650456,
          -0.794650830102094,
          -0.10028232258399258,
          -1.7467047199059293,
          0.8942392582127465,
          0.6040802134291302,
          0.2699602012812688,
          1.8279522592497466,
          -0.4637391036140166,
          1.0973521416489043
         ],
         "xaxis": "x13",
         "y": [
          -0.015680719847409957,
          0.38467931988837933,
          -0.7941830807848673,
          -0.109970710355125,
          0.33798250759545057,
          -0.25576222851431013,
          -0.48346699503870183,
          1.0877125640222065,
          -0.9408116705146999,
          0.5214002226692266,
          -1.0803745666261861,
          2.924862676501828,
          -0.14565468527778472,
          1.8526889333322263,
          -1.6911352788307619,
          0.03010989811745035,
          -0.8692370113088596,
          -1.6018173727288723,
          -0.2620976797444577,
          0.3999118965111071,
          1.2525525190342175,
          -0.810289227115854,
          -0.37962080023713046,
          0.3396529341164264,
          2.730615185009525,
          -0.41437229514600954,
          1.1632113654556508,
          -1.1997815171985624,
          0.8846443003012396,
          -0.9825518231980817,
          0.11203824680181086,
          -0.7496420110271115,
          -1.1835084993367697,
          0.29064878159009694,
          -0.7854155992917491,
          -0.6005123981160521,
          -0.24014262751114215,
          0.007307545851978295,
          -1.758097265120564,
          0.5170864743943338,
          -0.43317476782347214,
          -0.40940548692306183,
          0.8189904200946637,
          1.2726038342993118,
          -1.7788979408664063,
          0.8882432122911695,
          -0.6215820086244249,
          2.517154028613377,
          -0.09152061230271684,
          -1.3426836467906045,
          -2.62098906420756,
          -1.465577033796658,
          2.5118562828010207,
          1.1756874953788985,
          -0.5458130973398371,
          -0.35742387455943303,
          -0.2290686431606772,
          0.1846582034162207,
          0.2735245705514366,
          -0.41508504951161235,
          -1.8156128336088706,
          -0.5876678691944328,
          -0.300777717597309,
          -0.5528700652076918,
          -0.8765669026203909,
          -0.7281615647204239,
          -0.7919977348091972,
          0.8008814948537331,
          1.5116361266794893,
          0.03653244016199828,
          0.8520736473130769,
          0.27288929365938136,
          1.1482068171202153,
          -0.009265954859607626,
          -1.2795087196452406,
          -0.3280901728788498,
          0.27415276964246943,
          2.187508388956917,
          -0.4223531370913922,
          -0.057055342593380055,
          0.011668676997639417,
          0.5414785864102529,
          -1.8817490105045827,
          1.127648853265194,
          -0.9950241376700371,
          0.3059849419662011,
          0.6109926533257333,
          1.3620652419570505,
          -1.1761795395021766,
          0.5156527179224979,
          0.0922983675784503,
          -1.343042173023882,
          -0.9452371393912993,
          -0.07351505456300246,
          -0.31322416241331846,
          1.734378468520146,
          -0.1986992925388653,
          0.4682307670670544,
          0.17665471541962913,
          0.24475489740538695
         ],
         "yaxis": "y13"
        },
        {
         "line": {
          "color": "rgba(128, 128, 128, 1.0)",
          "dash": "solid",
          "shape": "linear",
          "width": 1.3
         },
         "marker": {
          "size": 2,
          "symbol": "circle"
         },
         "mode": "markers",
         "name": "D",
         "text": "",
         "type": "scatter",
         "x": [
          1.1982473059308325,
          1.6356636244629494,
          -0.8905655629472256,
          -1.807838351873487,
          0.8059253931077515,
          0.35179663251839494,
          3.286566911427533,
          2.8856879704436356,
          -1.6302195439392437,
          -0.46559364417373905,
          0.5722312952267994,
          0.13493420680389276,
          -0.042561264746407916,
          -1.3888743215255817,
          -1.0400399241781164,
          -0.12167381490054667,
          -0.7290940015517252,
          -0.09889921265528098,
          -0.3312005457673756,
          0.5261642154537874,
          0.6682052848327581,
          0.35916570838529577,
          -0.19295278672651348,
          1.1220259215142658,
          -0.5462425995736458,
          -0.3925935589237412,
          0.169345302240433,
          -1.7922818269161258,
          1.8628476133897467,
          -0.5340917673987183,
          0.04344248660006066,
          2.277202365749576,
          -0.25663557433485684,
          -1.1153026316907826,
          -0.7784819485526674,
          -0.27000384523590626,
          0.4977305798284601,
          1.4767340668012499,
          -0.3632677807686293,
          -1.5302748335828096,
          0.7467921741550148,
          -2.2970024424818507,
          -1.4460996582475492,
          -2.106907488696165,
          1.298016626562994,
          -0.324365394283865,
          -0.1449205658054919,
          0.12792883571809066,
          -0.08380256741136723,
          0.5187857885798648,
          -0.2776577943424909,
          -2.4766660149823316,
          0.875350737970101,
          0.5505238029568075,
          0.6035147525603715,
          -0.639981438984545,
          0.5973527193033242,
          -0.4392231849559408,
          1.2362135230485218,
          2.067677929479437,
          0.6375611227756837,
          -0.29871600887110944,
          0.2134919337824578,
          -0.5394598871410751,
          -0.3347505316342336,
          0.0801216955297691,
          -0.042805121119385926,
          0.37368049305987766,
          -0.3219801945746798,
          -0.4208666241915466,
          -0.4979873718658901,
          0.005609253028819707,
          0.03608464305536002,
          -0.029992147476621468,
          0.142788839251483,
          0.10275057800983606,
          -0.7223937306717052,
          -1.31611367941755,
          0.11682713512843675,
          0.36508224033026243,
          0.016701958707791845,
          0.22698760232656448,
          1.5465654668606335,
          -0.39381887564259743,
          1.142054801169338,
          1.2133216968804088,
          -0.5278164628670937,
          1.4884792811106382,
          -0.951696847783406,
          1.7120260108326464,
          -0.1454210212980894,
          0.7729670349626565,
          -1.398599836046639,
          0.2936544015837765,
          -1.4724797978802802,
          -1.152984289788025,
          -0.4244596261425564,
          0.35510940547754,
          1.1863954719576226,
          0.7641118974979407
         ],
         "xaxis": "x14",
         "y": [
          -0.015680719847409957,
          0.38467931988837933,
          -0.7941830807848673,
          -0.109970710355125,
          0.33798250759545057,
          -0.25576222851431013,
          -0.48346699503870183,
          1.0877125640222065,
          -0.9408116705146999,
          0.5214002226692266,
          -1.0803745666261861,
          2.924862676501828,
          -0.14565468527778472,
          1.8526889333322263,
          -1.6911352788307619,
          0.03010989811745035,
          -0.8692370113088596,
          -1.6018173727288723,
          -0.2620976797444577,
          0.3999118965111071,
          1.2525525190342175,
          -0.810289227115854,
          -0.37962080023713046,
          0.3396529341164264,
          2.730615185009525,
          -0.41437229514600954,
          1.1632113654556508,
          -1.1997815171985624,
          0.8846443003012396,
          -0.9825518231980817,
          0.11203824680181086,
          -0.7496420110271115,
          -1.1835084993367697,
          0.29064878159009694,
          -0.7854155992917491,
          -0.6005123981160521,
          -0.24014262751114215,
          0.007307545851978295,
          -1.758097265120564,
          0.5170864743943338,
          -0.43317476782347214,
          -0.40940548692306183,
          0.8189904200946637,
          1.2726038342993118,
          -1.7788979408664063,
          0.8882432122911695,
          -0.6215820086244249,
          2.517154028613377,
          -0.09152061230271684,
          -1.3426836467906045,
          -2.62098906420756,
          -1.465577033796658,
          2.5118562828010207,
          1.1756874953788985,
          -0.5458130973398371,
          -0.35742387455943303,
          -0.2290686431606772,
          0.1846582034162207,
          0.2735245705514366,
          -0.41508504951161235,
          -1.8156128336088706,
          -0.5876678691944328,
          -0.300777717597309,
          -0.5528700652076918,
          -0.8765669026203909,
          -0.7281615647204239,
          -0.7919977348091972,
          0.8008814948537331,
          1.5116361266794893,
          0.03653244016199828,
          0.8520736473130769,
          0.27288929365938136,
          1.1482068171202153,
          -0.009265954859607626,
          -1.2795087196452406,
          -0.3280901728788498,
          0.27415276964246943,
          2.187508388956917,
          -0.4223531370913922,
          -0.057055342593380055,
          0.011668676997639417,
          0.5414785864102529,
          -1.8817490105045827,
          1.127648853265194,
          -0.9950241376700371,
          0.3059849419662011,
          0.6109926533257333,
          1.3620652419570505,
          -1.1761795395021766,
          0.5156527179224979,
          0.0922983675784503,
          -1.343042173023882,
          -0.9452371393912993,
          -0.07351505456300246,
          -0.31322416241331846,
          1.734378468520146,
          -0.1986992925388653,
          0.4682307670670544,
          0.17665471541962913,
          0.24475489740538695
         ],
         "yaxis": "y14"
        },
        {
         "line": {
          "color": "rgba(128, 128, 128, 1.0)",
          "dash": "solid",
          "shape": "linear",
          "width": 1.3
         },
         "marker": {
          "size": 2,
          "symbol": "circle"
         },
         "mode": "markers",
         "name": "D",
         "text": "",
         "type": "scatter",
         "x": [
          0.1320759122455077,
          -0.04444424433177913,
          2.6585681121160922,
          0.3174800749607619,
          1.654359355438138,
          -0.6732701057926693,
          0.6361285686969663,
          -0.2451885959321246,
          -0.3314462347253053,
          0.3802969653490417,
          -1.7223806520139417,
          1.442167007934898,
          -1.177226112601706,
          -0.7321322627771829,
          -0.9548570607452044,
          -0.3635421281270355,
          -0.09628493714209976,
          0.7248668891529634,
          -0.39568706100878676,
          -0.4079615038661267,
          -0.6290513126106057,
          0.5580161889769741,
          1.068536165516149,
          1.1133527811753148,
          1.7994243459760668,
          0.29646904639819277,
          -0.6372995452114765,
          -0.26728521908326697,
          2.23028609817543,
          1.1797729334637708,
          1.275159327922166,
          -1.195901028112852,
          0.06445629351612976,
          -0.039466561765940954,
          -0.4295291479021976,
          1.0118396725120664,
          -0.9019718566983405,
          0.22083201477157846,
          0.04904930900498299,
          0.14701746599061263,
          -0.26563843558056954,
          -1.6234615369066359,
          1.859227722720208,
          -1.3893557603150164,
          0.056429355056207386,
          -1.5974864392899208,
          0.02485207450433001,
          -0.496205985444526,
          2.0668381018242794,
          0.6226740122092347,
          -2.077490400736509,
          0.4408991383440806,
          0.44774077327389555,
          0.28644799307103813,
          -1.5671574054913588,
          1.5090595853773114,
          0.6199971372861851,
          -0.28188991184088036,
          0.05236364002779333,
          -0.6050293620259407,
          -1.4416773512957197,
          0.6095514283064996,
          -1.1796228138285,
          -0.7195189127582756,
          -0.20939639161807388,
          -0.9750939526811694,
          1.380785553315133,
          0.2123680746554314,
          -0.6149438059877549,
          -2.2002459659094895,
          -0.08726555870063096,
          -0.4874056795170275,
          1.2338776919088803,
          -1.7123999692004583,
          -0.6181936541808375,
          -2.6512872632951994,
          -1.7245511569751049,
          -0.041507293303092156,
          -0.18938033770535043,
          1.0796974291745665,
          -0.025905940390241588,
          -1.1557678885732423,
          0.2579559545964371,
          0.7883523374982597,
          1.1461872632859762,
          -0.5885252765586263,
          0.11272445328866162,
          -0.22675422662729436,
          1.115206107559157,
          -1.184628080397001,
          1.4413811785525896,
          -0.1014443142888211,
          0.908934520105821,
          -0.45531622884496525,
          0.19034700444139369,
          -1.0155830932027832,
          -0.7860163518810481,
          -0.9428300144654829,
          1.8510610687884004,
          -0.29056512640351234
         ],
         "xaxis": "x15",
         "y": [
          -0.015680719847409957,
          0.38467931988837933,
          -0.7941830807848673,
          -0.109970710355125,
          0.33798250759545057,
          -0.25576222851431013,
          -0.48346699503870183,
          1.0877125640222065,
          -0.9408116705146999,
          0.5214002226692266,
          -1.0803745666261861,
          2.924862676501828,
          -0.14565468527778472,
          1.8526889333322263,
          -1.6911352788307619,
          0.03010989811745035,
          -0.8692370113088596,
          -1.6018173727288723,
          -0.2620976797444577,
          0.3999118965111071,
          1.2525525190342175,
          -0.810289227115854,
          -0.37962080023713046,
          0.3396529341164264,
          2.730615185009525,
          -0.41437229514600954,
          1.1632113654556508,
          -1.1997815171985624,
          0.8846443003012396,
          -0.9825518231980817,
          0.11203824680181086,
          -0.7496420110271115,
          -1.1835084993367697,
          0.29064878159009694,
          -0.7854155992917491,
          -0.6005123981160521,
          -0.24014262751114215,
          0.007307545851978295,
          -1.758097265120564,
          0.5170864743943338,
          -0.43317476782347214,
          -0.40940548692306183,
          0.8189904200946637,
          1.2726038342993118,
          -1.7788979408664063,
          0.8882432122911695,
          -0.6215820086244249,
          2.517154028613377,
          -0.09152061230271684,
          -1.3426836467906045,
          -2.62098906420756,
          -1.465577033796658,
          2.5118562828010207,
          1.1756874953788985,
          -0.5458130973398371,
          -0.35742387455943303,
          -0.2290686431606772,
          0.1846582034162207,
          0.2735245705514366,
          -0.41508504951161235,
          -1.8156128336088706,
          -0.5876678691944328,
          -0.300777717597309,
          -0.5528700652076918,
          -0.8765669026203909,
          -0.7281615647204239,
          -0.7919977348091972,
          0.8008814948537331,
          1.5116361266794893,
          0.03653244016199828,
          0.8520736473130769,
          0.27288929365938136,
          1.1482068171202153,
          -0.009265954859607626,
          -1.2795087196452406,
          -0.3280901728788498,
          0.27415276964246943,
          2.187508388956917,
          -0.4223531370913922,
          -0.057055342593380055,
          0.011668676997639417,
          0.5414785864102529,
          -1.8817490105045827,
          1.127648853265194,
          -0.9950241376700371,
          0.3059849419662011,
          0.6109926533257333,
          1.3620652419570505,
          -1.1761795395021766,
          0.5156527179224979,
          0.0922983675784503,
          -1.343042173023882,
          -0.9452371393912993,
          -0.07351505456300246,
          -0.31322416241331846,
          1.734378468520146,
          -0.1986992925388653,
          0.4682307670670544,
          0.17665471541962913,
          0.24475489740538695
         ],
         "yaxis": "y15"
        },
        {
         "histfunc": "count",
         "histnorm": "",
         "marker": {
          "color": "rgba(128, 0, 128, 1.0)",
          "line": {
           "color": "#4D5663",
           "width": 1.3
          }
         },
         "name": "D",
         "nbinsx": 10,
         "opacity": 0.8,
         "orientation": "v",
         "type": "histogram",
         "x": [
          -0.015680719847409957,
          0.38467931988837933,
          -0.7941830807848673,
          -0.109970710355125,
          0.33798250759545057,
          -0.25576222851431013,
          -0.48346699503870183,
          1.0877125640222065,
          -0.9408116705146999,
          0.5214002226692266,
          -1.0803745666261861,
          2.924862676501828,
          -0.14565468527778472,
          1.8526889333322263,
          -1.6911352788307619,
          0.03010989811745035,
          -0.8692370113088596,
          -1.6018173727288723,
          -0.2620976797444577,
          0.3999118965111071,
          1.2525525190342175,
          -0.810289227115854,
          -0.37962080023713046,
          0.3396529341164264,
          2.730615185009525,
          -0.41437229514600954,
          1.1632113654556508,
          -1.1997815171985624,
          0.8846443003012396,
          -0.9825518231980817,
          0.11203824680181086,
          -0.7496420110271115,
          -1.1835084993367697,
          0.29064878159009694,
          -0.7854155992917491,
          -0.6005123981160521,
          -0.24014262751114215,
          0.007307545851978295,
          -1.758097265120564,
          0.5170864743943338,
          -0.43317476782347214,
          -0.40940548692306183,
          0.8189904200946637,
          1.2726038342993118,
          -1.7788979408664063,
          0.8882432122911695,
          -0.6215820086244249,
          2.517154028613377,
          -0.09152061230271684,
          -1.3426836467906045,
          -2.62098906420756,
          -1.465577033796658,
          2.5118562828010207,
          1.1756874953788985,
          -0.5458130973398371,
          -0.35742387455943303,
          -0.2290686431606772,
          0.1846582034162207,
          0.2735245705514366,
          -0.41508504951161235,
          -1.8156128336088706,
          -0.5876678691944328,
          -0.300777717597309,
          -0.5528700652076918,
          -0.8765669026203909,
          -0.7281615647204239,
          -0.7919977348091972,
          0.8008814948537331,
          1.5116361266794893,
          0.03653244016199828,
          0.8520736473130769,
          0.27288929365938136,
          1.1482068171202153,
          -0.009265954859607626,
          -1.2795087196452406,
          -0.3280901728788498,
          0.27415276964246943,
          2.187508388956917,
          -0.4223531370913922,
          -0.057055342593380055,
          0.011668676997639417,
          0.5414785864102529,
          -1.8817490105045827,
          1.127648853265194,
          -0.9950241376700371,
          0.3059849419662011,
          0.6109926533257333,
          1.3620652419570505,
          -1.1761795395021766,
          0.5156527179224979,
          0.0922983675784503,
          -1.343042173023882,
          -0.9452371393912993,
          -0.07351505456300246,
          -0.31322416241331846,
          1.734378468520146,
          -0.1986992925388653,
          0.4682307670670544,
          0.17665471541962913,
          0.24475489740538695
         ],
         "xaxis": "x16",
         "yaxis": "y16"
        }
       ],
       "layout": {
        "bargap": 0.02,
        "legend": {
         "bgcolor": "#F5F6F9",
         "font": {
          "color": "#4D5663"
         }
        },
        "paper_bgcolor": "#F5F6F9",
        "plot_bgcolor": "#F5F6F9",
        "showlegend": false,
        "template": {
         "data": {
          "bar": [
           {
            "error_x": {
             "color": "#2a3f5f"
            },
            "error_y": {
             "color": "#2a3f5f"
            },
            "marker": {
             "line": {
              "color": "#E5ECF6",
              "width": 0.5
             },
             "pattern": {
              "fillmode": "overlay",
              "size": 10,
              "solidity": 0.2
             }
            },
            "type": "bar"
           }
          ],
          "barpolar": [
           {
            "marker": {
             "line": {
              "color": "#E5ECF6",
              "width": 0.5
             },
             "pattern": {
              "fillmode": "overlay",
              "size": 10,
              "solidity": 0.2
             }
            },
            "type": "barpolar"
           }
          ],
          "carpet": [
           {
            "aaxis": {
             "endlinecolor": "#2a3f5f",
             "gridcolor": "white",
             "linecolor": "white",
             "minorgridcolor": "white",
             "startlinecolor": "#2a3f5f"
            },
            "baxis": {
             "endlinecolor": "#2a3f5f",
             "gridcolor": "white",
             "linecolor": "white",
             "minorgridcolor": "white",
             "startlinecolor": "#2a3f5f"
            },
            "type": "carpet"
           }
          ],
          "choropleth": [
           {
            "colorbar": {
             "outlinewidth": 0,
             "ticks": ""
            },
            "type": "choropleth"
           }
          ],
          "contour": [
           {
            "colorbar": {
             "outlinewidth": 0,
             "ticks": ""
            },
            "colorscale": [
             [
              0,
              "#0d0887"
             ],
             [
              0.1111111111111111,
              "#46039f"
             ],
             [
              0.2222222222222222,
              "#7201a8"
             ],
             [
              0.3333333333333333,
              "#9c179e"
             ],
             [
              0.4444444444444444,
              "#bd3786"
             ],
             [
              0.5555555555555556,
              "#d8576b"
             ],
             [
              0.6666666666666666,
              "#ed7953"
             ],
             [
              0.7777777777777778,
              "#fb9f3a"
             ],
             [
              0.8888888888888888,
              "#fdca26"
             ],
             [
              1,
              "#f0f921"
             ]
            ],
            "type": "contour"
           }
          ],
          "contourcarpet": [
           {
            "colorbar": {
             "outlinewidth": 0,
             "ticks": ""
            },
            "type": "contourcarpet"
           }
          ],
          "heatmap": [
           {
            "colorbar": {
             "outlinewidth": 0,
             "ticks": ""
            },
            "colorscale": [
             [
              0,
              "#0d0887"
             ],
             [
              0.1111111111111111,
              "#46039f"
             ],
             [
              0.2222222222222222,
              "#7201a8"
             ],
             [
              0.3333333333333333,
              "#9c179e"
             ],
             [
              0.4444444444444444,
              "#bd3786"
             ],
             [
              0.5555555555555556,
              "#d8576b"
             ],
             [
              0.6666666666666666,
              "#ed7953"
             ],
             [
              0.7777777777777778,
              "#fb9f3a"
             ],
             [
              0.8888888888888888,
              "#fdca26"
             ],
             [
              1,
              "#f0f921"
             ]
            ],
            "type": "heatmap"
           }
          ],
          "heatmapgl": [
           {
            "colorbar": {
             "outlinewidth": 0,
             "ticks": ""
            },
            "colorscale": [
             [
              0,
              "#0d0887"
             ],
             [
              0.1111111111111111,
              "#46039f"
             ],
             [
              0.2222222222222222,
              "#7201a8"
             ],
             [
              0.3333333333333333,
              "#9c179e"
             ],
             [
              0.4444444444444444,
              "#bd3786"
             ],
             [
              0.5555555555555556,
              "#d8576b"
             ],
             [
              0.6666666666666666,
              "#ed7953"
             ],
             [
              0.7777777777777778,
              "#fb9f3a"
             ],
             [
              0.8888888888888888,
              "#fdca26"
             ],
             [
              1,
              "#f0f921"
             ]
            ],
            "type": "heatmapgl"
           }
          ],
          "histogram": [
           {
            "marker": {
             "pattern": {
              "fillmode": "overlay",
              "size": 10,
              "solidity": 0.2
             }
            },
            "type": "histogram"
           }
          ],
          "histogram2d": [
           {
            "colorbar": {
             "outlinewidth": 0,
             "ticks": ""
            },
            "colorscale": [
             [
              0,
              "#0d0887"
             ],
             [
              0.1111111111111111,
              "#46039f"
             ],
             [
              0.2222222222222222,
              "#7201a8"
             ],
             [
              0.3333333333333333,
              "#9c179e"
             ],
             [
              0.4444444444444444,
              "#bd3786"
             ],
             [
              0.5555555555555556,
              "#d8576b"
             ],
             [
              0.6666666666666666,
              "#ed7953"
             ],
             [
              0.7777777777777778,
              "#fb9f3a"
             ],
             [
              0.8888888888888888,
              "#fdca26"
             ],
             [
              1,
              "#f0f921"
             ]
            ],
            "type": "histogram2d"
           }
          ],
          "histogram2dcontour": [
           {
            "colorbar": {
             "outlinewidth": 0,
             "ticks": ""
            },
            "colorscale": [
             [
              0,
              "#0d0887"
             ],
             [
              0.1111111111111111,
              "#46039f"
             ],
             [
              0.2222222222222222,
              "#7201a8"
             ],
             [
              0.3333333333333333,
              "#9c179e"
             ],
             [
              0.4444444444444444,
              "#bd3786"
             ],
             [
              0.5555555555555556,
              "#d8576b"
             ],
             [
              0.6666666666666666,
              "#ed7953"
             ],
             [
              0.7777777777777778,
              "#fb9f3a"
             ],
             [
              0.8888888888888888,
              "#fdca26"
             ],
             [
              1,
              "#f0f921"
             ]
            ],
            "type": "histogram2dcontour"
           }
          ],
          "mesh3d": [
           {
            "colorbar": {
             "outlinewidth": 0,
             "ticks": ""
            },
            "type": "mesh3d"
           }
          ],
          "parcoords": [
           {
            "line": {
             "colorbar": {
              "outlinewidth": 0,
              "ticks": ""
             }
            },
            "type": "parcoords"
           }
          ],
          "pie": [
           {
            "automargin": true,
            "type": "pie"
           }
          ],
          "scatter": [
           {
            "fillpattern": {
             "fillmode": "overlay",
             "size": 10,
             "solidity": 0.2
            },
            "type": "scatter"
           }
          ],
          "scatter3d": [
           {
            "line": {
             "colorbar": {
              "outlinewidth": 0,
              "ticks": ""
             }
            },
            "marker": {
             "colorbar": {
              "outlinewidth": 0,
              "ticks": ""
             }
            },
            "type": "scatter3d"
           }
          ],
          "scattercarpet": [
           {
            "marker": {
             "colorbar": {
              "outlinewidth": 0,
              "ticks": ""
             }
            },
            "type": "scattercarpet"
           }
          ],
          "scattergeo": [
           {
            "marker": {
             "colorbar": {
              "outlinewidth": 0,
              "ticks": ""
             }
            },
            "type": "scattergeo"
           }
          ],
          "scattergl": [
           {
            "marker": {
             "colorbar": {
              "outlinewidth": 0,
              "ticks": ""
             }
            },
            "type": "scattergl"
           }
          ],
          "scattermapbox": [
           {
            "marker": {
             "colorbar": {
              "outlinewidth": 0,
              "ticks": ""
             }
            },
            "type": "scattermapbox"
           }
          ],
          "scatterpolar": [
           {
            "marker": {
             "colorbar": {
              "outlinewidth": 0,
              "ticks": ""
             }
            },
            "type": "scatterpolar"
           }
          ],
          "scatterpolargl": [
           {
            "marker": {
             "colorbar": {
              "outlinewidth": 0,
              "ticks": ""
             }
            },
            "type": "scatterpolargl"
           }
          ],
          "scatterternary": [
           {
            "marker": {
             "colorbar": {
              "outlinewidth": 0,
              "ticks": ""
             }
            },
            "type": "scatterternary"
           }
          ],
          "surface": [
           {
            "colorbar": {
             "outlinewidth": 0,
             "ticks": ""
            },
            "colorscale": [
             [
              0,
              "#0d0887"
             ],
             [
              0.1111111111111111,
              "#46039f"
             ],
             [
              0.2222222222222222,
              "#7201a8"
             ],
             [
              0.3333333333333333,
              "#9c179e"
             ],
             [
              0.4444444444444444,
              "#bd3786"
             ],
             [
              0.5555555555555556,
              "#d8576b"
             ],
             [
              0.6666666666666666,
              "#ed7953"
             ],
             [
              0.7777777777777778,
              "#fb9f3a"
             ],
             [
              0.8888888888888888,
              "#fdca26"
             ],
             [
              1,
              "#f0f921"
             ]
            ],
            "type": "surface"
           }
          ],
          "table": [
           {
            "cells": {
             "fill": {
              "color": "#EBF0F8"
             },
             "line": {
              "color": "white"
             }
            },
            "header": {
             "fill": {
              "color": "#C8D4E3"
             },
             "line": {
              "color": "white"
             }
            },
            "type": "table"
           }
          ]
         },
         "layout": {
          "annotationdefaults": {
           "arrowcolor": "#2a3f5f",
           "arrowhead": 0,
           "arrowwidth": 1
          },
          "autotypenumbers": "strict",
          "coloraxis": {
           "colorbar": {
            "outlinewidth": 0,
            "ticks": ""
           }
          },
          "colorscale": {
           "diverging": [
            [
             0,
             "#8e0152"
            ],
            [
             0.1,
             "#c51b7d"
            ],
            [
             0.2,
             "#de77ae"
            ],
            [
             0.3,
             "#f1b6da"
            ],
            [
             0.4,
             "#fde0ef"
            ],
            [
             0.5,
             "#f7f7f7"
            ],
            [
             0.6,
             "#e6f5d0"
            ],
            [
             0.7,
             "#b8e186"
            ],
            [
             0.8,
             "#7fbc41"
            ],
            [
             0.9,
             "#4d9221"
            ],
            [
             1,
             "#276419"
            ]
           ],
           "sequential": [
            [
             0,
             "#0d0887"
            ],
            [
             0.1111111111111111,
             "#46039f"
            ],
            [
             0.2222222222222222,
             "#7201a8"
            ],
            [
             0.3333333333333333,
             "#9c179e"
            ],
            [
             0.4444444444444444,
             "#bd3786"
            ],
            [
             0.5555555555555556,
             "#d8576b"
            ],
            [
             0.6666666666666666,
             "#ed7953"
            ],
            [
             0.7777777777777778,
             "#fb9f3a"
            ],
            [
             0.8888888888888888,
             "#fdca26"
            ],
            [
             1,
             "#f0f921"
            ]
           ],
           "sequentialminus": [
            [
             0,
             "#0d0887"
            ],
            [
             0.1111111111111111,
             "#46039f"
            ],
            [
             0.2222222222222222,
             "#7201a8"
            ],
            [
             0.3333333333333333,
             "#9c179e"
            ],
            [
             0.4444444444444444,
             "#bd3786"
            ],
            [
             0.5555555555555556,
             "#d8576b"
            ],
            [
             0.6666666666666666,
             "#ed7953"
            ],
            [
             0.7777777777777778,
             "#fb9f3a"
            ],
            [
             0.8888888888888888,
             "#fdca26"
            ],
            [
             1,
             "#f0f921"
            ]
           ]
          },
          "colorway": [
           "#636efa",
           "#EF553B",
           "#00cc96",
           "#ab63fa",
           "#FFA15A",
           "#19d3f3",
           "#FF6692",
           "#B6E880",
           "#FF97FF",
           "#FECB52"
          ],
          "font": {
           "color": "#2a3f5f"
          },
          "geo": {
           "bgcolor": "white",
           "lakecolor": "white",
           "landcolor": "#E5ECF6",
           "showlakes": true,
           "showland": true,
           "subunitcolor": "white"
          },
          "hoverlabel": {
           "align": "left"
          },
          "hovermode": "closest",
          "mapbox": {
           "style": "light"
          },
          "paper_bgcolor": "white",
          "plot_bgcolor": "#E5ECF6",
          "polar": {
           "angularaxis": {
            "gridcolor": "white",
            "linecolor": "white",
            "ticks": ""
           },
           "bgcolor": "#E5ECF6",
           "radialaxis": {
            "gridcolor": "white",
            "linecolor": "white",
            "ticks": ""
           }
          },
          "scene": {
           "xaxis": {
            "backgroundcolor": "#E5ECF6",
            "gridcolor": "white",
            "gridwidth": 2,
            "linecolor": "white",
            "showbackground": true,
            "ticks": "",
            "zerolinecolor": "white"
           },
           "yaxis": {
            "backgroundcolor": "#E5ECF6",
            "gridcolor": "white",
            "gridwidth": 2,
            "linecolor": "white",
            "showbackground": true,
            "ticks": "",
            "zerolinecolor": "white"
           },
           "zaxis": {
            "backgroundcolor": "#E5ECF6",
            "gridcolor": "white",
            "gridwidth": 2,
            "linecolor": "white",
            "showbackground": true,
            "ticks": "",
            "zerolinecolor": "white"
           }
          },
          "shapedefaults": {
           "line": {
            "color": "#2a3f5f"
           }
          },
          "ternary": {
           "aaxis": {
            "gridcolor": "white",
            "linecolor": "white",
            "ticks": ""
           },
           "baxis": {
            "gridcolor": "white",
            "linecolor": "white",
            "ticks": ""
           },
           "bgcolor": "#E5ECF6",
           "caxis": {
            "gridcolor": "white",
            "linecolor": "white",
            "ticks": ""
           }
          },
          "title": {
           "x": 0.05
          },
          "xaxis": {
           "automargin": true,
           "gridcolor": "white",
           "linecolor": "white",
           "ticks": "",
           "title": {
            "standoff": 15
           },
           "zerolinecolor": "white",
           "zerolinewidth": 2
          },
          "yaxis": {
           "automargin": true,
           "gridcolor": "white",
           "linecolor": "white",
           "ticks": "",
           "title": {
            "standoff": 15
           },
           "zerolinecolor": "white",
           "zerolinewidth": 2
          }
         }
        },
        "title": {
         "font": {
          "color": "#4D5663"
         }
        },
        "xaxis": {
         "anchor": "y",
         "domain": [
          0,
          0.2125
         ],
         "gridcolor": "#E1E5ED",
         "showgrid": false,
         "tickfont": {
          "color": "#4D5663"
         },
         "title": {
          "font": {
           "color": "#4D5663"
          },
          "text": ""
         },
         "zerolinecolor": "#E1E5ED"
        },
        "xaxis10": {
         "anchor": "y10",
         "domain": [
          0.2625,
          0.475
         ],
         "gridcolor": "#E1E5ED",
         "showgrid": false,
         "tickfont": {
          "color": "#4D5663"
         },
         "title": {
          "font": {
           "color": "#4D5663"
          },
          "text": ""
         },
         "zerolinecolor": "#E1E5ED"
        },
        "xaxis11": {
         "anchor": "y11",
         "domain": [
          0.525,
          0.7375
         ],
         "gridcolor": "#E1E5ED",
         "showgrid": false,
         "tickfont": {
          "color": "#4D5663"
         },
         "title": {
          "font": {
           "color": "#4D5663"
          },
          "text": ""
         },
         "zerolinecolor": "#E1E5ED"
        },
        "xaxis12": {
         "anchor": "y12",
         "domain": [
          0.7875,
          1
         ],
         "gridcolor": "#E1E5ED",
         "showgrid": false,
         "tickfont": {
          "color": "#4D5663"
         },
         "title": {
          "font": {
           "color": "#4D5663"
          },
          "text": ""
         },
         "zerolinecolor": "#E1E5ED"
        },
        "xaxis13": {
         "anchor": "y13",
         "domain": [
          0,
          0.2125
         ],
         "gridcolor": "#E1E5ED",
         "showgrid": false,
         "tickfont": {
          "color": "#4D5663"
         },
         "title": {
          "font": {
           "color": "#4D5663"
          },
          "text": ""
         },
         "zerolinecolor": "#E1E5ED"
        },
        "xaxis14": {
         "anchor": "y14",
         "domain": [
          0.2625,
          0.475
         ],
         "gridcolor": "#E1E5ED",
         "showgrid": false,
         "tickfont": {
          "color": "#4D5663"
         },
         "title": {
          "font": {
           "color": "#4D5663"
          },
          "text": ""
         },
         "zerolinecolor": "#E1E5ED"
        },
        "xaxis15": {
         "anchor": "y15",
         "domain": [
          0.525,
          0.7375
         ],
         "gridcolor": "#E1E5ED",
         "showgrid": false,
         "tickfont": {
          "color": "#4D5663"
         },
         "title": {
          "font": {
           "color": "#4D5663"
          },
          "text": ""
         },
         "zerolinecolor": "#E1E5ED"
        },
        "xaxis16": {
         "anchor": "y16",
         "domain": [
          0.7875,
          1
         ],
         "gridcolor": "#E1E5ED",
         "showgrid": false,
         "tickfont": {
          "color": "#4D5663"
         },
         "title": {
          "font": {
           "color": "#4D5663"
          },
          "text": ""
         },
         "zerolinecolor": "#E1E5ED"
        },
        "xaxis2": {
         "anchor": "y2",
         "domain": [
          0.2625,
          0.475
         ],
         "gridcolor": "#E1E5ED",
         "showgrid": false,
         "tickfont": {
          "color": "#4D5663"
         },
         "title": {
          "font": {
           "color": "#4D5663"
          },
          "text": ""
         },
         "zerolinecolor": "#E1E5ED"
        },
        "xaxis3": {
         "anchor": "y3",
         "domain": [
          0.525,
          0.7375
         ],
         "gridcolor": "#E1E5ED",
         "showgrid": false,
         "tickfont": {
          "color": "#4D5663"
         },
         "title": {
          "font": {
           "color": "#4D5663"
          },
          "text": ""
         },
         "zerolinecolor": "#E1E5ED"
        },
        "xaxis4": {
         "anchor": "y4",
         "domain": [
          0.7875,
          1
         ],
         "gridcolor": "#E1E5ED",
         "showgrid": false,
         "tickfont": {
          "color": "#4D5663"
         },
         "title": {
          "font": {
           "color": "#4D5663"
          },
          "text": ""
         },
         "zerolinecolor": "#E1E5ED"
        },
        "xaxis5": {
         "anchor": "y5",
         "domain": [
          0,
          0.2125
         ],
         "gridcolor": "#E1E5ED",
         "showgrid": false,
         "tickfont": {
          "color": "#4D5663"
         },
         "title": {
          "font": {
           "color": "#4D5663"
          },
          "text": ""
         },
         "zerolinecolor": "#E1E5ED"
        },
        "xaxis6": {
         "anchor": "y6",
         "domain": [
          0.2625,
          0.475
         ],
         "gridcolor": "#E1E5ED",
         "showgrid": false,
         "tickfont": {
          "color": "#4D5663"
         },
         "title": {
          "font": {
           "color": "#4D5663"
          },
          "text": ""
         },
         "zerolinecolor": "#E1E5ED"
        },
        "xaxis7": {
         "anchor": "y7",
         "domain": [
          0.525,
          0.7375
         ],
         "gridcolor": "#E1E5ED",
         "showgrid": false,
         "tickfont": {
          "color": "#4D5663"
         },
         "title": {
          "font": {
           "color": "#4D5663"
          },
          "text": ""
         },
         "zerolinecolor": "#E1E5ED"
        },
        "xaxis8": {
         "anchor": "y8",
         "domain": [
          0.7875,
          1
         ],
         "gridcolor": "#E1E5ED",
         "showgrid": false,
         "tickfont": {
          "color": "#4D5663"
         },
         "title": {
          "font": {
           "color": "#4D5663"
          },
          "text": ""
         },
         "zerolinecolor": "#E1E5ED"
        },
        "xaxis9": {
         "anchor": "y9",
         "domain": [
          0,
          0.2125
         ],
         "gridcolor": "#E1E5ED",
         "showgrid": false,
         "tickfont": {
          "color": "#4D5663"
         },
         "title": {
          "font": {
           "color": "#4D5663"
          },
          "text": ""
         },
         "zerolinecolor": "#E1E5ED"
        },
        "yaxis": {
         "anchor": "x",
         "domain": [
          0.8025,
          1
         ],
         "gridcolor": "#E1E5ED",
         "showgrid": false,
         "tickfont": {
          "color": "#4D5663"
         },
         "title": {
          "font": {
           "color": "#4D5663"
          },
          "text": ""
         },
         "zerolinecolor": "#E1E5ED"
        },
        "yaxis10": {
         "anchor": "x10",
         "domain": [
          0.2675,
          0.465
         ],
         "gridcolor": "#E1E5ED",
         "showgrid": false,
         "tickfont": {
          "color": "#4D5663"
         },
         "title": {
          "font": {
           "color": "#4D5663"
          },
          "text": ""
         },
         "zerolinecolor": "#E1E5ED"
        },
        "yaxis11": {
         "anchor": "x11",
         "domain": [
          0.2675,
          0.465
         ],
         "gridcolor": "#E1E5ED",
         "showgrid": false,
         "tickfont": {
          "color": "#4D5663"
         },
         "title": {
          "font": {
           "color": "#4D5663"
          },
          "text": ""
         },
         "zerolinecolor": "#E1E5ED"
        },
        "yaxis12": {
         "anchor": "x12",
         "domain": [
          0.2675,
          0.465
         ],
         "gridcolor": "#E1E5ED",
         "showgrid": false,
         "tickfont": {
          "color": "#4D5663"
         },
         "title": {
          "font": {
           "color": "#4D5663"
          },
          "text": ""
         },
         "zerolinecolor": "#E1E5ED"
        },
        "yaxis13": {
         "anchor": "x13",
         "domain": [
          0,
          0.1975
         ],
         "gridcolor": "#E1E5ED",
         "showgrid": false,
         "tickfont": {
          "color": "#4D5663"
         },
         "title": {
          "font": {
           "color": "#4D5663"
          },
          "text": ""
         },
         "zerolinecolor": "#E1E5ED"
        },
        "yaxis14": {
         "anchor": "x14",
         "domain": [
          0,
          0.1975
         ],
         "gridcolor": "#E1E5ED",
         "showgrid": false,
         "tickfont": {
          "color": "#4D5663"
         },
         "title": {
          "font": {
           "color": "#4D5663"
          },
          "text": ""
         },
         "zerolinecolor": "#E1E5ED"
        },
        "yaxis15": {
         "anchor": "x15",
         "domain": [
          0,
          0.1975
         ],
         "gridcolor": "#E1E5ED",
         "showgrid": false,
         "tickfont": {
          "color": "#4D5663"
         },
         "title": {
          "font": {
           "color": "#4D5663"
          },
          "text": ""
         },
         "zerolinecolor": "#E1E5ED"
        },
        "yaxis16": {
         "anchor": "x16",
         "domain": [
          0,
          0.1975
         ],
         "gridcolor": "#E1E5ED",
         "showgrid": false,
         "tickfont": {
          "color": "#4D5663"
         },
         "title": {
          "font": {
           "color": "#4D5663"
          },
          "text": ""
         },
         "zerolinecolor": "#E1E5ED"
        },
        "yaxis2": {
         "anchor": "x2",
         "domain": [
          0.8025,
          1
         ],
         "gridcolor": "#E1E5ED",
         "showgrid": false,
         "tickfont": {
          "color": "#4D5663"
         },
         "title": {
          "font": {
           "color": "#4D5663"
          },
          "text": ""
         },
         "zerolinecolor": "#E1E5ED"
        },
        "yaxis3": {
         "anchor": "x3",
         "domain": [
          0.8025,
          1
         ],
         "gridcolor": "#E1E5ED",
         "showgrid": false,
         "tickfont": {
          "color": "#4D5663"
         },
         "title": {
          "font": {
           "color": "#4D5663"
          },
          "text": ""
         },
         "zerolinecolor": "#E1E5ED"
        },
        "yaxis4": {
         "anchor": "x4",
         "domain": [
          0.8025,
          1
         ],
         "gridcolor": "#E1E5ED",
         "showgrid": false,
         "tickfont": {
          "color": "#4D5663"
         },
         "title": {
          "font": {
           "color": "#4D5663"
          },
          "text": ""
         },
         "zerolinecolor": "#E1E5ED"
        },
        "yaxis5": {
         "anchor": "x5",
         "domain": [
          0.535,
          0.7325
         ],
         "gridcolor": "#E1E5ED",
         "showgrid": false,
         "tickfont": {
          "color": "#4D5663"
         },
         "title": {
          "font": {
           "color": "#4D5663"
          },
          "text": ""
         },
         "zerolinecolor": "#E1E5ED"
        },
        "yaxis6": {
         "anchor": "x6",
         "domain": [
          0.535,
          0.7325
         ],
         "gridcolor": "#E1E5ED",
         "showgrid": false,
         "tickfont": {
          "color": "#4D5663"
         },
         "title": {
          "font": {
           "color": "#4D5663"
          },
          "text": ""
         },
         "zerolinecolor": "#E1E5ED"
        },
        "yaxis7": {
         "anchor": "x7",
         "domain": [
          0.535,
          0.7325
         ],
         "gridcolor": "#E1E5ED",
         "showgrid": false,
         "tickfont": {
          "color": "#4D5663"
         },
         "title": {
          "font": {
           "color": "#4D5663"
          },
          "text": ""
         },
         "zerolinecolor": "#E1E5ED"
        },
        "yaxis8": {
         "anchor": "x8",
         "domain": [
          0.535,
          0.7325
         ],
         "gridcolor": "#E1E5ED",
         "showgrid": false,
         "tickfont": {
          "color": "#4D5663"
         },
         "title": {
          "font": {
           "color": "#4D5663"
          },
          "text": ""
         },
         "zerolinecolor": "#E1E5ED"
        },
        "yaxis9": {
         "anchor": "x9",
         "domain": [
          0.2675,
          0.465
         ],
         "gridcolor": "#E1E5ED",
         "showgrid": false,
         "tickfont": {
          "color": "#4D5663"
         },
         "title": {
          "font": {
           "color": "#4D5663"
          },
          "text": ""
         },
         "zerolinecolor": "#E1E5ED"
        }
       }
      },
      "text/html": [
       "<div>                            <div id=\"0c60f0d5-114b-4ad0-b058-531720544061\" class=\"plotly-graph-div\" style=\"height:525px; width:100%;\"></div>            <script type=\"text/javascript\">                require([\"plotly\"], function(Plotly) {                    window.PLOTLYENV=window.PLOTLYENV || {};\n",
       "                    window.PLOTLYENV.BASE_URL='https://plot.ly';                                    if (document.getElementById(\"0c60f0d5-114b-4ad0-b058-531720544061\")) {                    Plotly.newPlot(                        \"0c60f0d5-114b-4ad0-b058-531720544061\",                        [{\"histfunc\":\"count\",\"histnorm\":\"\",\"marker\":{\"color\":\"rgba(255, 153, 51, 1.0)\",\"line\":{\"color\":\"#4D5663\",\"width\":1.3}},\"name\":\"A\",\"nbinsx\":10,\"opacity\":0.8,\"orientation\":\"v\",\"x\":[-0.3398988896464808,-1.6320219123904456,1.0833580654835377,-0.5221441697533774,1.8870577989950417,-0.1519022894899191,1.738502057334876,1.7056108965703825,-0.6441517480790271,1.446088337377909,-0.40837595317937014,-0.3845503118092821,-1.1751265443795977,0.3867803121745835,-0.7426482243780839,-0.43683293687948244,-0.5088760710426806,-1.8543028311017542,-0.6332326401681622,0.1462914660828161,0.8830579721724487,0.3971948472370433,-1.1204484108009625,0.40106396407362593,-0.4067665034368915,0.47737803056416306,-1.9370437378754735,0.7292434252915854,-0.9651293257767154,-0.19170860679186263,-1.7686489673158163,-0.2537637565216562,0.6425981649526561,-1.0591476195161171,1.0667946528907304,-0.39160597886280846,-1.4037276993584953,1.8542164451445762,-1.0897874477601286,-0.6166742828751661,1.0275457033922706,-0.6551011328439404,-1.9316441131174051,0.8954051917268987,-0.929859420870943,-2.6074766673535854,-0.3260344298623395,-2.0670868762703063,0.09550434985732024,-0.5773800461329046,0.6547371662725984,-0.02746341612035001,1.0210359693291602,0.7901461323588164,0.15550268839189296,0.06477080315932901,-0.3876351988405084,-0.2589635071591233,0.610293410412037,0.35704353940696576,0.004869934166238935,2.084087092727924,0.44549222902202584,-0.8300681314305705,0.380011831731752,0.033614054409343785,0.2676525442637065,0.7269584845831824,1.1340583727418463,1.2306196535659573,0.3989981915062393,-0.020588125991491804,-0.590085318221706,0.7094993217735794,-0.07682209611761445,1.132665491703427,0.49475019050692304,-0.13891134715709394,-1.07586707290558,0.4441980300520878,-1.4868717602776649,-2.5060290067500364,1.8586312192790821,2.0462249338926135,-2.0116341336398333,1.2762416640493945,0.463117861856559,-0.6091834606663771,-0.752894001502793,0.3475782028223775,0.17383952520650456,-0.794650830102094,-0.10028232258399258,-1.7467047199059293,0.8942392582127465,0.6040802134291302,0.2699602012812688,1.8279522592497466,-0.4637391036140166,1.0973521416489043],\"xaxis\":\"x\",\"yaxis\":\"y\",\"type\":\"histogram\"},{\"line\":{\"color\":\"rgba(128, 128, 128, 1.0)\",\"dash\":\"solid\",\"shape\":\"linear\",\"width\":1.3},\"marker\":{\"size\":2,\"symbol\":\"circle\"},\"mode\":\"markers\",\"name\":\"A\",\"text\":\"\",\"x\":[1.1982473059308325,1.6356636244629494,-0.8905655629472256,-1.807838351873487,0.8059253931077515,0.35179663251839494,3.286566911427533,2.8856879704436356,-1.6302195439392437,-0.46559364417373905,0.5722312952267994,0.13493420680389276,-0.042561264746407916,-1.3888743215255817,-1.0400399241781164,-0.12167381490054667,-0.7290940015517252,-0.09889921265528098,-0.3312005457673756,0.5261642154537874,0.6682052848327581,0.35916570838529577,-0.19295278672651348,1.1220259215142658,-0.5462425995736458,-0.3925935589237412,0.169345302240433,-1.7922818269161258,1.8628476133897467,-0.5340917673987183,0.04344248660006066,2.277202365749576,-0.25663557433485684,-1.1153026316907826,-0.7784819485526674,-0.27000384523590626,0.4977305798284601,1.4767340668012499,-0.3632677807686293,-1.5302748335828096,0.7467921741550148,-2.2970024424818507,-1.4460996582475492,-2.106907488696165,1.298016626562994,-0.324365394283865,-0.1449205658054919,0.12792883571809066,-0.08380256741136723,0.5187857885798648,-0.2776577943424909,-2.4766660149823316,0.875350737970101,0.5505238029568075,0.6035147525603715,-0.639981438984545,0.5973527193033242,-0.4392231849559408,1.2362135230485218,2.067677929479437,0.6375611227756837,-0.29871600887110944,0.2134919337824578,-0.5394598871410751,-0.3347505316342336,0.0801216955297691,-0.042805121119385926,0.37368049305987766,-0.3219801945746798,-0.4208666241915466,-0.4979873718658901,0.005609253028819707,0.03608464305536002,-0.029992147476621468,0.142788839251483,0.10275057800983606,-0.7223937306717052,-1.31611367941755,0.11682713512843675,0.36508224033026243,0.016701958707791845,0.22698760232656448,1.5465654668606335,-0.39381887564259743,1.142054801169338,1.2133216968804088,-0.5278164628670937,1.4884792811106382,-0.951696847783406,1.7120260108326464,-0.1454210212980894,0.7729670349626565,-1.398599836046639,0.2936544015837765,-1.4724797978802802,-1.152984289788025,-0.4244596261425564,0.35510940547754,1.1863954719576226,0.7641118974979407],\"xaxis\":\"x2\",\"y\":[-0.3398988896464808,-1.6320219123904456,1.0833580654835377,-0.5221441697533774,1.8870577989950417,-0.1519022894899191,1.738502057334876,1.7056108965703825,-0.6441517480790271,1.446088337377909,-0.40837595317937014,-0.3845503118092821,-1.1751265443795977,0.3867803121745835,-0.7426482243780839,-0.43683293687948244,-0.5088760710426806,-1.8543028311017542,-0.6332326401681622,0.1462914660828161,0.8830579721724487,0.3971948472370433,-1.1204484108009625,0.40106396407362593,-0.4067665034368915,0.47737803056416306,-1.9370437378754735,0.7292434252915854,-0.9651293257767154,-0.19170860679186263,-1.7686489673158163,-0.2537637565216562,0.6425981649526561,-1.0591476195161171,1.0667946528907304,-0.39160597886280846,-1.4037276993584953,1.8542164451445762,-1.0897874477601286,-0.6166742828751661,1.0275457033922706,-0.6551011328439404,-1.9316441131174051,0.8954051917268987,-0.929859420870943,-2.6074766673535854,-0.3260344298623395,-2.0670868762703063,0.09550434985732024,-0.5773800461329046,0.6547371662725984,-0.02746341612035001,1.0210359693291602,0.7901461323588164,0.15550268839189296,0.06477080315932901,-0.3876351988405084,-0.2589635071591233,0.610293410412037,0.35704353940696576,0.004869934166238935,2.084087092727924,0.44549222902202584,-0.8300681314305705,0.380011831731752,0.033614054409343785,0.2676525442637065,0.7269584845831824,1.1340583727418463,1.2306196535659573,0.3989981915062393,-0.020588125991491804,-0.590085318221706,0.7094993217735794,-0.07682209611761445,1.132665491703427,0.49475019050692304,-0.13891134715709394,-1.07586707290558,0.4441980300520878,-1.4868717602776649,-2.5060290067500364,1.8586312192790821,2.0462249338926135,-2.0116341336398333,1.2762416640493945,0.463117861856559,-0.6091834606663771,-0.752894001502793,0.3475782028223775,0.17383952520650456,-0.794650830102094,-0.10028232258399258,-1.7467047199059293,0.8942392582127465,0.6040802134291302,0.2699602012812688,1.8279522592497466,-0.4637391036140166,1.0973521416489043],\"yaxis\":\"y2\",\"type\":\"scatter\"},{\"line\":{\"color\":\"rgba(128, 128, 128, 1.0)\",\"dash\":\"solid\",\"shape\":\"linear\",\"width\":1.3},\"marker\":{\"size\":2,\"symbol\":\"circle\"},\"mode\":\"markers\",\"name\":\"A\",\"text\":\"\",\"x\":[0.1320759122455077,-0.04444424433177913,2.6585681121160922,0.3174800749607619,1.654359355438138,-0.6732701057926693,0.6361285686969663,-0.2451885959321246,-0.3314462347253053,0.3802969653490417,-1.7223806520139417,1.442167007934898,-1.177226112601706,-0.7321322627771829,-0.9548570607452044,-0.3635421281270355,-0.09628493714209976,0.7248668891529634,-0.39568706100878676,-0.4079615038661267,-0.6290513126106057,0.5580161889769741,1.068536165516149,1.1133527811753148,1.7994243459760668,0.29646904639819277,-0.6372995452114765,-0.26728521908326697,2.23028609817543,1.1797729334637708,1.275159327922166,-1.195901028112852,0.06445629351612976,-0.039466561765940954,-0.4295291479021976,1.0118396725120664,-0.9019718566983405,0.22083201477157846,0.04904930900498299,0.14701746599061263,-0.26563843558056954,-1.6234615369066359,1.859227722720208,-1.3893557603150164,0.056429355056207386,-1.5974864392899208,0.02485207450433001,-0.496205985444526,2.0668381018242794,0.6226740122092347,-2.077490400736509,0.4408991383440806,0.44774077327389555,0.28644799307103813,-1.5671574054913588,1.5090595853773114,0.6199971372861851,-0.28188991184088036,0.05236364002779333,-0.6050293620259407,-1.4416773512957197,0.6095514283064996,-1.1796228138285,-0.7195189127582756,-0.20939639161807388,-0.9750939526811694,1.380785553315133,0.2123680746554314,-0.6149438059877549,-2.2002459659094895,-0.08726555870063096,-0.4874056795170275,1.2338776919088803,-1.7123999692004583,-0.6181936541808375,-2.6512872632951994,-1.7245511569751049,-0.041507293303092156,-0.18938033770535043,1.0796974291745665,-0.025905940390241588,-1.1557678885732423,0.2579559545964371,0.7883523374982597,1.1461872632859762,-0.5885252765586263,0.11272445328866162,-0.22675422662729436,1.115206107559157,-1.184628080397001,1.4413811785525896,-0.1014443142888211,0.908934520105821,-0.45531622884496525,0.19034700444139369,-1.0155830932027832,-0.7860163518810481,-0.9428300144654829,1.8510610687884004,-0.29056512640351234],\"xaxis\":\"x3\",\"y\":[-0.3398988896464808,-1.6320219123904456,1.0833580654835377,-0.5221441697533774,1.8870577989950417,-0.1519022894899191,1.738502057334876,1.7056108965703825,-0.6441517480790271,1.446088337377909,-0.40837595317937014,-0.3845503118092821,-1.1751265443795977,0.3867803121745835,-0.7426482243780839,-0.43683293687948244,-0.5088760710426806,-1.8543028311017542,-0.6332326401681622,0.1462914660828161,0.8830579721724487,0.3971948472370433,-1.1204484108009625,0.40106396407362593,-0.4067665034368915,0.47737803056416306,-1.9370437378754735,0.7292434252915854,-0.9651293257767154,-0.19170860679186263,-1.7686489673158163,-0.2537637565216562,0.6425981649526561,-1.0591476195161171,1.0667946528907304,-0.39160597886280846,-1.4037276993584953,1.8542164451445762,-1.0897874477601286,-0.6166742828751661,1.0275457033922706,-0.6551011328439404,-1.9316441131174051,0.8954051917268987,-0.929859420870943,-2.6074766673535854,-0.3260344298623395,-2.0670868762703063,0.09550434985732024,-0.5773800461329046,0.6547371662725984,-0.02746341612035001,1.0210359693291602,0.7901461323588164,0.15550268839189296,0.06477080315932901,-0.3876351988405084,-0.2589635071591233,0.610293410412037,0.35704353940696576,0.004869934166238935,2.084087092727924,0.44549222902202584,-0.8300681314305705,0.380011831731752,0.033614054409343785,0.2676525442637065,0.7269584845831824,1.1340583727418463,1.2306196535659573,0.3989981915062393,-0.020588125991491804,-0.590085318221706,0.7094993217735794,-0.07682209611761445,1.132665491703427,0.49475019050692304,-0.13891134715709394,-1.07586707290558,0.4441980300520878,-1.4868717602776649,-2.5060290067500364,1.8586312192790821,2.0462249338926135,-2.0116341336398333,1.2762416640493945,0.463117861856559,-0.6091834606663771,-0.752894001502793,0.3475782028223775,0.17383952520650456,-0.794650830102094,-0.10028232258399258,-1.7467047199059293,0.8942392582127465,0.6040802134291302,0.2699602012812688,1.8279522592497466,-0.4637391036140166,1.0973521416489043],\"yaxis\":\"y3\",\"type\":\"scatter\"},{\"line\":{\"color\":\"rgba(128, 128, 128, 1.0)\",\"dash\":\"solid\",\"shape\":\"linear\",\"width\":1.3},\"marker\":{\"size\":2,\"symbol\":\"circle\"},\"mode\":\"markers\",\"name\":\"A\",\"text\":\"\",\"x\":[-0.015680719847409957,0.38467931988837933,-0.7941830807848673,-0.109970710355125,0.33798250759545057,-0.25576222851431013,-0.48346699503870183,1.0877125640222065,-0.9408116705146999,0.5214002226692266,-1.0803745666261861,2.924862676501828,-0.14565468527778472,1.8526889333322263,-1.6911352788307619,0.03010989811745035,-0.8692370113088596,-1.6018173727288723,-0.2620976797444577,0.3999118965111071,1.2525525190342175,-0.810289227115854,-0.37962080023713046,0.3396529341164264,2.730615185009525,-0.41437229514600954,1.1632113654556508,-1.1997815171985624,0.8846443003012396,-0.9825518231980817,0.11203824680181086,-0.7496420110271115,-1.1835084993367697,0.29064878159009694,-0.7854155992917491,-0.6005123981160521,-0.24014262751114215,0.007307545851978295,-1.758097265120564,0.5170864743943338,-0.43317476782347214,-0.40940548692306183,0.8189904200946637,1.2726038342993118,-1.7788979408664063,0.8882432122911695,-0.6215820086244249,2.517154028613377,-0.09152061230271684,-1.3426836467906045,-2.62098906420756,-1.465577033796658,2.5118562828010207,1.1756874953788985,-0.5458130973398371,-0.35742387455943303,-0.2290686431606772,0.1846582034162207,0.2735245705514366,-0.41508504951161235,-1.8156128336088706,-0.5876678691944328,-0.300777717597309,-0.5528700652076918,-0.8765669026203909,-0.7281615647204239,-0.7919977348091972,0.8008814948537331,1.5116361266794893,0.03653244016199828,0.8520736473130769,0.27288929365938136,1.1482068171202153,-0.009265954859607626,-1.2795087196452406,-0.3280901728788498,0.27415276964246943,2.187508388956917,-0.4223531370913922,-0.057055342593380055,0.011668676997639417,0.5414785864102529,-1.8817490105045827,1.127648853265194,-0.9950241376700371,0.3059849419662011,0.6109926533257333,1.3620652419570505,-1.1761795395021766,0.5156527179224979,0.0922983675784503,-1.343042173023882,-0.9452371393912993,-0.07351505456300246,-0.31322416241331846,1.734378468520146,-0.1986992925388653,0.4682307670670544,0.17665471541962913,0.24475489740538695],\"xaxis\":\"x4\",\"y\":[-0.3398988896464808,-1.6320219123904456,1.0833580654835377,-0.5221441697533774,1.8870577989950417,-0.1519022894899191,1.738502057334876,1.7056108965703825,-0.6441517480790271,1.446088337377909,-0.40837595317937014,-0.3845503118092821,-1.1751265443795977,0.3867803121745835,-0.7426482243780839,-0.43683293687948244,-0.5088760710426806,-1.8543028311017542,-0.6332326401681622,0.1462914660828161,0.8830579721724487,0.3971948472370433,-1.1204484108009625,0.40106396407362593,-0.4067665034368915,0.47737803056416306,-1.9370437378754735,0.7292434252915854,-0.9651293257767154,-0.19170860679186263,-1.7686489673158163,-0.2537637565216562,0.6425981649526561,-1.0591476195161171,1.0667946528907304,-0.39160597886280846,-1.4037276993584953,1.8542164451445762,-1.0897874477601286,-0.6166742828751661,1.0275457033922706,-0.6551011328439404,-1.9316441131174051,0.8954051917268987,-0.929859420870943,-2.6074766673535854,-0.3260344298623395,-2.0670868762703063,0.09550434985732024,-0.5773800461329046,0.6547371662725984,-0.02746341612035001,1.0210359693291602,0.7901461323588164,0.15550268839189296,0.06477080315932901,-0.3876351988405084,-0.2589635071591233,0.610293410412037,0.35704353940696576,0.004869934166238935,2.084087092727924,0.44549222902202584,-0.8300681314305705,0.380011831731752,0.033614054409343785,0.2676525442637065,0.7269584845831824,1.1340583727418463,1.2306196535659573,0.3989981915062393,-0.020588125991491804,-0.590085318221706,0.7094993217735794,-0.07682209611761445,1.132665491703427,0.49475019050692304,-0.13891134715709394,-1.07586707290558,0.4441980300520878,-1.4868717602776649,-2.5060290067500364,1.8586312192790821,2.0462249338926135,-2.0116341336398333,1.2762416640493945,0.463117861856559,-0.6091834606663771,-0.752894001502793,0.3475782028223775,0.17383952520650456,-0.794650830102094,-0.10028232258399258,-1.7467047199059293,0.8942392582127465,0.6040802134291302,0.2699602012812688,1.8279522592497466,-0.4637391036140166,1.0973521416489043],\"yaxis\":\"y4\",\"type\":\"scatter\"},{\"line\":{\"color\":\"rgba(128, 128, 128, 1.0)\",\"dash\":\"solid\",\"shape\":\"linear\",\"width\":1.3},\"marker\":{\"size\":2,\"symbol\":\"circle\"},\"mode\":\"markers\",\"name\":\"B\",\"text\":\"\",\"x\":[-0.3398988896464808,-1.6320219123904456,1.0833580654835377,-0.5221441697533774,1.8870577989950417,-0.1519022894899191,1.738502057334876,1.7056108965703825,-0.6441517480790271,1.446088337377909,-0.40837595317937014,-0.3845503118092821,-1.1751265443795977,0.3867803121745835,-0.7426482243780839,-0.43683293687948244,-0.5088760710426806,-1.8543028311017542,-0.6332326401681622,0.1462914660828161,0.8830579721724487,0.3971948472370433,-1.1204484108009625,0.40106396407362593,-0.4067665034368915,0.47737803056416306,-1.9370437378754735,0.7292434252915854,-0.9651293257767154,-0.19170860679186263,-1.7686489673158163,-0.2537637565216562,0.6425981649526561,-1.0591476195161171,1.0667946528907304,-0.39160597886280846,-1.4037276993584953,1.8542164451445762,-1.0897874477601286,-0.6166742828751661,1.0275457033922706,-0.6551011328439404,-1.9316441131174051,0.8954051917268987,-0.929859420870943,-2.6074766673535854,-0.3260344298623395,-2.0670868762703063,0.09550434985732024,-0.5773800461329046,0.6547371662725984,-0.02746341612035001,1.0210359693291602,0.7901461323588164,0.15550268839189296,0.06477080315932901,-0.3876351988405084,-0.2589635071591233,0.610293410412037,0.35704353940696576,0.004869934166238935,2.084087092727924,0.44549222902202584,-0.8300681314305705,0.380011831731752,0.033614054409343785,0.2676525442637065,0.7269584845831824,1.1340583727418463,1.2306196535659573,0.3989981915062393,-0.020588125991491804,-0.590085318221706,0.7094993217735794,-0.07682209611761445,1.132665491703427,0.49475019050692304,-0.13891134715709394,-1.07586707290558,0.4441980300520878,-1.4868717602776649,-2.5060290067500364,1.8586312192790821,2.0462249338926135,-2.0116341336398333,1.2762416640493945,0.463117861856559,-0.6091834606663771,-0.752894001502793,0.3475782028223775,0.17383952520650456,-0.794650830102094,-0.10028232258399258,-1.7467047199059293,0.8942392582127465,0.6040802134291302,0.2699602012812688,1.8279522592497466,-0.4637391036140166,1.0973521416489043],\"xaxis\":\"x5\",\"y\":[1.1982473059308325,1.6356636244629494,-0.8905655629472256,-1.807838351873487,0.8059253931077515,0.35179663251839494,3.286566911427533,2.8856879704436356,-1.6302195439392437,-0.46559364417373905,0.5722312952267994,0.13493420680389276,-0.042561264746407916,-1.3888743215255817,-1.0400399241781164,-0.12167381490054667,-0.7290940015517252,-0.09889921265528098,-0.3312005457673756,0.5261642154537874,0.6682052848327581,0.35916570838529577,-0.19295278672651348,1.1220259215142658,-0.5462425995736458,-0.3925935589237412,0.169345302240433,-1.7922818269161258,1.8628476133897467,-0.5340917673987183,0.04344248660006066,2.277202365749576,-0.25663557433485684,-1.1153026316907826,-0.7784819485526674,-0.27000384523590626,0.4977305798284601,1.4767340668012499,-0.3632677807686293,-1.5302748335828096,0.7467921741550148,-2.2970024424818507,-1.4460996582475492,-2.106907488696165,1.298016626562994,-0.324365394283865,-0.1449205658054919,0.12792883571809066,-0.08380256741136723,0.5187857885798648,-0.2776577943424909,-2.4766660149823316,0.875350737970101,0.5505238029568075,0.6035147525603715,-0.639981438984545,0.5973527193033242,-0.4392231849559408,1.2362135230485218,2.067677929479437,0.6375611227756837,-0.29871600887110944,0.2134919337824578,-0.5394598871410751,-0.3347505316342336,0.0801216955297691,-0.042805121119385926,0.37368049305987766,-0.3219801945746798,-0.4208666241915466,-0.4979873718658901,0.005609253028819707,0.03608464305536002,-0.029992147476621468,0.142788839251483,0.10275057800983606,-0.7223937306717052,-1.31611367941755,0.11682713512843675,0.36508224033026243,0.016701958707791845,0.22698760232656448,1.5465654668606335,-0.39381887564259743,1.142054801169338,1.2133216968804088,-0.5278164628670937,1.4884792811106382,-0.951696847783406,1.7120260108326464,-0.1454210212980894,0.7729670349626565,-1.398599836046639,0.2936544015837765,-1.4724797978802802,-1.152984289788025,-0.4244596261425564,0.35510940547754,1.1863954719576226,0.7641118974979407],\"yaxis\":\"y5\",\"type\":\"scatter\"},{\"histfunc\":\"count\",\"histnorm\":\"\",\"marker\":{\"color\":\"rgba(55, 128, 191, 1.0)\",\"line\":{\"color\":\"#4D5663\",\"width\":1.3}},\"name\":\"B\",\"nbinsx\":10,\"opacity\":0.8,\"orientation\":\"v\",\"x\":[1.1982473059308325,1.6356636244629494,-0.8905655629472256,-1.807838351873487,0.8059253931077515,0.35179663251839494,3.286566911427533,2.8856879704436356,-1.6302195439392437,-0.46559364417373905,0.5722312952267994,0.13493420680389276,-0.042561264746407916,-1.3888743215255817,-1.0400399241781164,-0.12167381490054667,-0.7290940015517252,-0.09889921265528098,-0.3312005457673756,0.5261642154537874,0.6682052848327581,0.35916570838529577,-0.19295278672651348,1.1220259215142658,-0.5462425995736458,-0.3925935589237412,0.169345302240433,-1.7922818269161258,1.8628476133897467,-0.5340917673987183,0.04344248660006066,2.277202365749576,-0.25663557433485684,-1.1153026316907826,-0.7784819485526674,-0.27000384523590626,0.4977305798284601,1.4767340668012499,-0.3632677807686293,-1.5302748335828096,0.7467921741550148,-2.2970024424818507,-1.4460996582475492,-2.106907488696165,1.298016626562994,-0.324365394283865,-0.1449205658054919,0.12792883571809066,-0.08380256741136723,0.5187857885798648,-0.2776577943424909,-2.4766660149823316,0.875350737970101,0.5505238029568075,0.6035147525603715,-0.639981438984545,0.5973527193033242,-0.4392231849559408,1.2362135230485218,2.067677929479437,0.6375611227756837,-0.29871600887110944,0.2134919337824578,-0.5394598871410751,-0.3347505316342336,0.0801216955297691,-0.042805121119385926,0.37368049305987766,-0.3219801945746798,-0.4208666241915466,-0.4979873718658901,0.005609253028819707,0.03608464305536002,-0.029992147476621468,0.142788839251483,0.10275057800983606,-0.7223937306717052,-1.31611367941755,0.11682713512843675,0.36508224033026243,0.016701958707791845,0.22698760232656448,1.5465654668606335,-0.39381887564259743,1.142054801169338,1.2133216968804088,-0.5278164628670937,1.4884792811106382,-0.951696847783406,1.7120260108326464,-0.1454210212980894,0.7729670349626565,-1.398599836046639,0.2936544015837765,-1.4724797978802802,-1.152984289788025,-0.4244596261425564,0.35510940547754,1.1863954719576226,0.7641118974979407],\"xaxis\":\"x6\",\"yaxis\":\"y6\",\"type\":\"histogram\"},{\"line\":{\"color\":\"rgba(128, 128, 128, 1.0)\",\"dash\":\"solid\",\"shape\":\"linear\",\"width\":1.3},\"marker\":{\"size\":2,\"symbol\":\"circle\"},\"mode\":\"markers\",\"name\":\"B\",\"text\":\"\",\"x\":[0.1320759122455077,-0.04444424433177913,2.6585681121160922,0.3174800749607619,1.654359355438138,-0.6732701057926693,0.6361285686969663,-0.2451885959321246,-0.3314462347253053,0.3802969653490417,-1.7223806520139417,1.442167007934898,-1.177226112601706,-0.7321322627771829,-0.9548570607452044,-0.3635421281270355,-0.09628493714209976,0.7248668891529634,-0.39568706100878676,-0.4079615038661267,-0.6290513126106057,0.5580161889769741,1.068536165516149,1.1133527811753148,1.7994243459760668,0.29646904639819277,-0.6372995452114765,-0.26728521908326697,2.23028609817543,1.1797729334637708,1.275159327922166,-1.195901028112852,0.06445629351612976,-0.039466561765940954,-0.4295291479021976,1.0118396725120664,-0.9019718566983405,0.22083201477157846,0.04904930900498299,0.14701746599061263,-0.26563843558056954,-1.6234615369066359,1.859227722720208,-1.3893557603150164,0.056429355056207386,-1.5974864392899208,0.02485207450433001,-0.496205985444526,2.0668381018242794,0.6226740122092347,-2.077490400736509,0.4408991383440806,0.44774077327389555,0.28644799307103813,-1.5671574054913588,1.5090595853773114,0.6199971372861851,-0.28188991184088036,0.05236364002779333,-0.6050293620259407,-1.4416773512957197,0.6095514283064996,-1.1796228138285,-0.7195189127582756,-0.20939639161807388,-0.9750939526811694,1.380785553315133,0.2123680746554314,-0.6149438059877549,-2.2002459659094895,-0.08726555870063096,-0.4874056795170275,1.2338776919088803,-1.7123999692004583,-0.6181936541808375,-2.6512872632951994,-1.7245511569751049,-0.041507293303092156,-0.18938033770535043,1.0796974291745665,-0.025905940390241588,-1.1557678885732423,0.2579559545964371,0.7883523374982597,1.1461872632859762,-0.5885252765586263,0.11272445328866162,-0.22675422662729436,1.115206107559157,-1.184628080397001,1.4413811785525896,-0.1014443142888211,0.908934520105821,-0.45531622884496525,0.19034700444139369,-1.0155830932027832,-0.7860163518810481,-0.9428300144654829,1.8510610687884004,-0.29056512640351234],\"xaxis\":\"x7\",\"y\":[1.1982473059308325,1.6356636244629494,-0.8905655629472256,-1.807838351873487,0.8059253931077515,0.35179663251839494,3.286566911427533,2.8856879704436356,-1.6302195439392437,-0.46559364417373905,0.5722312952267994,0.13493420680389276,-0.042561264746407916,-1.3888743215255817,-1.0400399241781164,-0.12167381490054667,-0.7290940015517252,-0.09889921265528098,-0.3312005457673756,0.5261642154537874,0.6682052848327581,0.35916570838529577,-0.19295278672651348,1.1220259215142658,-0.5462425995736458,-0.3925935589237412,0.169345302240433,-1.7922818269161258,1.8628476133897467,-0.5340917673987183,0.04344248660006066,2.277202365749576,-0.25663557433485684,-1.1153026316907826,-0.7784819485526674,-0.27000384523590626,0.4977305798284601,1.4767340668012499,-0.3632677807686293,-1.5302748335828096,0.7467921741550148,-2.2970024424818507,-1.4460996582475492,-2.106907488696165,1.298016626562994,-0.324365394283865,-0.1449205658054919,0.12792883571809066,-0.08380256741136723,0.5187857885798648,-0.2776577943424909,-2.4766660149823316,0.875350737970101,0.5505238029568075,0.6035147525603715,-0.639981438984545,0.5973527193033242,-0.4392231849559408,1.2362135230485218,2.067677929479437,0.6375611227756837,-0.29871600887110944,0.2134919337824578,-0.5394598871410751,-0.3347505316342336,0.0801216955297691,-0.042805121119385926,0.37368049305987766,-0.3219801945746798,-0.4208666241915466,-0.4979873718658901,0.005609253028819707,0.03608464305536002,-0.029992147476621468,0.142788839251483,0.10275057800983606,-0.7223937306717052,-1.31611367941755,0.11682713512843675,0.36508224033026243,0.016701958707791845,0.22698760232656448,1.5465654668606335,-0.39381887564259743,1.142054801169338,1.2133216968804088,-0.5278164628670937,1.4884792811106382,-0.951696847783406,1.7120260108326464,-0.1454210212980894,0.7729670349626565,-1.398599836046639,0.2936544015837765,-1.4724797978802802,-1.152984289788025,-0.4244596261425564,0.35510940547754,1.1863954719576226,0.7641118974979407],\"yaxis\":\"y7\",\"type\":\"scatter\"},{\"line\":{\"color\":\"rgba(128, 128, 128, 1.0)\",\"dash\":\"solid\",\"shape\":\"linear\",\"width\":1.3},\"marker\":{\"size\":2,\"symbol\":\"circle\"},\"mode\":\"markers\",\"name\":\"B\",\"text\":\"\",\"x\":[-0.015680719847409957,0.38467931988837933,-0.7941830807848673,-0.109970710355125,0.33798250759545057,-0.25576222851431013,-0.48346699503870183,1.0877125640222065,-0.9408116705146999,0.5214002226692266,-1.0803745666261861,2.924862676501828,-0.14565468527778472,1.8526889333322263,-1.6911352788307619,0.03010989811745035,-0.8692370113088596,-1.6018173727288723,-0.2620976797444577,0.3999118965111071,1.2525525190342175,-0.810289227115854,-0.37962080023713046,0.3396529341164264,2.730615185009525,-0.41437229514600954,1.1632113654556508,-1.1997815171985624,0.8846443003012396,-0.9825518231980817,0.11203824680181086,-0.7496420110271115,-1.1835084993367697,0.29064878159009694,-0.7854155992917491,-0.6005123981160521,-0.24014262751114215,0.007307545851978295,-1.758097265120564,0.5170864743943338,-0.43317476782347214,-0.40940548692306183,0.8189904200946637,1.2726038342993118,-1.7788979408664063,0.8882432122911695,-0.6215820086244249,2.517154028613377,-0.09152061230271684,-1.3426836467906045,-2.62098906420756,-1.465577033796658,2.5118562828010207,1.1756874953788985,-0.5458130973398371,-0.35742387455943303,-0.2290686431606772,0.1846582034162207,0.2735245705514366,-0.41508504951161235,-1.8156128336088706,-0.5876678691944328,-0.300777717597309,-0.5528700652076918,-0.8765669026203909,-0.7281615647204239,-0.7919977348091972,0.8008814948537331,1.5116361266794893,0.03653244016199828,0.8520736473130769,0.27288929365938136,1.1482068171202153,-0.009265954859607626,-1.2795087196452406,-0.3280901728788498,0.27415276964246943,2.187508388956917,-0.4223531370913922,-0.057055342593380055,0.011668676997639417,0.5414785864102529,-1.8817490105045827,1.127648853265194,-0.9950241376700371,0.3059849419662011,0.6109926533257333,1.3620652419570505,-1.1761795395021766,0.5156527179224979,0.0922983675784503,-1.343042173023882,-0.9452371393912993,-0.07351505456300246,-0.31322416241331846,1.734378468520146,-0.1986992925388653,0.4682307670670544,0.17665471541962913,0.24475489740538695],\"xaxis\":\"x8\",\"y\":[1.1982473059308325,1.6356636244629494,-0.8905655629472256,-1.807838351873487,0.8059253931077515,0.35179663251839494,3.286566911427533,2.8856879704436356,-1.6302195439392437,-0.46559364417373905,0.5722312952267994,0.13493420680389276,-0.042561264746407916,-1.3888743215255817,-1.0400399241781164,-0.12167381490054667,-0.7290940015517252,-0.09889921265528098,-0.3312005457673756,0.5261642154537874,0.6682052848327581,0.35916570838529577,-0.19295278672651348,1.1220259215142658,-0.5462425995736458,-0.3925935589237412,0.169345302240433,-1.7922818269161258,1.8628476133897467,-0.5340917673987183,0.04344248660006066,2.277202365749576,-0.25663557433485684,-1.1153026316907826,-0.7784819485526674,-0.27000384523590626,0.4977305798284601,1.4767340668012499,-0.3632677807686293,-1.5302748335828096,0.7467921741550148,-2.2970024424818507,-1.4460996582475492,-2.106907488696165,1.298016626562994,-0.324365394283865,-0.1449205658054919,0.12792883571809066,-0.08380256741136723,0.5187857885798648,-0.2776577943424909,-2.4766660149823316,0.875350737970101,0.5505238029568075,0.6035147525603715,-0.639981438984545,0.5973527193033242,-0.4392231849559408,1.2362135230485218,2.067677929479437,0.6375611227756837,-0.29871600887110944,0.2134919337824578,-0.5394598871410751,-0.3347505316342336,0.0801216955297691,-0.042805121119385926,0.37368049305987766,-0.3219801945746798,-0.4208666241915466,-0.4979873718658901,0.005609253028819707,0.03608464305536002,-0.029992147476621468,0.142788839251483,0.10275057800983606,-0.7223937306717052,-1.31611367941755,0.11682713512843675,0.36508224033026243,0.016701958707791845,0.22698760232656448,1.5465654668606335,-0.39381887564259743,1.142054801169338,1.2133216968804088,-0.5278164628670937,1.4884792811106382,-0.951696847783406,1.7120260108326464,-0.1454210212980894,0.7729670349626565,-1.398599836046639,0.2936544015837765,-1.4724797978802802,-1.152984289788025,-0.4244596261425564,0.35510940547754,1.1863954719576226,0.7641118974979407],\"yaxis\":\"y8\",\"type\":\"scatter\"},{\"line\":{\"color\":\"rgba(128, 128, 128, 1.0)\",\"dash\":\"solid\",\"shape\":\"linear\",\"width\":1.3},\"marker\":{\"size\":2,\"symbol\":\"circle\"},\"mode\":\"markers\",\"name\":\"C\",\"text\":\"\",\"x\":[-0.3398988896464808,-1.6320219123904456,1.0833580654835377,-0.5221441697533774,1.8870577989950417,-0.1519022894899191,1.738502057334876,1.7056108965703825,-0.6441517480790271,1.446088337377909,-0.40837595317937014,-0.3845503118092821,-1.1751265443795977,0.3867803121745835,-0.7426482243780839,-0.43683293687948244,-0.5088760710426806,-1.8543028311017542,-0.6332326401681622,0.1462914660828161,0.8830579721724487,0.3971948472370433,-1.1204484108009625,0.40106396407362593,-0.4067665034368915,0.47737803056416306,-1.9370437378754735,0.7292434252915854,-0.9651293257767154,-0.19170860679186263,-1.7686489673158163,-0.2537637565216562,0.6425981649526561,-1.0591476195161171,1.0667946528907304,-0.39160597886280846,-1.4037276993584953,1.8542164451445762,-1.0897874477601286,-0.6166742828751661,1.0275457033922706,-0.6551011328439404,-1.9316441131174051,0.8954051917268987,-0.929859420870943,-2.6074766673535854,-0.3260344298623395,-2.0670868762703063,0.09550434985732024,-0.5773800461329046,0.6547371662725984,-0.02746341612035001,1.0210359693291602,0.7901461323588164,0.15550268839189296,0.06477080315932901,-0.3876351988405084,-0.2589635071591233,0.610293410412037,0.35704353940696576,0.004869934166238935,2.084087092727924,0.44549222902202584,-0.8300681314305705,0.380011831731752,0.033614054409343785,0.2676525442637065,0.7269584845831824,1.1340583727418463,1.2306196535659573,0.3989981915062393,-0.020588125991491804,-0.590085318221706,0.7094993217735794,-0.07682209611761445,1.132665491703427,0.49475019050692304,-0.13891134715709394,-1.07586707290558,0.4441980300520878,-1.4868717602776649,-2.5060290067500364,1.8586312192790821,2.0462249338926135,-2.0116341336398333,1.2762416640493945,0.463117861856559,-0.6091834606663771,-0.752894001502793,0.3475782028223775,0.17383952520650456,-0.794650830102094,-0.10028232258399258,-1.7467047199059293,0.8942392582127465,0.6040802134291302,0.2699602012812688,1.8279522592497466,-0.4637391036140166,1.0973521416489043],\"xaxis\":\"x9\",\"y\":[0.1320759122455077,-0.04444424433177913,2.6585681121160922,0.3174800749607619,1.654359355438138,-0.6732701057926693,0.6361285686969663,-0.2451885959321246,-0.3314462347253053,0.3802969653490417,-1.7223806520139417,1.442167007934898,-1.177226112601706,-0.7321322627771829,-0.9548570607452044,-0.3635421281270355,-0.09628493714209976,0.7248668891529634,-0.39568706100878676,-0.4079615038661267,-0.6290513126106057,0.5580161889769741,1.068536165516149,1.1133527811753148,1.7994243459760668,0.29646904639819277,-0.6372995452114765,-0.26728521908326697,2.23028609817543,1.1797729334637708,1.275159327922166,-1.195901028112852,0.06445629351612976,-0.039466561765940954,-0.4295291479021976,1.0118396725120664,-0.9019718566983405,0.22083201477157846,0.04904930900498299,0.14701746599061263,-0.26563843558056954,-1.6234615369066359,1.859227722720208,-1.3893557603150164,0.056429355056207386,-1.5974864392899208,0.02485207450433001,-0.496205985444526,2.0668381018242794,0.6226740122092347,-2.077490400736509,0.4408991383440806,0.44774077327389555,0.28644799307103813,-1.5671574054913588,1.5090595853773114,0.6199971372861851,-0.28188991184088036,0.05236364002779333,-0.6050293620259407,-1.4416773512957197,0.6095514283064996,-1.1796228138285,-0.7195189127582756,-0.20939639161807388,-0.9750939526811694,1.380785553315133,0.2123680746554314,-0.6149438059877549,-2.2002459659094895,-0.08726555870063096,-0.4874056795170275,1.2338776919088803,-1.7123999692004583,-0.6181936541808375,-2.6512872632951994,-1.7245511569751049,-0.041507293303092156,-0.18938033770535043,1.0796974291745665,-0.025905940390241588,-1.1557678885732423,0.2579559545964371,0.7883523374982597,1.1461872632859762,-0.5885252765586263,0.11272445328866162,-0.22675422662729436,1.115206107559157,-1.184628080397001,1.4413811785525896,-0.1014443142888211,0.908934520105821,-0.45531622884496525,0.19034700444139369,-1.0155830932027832,-0.7860163518810481,-0.9428300144654829,1.8510610687884004,-0.29056512640351234],\"yaxis\":\"y9\",\"type\":\"scatter\"},{\"line\":{\"color\":\"rgba(128, 128, 128, 1.0)\",\"dash\":\"solid\",\"shape\":\"linear\",\"width\":1.3},\"marker\":{\"size\":2,\"symbol\":\"circle\"},\"mode\":\"markers\",\"name\":\"C\",\"text\":\"\",\"x\":[1.1982473059308325,1.6356636244629494,-0.8905655629472256,-1.807838351873487,0.8059253931077515,0.35179663251839494,3.286566911427533,2.8856879704436356,-1.6302195439392437,-0.46559364417373905,0.5722312952267994,0.13493420680389276,-0.042561264746407916,-1.3888743215255817,-1.0400399241781164,-0.12167381490054667,-0.7290940015517252,-0.09889921265528098,-0.3312005457673756,0.5261642154537874,0.6682052848327581,0.35916570838529577,-0.19295278672651348,1.1220259215142658,-0.5462425995736458,-0.3925935589237412,0.169345302240433,-1.7922818269161258,1.8628476133897467,-0.5340917673987183,0.04344248660006066,2.277202365749576,-0.25663557433485684,-1.1153026316907826,-0.7784819485526674,-0.27000384523590626,0.4977305798284601,1.4767340668012499,-0.3632677807686293,-1.5302748335828096,0.7467921741550148,-2.2970024424818507,-1.4460996582475492,-2.106907488696165,1.298016626562994,-0.324365394283865,-0.1449205658054919,0.12792883571809066,-0.08380256741136723,0.5187857885798648,-0.2776577943424909,-2.4766660149823316,0.875350737970101,0.5505238029568075,0.6035147525603715,-0.639981438984545,0.5973527193033242,-0.4392231849559408,1.2362135230485218,2.067677929479437,0.6375611227756837,-0.29871600887110944,0.2134919337824578,-0.5394598871410751,-0.3347505316342336,0.0801216955297691,-0.042805121119385926,0.37368049305987766,-0.3219801945746798,-0.4208666241915466,-0.4979873718658901,0.005609253028819707,0.03608464305536002,-0.029992147476621468,0.142788839251483,0.10275057800983606,-0.7223937306717052,-1.31611367941755,0.11682713512843675,0.36508224033026243,0.016701958707791845,0.22698760232656448,1.5465654668606335,-0.39381887564259743,1.142054801169338,1.2133216968804088,-0.5278164628670937,1.4884792811106382,-0.951696847783406,1.7120260108326464,-0.1454210212980894,0.7729670349626565,-1.398599836046639,0.2936544015837765,-1.4724797978802802,-1.152984289788025,-0.4244596261425564,0.35510940547754,1.1863954719576226,0.7641118974979407],\"xaxis\":\"x10\",\"y\":[0.1320759122455077,-0.04444424433177913,2.6585681121160922,0.3174800749607619,1.654359355438138,-0.6732701057926693,0.6361285686969663,-0.2451885959321246,-0.3314462347253053,0.3802969653490417,-1.7223806520139417,1.442167007934898,-1.177226112601706,-0.7321322627771829,-0.9548570607452044,-0.3635421281270355,-0.09628493714209976,0.7248668891529634,-0.39568706100878676,-0.4079615038661267,-0.6290513126106057,0.5580161889769741,1.068536165516149,1.1133527811753148,1.7994243459760668,0.29646904639819277,-0.6372995452114765,-0.26728521908326697,2.23028609817543,1.1797729334637708,1.275159327922166,-1.195901028112852,0.06445629351612976,-0.039466561765940954,-0.4295291479021976,1.0118396725120664,-0.9019718566983405,0.22083201477157846,0.04904930900498299,0.14701746599061263,-0.26563843558056954,-1.6234615369066359,1.859227722720208,-1.3893557603150164,0.056429355056207386,-1.5974864392899208,0.02485207450433001,-0.496205985444526,2.0668381018242794,0.6226740122092347,-2.077490400736509,0.4408991383440806,0.44774077327389555,0.28644799307103813,-1.5671574054913588,1.5090595853773114,0.6199971372861851,-0.28188991184088036,0.05236364002779333,-0.6050293620259407,-1.4416773512957197,0.6095514283064996,-1.1796228138285,-0.7195189127582756,-0.20939639161807388,-0.9750939526811694,1.380785553315133,0.2123680746554314,-0.6149438059877549,-2.2002459659094895,-0.08726555870063096,-0.4874056795170275,1.2338776919088803,-1.7123999692004583,-0.6181936541808375,-2.6512872632951994,-1.7245511569751049,-0.041507293303092156,-0.18938033770535043,1.0796974291745665,-0.025905940390241588,-1.1557678885732423,0.2579559545964371,0.7883523374982597,1.1461872632859762,-0.5885252765586263,0.11272445328866162,-0.22675422662729436,1.115206107559157,-1.184628080397001,1.4413811785525896,-0.1014443142888211,0.908934520105821,-0.45531622884496525,0.19034700444139369,-1.0155830932027832,-0.7860163518810481,-0.9428300144654829,1.8510610687884004,-0.29056512640351234],\"yaxis\":\"y10\",\"type\":\"scatter\"},{\"histfunc\":\"count\",\"histnorm\":\"\",\"marker\":{\"color\":\"rgba(50, 171, 96, 1.0)\",\"line\":{\"color\":\"#4D5663\",\"width\":1.3}},\"name\":\"C\",\"nbinsx\":10,\"opacity\":0.8,\"orientation\":\"v\",\"x\":[0.1320759122455077,-0.04444424433177913,2.6585681121160922,0.3174800749607619,1.654359355438138,-0.6732701057926693,0.6361285686969663,-0.2451885959321246,-0.3314462347253053,0.3802969653490417,-1.7223806520139417,1.442167007934898,-1.177226112601706,-0.7321322627771829,-0.9548570607452044,-0.3635421281270355,-0.09628493714209976,0.7248668891529634,-0.39568706100878676,-0.4079615038661267,-0.6290513126106057,0.5580161889769741,1.068536165516149,1.1133527811753148,1.7994243459760668,0.29646904639819277,-0.6372995452114765,-0.26728521908326697,2.23028609817543,1.1797729334637708,1.275159327922166,-1.195901028112852,0.06445629351612976,-0.039466561765940954,-0.4295291479021976,1.0118396725120664,-0.9019718566983405,0.22083201477157846,0.04904930900498299,0.14701746599061263,-0.26563843558056954,-1.6234615369066359,1.859227722720208,-1.3893557603150164,0.056429355056207386,-1.5974864392899208,0.02485207450433001,-0.496205985444526,2.0668381018242794,0.6226740122092347,-2.077490400736509,0.4408991383440806,0.44774077327389555,0.28644799307103813,-1.5671574054913588,1.5090595853773114,0.6199971372861851,-0.28188991184088036,0.05236364002779333,-0.6050293620259407,-1.4416773512957197,0.6095514283064996,-1.1796228138285,-0.7195189127582756,-0.20939639161807388,-0.9750939526811694,1.380785553315133,0.2123680746554314,-0.6149438059877549,-2.2002459659094895,-0.08726555870063096,-0.4874056795170275,1.2338776919088803,-1.7123999692004583,-0.6181936541808375,-2.6512872632951994,-1.7245511569751049,-0.041507293303092156,-0.18938033770535043,1.0796974291745665,-0.025905940390241588,-1.1557678885732423,0.2579559545964371,0.7883523374982597,1.1461872632859762,-0.5885252765586263,0.11272445328866162,-0.22675422662729436,1.115206107559157,-1.184628080397001,1.4413811785525896,-0.1014443142888211,0.908934520105821,-0.45531622884496525,0.19034700444139369,-1.0155830932027832,-0.7860163518810481,-0.9428300144654829,1.8510610687884004,-0.29056512640351234],\"xaxis\":\"x11\",\"yaxis\":\"y11\",\"type\":\"histogram\"},{\"line\":{\"color\":\"rgba(128, 128, 128, 1.0)\",\"dash\":\"solid\",\"shape\":\"linear\",\"width\":1.3},\"marker\":{\"size\":2,\"symbol\":\"circle\"},\"mode\":\"markers\",\"name\":\"C\",\"text\":\"\",\"x\":[-0.015680719847409957,0.38467931988837933,-0.7941830807848673,-0.109970710355125,0.33798250759545057,-0.25576222851431013,-0.48346699503870183,1.0877125640222065,-0.9408116705146999,0.5214002226692266,-1.0803745666261861,2.924862676501828,-0.14565468527778472,1.8526889333322263,-1.6911352788307619,0.03010989811745035,-0.8692370113088596,-1.6018173727288723,-0.2620976797444577,0.3999118965111071,1.2525525190342175,-0.810289227115854,-0.37962080023713046,0.3396529341164264,2.730615185009525,-0.41437229514600954,1.1632113654556508,-1.1997815171985624,0.8846443003012396,-0.9825518231980817,0.11203824680181086,-0.7496420110271115,-1.1835084993367697,0.29064878159009694,-0.7854155992917491,-0.6005123981160521,-0.24014262751114215,0.007307545851978295,-1.758097265120564,0.5170864743943338,-0.43317476782347214,-0.40940548692306183,0.8189904200946637,1.2726038342993118,-1.7788979408664063,0.8882432122911695,-0.6215820086244249,2.517154028613377,-0.09152061230271684,-1.3426836467906045,-2.62098906420756,-1.465577033796658,2.5118562828010207,1.1756874953788985,-0.5458130973398371,-0.35742387455943303,-0.2290686431606772,0.1846582034162207,0.2735245705514366,-0.41508504951161235,-1.8156128336088706,-0.5876678691944328,-0.300777717597309,-0.5528700652076918,-0.8765669026203909,-0.7281615647204239,-0.7919977348091972,0.8008814948537331,1.5116361266794893,0.03653244016199828,0.8520736473130769,0.27288929365938136,1.1482068171202153,-0.009265954859607626,-1.2795087196452406,-0.3280901728788498,0.27415276964246943,2.187508388956917,-0.4223531370913922,-0.057055342593380055,0.011668676997639417,0.5414785864102529,-1.8817490105045827,1.127648853265194,-0.9950241376700371,0.3059849419662011,0.6109926533257333,1.3620652419570505,-1.1761795395021766,0.5156527179224979,0.0922983675784503,-1.343042173023882,-0.9452371393912993,-0.07351505456300246,-0.31322416241331846,1.734378468520146,-0.1986992925388653,0.4682307670670544,0.17665471541962913,0.24475489740538695],\"xaxis\":\"x12\",\"y\":[0.1320759122455077,-0.04444424433177913,2.6585681121160922,0.3174800749607619,1.654359355438138,-0.6732701057926693,0.6361285686969663,-0.2451885959321246,-0.3314462347253053,0.3802969653490417,-1.7223806520139417,1.442167007934898,-1.177226112601706,-0.7321322627771829,-0.9548570607452044,-0.3635421281270355,-0.09628493714209976,0.7248668891529634,-0.39568706100878676,-0.4079615038661267,-0.6290513126106057,0.5580161889769741,1.068536165516149,1.1133527811753148,1.7994243459760668,0.29646904639819277,-0.6372995452114765,-0.26728521908326697,2.23028609817543,1.1797729334637708,1.275159327922166,-1.195901028112852,0.06445629351612976,-0.039466561765940954,-0.4295291479021976,1.0118396725120664,-0.9019718566983405,0.22083201477157846,0.04904930900498299,0.14701746599061263,-0.26563843558056954,-1.6234615369066359,1.859227722720208,-1.3893557603150164,0.056429355056207386,-1.5974864392899208,0.02485207450433001,-0.496205985444526,2.0668381018242794,0.6226740122092347,-2.077490400736509,0.4408991383440806,0.44774077327389555,0.28644799307103813,-1.5671574054913588,1.5090595853773114,0.6199971372861851,-0.28188991184088036,0.05236364002779333,-0.6050293620259407,-1.4416773512957197,0.6095514283064996,-1.1796228138285,-0.7195189127582756,-0.20939639161807388,-0.9750939526811694,1.380785553315133,0.2123680746554314,-0.6149438059877549,-2.2002459659094895,-0.08726555870063096,-0.4874056795170275,1.2338776919088803,-1.7123999692004583,-0.6181936541808375,-2.6512872632951994,-1.7245511569751049,-0.041507293303092156,-0.18938033770535043,1.0796974291745665,-0.025905940390241588,-1.1557678885732423,0.2579559545964371,0.7883523374982597,1.1461872632859762,-0.5885252765586263,0.11272445328866162,-0.22675422662729436,1.115206107559157,-1.184628080397001,1.4413811785525896,-0.1014443142888211,0.908934520105821,-0.45531622884496525,0.19034700444139369,-1.0155830932027832,-0.7860163518810481,-0.9428300144654829,1.8510610687884004,-0.29056512640351234],\"yaxis\":\"y12\",\"type\":\"scatter\"},{\"line\":{\"color\":\"rgba(128, 128, 128, 1.0)\",\"dash\":\"solid\",\"shape\":\"linear\",\"width\":1.3},\"marker\":{\"size\":2,\"symbol\":\"circle\"},\"mode\":\"markers\",\"name\":\"D\",\"text\":\"\",\"x\":[-0.3398988896464808,-1.6320219123904456,1.0833580654835377,-0.5221441697533774,1.8870577989950417,-0.1519022894899191,1.738502057334876,1.7056108965703825,-0.6441517480790271,1.446088337377909,-0.40837595317937014,-0.3845503118092821,-1.1751265443795977,0.3867803121745835,-0.7426482243780839,-0.43683293687948244,-0.5088760710426806,-1.8543028311017542,-0.6332326401681622,0.1462914660828161,0.8830579721724487,0.3971948472370433,-1.1204484108009625,0.40106396407362593,-0.4067665034368915,0.47737803056416306,-1.9370437378754735,0.7292434252915854,-0.9651293257767154,-0.19170860679186263,-1.7686489673158163,-0.2537637565216562,0.6425981649526561,-1.0591476195161171,1.0667946528907304,-0.39160597886280846,-1.4037276993584953,1.8542164451445762,-1.0897874477601286,-0.6166742828751661,1.0275457033922706,-0.6551011328439404,-1.9316441131174051,0.8954051917268987,-0.929859420870943,-2.6074766673535854,-0.3260344298623395,-2.0670868762703063,0.09550434985732024,-0.5773800461329046,0.6547371662725984,-0.02746341612035001,1.0210359693291602,0.7901461323588164,0.15550268839189296,0.06477080315932901,-0.3876351988405084,-0.2589635071591233,0.610293410412037,0.35704353940696576,0.004869934166238935,2.084087092727924,0.44549222902202584,-0.8300681314305705,0.380011831731752,0.033614054409343785,0.2676525442637065,0.7269584845831824,1.1340583727418463,1.2306196535659573,0.3989981915062393,-0.020588125991491804,-0.590085318221706,0.7094993217735794,-0.07682209611761445,1.132665491703427,0.49475019050692304,-0.13891134715709394,-1.07586707290558,0.4441980300520878,-1.4868717602776649,-2.5060290067500364,1.8586312192790821,2.0462249338926135,-2.0116341336398333,1.2762416640493945,0.463117861856559,-0.6091834606663771,-0.752894001502793,0.3475782028223775,0.17383952520650456,-0.794650830102094,-0.10028232258399258,-1.7467047199059293,0.8942392582127465,0.6040802134291302,0.2699602012812688,1.8279522592497466,-0.4637391036140166,1.0973521416489043],\"xaxis\":\"x13\",\"y\":[-0.015680719847409957,0.38467931988837933,-0.7941830807848673,-0.109970710355125,0.33798250759545057,-0.25576222851431013,-0.48346699503870183,1.0877125640222065,-0.9408116705146999,0.5214002226692266,-1.0803745666261861,2.924862676501828,-0.14565468527778472,1.8526889333322263,-1.6911352788307619,0.03010989811745035,-0.8692370113088596,-1.6018173727288723,-0.2620976797444577,0.3999118965111071,1.2525525190342175,-0.810289227115854,-0.37962080023713046,0.3396529341164264,2.730615185009525,-0.41437229514600954,1.1632113654556508,-1.1997815171985624,0.8846443003012396,-0.9825518231980817,0.11203824680181086,-0.7496420110271115,-1.1835084993367697,0.29064878159009694,-0.7854155992917491,-0.6005123981160521,-0.24014262751114215,0.007307545851978295,-1.758097265120564,0.5170864743943338,-0.43317476782347214,-0.40940548692306183,0.8189904200946637,1.2726038342993118,-1.7788979408664063,0.8882432122911695,-0.6215820086244249,2.517154028613377,-0.09152061230271684,-1.3426836467906045,-2.62098906420756,-1.465577033796658,2.5118562828010207,1.1756874953788985,-0.5458130973398371,-0.35742387455943303,-0.2290686431606772,0.1846582034162207,0.2735245705514366,-0.41508504951161235,-1.8156128336088706,-0.5876678691944328,-0.300777717597309,-0.5528700652076918,-0.8765669026203909,-0.7281615647204239,-0.7919977348091972,0.8008814948537331,1.5116361266794893,0.03653244016199828,0.8520736473130769,0.27288929365938136,1.1482068171202153,-0.009265954859607626,-1.2795087196452406,-0.3280901728788498,0.27415276964246943,2.187508388956917,-0.4223531370913922,-0.057055342593380055,0.011668676997639417,0.5414785864102529,-1.8817490105045827,1.127648853265194,-0.9950241376700371,0.3059849419662011,0.6109926533257333,1.3620652419570505,-1.1761795395021766,0.5156527179224979,0.0922983675784503,-1.343042173023882,-0.9452371393912993,-0.07351505456300246,-0.31322416241331846,1.734378468520146,-0.1986992925388653,0.4682307670670544,0.17665471541962913,0.24475489740538695],\"yaxis\":\"y13\",\"type\":\"scatter\"},{\"line\":{\"color\":\"rgba(128, 128, 128, 1.0)\",\"dash\":\"solid\",\"shape\":\"linear\",\"width\":1.3},\"marker\":{\"size\":2,\"symbol\":\"circle\"},\"mode\":\"markers\",\"name\":\"D\",\"text\":\"\",\"x\":[1.1982473059308325,1.6356636244629494,-0.8905655629472256,-1.807838351873487,0.8059253931077515,0.35179663251839494,3.286566911427533,2.8856879704436356,-1.6302195439392437,-0.46559364417373905,0.5722312952267994,0.13493420680389276,-0.042561264746407916,-1.3888743215255817,-1.0400399241781164,-0.12167381490054667,-0.7290940015517252,-0.09889921265528098,-0.3312005457673756,0.5261642154537874,0.6682052848327581,0.35916570838529577,-0.19295278672651348,1.1220259215142658,-0.5462425995736458,-0.3925935589237412,0.169345302240433,-1.7922818269161258,1.8628476133897467,-0.5340917673987183,0.04344248660006066,2.277202365749576,-0.25663557433485684,-1.1153026316907826,-0.7784819485526674,-0.27000384523590626,0.4977305798284601,1.4767340668012499,-0.3632677807686293,-1.5302748335828096,0.7467921741550148,-2.2970024424818507,-1.4460996582475492,-2.106907488696165,1.298016626562994,-0.324365394283865,-0.1449205658054919,0.12792883571809066,-0.08380256741136723,0.5187857885798648,-0.2776577943424909,-2.4766660149823316,0.875350737970101,0.5505238029568075,0.6035147525603715,-0.639981438984545,0.5973527193033242,-0.4392231849559408,1.2362135230485218,2.067677929479437,0.6375611227756837,-0.29871600887110944,0.2134919337824578,-0.5394598871410751,-0.3347505316342336,0.0801216955297691,-0.042805121119385926,0.37368049305987766,-0.3219801945746798,-0.4208666241915466,-0.4979873718658901,0.005609253028819707,0.03608464305536002,-0.029992147476621468,0.142788839251483,0.10275057800983606,-0.7223937306717052,-1.31611367941755,0.11682713512843675,0.36508224033026243,0.016701958707791845,0.22698760232656448,1.5465654668606335,-0.39381887564259743,1.142054801169338,1.2133216968804088,-0.5278164628670937,1.4884792811106382,-0.951696847783406,1.7120260108326464,-0.1454210212980894,0.7729670349626565,-1.398599836046639,0.2936544015837765,-1.4724797978802802,-1.152984289788025,-0.4244596261425564,0.35510940547754,1.1863954719576226,0.7641118974979407],\"xaxis\":\"x14\",\"y\":[-0.015680719847409957,0.38467931988837933,-0.7941830807848673,-0.109970710355125,0.33798250759545057,-0.25576222851431013,-0.48346699503870183,1.0877125640222065,-0.9408116705146999,0.5214002226692266,-1.0803745666261861,2.924862676501828,-0.14565468527778472,1.8526889333322263,-1.6911352788307619,0.03010989811745035,-0.8692370113088596,-1.6018173727288723,-0.2620976797444577,0.3999118965111071,1.2525525190342175,-0.810289227115854,-0.37962080023713046,0.3396529341164264,2.730615185009525,-0.41437229514600954,1.1632113654556508,-1.1997815171985624,0.8846443003012396,-0.9825518231980817,0.11203824680181086,-0.7496420110271115,-1.1835084993367697,0.29064878159009694,-0.7854155992917491,-0.6005123981160521,-0.24014262751114215,0.007307545851978295,-1.758097265120564,0.5170864743943338,-0.43317476782347214,-0.40940548692306183,0.8189904200946637,1.2726038342993118,-1.7788979408664063,0.8882432122911695,-0.6215820086244249,2.517154028613377,-0.09152061230271684,-1.3426836467906045,-2.62098906420756,-1.465577033796658,2.5118562828010207,1.1756874953788985,-0.5458130973398371,-0.35742387455943303,-0.2290686431606772,0.1846582034162207,0.2735245705514366,-0.41508504951161235,-1.8156128336088706,-0.5876678691944328,-0.300777717597309,-0.5528700652076918,-0.8765669026203909,-0.7281615647204239,-0.7919977348091972,0.8008814948537331,1.5116361266794893,0.03653244016199828,0.8520736473130769,0.27288929365938136,1.1482068171202153,-0.009265954859607626,-1.2795087196452406,-0.3280901728788498,0.27415276964246943,2.187508388956917,-0.4223531370913922,-0.057055342593380055,0.011668676997639417,0.5414785864102529,-1.8817490105045827,1.127648853265194,-0.9950241376700371,0.3059849419662011,0.6109926533257333,1.3620652419570505,-1.1761795395021766,0.5156527179224979,0.0922983675784503,-1.343042173023882,-0.9452371393912993,-0.07351505456300246,-0.31322416241331846,1.734378468520146,-0.1986992925388653,0.4682307670670544,0.17665471541962913,0.24475489740538695],\"yaxis\":\"y14\",\"type\":\"scatter\"},{\"line\":{\"color\":\"rgba(128, 128, 128, 1.0)\",\"dash\":\"solid\",\"shape\":\"linear\",\"width\":1.3},\"marker\":{\"size\":2,\"symbol\":\"circle\"},\"mode\":\"markers\",\"name\":\"D\",\"text\":\"\",\"x\":[0.1320759122455077,-0.04444424433177913,2.6585681121160922,0.3174800749607619,1.654359355438138,-0.6732701057926693,0.6361285686969663,-0.2451885959321246,-0.3314462347253053,0.3802969653490417,-1.7223806520139417,1.442167007934898,-1.177226112601706,-0.7321322627771829,-0.9548570607452044,-0.3635421281270355,-0.09628493714209976,0.7248668891529634,-0.39568706100878676,-0.4079615038661267,-0.6290513126106057,0.5580161889769741,1.068536165516149,1.1133527811753148,1.7994243459760668,0.29646904639819277,-0.6372995452114765,-0.26728521908326697,2.23028609817543,1.1797729334637708,1.275159327922166,-1.195901028112852,0.06445629351612976,-0.039466561765940954,-0.4295291479021976,1.0118396725120664,-0.9019718566983405,0.22083201477157846,0.04904930900498299,0.14701746599061263,-0.26563843558056954,-1.6234615369066359,1.859227722720208,-1.3893557603150164,0.056429355056207386,-1.5974864392899208,0.02485207450433001,-0.496205985444526,2.0668381018242794,0.6226740122092347,-2.077490400736509,0.4408991383440806,0.44774077327389555,0.28644799307103813,-1.5671574054913588,1.5090595853773114,0.6199971372861851,-0.28188991184088036,0.05236364002779333,-0.6050293620259407,-1.4416773512957197,0.6095514283064996,-1.1796228138285,-0.7195189127582756,-0.20939639161807388,-0.9750939526811694,1.380785553315133,0.2123680746554314,-0.6149438059877549,-2.2002459659094895,-0.08726555870063096,-0.4874056795170275,1.2338776919088803,-1.7123999692004583,-0.6181936541808375,-2.6512872632951994,-1.7245511569751049,-0.041507293303092156,-0.18938033770535043,1.0796974291745665,-0.025905940390241588,-1.1557678885732423,0.2579559545964371,0.7883523374982597,1.1461872632859762,-0.5885252765586263,0.11272445328866162,-0.22675422662729436,1.115206107559157,-1.184628080397001,1.4413811785525896,-0.1014443142888211,0.908934520105821,-0.45531622884496525,0.19034700444139369,-1.0155830932027832,-0.7860163518810481,-0.9428300144654829,1.8510610687884004,-0.29056512640351234],\"xaxis\":\"x15\",\"y\":[-0.015680719847409957,0.38467931988837933,-0.7941830807848673,-0.109970710355125,0.33798250759545057,-0.25576222851431013,-0.48346699503870183,1.0877125640222065,-0.9408116705146999,0.5214002226692266,-1.0803745666261861,2.924862676501828,-0.14565468527778472,1.8526889333322263,-1.6911352788307619,0.03010989811745035,-0.8692370113088596,-1.6018173727288723,-0.2620976797444577,0.3999118965111071,1.2525525190342175,-0.810289227115854,-0.37962080023713046,0.3396529341164264,2.730615185009525,-0.41437229514600954,1.1632113654556508,-1.1997815171985624,0.8846443003012396,-0.9825518231980817,0.11203824680181086,-0.7496420110271115,-1.1835084993367697,0.29064878159009694,-0.7854155992917491,-0.6005123981160521,-0.24014262751114215,0.007307545851978295,-1.758097265120564,0.5170864743943338,-0.43317476782347214,-0.40940548692306183,0.8189904200946637,1.2726038342993118,-1.7788979408664063,0.8882432122911695,-0.6215820086244249,2.517154028613377,-0.09152061230271684,-1.3426836467906045,-2.62098906420756,-1.465577033796658,2.5118562828010207,1.1756874953788985,-0.5458130973398371,-0.35742387455943303,-0.2290686431606772,0.1846582034162207,0.2735245705514366,-0.41508504951161235,-1.8156128336088706,-0.5876678691944328,-0.300777717597309,-0.5528700652076918,-0.8765669026203909,-0.7281615647204239,-0.7919977348091972,0.8008814948537331,1.5116361266794893,0.03653244016199828,0.8520736473130769,0.27288929365938136,1.1482068171202153,-0.009265954859607626,-1.2795087196452406,-0.3280901728788498,0.27415276964246943,2.187508388956917,-0.4223531370913922,-0.057055342593380055,0.011668676997639417,0.5414785864102529,-1.8817490105045827,1.127648853265194,-0.9950241376700371,0.3059849419662011,0.6109926533257333,1.3620652419570505,-1.1761795395021766,0.5156527179224979,0.0922983675784503,-1.343042173023882,-0.9452371393912993,-0.07351505456300246,-0.31322416241331846,1.734378468520146,-0.1986992925388653,0.4682307670670544,0.17665471541962913,0.24475489740538695],\"yaxis\":\"y15\",\"type\":\"scatter\"},{\"histfunc\":\"count\",\"histnorm\":\"\",\"marker\":{\"color\":\"rgba(128, 0, 128, 1.0)\",\"line\":{\"color\":\"#4D5663\",\"width\":1.3}},\"name\":\"D\",\"nbinsx\":10,\"opacity\":0.8,\"orientation\":\"v\",\"x\":[-0.015680719847409957,0.38467931988837933,-0.7941830807848673,-0.109970710355125,0.33798250759545057,-0.25576222851431013,-0.48346699503870183,1.0877125640222065,-0.9408116705146999,0.5214002226692266,-1.0803745666261861,2.924862676501828,-0.14565468527778472,1.8526889333322263,-1.6911352788307619,0.03010989811745035,-0.8692370113088596,-1.6018173727288723,-0.2620976797444577,0.3999118965111071,1.2525525190342175,-0.810289227115854,-0.37962080023713046,0.3396529341164264,2.730615185009525,-0.41437229514600954,1.1632113654556508,-1.1997815171985624,0.8846443003012396,-0.9825518231980817,0.11203824680181086,-0.7496420110271115,-1.1835084993367697,0.29064878159009694,-0.7854155992917491,-0.6005123981160521,-0.24014262751114215,0.007307545851978295,-1.758097265120564,0.5170864743943338,-0.43317476782347214,-0.40940548692306183,0.8189904200946637,1.2726038342993118,-1.7788979408664063,0.8882432122911695,-0.6215820086244249,2.517154028613377,-0.09152061230271684,-1.3426836467906045,-2.62098906420756,-1.465577033796658,2.5118562828010207,1.1756874953788985,-0.5458130973398371,-0.35742387455943303,-0.2290686431606772,0.1846582034162207,0.2735245705514366,-0.41508504951161235,-1.8156128336088706,-0.5876678691944328,-0.300777717597309,-0.5528700652076918,-0.8765669026203909,-0.7281615647204239,-0.7919977348091972,0.8008814948537331,1.5116361266794893,0.03653244016199828,0.8520736473130769,0.27288929365938136,1.1482068171202153,-0.009265954859607626,-1.2795087196452406,-0.3280901728788498,0.27415276964246943,2.187508388956917,-0.4223531370913922,-0.057055342593380055,0.011668676997639417,0.5414785864102529,-1.8817490105045827,1.127648853265194,-0.9950241376700371,0.3059849419662011,0.6109926533257333,1.3620652419570505,-1.1761795395021766,0.5156527179224979,0.0922983675784503,-1.343042173023882,-0.9452371393912993,-0.07351505456300246,-0.31322416241331846,1.734378468520146,-0.1986992925388653,0.4682307670670544,0.17665471541962913,0.24475489740538695],\"xaxis\":\"x16\",\"yaxis\":\"y16\",\"type\":\"histogram\"}],                        {\"bargap\":0.02,\"legend\":{\"bgcolor\":\"#F5F6F9\",\"font\":{\"color\":\"#4D5663\"}},\"paper_bgcolor\":\"#F5F6F9\",\"plot_bgcolor\":\"#F5F6F9\",\"showlegend\":false,\"template\":{\"data\":{\"barpolar\":[{\"marker\":{\"line\":{\"color\":\"#E5ECF6\",\"width\":0.5},\"pattern\":{\"fillmode\":\"overlay\",\"size\":10,\"solidity\":0.2}},\"type\":\"barpolar\"}],\"bar\":[{\"error_x\":{\"color\":\"#2a3f5f\"},\"error_y\":{\"color\":\"#2a3f5f\"},\"marker\":{\"line\":{\"color\":\"#E5ECF6\",\"width\":0.5},\"pattern\":{\"fillmode\":\"overlay\",\"size\":10,\"solidity\":0.2}},\"type\":\"bar\"}],\"carpet\":[{\"aaxis\":{\"endlinecolor\":\"#2a3f5f\",\"gridcolor\":\"white\",\"linecolor\":\"white\",\"minorgridcolor\":\"white\",\"startlinecolor\":\"#2a3f5f\"},\"baxis\":{\"endlinecolor\":\"#2a3f5f\",\"gridcolor\":\"white\",\"linecolor\":\"white\",\"minorgridcolor\":\"white\",\"startlinecolor\":\"#2a3f5f\"},\"type\":\"carpet\"}],\"choropleth\":[{\"colorbar\":{\"outlinewidth\":0,\"ticks\":\"\"},\"type\":\"choropleth\"}],\"contourcarpet\":[{\"colorbar\":{\"outlinewidth\":0,\"ticks\":\"\"},\"type\":\"contourcarpet\"}],\"contour\":[{\"colorbar\":{\"outlinewidth\":0,\"ticks\":\"\"},\"colorscale\":[[0.0,\"#0d0887\"],[0.1111111111111111,\"#46039f\"],[0.2222222222222222,\"#7201a8\"],[0.3333333333333333,\"#9c179e\"],[0.4444444444444444,\"#bd3786\"],[0.5555555555555556,\"#d8576b\"],[0.6666666666666666,\"#ed7953\"],[0.7777777777777778,\"#fb9f3a\"],[0.8888888888888888,\"#fdca26\"],[1.0,\"#f0f921\"]],\"type\":\"contour\"}],\"heatmapgl\":[{\"colorbar\":{\"outlinewidth\":0,\"ticks\":\"\"},\"colorscale\":[[0.0,\"#0d0887\"],[0.1111111111111111,\"#46039f\"],[0.2222222222222222,\"#7201a8\"],[0.3333333333333333,\"#9c179e\"],[0.4444444444444444,\"#bd3786\"],[0.5555555555555556,\"#d8576b\"],[0.6666666666666666,\"#ed7953\"],[0.7777777777777778,\"#fb9f3a\"],[0.8888888888888888,\"#fdca26\"],[1.0,\"#f0f921\"]],\"type\":\"heatmapgl\"}],\"heatmap\":[{\"colorbar\":{\"outlinewidth\":0,\"ticks\":\"\"},\"colorscale\":[[0.0,\"#0d0887\"],[0.1111111111111111,\"#46039f\"],[0.2222222222222222,\"#7201a8\"],[0.3333333333333333,\"#9c179e\"],[0.4444444444444444,\"#bd3786\"],[0.5555555555555556,\"#d8576b\"],[0.6666666666666666,\"#ed7953\"],[0.7777777777777778,\"#fb9f3a\"],[0.8888888888888888,\"#fdca26\"],[1.0,\"#f0f921\"]],\"type\":\"heatmap\"}],\"histogram2dcontour\":[{\"colorbar\":{\"outlinewidth\":0,\"ticks\":\"\"},\"colorscale\":[[0.0,\"#0d0887\"],[0.1111111111111111,\"#46039f\"],[0.2222222222222222,\"#7201a8\"],[0.3333333333333333,\"#9c179e\"],[0.4444444444444444,\"#bd3786\"],[0.5555555555555556,\"#d8576b\"],[0.6666666666666666,\"#ed7953\"],[0.7777777777777778,\"#fb9f3a\"],[0.8888888888888888,\"#fdca26\"],[1.0,\"#f0f921\"]],\"type\":\"histogram2dcontour\"}],\"histogram2d\":[{\"colorbar\":{\"outlinewidth\":0,\"ticks\":\"\"},\"colorscale\":[[0.0,\"#0d0887\"],[0.1111111111111111,\"#46039f\"],[0.2222222222222222,\"#7201a8\"],[0.3333333333333333,\"#9c179e\"],[0.4444444444444444,\"#bd3786\"],[0.5555555555555556,\"#d8576b\"],[0.6666666666666666,\"#ed7953\"],[0.7777777777777778,\"#fb9f3a\"],[0.8888888888888888,\"#fdca26\"],[1.0,\"#f0f921\"]],\"type\":\"histogram2d\"}],\"histogram\":[{\"marker\":{\"pattern\":{\"fillmode\":\"overlay\",\"size\":10,\"solidity\":0.2}},\"type\":\"histogram\"}],\"mesh3d\":[{\"colorbar\":{\"outlinewidth\":0,\"ticks\":\"\"},\"type\":\"mesh3d\"}],\"parcoords\":[{\"line\":{\"colorbar\":{\"outlinewidth\":0,\"ticks\":\"\"}},\"type\":\"parcoords\"}],\"pie\":[{\"automargin\":true,\"type\":\"pie\"}],\"scatter3d\":[{\"line\":{\"colorbar\":{\"outlinewidth\":0,\"ticks\":\"\"}},\"marker\":{\"colorbar\":{\"outlinewidth\":0,\"ticks\":\"\"}},\"type\":\"scatter3d\"}],\"scattercarpet\":[{\"marker\":{\"colorbar\":{\"outlinewidth\":0,\"ticks\":\"\"}},\"type\":\"scattercarpet\"}],\"scattergeo\":[{\"marker\":{\"colorbar\":{\"outlinewidth\":0,\"ticks\":\"\"}},\"type\":\"scattergeo\"}],\"scattergl\":[{\"marker\":{\"colorbar\":{\"outlinewidth\":0,\"ticks\":\"\"}},\"type\":\"scattergl\"}],\"scattermapbox\":[{\"marker\":{\"colorbar\":{\"outlinewidth\":0,\"ticks\":\"\"}},\"type\":\"scattermapbox\"}],\"scatterpolargl\":[{\"marker\":{\"colorbar\":{\"outlinewidth\":0,\"ticks\":\"\"}},\"type\":\"scatterpolargl\"}],\"scatterpolar\":[{\"marker\":{\"colorbar\":{\"outlinewidth\":0,\"ticks\":\"\"}},\"type\":\"scatterpolar\"}],\"scatter\":[{\"fillpattern\":{\"fillmode\":\"overlay\",\"size\":10,\"solidity\":0.2},\"type\":\"scatter\"}],\"scatterternary\":[{\"marker\":{\"colorbar\":{\"outlinewidth\":0,\"ticks\":\"\"}},\"type\":\"scatterternary\"}],\"surface\":[{\"colorbar\":{\"outlinewidth\":0,\"ticks\":\"\"},\"colorscale\":[[0.0,\"#0d0887\"],[0.1111111111111111,\"#46039f\"],[0.2222222222222222,\"#7201a8\"],[0.3333333333333333,\"#9c179e\"],[0.4444444444444444,\"#bd3786\"],[0.5555555555555556,\"#d8576b\"],[0.6666666666666666,\"#ed7953\"],[0.7777777777777778,\"#fb9f3a\"],[0.8888888888888888,\"#fdca26\"],[1.0,\"#f0f921\"]],\"type\":\"surface\"}],\"table\":[{\"cells\":{\"fill\":{\"color\":\"#EBF0F8\"},\"line\":{\"color\":\"white\"}},\"header\":{\"fill\":{\"color\":\"#C8D4E3\"},\"line\":{\"color\":\"white\"}},\"type\":\"table\"}]},\"layout\":{\"annotationdefaults\":{\"arrowcolor\":\"#2a3f5f\",\"arrowhead\":0,\"arrowwidth\":1},\"autotypenumbers\":\"strict\",\"coloraxis\":{\"colorbar\":{\"outlinewidth\":0,\"ticks\":\"\"}},\"colorscale\":{\"diverging\":[[0,\"#8e0152\"],[0.1,\"#c51b7d\"],[0.2,\"#de77ae\"],[0.3,\"#f1b6da\"],[0.4,\"#fde0ef\"],[0.5,\"#f7f7f7\"],[0.6,\"#e6f5d0\"],[0.7,\"#b8e186\"],[0.8,\"#7fbc41\"],[0.9,\"#4d9221\"],[1,\"#276419\"]],\"sequential\":[[0.0,\"#0d0887\"],[0.1111111111111111,\"#46039f\"],[0.2222222222222222,\"#7201a8\"],[0.3333333333333333,\"#9c179e\"],[0.4444444444444444,\"#bd3786\"],[0.5555555555555556,\"#d8576b\"],[0.6666666666666666,\"#ed7953\"],[0.7777777777777778,\"#fb9f3a\"],[0.8888888888888888,\"#fdca26\"],[1.0,\"#f0f921\"]],\"sequentialminus\":[[0.0,\"#0d0887\"],[0.1111111111111111,\"#46039f\"],[0.2222222222222222,\"#7201a8\"],[0.3333333333333333,\"#9c179e\"],[0.4444444444444444,\"#bd3786\"],[0.5555555555555556,\"#d8576b\"],[0.6666666666666666,\"#ed7953\"],[0.7777777777777778,\"#fb9f3a\"],[0.8888888888888888,\"#fdca26\"],[1.0,\"#f0f921\"]]},\"colorway\":[\"#636efa\",\"#EF553B\",\"#00cc96\",\"#ab63fa\",\"#FFA15A\",\"#19d3f3\",\"#FF6692\",\"#B6E880\",\"#FF97FF\",\"#FECB52\"],\"font\":{\"color\":\"#2a3f5f\"},\"geo\":{\"bgcolor\":\"white\",\"lakecolor\":\"white\",\"landcolor\":\"#E5ECF6\",\"showlakes\":true,\"showland\":true,\"subunitcolor\":\"white\"},\"hoverlabel\":{\"align\":\"left\"},\"hovermode\":\"closest\",\"mapbox\":{\"style\":\"light\"},\"paper_bgcolor\":\"white\",\"plot_bgcolor\":\"#E5ECF6\",\"polar\":{\"angularaxis\":{\"gridcolor\":\"white\",\"linecolor\":\"white\",\"ticks\":\"\"},\"bgcolor\":\"#E5ECF6\",\"radialaxis\":{\"gridcolor\":\"white\",\"linecolor\":\"white\",\"ticks\":\"\"}},\"scene\":{\"xaxis\":{\"backgroundcolor\":\"#E5ECF6\",\"gridcolor\":\"white\",\"gridwidth\":2,\"linecolor\":\"white\",\"showbackground\":true,\"ticks\":\"\",\"zerolinecolor\":\"white\"},\"yaxis\":{\"backgroundcolor\":\"#E5ECF6\",\"gridcolor\":\"white\",\"gridwidth\":2,\"linecolor\":\"white\",\"showbackground\":true,\"ticks\":\"\",\"zerolinecolor\":\"white\"},\"zaxis\":{\"backgroundcolor\":\"#E5ECF6\",\"gridcolor\":\"white\",\"gridwidth\":2,\"linecolor\":\"white\",\"showbackground\":true,\"ticks\":\"\",\"zerolinecolor\":\"white\"}},\"shapedefaults\":{\"line\":{\"color\":\"#2a3f5f\"}},\"ternary\":{\"aaxis\":{\"gridcolor\":\"white\",\"linecolor\":\"white\",\"ticks\":\"\"},\"baxis\":{\"gridcolor\":\"white\",\"linecolor\":\"white\",\"ticks\":\"\"},\"bgcolor\":\"#E5ECF6\",\"caxis\":{\"gridcolor\":\"white\",\"linecolor\":\"white\",\"ticks\":\"\"}},\"title\":{\"x\":0.05},\"xaxis\":{\"automargin\":true,\"gridcolor\":\"white\",\"linecolor\":\"white\",\"ticks\":\"\",\"title\":{\"standoff\":15},\"zerolinecolor\":\"white\",\"zerolinewidth\":2},\"yaxis\":{\"automargin\":true,\"gridcolor\":\"white\",\"linecolor\":\"white\",\"ticks\":\"\",\"title\":{\"standoff\":15},\"zerolinecolor\":\"white\",\"zerolinewidth\":2}}},\"title\":{\"font\":{\"color\":\"#4D5663\"}},\"xaxis\":{\"anchor\":\"y\",\"domain\":[0.0,0.2125],\"gridcolor\":\"#E1E5ED\",\"showgrid\":false,\"tickfont\":{\"color\":\"#4D5663\"},\"title\":{\"font\":{\"color\":\"#4D5663\"},\"text\":\"\"},\"zerolinecolor\":\"#E1E5ED\"},\"yaxis\":{\"anchor\":\"x\",\"domain\":[0.8025,1.0],\"gridcolor\":\"#E1E5ED\",\"showgrid\":false,\"tickfont\":{\"color\":\"#4D5663\"},\"title\":{\"font\":{\"color\":\"#4D5663\"},\"text\":\"\"},\"zerolinecolor\":\"#E1E5ED\"},\"xaxis2\":{\"anchor\":\"y2\",\"domain\":[0.2625,0.475],\"gridcolor\":\"#E1E5ED\",\"showgrid\":false,\"tickfont\":{\"color\":\"#4D5663\"},\"title\":{\"font\":{\"color\":\"#4D5663\"},\"text\":\"\"},\"zerolinecolor\":\"#E1E5ED\"},\"yaxis2\":{\"anchor\":\"x2\",\"domain\":[0.8025,1.0],\"gridcolor\":\"#E1E5ED\",\"showgrid\":false,\"tickfont\":{\"color\":\"#4D5663\"},\"title\":{\"font\":{\"color\":\"#4D5663\"},\"text\":\"\"},\"zerolinecolor\":\"#E1E5ED\"},\"xaxis3\":{\"anchor\":\"y3\",\"domain\":[0.525,0.7375],\"gridcolor\":\"#E1E5ED\",\"showgrid\":false,\"tickfont\":{\"color\":\"#4D5663\"},\"title\":{\"font\":{\"color\":\"#4D5663\"},\"text\":\"\"},\"zerolinecolor\":\"#E1E5ED\"},\"yaxis3\":{\"anchor\":\"x3\",\"domain\":[0.8025,1.0],\"gridcolor\":\"#E1E5ED\",\"showgrid\":false,\"tickfont\":{\"color\":\"#4D5663\"},\"title\":{\"font\":{\"color\":\"#4D5663\"},\"text\":\"\"},\"zerolinecolor\":\"#E1E5ED\"},\"xaxis4\":{\"anchor\":\"y4\",\"domain\":[0.7875,1.0],\"gridcolor\":\"#E1E5ED\",\"showgrid\":false,\"tickfont\":{\"color\":\"#4D5663\"},\"title\":{\"font\":{\"color\":\"#4D5663\"},\"text\":\"\"},\"zerolinecolor\":\"#E1E5ED\"},\"yaxis4\":{\"anchor\":\"x4\",\"domain\":[0.8025,1.0],\"gridcolor\":\"#E1E5ED\",\"showgrid\":false,\"tickfont\":{\"color\":\"#4D5663\"},\"title\":{\"font\":{\"color\":\"#4D5663\"},\"text\":\"\"},\"zerolinecolor\":\"#E1E5ED\"},\"xaxis5\":{\"anchor\":\"y5\",\"domain\":[0.0,0.2125],\"gridcolor\":\"#E1E5ED\",\"showgrid\":false,\"tickfont\":{\"color\":\"#4D5663\"},\"title\":{\"font\":{\"color\":\"#4D5663\"},\"text\":\"\"},\"zerolinecolor\":\"#E1E5ED\"},\"yaxis5\":{\"anchor\":\"x5\",\"domain\":[0.535,0.7325],\"gridcolor\":\"#E1E5ED\",\"showgrid\":false,\"tickfont\":{\"color\":\"#4D5663\"},\"title\":{\"font\":{\"color\":\"#4D5663\"},\"text\":\"\"},\"zerolinecolor\":\"#E1E5ED\"},\"xaxis6\":{\"anchor\":\"y6\",\"domain\":[0.2625,0.475],\"gridcolor\":\"#E1E5ED\",\"showgrid\":false,\"tickfont\":{\"color\":\"#4D5663\"},\"title\":{\"font\":{\"color\":\"#4D5663\"},\"text\":\"\"},\"zerolinecolor\":\"#E1E5ED\"},\"yaxis6\":{\"anchor\":\"x6\",\"domain\":[0.535,0.7325],\"gridcolor\":\"#E1E5ED\",\"showgrid\":false,\"tickfont\":{\"color\":\"#4D5663\"},\"title\":{\"font\":{\"color\":\"#4D5663\"},\"text\":\"\"},\"zerolinecolor\":\"#E1E5ED\"},\"xaxis7\":{\"anchor\":\"y7\",\"domain\":[0.525,0.7375],\"gridcolor\":\"#E1E5ED\",\"showgrid\":false,\"tickfont\":{\"color\":\"#4D5663\"},\"title\":{\"font\":{\"color\":\"#4D5663\"},\"text\":\"\"},\"zerolinecolor\":\"#E1E5ED\"},\"yaxis7\":{\"anchor\":\"x7\",\"domain\":[0.535,0.7325],\"gridcolor\":\"#E1E5ED\",\"showgrid\":false,\"tickfont\":{\"color\":\"#4D5663\"},\"title\":{\"font\":{\"color\":\"#4D5663\"},\"text\":\"\"},\"zerolinecolor\":\"#E1E5ED\"},\"xaxis8\":{\"anchor\":\"y8\",\"domain\":[0.7875,1.0],\"gridcolor\":\"#E1E5ED\",\"showgrid\":false,\"tickfont\":{\"color\":\"#4D5663\"},\"title\":{\"font\":{\"color\":\"#4D5663\"},\"text\":\"\"},\"zerolinecolor\":\"#E1E5ED\"},\"yaxis8\":{\"anchor\":\"x8\",\"domain\":[0.535,0.7325],\"gridcolor\":\"#E1E5ED\",\"showgrid\":false,\"tickfont\":{\"color\":\"#4D5663\"},\"title\":{\"font\":{\"color\":\"#4D5663\"},\"text\":\"\"},\"zerolinecolor\":\"#E1E5ED\"},\"xaxis9\":{\"anchor\":\"y9\",\"domain\":[0.0,0.2125],\"gridcolor\":\"#E1E5ED\",\"showgrid\":false,\"tickfont\":{\"color\":\"#4D5663\"},\"title\":{\"font\":{\"color\":\"#4D5663\"},\"text\":\"\"},\"zerolinecolor\":\"#E1E5ED\"},\"yaxis9\":{\"anchor\":\"x9\",\"domain\":[0.2675,0.465],\"gridcolor\":\"#E1E5ED\",\"showgrid\":false,\"tickfont\":{\"color\":\"#4D5663\"},\"title\":{\"font\":{\"color\":\"#4D5663\"},\"text\":\"\"},\"zerolinecolor\":\"#E1E5ED\"},\"xaxis10\":{\"anchor\":\"y10\",\"domain\":[0.2625,0.475],\"gridcolor\":\"#E1E5ED\",\"showgrid\":false,\"tickfont\":{\"color\":\"#4D5663\"},\"title\":{\"font\":{\"color\":\"#4D5663\"},\"text\":\"\"},\"zerolinecolor\":\"#E1E5ED\"},\"yaxis10\":{\"anchor\":\"x10\",\"domain\":[0.2675,0.465],\"gridcolor\":\"#E1E5ED\",\"showgrid\":false,\"tickfont\":{\"color\":\"#4D5663\"},\"title\":{\"font\":{\"color\":\"#4D5663\"},\"text\":\"\"},\"zerolinecolor\":\"#E1E5ED\"},\"xaxis11\":{\"anchor\":\"y11\",\"domain\":[0.525,0.7375],\"gridcolor\":\"#E1E5ED\",\"showgrid\":false,\"tickfont\":{\"color\":\"#4D5663\"},\"title\":{\"font\":{\"color\":\"#4D5663\"},\"text\":\"\"},\"zerolinecolor\":\"#E1E5ED\"},\"yaxis11\":{\"anchor\":\"x11\",\"domain\":[0.2675,0.465],\"gridcolor\":\"#E1E5ED\",\"showgrid\":false,\"tickfont\":{\"color\":\"#4D5663\"},\"title\":{\"font\":{\"color\":\"#4D5663\"},\"text\":\"\"},\"zerolinecolor\":\"#E1E5ED\"},\"xaxis12\":{\"anchor\":\"y12\",\"domain\":[0.7875,1.0],\"gridcolor\":\"#E1E5ED\",\"showgrid\":false,\"tickfont\":{\"color\":\"#4D5663\"},\"title\":{\"font\":{\"color\":\"#4D5663\"},\"text\":\"\"},\"zerolinecolor\":\"#E1E5ED\"},\"yaxis12\":{\"anchor\":\"x12\",\"domain\":[0.2675,0.465],\"gridcolor\":\"#E1E5ED\",\"showgrid\":false,\"tickfont\":{\"color\":\"#4D5663\"},\"title\":{\"font\":{\"color\":\"#4D5663\"},\"text\":\"\"},\"zerolinecolor\":\"#E1E5ED\"},\"xaxis13\":{\"anchor\":\"y13\",\"domain\":[0.0,0.2125],\"gridcolor\":\"#E1E5ED\",\"showgrid\":false,\"tickfont\":{\"color\":\"#4D5663\"},\"title\":{\"font\":{\"color\":\"#4D5663\"},\"text\":\"\"},\"zerolinecolor\":\"#E1E5ED\"},\"yaxis13\":{\"anchor\":\"x13\",\"domain\":[0.0,0.1975],\"gridcolor\":\"#E1E5ED\",\"showgrid\":false,\"tickfont\":{\"color\":\"#4D5663\"},\"title\":{\"font\":{\"color\":\"#4D5663\"},\"text\":\"\"},\"zerolinecolor\":\"#E1E5ED\"},\"xaxis14\":{\"anchor\":\"y14\",\"domain\":[0.2625,0.475],\"gridcolor\":\"#E1E5ED\",\"showgrid\":false,\"tickfont\":{\"color\":\"#4D5663\"},\"title\":{\"font\":{\"color\":\"#4D5663\"},\"text\":\"\"},\"zerolinecolor\":\"#E1E5ED\"},\"yaxis14\":{\"anchor\":\"x14\",\"domain\":[0.0,0.1975],\"gridcolor\":\"#E1E5ED\",\"showgrid\":false,\"tickfont\":{\"color\":\"#4D5663\"},\"title\":{\"font\":{\"color\":\"#4D5663\"},\"text\":\"\"},\"zerolinecolor\":\"#E1E5ED\"},\"xaxis15\":{\"anchor\":\"y15\",\"domain\":[0.525,0.7375],\"gridcolor\":\"#E1E5ED\",\"showgrid\":false,\"tickfont\":{\"color\":\"#4D5663\"},\"title\":{\"font\":{\"color\":\"#4D5663\"},\"text\":\"\"},\"zerolinecolor\":\"#E1E5ED\"},\"yaxis15\":{\"anchor\":\"x15\",\"domain\":[0.0,0.1975],\"gridcolor\":\"#E1E5ED\",\"showgrid\":false,\"tickfont\":{\"color\":\"#4D5663\"},\"title\":{\"font\":{\"color\":\"#4D5663\"},\"text\":\"\"},\"zerolinecolor\":\"#E1E5ED\"},\"xaxis16\":{\"anchor\":\"y16\",\"domain\":[0.7875,1.0],\"gridcolor\":\"#E1E5ED\",\"showgrid\":false,\"tickfont\":{\"color\":\"#4D5663\"},\"title\":{\"font\":{\"color\":\"#4D5663\"},\"text\":\"\"},\"zerolinecolor\":\"#E1E5ED\"},\"yaxis16\":{\"anchor\":\"x16\",\"domain\":[0.0,0.1975],\"gridcolor\":\"#E1E5ED\",\"showgrid\":false,\"tickfont\":{\"color\":\"#4D5663\"},\"title\":{\"font\":{\"color\":\"#4D5663\"},\"text\":\"\"},\"zerolinecolor\":\"#E1E5ED\"}},                        {\"showLink\": true, \"linkText\": \"Export to plot.ly\", \"plotlyServerURL\": \"https://plot.ly\", \"responsive\": true}                    ).then(function(){\n",
       "                            \n",
       "var gd = document.getElementById('0c60f0d5-114b-4ad0-b058-531720544061');\n",
       "var x = new MutationObserver(function (mutations, observer) {{\n",
       "        var display = window.getComputedStyle(gd).display;\n",
       "        if (!display || display === 'none') {{\n",
       "            console.log([gd, 'removed!']);\n",
       "            Plotly.purge(gd);\n",
       "            observer.disconnect();\n",
       "        }}\n",
       "}});\n",
       "\n",
       "// Listen for the removal of the full notebook cells\n",
       "var notebookContainer = gd.closest('#notebook-container');\n",
       "if (notebookContainer) {{\n",
       "    x.observe(notebookContainer, {childList: true});\n",
       "}}\n",
       "\n",
       "// Listen for the clearing of the current output cell\n",
       "var outputEl = gd.closest('.output');\n",
       "if (outputEl) {{\n",
       "    x.observe(outputEl, {childList: true});\n",
       "}}\n",
       "\n",
       "                        })                };                });            </script>        </div>"
      ]
     },
     "metadata": {},
     "output_type": "display_data"
    }
   ],
   "source": [
    "df.scatter_matrix()"
   ]
  },
  {
   "cell_type": "markdown",
   "metadata": {
    "collapsed": true
   },
   "source": [
    "# Great Job!"
   ]
  },
  {
   "cell_type": "markdown",
   "metadata": {},
   "source": []
  }
 ],
 "metadata": {
  "kernelspec": {
   "display_name": "Python 3",
   "language": "python",
   "name": "python3"
  },
  "language_info": {
   "codemirror_mode": {
    "name": "ipython",
    "version": 3
   },
   "file_extension": ".py",
   "mimetype": "text/x-python",
   "name": "python",
   "nbconvert_exporter": "python",
   "pygments_lexer": "ipython3",
   "version": "3.11.5"
  }
 },
 "nbformat": 4,
 "nbformat_minor": 0
}
